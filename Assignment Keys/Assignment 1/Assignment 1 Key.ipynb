{
 "cells": [
  {
   "cell_type": "markdown",
   "metadata": {
    "collapsed": false,
    "deletable": false,
    "editable": false
   },
   "source": [
    "# Assignment 1 #\n",
    "\n",
    "Run the cell below before starting the assignment."
   ]
  },
  {
   "cell_type": "code",
   "execution_count": 3,
   "metadata": {
    "collapsed": false,
    "deletable": false,
    "editable": false
   },
   "outputs": [
   ],
   "source": [
    "import assignment1checker as ck"
   ]
  },
  {
   "cell_type": "markdown",
   "metadata": {
    "collapsed": false,
    "deletable": false,
    "editable": false
   },
   "source": [
    "## Exercise 0 ##\n",
    "\n",
    "### Background Survey ###\n",
    "\n",
    "Complete the Background Survey on Canvas."
   ]
  },
  {
   "cell_type": "markdown",
   "metadata": {
    "collapsed": false,
    "deletable": false,
    "editable": false
   },
   "source": [
    "## Exercise 1 ##\n",
    "\n",
    "### Markdown Practice ###\n",
    "\n",
    "In the cell below this one, solve the the following equations for $ x $. Show all of your work in markdown.\n",
    "\n",
    "1. $$ x^{2} -1 = 0 $$\n",
    "\n",
    "2. $$ \\frac{1}{3x} = 4 $$\n",
    "\n",
    "3. $$ \\ln{x} = 3 $$"
   ]
  },
  {
   "cell_type": "markdown",
   "metadata": {
    "collapsed": false
   },
   "source": [
    "Your work goes here...\n",
    "\n",
    "1.\n",
    "\n",
    "$$x^{2} = 1$$\n",
    "\n",
    "$$x = \\pm 1$$\n",
    "\n",
    "2.\n",
    "\n",
    "$$1 = 12 x$$\n",
    "\n",
    "$$\\frac{1}{12} = x$$\n",
    "\n",
    "3.\n",
    "$$e^{\\ln{x}} = e^{3}$$\n",
    "$$x = e^{3}$$\n"
   ]
  },
  {
   "cell_type": "markdown",
   "metadata": {
    "collapsed": false,
    "deletable": false,
    "editable": false
   },
   "source": [
    "## Exercise 2 ##\n",
    "\n",
    "### int and float Calculations ###\n",
    "\n",
    "Compute the following quantities using Python.\n",
    "\n",
    "1. $$ \\frac{6^{2}-4^{3} +7*6*5}{42^{2}} $$\n",
    "\n",
    "2. $$ \\frac{78^{76}}{45^{54}} $$\n",
    "\n",
    "3. $$ 1444^{1/37} - 19^{13/4} + 38^{59 + 121} $$"
   ]
  },
  {
   "cell_type": "code",
   "execution_count": 4,
   "metadata": {
    "collapsed": false
   },
   "outputs": [
   ],
   "source": [
    "def problem2():\n",
    "    '''\n",
    "    Inputs: None\n",
    "    \n",
    "    Outputs:\n",
    "        answer1: You should store your answer to part one in this variable.\n",
    "        answer2: You should store your answer to part two in this variable.\n",
    "        answer3: You should store your answer to part three in this variable.\n",
    "        \n",
    "    '''\n",
    "    \n",
    "    answer1 = (6**2 - 4**3 +7*6*5)/(42**2)\n",
    "    \n",
    "    \n",
    "    answer2 = (78**76)/(45**54)\n",
    "    \n",
    "    \n",
    "    answer3 = 1444**(1/37) - 19**(13/4) + 38**(59+121)\n",
    "    \n",
    "    \n",
    "    return answer1, answer2, answer3"
   ]
  },
  {
   "cell_type": "markdown",
   "metadata": {
    "collapsed": false,
    "deletable": false,
    "editable": false
   },
   "source": [
    "Run the cell below to check your work for the problem."
   ]
  },
  {
   "cell_type": "code",
   "execution_count": 5,
   "metadata": {
    "collapsed": false,
    "deletable": false,
    "editable": false
   },
   "outputs": [
    {
     "name": "stdout",
     "output_type": "stream",
     "text": [
      "Answer 1 is correct\n",
      "Answer 2 is correct\n",
      "Answer 3 is correct\n"
     ]
    }
   ],
   "source": [
    "ck.p2(problem2)"
   ]
  },
  {
   "cell_type": "markdown",
   "metadata": {
    "collapsed": false,
    "deletable": false,
    "editable": false
   },
   "source": [
    "## Exercise 3 ##\n",
    "\n",
    "### True or False ##\n",
    "\n",
    "To practice with bool objects, we will determine if the following statements are true using Python. You will create code that returns True if the corresponding statement is True, and False if the corresponding statement is False.\n",
    "\n",
    "1. $$ 1909^{1111} >= {1111}^{1909} $$\n",
    "\n",
    "2. $$ {782}^{12} - {782}^{11} = 52230636404824458735319180987947008 $$\n",
    "\n",
    "3. $$ 13888 \\text{ is divisible by }14 $$"
   ]
  },
  {
   "cell_type": "code",
   "execution_count": 6,
   "metadata": {
    "collapsed": false
   },
   "outputs": [
   ],
   "source": [
    "def problem3():\n",
    "    '''\n",
    "    Inputs: None\n",
    "    \n",
    "    Outputs:\n",
    "        answer1: You should store your answer to part one in this variable.\n",
    "        answer2: You should store your answer to part two in this variable.\n",
    "        answer3: You should store your answer to part three in this variable.\n",
    "    \n",
    "    '''\n",
    "    \n",
    "    answer1 = 1909**1111 >= 1111**1909\n",
    "    \n",
    "    \n",
    "    answer2 = 782**12 - 782**11 == 52230636404824458735319180987947008\n",
    "    \n",
    "    \n",
    "    answer3 = 13888%14 == 0\n",
    "    \n",
    "    \n",
    "    return answer1, answer2, answer3"
   ]
  },
  {
   "cell_type": "markdown",
   "metadata": {
    "collapsed": false,
    "deletable": false,
    "editable": false
   },
   "source": [
    "Run the cell below to check your work for the problem."
   ]
  },
  {
   "cell_type": "code",
   "execution_count": 7,
   "metadata": {
    "collapsed": false,
    "deletable": false,
    "editable": false
   },
   "outputs": [
    {
     "name": "stdout",
     "output_type": "stream",
     "text": [
      "Answer 1 is correct\n",
      "Answer 2 is correct\n",
      "Answer 3 is correct\n"
     ]
    }
   ],
   "source": [
    "ck.p3(problem3)"
   ]
  },
  {
   "cell_type": "markdown",
   "metadata": {
    "collapsed": false,
    "deletable": false,
    "editable": false
   },
   "source": [
    "## Exercise 4 ##\n",
    "\n",
    "### Palindrome Strings ###\n",
    "\n",
    "Create code to determine if the input string is a palindrome. A string is a palindrome if it is the same forwards and backwards. This function should be case sensitive and should consider spaces in the string as character. \n",
    "\n",
    "\n",
    "Examples \n",
    "\n",
    "1. \"racecar\" is a palindrome, so True should be returned.\n",
    "\n",
    "2. \"race car\" is not a palindrome because of the space in the middle of the string is still a character, so False should be returned.\n",
    "\n",
    "3. \"cat\" is not a palindrome since it is not the same forwards and backwards. False should be returned.\n",
    "\n",
    "4. \"Tacocat\" is not a palindrome, since the capital \"T\" and lower case \"t\" are not the same character. False should be a returned.\n",
    "\n",
    "5. \"TacOcaT\" is a palindrome, as it is the same forwards and backwards. True should be returned."
   ]
  },
  {
   "cell_type": "code",
   "execution_count": 8,
   "metadata": {
    "collapsed": false
   },
   "outputs": [
   ],
   "source": [
    "def problem4(string):\n",
    "    '''\n",
    "    inputs:\n",
    "        string: This is the input string we are checking.\n",
    "    \n",
    "    outputs:\n",
    "        is_palindrome: This is a bool that will be True if the string is a palindrome and False otherwise (Assuming case matters).\n",
    "    \n",
    "    '''\n",
    "    #We are checking if a string is equal to itself when stated backwards\n",
    "    is_palindrome = string == string[::-1]\n",
    "    \n",
    "    return is_palindrome"
   ]
  },
  {
   "cell_type": "markdown",
   "metadata": {
    "collapsed": false,
    "deletable": false,
    "editable": false
   },
   "source": [
    "Run the cell below to check your work for the problem."
   ]
  },
  {
   "cell_type": "code",
   "execution_count": 9,
   "metadata": {
    "collapsed": false,
    "deletable": false,
    "editable": false
   },
   "outputs": [
    {
     "name": "stdout",
     "output_type": "stream",
     "text": [
      "Test Case 1 was successful\n",
      "Test Case 2 was successful\n",
      "Test Case 3 was successful\n",
      "Test Case 4 was successful\n",
      "Test Case 5 was successful\n",
      "Test Case 6 was successful\n",
      "Test Case 7 was successful\n",
      "Test Case 8 was successful\n"
     ]
    }
   ],
   "source": [
    "ck.p4(problem4)"
   ]
  },
  {
   "cell_type": "markdown",
   "metadata": {
    "collapsed": false,
    "deletable": false,
    "editable": false
   },
   "source": [
    "## Bonus Problem 1 ##\n",
    "\n",
    "### Palindrome Strings 2 ###\n",
    "\n",
    "Create a function that checks if a given string is a palindrome when all spaces are removed from the string and the case of the letters are no longer considered. For example, \"Race cAr\" is now a palindrome, so the function should return true. "
   ]
  },
  {
   "cell_type": "code",
   "execution_count": 10,
   "metadata": {
    "collapsed": false
   },
   "outputs": [
   ],
   "source": [
    "def bonusproblem1(string):\n",
    "    '''\n",
    "    inputs:\n",
    "        string: This is the input string we are checking.\n",
    "    \n",
    "    outputs:\n",
    "        is_palindrome: This is a bool that will be True if the string is a palindrome and False otherwise (assuming case and spaces don't matter).\n",
    "    \n",
    "    '''\n",
    "    #Remove the spaces\n",
    "    string = string.replace(\" \",\"\")\n",
    "    #Change all characters to lower case\n",
    "    string = string.lower()\n",
    "    #Compare the string to itself backwards\n",
    "    is_palindrome = string == string[::-1]\n",
    "    \n",
    "    return is_palindrome"
   ]
  },
  {
   "cell_type": "markdown",
   "metadata": {
    "collapsed": false,
    "deletable": false,
    "editable": false
   },
   "source": [
    "Run the cell below to check your work for the problem."
   ]
  },
  {
   "cell_type": "code",
   "execution_count": 11,
   "metadata": {
    "collapsed": false,
    "deletable": false,
    "editable": false
   },
   "outputs": [
    {
     "name": "stdout",
     "output_type": "stream",
     "text": [
      "Test Case 1 was successful\n",
      "Test Case 2 was successful\n",
      "Test Case 3 was successful\n",
      "Test Case 4 was successful\n",
      "Test Case 5 was successful\n",
      "Test Case 6 was successful\n",
      "Test Case 7 was successful\n",
      "Test Case 8 was successful\n"
     ]
    }
   ],
   "source": [
    "ck.b1(bonusproblem1)"
   ]
  },
  {
   "cell_type": "markdown",
   "metadata": {
    "collapsed": false,
    "deletable": false,
    "editable": false
   },
   "source": [
    "## Problem 5 ##\n",
    "\n",
    "### List Scoring ###\n",
    "\n",
    "A list of numbers will have a score given by:\n",
    "$$ \\text{score }=\\text{ (length of list) } * \\text{(largest of the first 7 numbers in list)} $$\n",
    "Create a function to find the score of the input list. (You can assume each list has at least 7 numbers)"
   ]
  },
  {
   "cell_type": "code",
   "execution_count": 12,
   "metadata": {
    "collapsed": false
   },
   "outputs": [
   ],
   "source": [
    "def problem5(inputlist):\n",
    "    '''\n",
    "    inputs:\n",
    "        inputlist: This is the input list we are scoring.\n",
    "    \n",
    "    outputs:\n",
    "        score: This is the score that you are calculating for the list.\n",
    "    \n",
    "    '''\n",
    "    #Consider only the first 7 elements\n",
    "    shorter = inputlist[:7]\n",
    "    #Sort these elements from least to greatest\n",
    "    shorter.sort()\n",
    "    #Calculate the score. Note the [-1] gives us the last element of the list. \n",
    "    score = len(inputlist) * shorter[-1]\n",
    "    \n",
    "\n",
    "    return score"
   ]
  },
  {
   "cell_type": "markdown",
   "metadata": {
    "collapsed": false,
    "deletable": false,
    "editable": false
   },
   "source": [
    "Run the cell below to check your work for the problem."
   ]
  },
  {
   "cell_type": "code",
   "execution_count": 13,
   "metadata": {
    "collapsed": false,
    "deletable": false,
    "editable": false
   },
   "outputs": [
    {
     "name": "stdout",
     "output_type": "stream",
     "text": [
      "Test Case 1 was successful\n",
      "Test Case 2 was successful\n",
      "Test Case 3 was successful\n",
      "Test Case 4 was successful\n",
      "Test Case 5 was successful\n"
     ]
    }
   ],
   "source": [
    "ck.p5(problem5)"
   ]
  },
  {
   "cell_type": "markdown",
   "metadata": {
    "collapsed": false,
    "deletable": false,
    "editable": false
   },
   "source": [
    "## Bonus Problem 2 ##\n",
    "\n",
    "### List Scoring 2 ###\n",
    "Suppose the score2 of a list is given by the formula below:\n",
    "$$ \\text{score2 } = \\text{ (length of the list modulo 7) } + \\text{ The third largest number}$$\n",
    "Create a function to find the score2 of the input list (You can assume each list has at least three numbers)."
   ]
  },
  {
   "cell_type": "code",
   "execution_count": 18,
   "metadata": {
    "collapsed": false
   },
   "outputs": [
   ],
   "source": [
    "def bonusproblem2(inputlist):\n",
    "    '''\n",
    "    inputs:\n",
    "        inputlist: This is the input list we are scoring.\n",
    "    \n",
    "    outputs:\n",
    "        score2: This is the score2 that you are calculating for the list.\n",
    "    \n",
    "    '''\n",
    "    \n",
    "    #Sort the input list\n",
    "    inputlist.sort()\n",
    "    #Compute the score\n",
    "    score2 = (len(inputlist)%7) + inputlist[-3]\n",
    "    \n",
    "    return score2"
   ]
  },
  {
   "cell_type": "markdown",
   "metadata": {
    "collapsed": false,
    "deletable": false,
    "editable": false
   },
   "source": [
    "Run the cell below to check your work for the problem."
   ]
  },
  {
   "cell_type": "code",
   "execution_count": 19,
   "metadata": {
    "collapsed": false,
    "deletable": false,
    "editable": false
   },
   "outputs": [
    {
     "name": "stdout",
     "output_type": "stream",
     "text": [
      "Test Case 1 was successful\n",
      "Test Case 2 was successful\n",
      "Test Case 3 was successful\n",
      "Test Case 4 was successful\n",
      "Test Case 5 was successful\n"
     ]
    }
   ],
   "source": [
    "ck.b2(bonusproblem2)"
   ]
  },
  {
   "cell_type": "markdown",
   "metadata": {
    "collapsed": false,
    "deletable": false,
    "editable": true
   },
   "source": [
    "## Problem 6 ##\n",
    "### Dictionary of Words ###\n",
    "\n",
    "Given a list of five strings as an input, create a dictionary with each string as the key, and a tuple with the characters sorted by their ASCII ordering as the value corresponding to the key. \n",
    "\n",
    "### Example ###\n",
    "input = ['cat', 'dog', 'walrus', 'apple', 'math']\n",
    "\n",
    "output = {'cat' : ('a','c','t'), 'dog' : ('d','g','o'), 'walrus' : ('a','l','r','s','u','w'), 'apple' : ('a','e','l',p','p'), 'math' : ('a','h','m','t')}"
   ]
  },
  {
   "cell_type": "code",
   "execution_count": 16,
   "metadata": {
    "collapsed": false
   },
   "outputs": [
   ],
   "source": [
    "def problem6(inputlist):\n",
    "    '''\n",
    "    inputs:\n",
    "        inputlist: This is the input list of 5 strings.\n",
    "    \n",
    "    outputs:\n",
    "        mydict: This is the dictionary with the strings and sorted characters in the strings.\n",
    "    \n",
    "    '''\n",
    "    #We will learn a better way to do this later in the class with loops and comprehension. \n",
    "    \n",
    "    #Create the dictionary\n",
    "    mydict = {}\n",
    "    \n",
    "    #Get the string from the list\n",
    "    string = inputlist[0]\n",
    "    #Turn the string into a list\n",
    "    value = list(string)\n",
    "    #Sort the list\n",
    "    value.sort()\n",
    "    #Get the tuple for the value\n",
    "    value = tuple(value)\n",
    "    #Add the key value pair to the dictionary\n",
    "    mydict[string] = value\n",
    "    \n",
    "    #Repeat the above process for each string\n",
    "    string = inputlist[1]\n",
    "    value = list(string)\n",
    "    value.sort()\n",
    "    value = tuple(value)\n",
    "    mydict[string] = value\n",
    "    \n",
    "    string = inputlist[2]\n",
    "    value = list(string)\n",
    "    value.sort()\n",
    "    value = tuple(value)\n",
    "    mydict[string] = value\n",
    "    \n",
    "    string = inputlist[3]\n",
    "    value = list(string)\n",
    "    value.sort()\n",
    "    value = tuple(value)\n",
    "    mydict[string] = value\n",
    "    \n",
    "    string = inputlist[4]\n",
    "    value = list(string)\n",
    "    value.sort()\n",
    "    value = tuple(value)\n",
    "    mydict[string] = value\n",
    "    \n",
    "    return mydict"
   ]
  },
  {
   "cell_type": "markdown",
   "metadata": {
    "collapsed": false,
    "deletable": false,
    "editable": false
   },
   "source": [
    "Run the cell below to check your work for the problem."
   ]
  },
  {
   "cell_type": "code",
   "execution_count": 17,
   "metadata": {
    "collapsed": false,
    "deletable": false,
    "editable": false
   },
   "outputs": [
    {
     "name": "stdout",
     "output_type": "stream",
     "text": [
      "Test Case 1 was successful\n",
      "Test Case 2 was successful\n",
      "Test Case 3 was successful\n",
      "Test Case 4 was successful\n",
      "Test Case 5 was successful\n"
     ]
    }
   ],
   "source": [
    "ck.p6(problem6)"
   ]
  }
 ],
 "metadata": {
  "kernelspec": {
   "argv": [
    "/usr/bin/python3",
    "-m",
    "ipykernel",
    "--HistoryManager.enabled=False",
    "--matplotlib=inline",
    "-c",
    "%config InlineBackend.figure_formats = set(['retina'])\nimport matplotlib; matplotlib.rcParams['figure.figsize'] = (12, 7)",
    "-f",
    "{connection_file}"
   ],
   "display_name": "Python 3 (system-wide)",
   "env": {
   },
   "language": "python",
   "metadata": {
    "cocalc": {
     "description": "Python 3 programming language",
     "priority": 100,
     "url": "https://www.python.org/"
    }
   },
   "name": "python3",
   "resource_dir": "/ext/jupyter/kernels/python3"
  },
  "language_info": {
   "codemirror_mode": {
    "name": "ipython",
    "version": 3
   },
   "file_extension": ".py",
   "mimetype": "text/x-python",
   "name": "python",
   "nbconvert_exporter": "python",
   "pygments_lexer": "ipython3",
   "version": "3.10.12"
  }
 },
 "nbformat": 4,
 "nbformat_minor": 4
}