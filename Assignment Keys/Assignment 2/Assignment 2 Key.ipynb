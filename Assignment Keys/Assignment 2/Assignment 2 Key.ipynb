{
 "cells": [
  {
   "cell_type": "markdown",
   "metadata": {
    "collapsed": false,
    "deletable": false,
    "editable": false
   },
   "source": [
    "# Assignment 2 #\n",
    "\n",
    "Run the cell below before starting the assignment."
   ]
  },
  {
   "cell_type": "code",
   "execution_count": 3,
   "metadata": {
    "collapsed": false,
    "deletable": false,
    "editable": false
   },
   "outputs": [
   ],
   "source": [
    "import assignment2checker as ck"
   ]
  },
  {
   "cell_type": "markdown",
   "metadata": {
    "collapsed": false,
    "deletable": false,
    "editable": false
   },
   "source": [
    "## Exercise 1 ##\n",
    "### Symbolic Logic ###\n",
    "\n",
    "Recall the $\\vee$, $\\wedge$, and $\\neg$ symbols represent 'or', 'and', and 'not' respectively in symbolic logic. Suppose for $1\\leq i \\leq 8$ that $x_i$ are statements. These statements can either be True or False. Consider the statement below:\n",
    "$$ (x_1 \\vee x_2) \\wedge (x_3 \\vee x_4 \\vee x_5) \\wedge (x_6 \\vee x_7) \\wedge (x_8) $$\n",
    "\n",
    "Given the input list $[x_1,x_2,x_3,x_4,x_5,x_6,x_7,x_8]$, create code to output the truth value of the above statement."
   ]
  },
  {
   "cell_type": "code",
   "execution_count": 4,
   "metadata": {
    "collapsed": false
   },
   "outputs": [
   ],
   "source": [
    "def problem1(statements):\n",
    "    '''\n",
    "    Inputs: \n",
    "        statements: This is a list containing the bools [x_1,x_2,x_3,x_4,x_5,x_6,x_7,x_8]\n",
    "    \n",
    "    Outputs:\n",
    "        truth_value: This should output the truth value of the statement in the problem description.\n",
    "        \n",
    "    '''\n",
    "    \n",
    "    #We are defining all of the variables for convenience\n",
    "    x_1,x_2,x_3,x_4,x_5,x_6,x_7,x_8 = (statements[i] for i in range(8))\n",
    "    \n",
    "    #This is a bool formed by using our comparison operators\n",
    "    truth_value = (x_1 or x_2) and (x_3 or x_4 or x_5) and (x_6 or x_7) and x_8\n",
    "    \n",
    "    return truth_value\n"
   ]
  },
  {
   "cell_type": "code",
   "execution_count": 5,
   "metadata": {
    "collapsed": false,
    "deletable": false,
    "editable": false
   },
   "outputs": [
    {
     "name": "stdout",
     "output_type": "stream",
     "text": [
      "All test cases successful\n"
     ]
    }
   ],
   "source": [
    "ck.p1(problem1)"
   ]
  },
  {
   "cell_type": "markdown",
   "metadata": {
    "collapsed": false,
    "deletable": false,
    "editable": false
   },
   "source": [
    "## Exercise 2 ##\n",
    "### Double Factorial ##\n",
    "Let $n$ be a positive integer. Then the double factorial is defined as \n",
    "$$ n!! = n*(n-2)\\dots*4*2 $$\n",
    "if $n$ is even and \n",
    "$$ n!! = n*(n-2)\\dots*3*1 $$\n",
    "if $n$ is odd. Create code to calculate the double factorial of $n$."
   ]
  },
  {
   "cell_type": "code",
   "execution_count": 6,
   "metadata": {
    "collapsed": false
   },
   "outputs": [
   ],
   "source": [
    "def problem2(n):\n",
    "    '''\n",
    "    Inputs: \n",
    "        n: A positive integer\n",
    "    \n",
    "    Outputs:\n",
    "        double_factorial: The double factorial of n\n",
    "        \n",
    "    '''\n",
    "    \n",
    "    #This is the product we will compute\n",
    "    double_factorial = 1\n",
    "    #Even case\n",
    "    if n%2 == 0:\n",
    "        #We start at 2, and increment by 2\n",
    "        for i in range(2,n+1,2):\n",
    "            double_factorial *= i\n",
    "            \n",
    "    #Odd Case\n",
    "    else:\n",
    "        #We start at 1 and increment by 2\n",
    "        for i in range(1,n+1,2):\n",
    "            double_factorial *= i\n",
    "        \n",
    "    \n",
    "    return double_factorial\n"
   ]
  },
  {
   "cell_type": "code",
   "execution_count": 7,
   "metadata": {
    "collapsed": false,
    "deletable": false,
    "editable": false
   },
   "outputs": [
    {
     "name": "stdout",
     "output_type": "stream",
     "text": [
      "Test case 1 was successful.\n",
      "Test case 2 was successful.\n",
      "Test case 3 was successful.\n",
      "Test case 4 was successful.\n",
      "Test case 5 was successful.\n",
      "Test case 6 was successful.\n"
     ]
    }
   ],
   "source": [
    "ck.p2(problem2)"
   ]
  },
  {
   "cell_type": "markdown",
   "metadata": {
    "collapsed": false,
    "deletable": false,
    "editable": false
   },
   "source": [
    "## Exercise 3 ##\n",
    "### Sum of Multiples ##\n",
    "\n",
    "Given a list of positive integers and an upper bound of $n$, find the sum of all positive integers less than or equal to $n$ that are multiples of any of the numbers in the list. For example, \n",
    "\n",
    "$$ \\text{num_list} = [2,4,5],\\text{ }n=10 $$\n",
    "$$ \\text{multiple_sum} = 2+4+5+6+8+10 = 35$$"
   ]
  },
  {
   "cell_type": "code",
   "execution_count": 8,
   "metadata": {
    "collapsed": false
   },
   "outputs": [
   ],
   "source": [
    "def problem3(num_list,n):\n",
    "    '''\n",
    "    Inputs: \n",
    "        num_list: A list of postive numbers. These are the numbers we are using to check for divisibility\n",
    "        n: A positive integer that is our upper bound\n",
    "    \n",
    "    Outputs:\n",
    "        multiple_sum: The sum of positive integers less than n that are multiples of at least one number in numlist\n",
    "        \n",
    "    '''\n",
    "    \n",
    "    multiple_sum = 0\n",
    "    #We will check each positive integer up to and including n\n",
    "    for i in range(1,n+1):\n",
    "        #Check for divisibility with each number in num_list\n",
    "        divisible = False\n",
    "        for num in num_list:\n",
    "            if i%num == 0:\n",
    "                divisible = True\n",
    "                #Break out of the loop if num divides i, in order to save computation time\n",
    "                break\n",
    "                \n",
    "        #Add i if divisibility is satisfied\n",
    "        if divisible:\n",
    "            multiple_sum += i\n",
    "    \n",
    "    return multiple_sum"
   ]
  },
  {
   "cell_type": "code",
   "execution_count": 9,
   "metadata": {
    "collapsed": false,
    "deletable": false,
    "editable": false
   },
   "outputs": [
    {
     "name": "stdout",
     "output_type": "stream",
     "text": [
      "Test case 1 was successful.\n",
      "Test case 2 was successful.\n",
      "Test case 3 was successful.\n",
      "Test case 4 was successful.\n",
      "Test case 5 was successful.\n",
      "Test case 6 was successful.\n"
     ]
    }
   ],
   "source": [
    "ck.p3(problem3)"
   ]
  },
  {
   "cell_type": "markdown",
   "metadata": {
    "collapsed": false,
    "deletable": false,
    "editable": false
   },
   "source": [
    "## Exercise 4 ##\n",
    "### Pythagorean Triples ###\n",
    "\n",
    "A Pythagorean triple is a collection of three positive integers such that $a<b<c$ and $a^2 + b^2 = c^2 $. There are exactly $8$ Pythagorean triples such that $$ a + b + c = 840 $$\n",
    "Find these $8$ triples, and output them as a list of tuples such that each tuple is in ascending order. E.g. $$[(a_1,b_1,c_1),(a_2,b_2,c_2),\\dots(a_8,b_8,c_8)]$$\n",
    "For credit, please include your code for finding these triples in the cell below."
   ]
  },
  {
   "cell_type": "code",
   "execution_count": 10,
   "metadata": {
    "collapsed": false
   },
   "outputs": [
   ],
   "source": [
    "def problem4():\n",
    "    '''\n",
    "    Inputs: none\n",
    "    \n",
    "    Outputs:\n",
    "        triples: This is the list of 8 Pythagorean triples each stored as a tuple in ascending order.\n",
    "        \n",
    "    '''\n",
    "    triples = []\n",
    "    \n",
    "    #We only check up to 280, as a<b<c, so a<280=840/3\n",
    "    for a in range(1,280):\n",
    "        \n",
    "        #We use a as a lower bound, since a<b. We use 840-a//2 as an upper bound since b<c\n",
    "        for b in range(a,840-a//2):\n",
    "            \n",
    "            #We have c based on the sum of values being 840 constraint\n",
    "            c = 840 - a - b\n",
    "            \n",
    "            #Here we verify we have a Pythagorean Triple\n",
    "            if a**2 + b**2 == c**2:\n",
    "                triples.append((a,b,c))\n",
    "    \n",
    "    return triples"
   ]
  },
  {
   "cell_type": "code",
   "execution_count": 11,
   "metadata": {
    "collapsed": false,
    "deletable": false,
    "editable": false
   },
   "outputs": [
    {
     "name": "stdout",
     "output_type": "stream",
     "text": [
      "Your output is correct.\n"
     ]
    }
   ],
   "source": [
    "ck.p4(problem4)"
   ]
  },
  {
   "cell_type": "markdown",
   "metadata": {
    "collapsed": false,
    "deletable": false,
    "editable": false
   },
   "source": [
    "## Exercise 5 ##\n",
    "### Polynomial Derivatives ###\n",
    "Recall the power rule for derivatives of polynomials. If \n",
    "$$f(x) = \\sum_{k=0}^{n}c_kx$$ \n",
    "Then \n",
    "$$f'(x) = \\sum_{k=1}^{n}kc_kx^{k-1}$$\n",
    "\n",
    "A degree $n$ polynomial can be stored in Python as a list of $n+1$ coefficients. For example, $1 - 3x + 4x^2$ can be stored as $[1,-3,4]$. Create code that take a polynomial (stored as a list) and outputs its derivative (stored as a list). E.g.\n",
    "$$f = [1,-3,4]$$\n",
    "$$f' = [-3,8]$$"
   ]
  },
  {
   "cell_type": "code",
   "execution_count": 12,
   "metadata": {
    "collapsed": false
   },
   "outputs": [
   ],
   "source": [
    "def problem5(f):\n",
    "    '''\n",
    "    Inputs:\n",
    "        f: This is an n+1 element list of coefficients of polynomial f, listed in order of ascending powers of x\n",
    "    \n",
    "    Outputs:\n",
    "        df: This is the derivative of f stored as an n element list of coefficients of polynomial f', listed in order of ascending powers of x\n",
    "        \n",
    "    '''\n",
    "    \n",
    "    df = []\n",
    "    #Here we are offsetting the coefficients and multiplying by the old power\n",
    "    for i in range(1,len(f)):\n",
    "        df.append(f[i]*i)\n",
    "    \n",
    "    return df\n"
   ]
  },
  {
   "cell_type": "code",
   "execution_count": 13,
   "metadata": {
    "collapsed": false,
    "deletable": false,
    "editable": false
   },
   "outputs": [
    {
     "name": "stdout",
     "output_type": "stream",
     "text": [
      "Test case 1 was successful.\n",
      "Test case 2 was successful.\n",
      "Test case 3 was successful.\n",
      "Test case 4 was successful.\n",
      "Test case 5 was successful.\n",
      "Test case 6 was successful.\n"
     ]
    }
   ],
   "source": [
    "ck.p5(problem5)"
   ]
  },
  {
   "cell_type": "markdown",
   "metadata": {
    "collapsed": false,
    "deletable": false,
    "editable": true
   },
   "source": [
    "## Exercise 6 ##\n",
    "### Polynomial Values ###\n",
    "\n",
    "Suppose you are given a list of coefficients corresponding to a polynomial $f(x)$ of degree $n$ (using the same convention as given above). Create code that returns $f(x)$ when given a polynomial $f$ in list form and a float $x$. E.g.\n",
    "\n",
    "$$f = [1,-3,4] $$\n",
    "Corresponds to the polynomial $f(x) = 1 - 3x + 4x^2$, so if $x=2$, our code should return\n",
    "$$f(x) = 1 - 3*2 + 4*2^2 = 1-6 + 16 = 11$$"
   ]
  },
  {
   "cell_type": "code",
   "execution_count": 14,
   "metadata": {
    "collapsed": false
   },
   "outputs": [
   ],
   "source": [
    "def problem6(f,x):\n",
    "    '''\n",
    "    Inputs:\n",
    "        f: This is an n+1 element list of coefficients of polynomial f, listed in order\n",
    "        x: This is the value to plug into your polynomial\n",
    "    \n",
    "    Outputs:\n",
    "        fx: This is the value of the polynomial at x\n",
    "        \n",
    "    '''\n",
    "    \n",
    "    #Start our sum as 0\n",
    "    fx = 0\n",
    "    #Add each term of the polynomial to fx\n",
    "    for i in range(len(f)):\n",
    "        fx += f[i]*x**i\n",
    "    \n",
    "    return fx\n"
   ]
  },
  {
   "cell_type": "code",
   "execution_count": 15,
   "metadata": {
    "collapsed": false,
    "deletable": false,
    "editable": false
   },
   "outputs": [
    {
     "name": "stdout",
     "output_type": "stream",
     "text": [
      "Test case 1 was successful.\n",
      "Test case 2 was successful.\n",
      "Test case 3 was successful.\n",
      "Test case 4 was successful.\n",
      "Test case 5 was successful.\n",
      "Test case 6 was successful.\n"
     ]
    }
   ],
   "source": [
    "ck.p6(problem6)"
   ]
  },
  {
   "cell_type": "markdown",
   "metadata": {
    "collapsed": false,
    "deletable": false,
    "editable": false
   },
   "source": [
    "For the following bonus problems, be careful with how you format your output. If the autograder isn't grading correctly (due to the format of the output), you can compare your code to the output provided in the assignment2checker.py file. If this is the case, please leave a comment or markdown text, and I can manually grade the bonus problem."
   ]
  },
  {
   "cell_type": "markdown",
   "metadata": {
    "collapsed": false,
    "deletable": false,
    "editable": false
   },
   "source": [
    "## Bonus Problem 1 ##\n",
    "### Polynomial Multiplication ###\n",
    "\n",
    "Given two polynomials $f$ and $g$, in list form, create code that returns the product of the polynomials as a list."
   ]
  },
  {
   "cell_type": "code",
   "execution_count": 16,
   "metadata": {
    "collapsed": false
   },
   "outputs": [
   ],
   "source": [
    "def bonusproblem1(f,g):\n",
    "    '''\n",
    "    inputs:\n",
    "        f: The first polynomial to multiply, stored as a list of coefficients of length n\n",
    "        g: The second polynomial to multiply, stored as a list of coefficients of length m\n",
    "    \n",
    "    outputs:\n",
    "        fg: The product of the polynomials, stored as a list of coefficients of length n+m-1\n",
    "    \n",
    "    '''\n",
    "    \n",
    "    n = len(f)\n",
    "    m = len(g)\n",
    "    #This will be the coefficients for fg. We will start this will all 0s\n",
    "    fg = [0 for i in range(n+m-1)]\n",
    "    \n",
    "    #Loop over the coefficients of f\n",
    "    for i in range(n):\n",
    "        #Loop over the coefficients of g\n",
    "        for j in range(m):\n",
    "            \n",
    "            #Add the coefficient corresponding to the f_ix^i * g_jx^j term to the x^(i+j) term of fg\n",
    "            fg[i+j] += f[i]*g[j]\n",
    "    \n",
    "    return fg"
   ]
  },
  {
   "cell_type": "code",
   "execution_count": 17,
   "metadata": {
    "collapsed": false,
    "deletable": false,
    "editable": false
   },
   "outputs": [
    {
     "name": "stdout",
     "output_type": "stream",
     "text": [
      "Test case 1 was successful.\n",
      "Test case 2 was successful.\n",
      "Test case 3 was successful.\n",
      "Test case 4 was successful.\n",
      "Test case 5 was successful.\n",
      "Test case 6 was successful.\n"
     ]
    }
   ],
   "source": [
    "ck.b1(bonusproblem1)"
   ]
  },
  {
   "cell_type": "markdown",
   "metadata": {
    "collapsed": false,
    "deletable": false,
    "editable": false
   },
   "source": [
    "## Bonus Problem 2 ##\n",
    "### Polynomial Division ###\n",
    "\n",
    "Recall for two real polynomials, $f(x),g(x)$, that there exist unique polynomials $q(x),r(x)$ such that $$f(x) = g(x)q(x) + r(x)$$ such that $\\text{deg}(r(x)) < \\text{deg}(g(x))$ or $r(x) = 0$."
   ]
  },
  {
   "cell_type": "markdown",
   "metadata": {
    "collapsed": false
   },
   "source": [
    "This comes from thinking through long division of polynomials. For a expanded division of polynomials algorithm, the Wikipedia page has a Python implementation to compare to.\n",
    "\n",
    "https://en.wikipedia.org/wiki/Synthetic_division#:~:text=In%20algebra%2C%20synthetic%20division%20is,fewer%20calculations%20than%20long%20division.&text=%2C%20so%20the%20fourth%20column%20from%20the%20right%20contains%20a%20zero."
   ]
  },
  {
   "cell_type": "code",
   "execution_count": 18,
   "metadata": {
    "collapsed": false
   },
   "outputs": [
   ],
   "source": [
    "def bonusproblem2(f,g):\n",
    "    '''\n",
    "    inputs:\n",
    "        f: The first polynomial in the division, stored as a list of coefficients\n",
    "        g: The second polynomial in the division, stored as a list of coefficients\n",
    "    \n",
    "    outputs:\n",
    "        q: The quotient of the polynomial division, stored as a list of coefficients of length deg(q) + 1. If q=0, be sure to return a list only containing a single 0.\n",
    "        r: The remainder of the polynomial division, stored as a list of coefficients of length deg(g) if g is not a constant, and of length 1, if g is a constant. If r=0, be sure to return a list only containing a single 0.\n",
    "    \n",
    "    '''\n",
    "    \n",
    "    #This is q\n",
    "    q = []\n",
    "    \n",
    "    #We will divide the coefficient of f by the leading coefficient of g each iteration to get the coefficient to multiply by\n",
    "    leading_coefficient = g[-1]\n",
    "    \n",
    "    #Iterate over the indices of f. We are iterating in descending powers of f. We stop when the i is less than the degree of g.\n",
    "    for i in range(len(f)-1, len(g)-2, -1):\n",
    "        \n",
    "        #This is the factor we multiply by\n",
    "        coefficient = f[i]/leading_coefficient\n",
    "        #We add the multiplied factor to q\n",
    "        q[:0] = [coefficient]\n",
    "        \n",
    "        #This loop subtracts the scaled g from f.\n",
    "        for j in range(len(g)-1,0,-1):\n",
    "            f[i-(len(g)-j)] += -coefficient*g[j-1]\n",
    "            \n",
    "    #This is the remainder term. This is the part of f that is left over after long division\n",
    "    r = f[:len(f)-len(q)]\n",
    "        \n",
    "    #Consider the cases where there q or r are 0\n",
    "    if len(q) == 0:\n",
    "        q = [0]\n",
    "    if len(r) == 0:\n",
    "        r = [0]\n",
    "    \n",
    "    return q,r"
   ]
  },
  {
   "cell_type": "code",
   "execution_count": 19,
   "metadata": {
    "collapsed": false,
    "deletable": false,
    "editable": false
   },
   "outputs": [
    {
     "name": "stdout",
     "output_type": "stream",
     "text": [
      "Test case 1 was successful.\n",
      "Test case 2 was successful.\n",
      "Test case 3 was successful.\n",
      "Test case 4 was successful.\n",
      "Test case 5 was successful.\n",
      "Test case 6 was successful.\n"
     ]
    }
   ],
   "source": [
    "ck.b2(bonusproblem2)"
   ]
  }
 ],
 "metadata": {
  "kernelspec": {
   "argv": [
    "/usr/bin/python3",
    "-m",
    "ipykernel",
    "--HistoryManager.enabled=False",
    "--matplotlib=inline",
    "-c",
    "%config InlineBackend.figure_formats = set(['retina'])\nimport matplotlib; matplotlib.rcParams['figure.figsize'] = (12, 7)",
    "-f",
    "{connection_file}"
   ],
   "display_name": "Python 3 (system-wide)",
   "env": {
   },
   "language": "python",
   "metadata": {
    "cocalc": {
     "description": "Python 3 programming language",
     "priority": 100,
     "url": "https://www.python.org/"
    }
   },
   "name": "python3",
   "resource_dir": "/ext/jupyter/kernels/python3"
  },
  "language_info": {
   "codemirror_mode": {
    "name": "ipython",
    "version": 3
   },
   "file_extension": ".py",
   "mimetype": "text/x-python",
   "name": "python",
   "nbconvert_exporter": "python",
   "pygments_lexer": "ipython3",
   "version": "3.10.12"
  }
 },
 "nbformat": 4,
 "nbformat_minor": 4
}