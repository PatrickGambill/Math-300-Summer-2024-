{
 "cells": [
  {
   "cell_type": "markdown",
   "metadata": {
    "collapsed": false
   },
   "source": [
    "# Lecture 4 #\n",
    "## Monte Carlo Methods ##\n",
    "\n",
    "Oftentimes, we can get approximate solutions to complicated problems by using randomness in our algorithms. The algorithms that give approximate solutions are called Monte Carlo Algorithms. (This is in contrast to the less common Las Vegas Algorithms, which use randomness and are guaranteed to give an exact solution).\n",
    "\n",
    "Below, we will approximate the value of $\\pi$ by randomly generating points $(x,y)$ in the first quadrant such that $x,y\\in[0,1]$ and checking if each point lie inside of outside of the unit circle. We know the ratio of points in the unit circle to the total number of points generated should be approximately the area of a quarter of the unit circle, thus:\n",
    "\n",
    "$$ \\frac{\\pi}{4} \\approx \\frac{\\text{number of points inside the unit circle}}{\\text{total number of points tested}} $$\n",
    "\n",
    "Thus \n",
    "\n",
    "$$ \\pi \\approx 4*\\frac{\\text{number of points inside the unit circle}}{\\text{total number of points tested}} $$"
   ]
  },
  {
   "cell_type": "code",
   "execution_count": 23,
   "metadata": {
    "collapsed": false
   },
   "outputs": [
    {
     "name": "stdout",
     "output_type": "stream",
     "text": [
      "3.1196\n"
     ]
    }
   ],
   "source": [
    "import random as random\n",
    "\n",
    "#This is the number of points to check\n",
    "numpoints = 10000\n",
    "#We will check which points lie inside of the unit circle\n",
    "count = 0\n",
    "for i in range(numpoints):\n",
    "    #This checks if the randomly generated point is inside the circle\n",
    "    if sum([random.random()**2 for j in range(2)]) <= 1:\n",
    "        count += 1\n",
    "\n",
    "print(4*count/numpoints)"
   ]
  },
  {
   "cell_type": "markdown",
   "metadata": {
    "collapsed": false
   },
   "source": [
    "The approximation isn't great, but we can still use this method for other problems."
   ]
  },
  {
   "cell_type": "markdown",
   "metadata": {
    "collapsed": false
   },
   "source": [
    "## Exercise 1 ##\n",
    "Find the approximate volume of the unit sphere using a Monte-Carlo Method."
   ]
  },
  {
   "cell_type": "code",
   "execution_count": 17,
   "metadata": {
    "collapsed": false
   },
   "outputs": [
    {
     "name": "stdout",
     "output_type": "stream",
     "text": [
      "4.189072\n",
      "4.188786666666666\n"
     ]
    }
   ],
   "source": [
    "numpoints = 1000000\n",
    "count = 0\n",
    "for i in range(numpoints):\n",
    "    #This checks if the randomly generated point is inside the sphere\n",
    "    if sum([random.random()**2 for j in range(3)]) <= 1:\n",
    "        count += 1\n",
    "\n",
    "#Here we have to multiply by 8 instead, because we are only checking in the first octant.\n",
    "print(8*count/numpoints)\n",
    "#This is the actual value\n",
    "print(4/3*3.14159)"
   ]
  },
  {
   "cell_type": "markdown",
   "metadata": {
    "collapsed": false
   },
   "source": [
    "## Central Limit Theorem ##\n",
    "Central Limit Theorem can help us get more accurate approximations. Instead of checking the count for the total number of points, break up numpoints into smaller samples. For each of these samples, find the approximation for $\\pi$ and then take the average of these approximations."
   ]
  },
  {
   "cell_type": "code",
   "execution_count": 38,
   "metadata": {
    "collapsed": false
   },
   "outputs": [
    {
     "name": "stdout",
     "output_type": "stream",
     "text": [
      "3.1304\n"
     ]
    }
   ],
   "source": [
    "import random as random\n",
    "\n",
    "numpoints = 10000\n",
    "counts = []\n",
    "#Here we will find the counts for each of the 10 samples of 100000 points\n",
    "for j in range(10):\n",
    "    count = 0\n",
    "    for i in range(numpoints//10):\n",
    "        #This checks if the randomly generated point is inside the circle\n",
    "        if sum([random.random()**2 for j in range(2)]) <= 1:\n",
    "            count += 1\n",
    "    counts.append(count)\n",
    "\n",
    "#These are the approximations for each of the samples\n",
    "approximations = [4*count/(numpoints//10) for count in counts]\n",
    "#This is the mean of the approximations\n",
    "mean = sum(approximations)/10\n",
    "print(mean)"
   ]
  },
  {
   "cell_type": "markdown",
   "metadata": {
    "collapsed": false
   },
   "source": [
    "We get better accuracy in our approximation! Linearity of expectation tells us that we will get the same mean, but central limit theorem will lower the variance in the mean and also becomes helpful when running code in parallel. Each core can compute a sample mean for a separate sample, and this allows for better Monte Carlo simulations. \n",
    "\n",
    "## Optimization ##\n",
    "Monte Carlo methods can also be used to get approximations for optimal solutions when doing optimization problems. Suppose we wish to optimize the function\n",
    "\n",
    "$$ f(x) = 3x^3 + 2x^2 + 4 $$ \n",
    "\n",
    "for $x\\in[-10,10] $. Using calculus, we can find the local extrema and test the endpoints. Alternatively, we can randomly sample some points, and see which gives the maximum and minimum values."
   ]
  },
  {
   "cell_type": "code",
   "execution_count": 4,
   "metadata": {
    "collapsed": false
   },
   "outputs": [
    {
     "name": "stdout",
     "output_type": "stream",
     "text": [
      "9.99945112522989\n",
      "-9.999606502617464\n"
     ]
    }
   ],
   "source": [
    "import random as random\n",
    "\n",
    "#The optimal values\n",
    "maximum = 0\n",
    "minimum = 0\n",
    "#The x values corresponding to these optimal values\n",
    "maxx = 0\n",
    "minx = 0\n",
    "\n",
    "for i in range(100000):\n",
    "    \n",
    "    #Randomly pick x, and check the value of fx\n",
    "    x = random.uniform(-10,10)\n",
    "    fx = 3*x**3 + 2*x**2 + 4\n",
    "    \n",
    "    if fx < minimum:\n",
    "        minimum = fx\n",
    "        minx = x\n",
    "    elif fx> maximum:\n",
    "        maximum = fx\n",
    "        maxx = x\n",
    "        \n",
    "print(maxx)\n",
    "print(minx)"
   ]
  },
  {
   "cell_type": "markdown",
   "metadata": {
    "collapsed": false
   },
   "source": [
    "This gives us values very close to the maximum and minimum x values.\n",
    "\n",
    "## Exercise 2 ##\n",
    "Using Monte Carlo methods, find the approximate maximum and minimum of \n",
    "$$ f(x) =\\frac {(x \\text{mod}3* x \\text{mod}1 )} {x^2 + 1} $$\n",
    "\n",
    "for $x \\in [-10,10]$"
   ]
  },
  {
   "cell_type": "code",
   "execution_count": 5,
   "metadata": {
    "collapsed": false
   },
   "outputs": [
    {
     "name": "stdout",
     "output_type": "stream",
     "text": [
      "-0.00015498769895216924\n",
      "0\n"
     ]
    }
   ],
   "source": [
    "def f(x):\n",
    "    '''This is the function we want to optimize '''\n",
    "    return (x%3 * x%1) / (x**2 + 1)\n",
    "\n",
    "maximum = 0\n",
    "maxx = 0\n",
    "minimum = 0\n",
    "minx = 0\n",
    "\n",
    "#This part is similar to the above cell\n",
    "\n",
    "for i in range(100000):\n",
    "    \n",
    "    x = random.uniform(-10,10)\n",
    "    fx = f(x)\n",
    "    \n",
    "    if fx < minimum:\n",
    "        minimum = fx\n",
    "        minx = x\n",
    "    elif fx> maximum:\n",
    "        maximum = fx\n",
    "        maxx = x\n",
    "        \n",
    "print(maxx)\n",
    "print(minx)"
   ]
  },
  {
   "cell_type": "markdown",
   "metadata": {
    "collapsed": false
   },
   "source": [
    "As our function is not continuous, we need to be careful. There isn't a maximum value as extreme value theorem doesn't apply. We can still get a large value by using Monte Carlo simulations, and if we test the output, we can still learn a lot about the given function.\n",
    "## Approximate Probabilities ##\n",
    "Suppose we have a coin with a $0.25$ probability of landing heads, and a $0.75$ probability of landing tails. We wish to find how many flips on average it will take for us to get $2$ heads. This can be simulated using Monte Carlo simulations (Note, this is a sum of geometric distributions, if you wish to use statistics instead)."
   ]
  },
  {
   "cell_type": "code",
   "execution_count": 6,
   "metadata": {
    "collapsed": false
   },
   "outputs": [
    {
     "name": "stdout",
     "output_type": "stream",
     "text": [
      "8.0511\n"
     ]
    }
   ],
   "source": [
    "#We could set up our probabilities here, if we do not wish to use a weights list\n",
    "flips = ['h','t','t','t']\n",
    "\n",
    "#These are the number of times we need to flip a coin until heads occurs twice\n",
    "lengths = []\n",
    "numtrials = 10000\n",
    "\n",
    "for i in range(numtrials):\n",
    "    \n",
    "    #Reset the length and count at the start of each loop\n",
    "    length = 0\n",
    "    count = 0\n",
    "    \n",
    "    #This will keep the while loop running until we have heads twice. We shoul\n",
    "    while count < 2:\n",
    "        #If we flip heads\n",
    "        if random.choice(flips) == 'h':\n",
    "            length += 1\n",
    "            count += 1\n",
    "        #Otherwise\n",
    "        else:\n",
    "            length += 1\n",
    "            \n",
    "    #Add the lenght to lengths after we flip heads twice\n",
    "    lengths.append(length)\n",
    "    \n",
    "print(sum(lengths)/numtrials)"
   ]
  },
  {
   "cell_type": "markdown",
   "metadata": {
    "collapsed": false
   },
   "source": [
    "## Exercise 3 ##\n",
    "A drunken random walk is a Markov Process where the state changes uniformly at random from the current state to an adjacent state. For example, on the number line, at each time step, the walker may change position to the next integer higher or the next integer lower than the current state. Consider this walk, where $X_n$ is the position of the walker at time step $n$. Then \n",
    "\n",
    "$$ P(X_{n+1}|X_n) = P(X_{n-1}|X_n) = \\frac{1}{2} $$\n",
    "\n",
    "In $100$ time steps, what is the expected maximum position reached by the random walker?"
   ]
  },
  {
   "cell_type": "code",
   "execution_count": 11,
   "metadata": {
    "collapsed": false
   },
   "outputs": [
    {
     "name": "stdout",
     "output_type": "stream",
     "text": [
      "0.4955\n"
     ]
    }
   ],
   "source": [
    "#We will track the max position from each trial\n",
    "maxpositions = []\n",
    "\n",
    "numtrials = 10000\n",
    "numsteps = 100\n",
    "#We either increase or decrease the position by 1\n",
    "choices = [1,-1]\n",
    "\n",
    "for i in range(numtrials):\n",
    "    \n",
    "    for j in range(numsteps):\n",
    "        currentpos = 0\n",
    "        maxpos = 0\n",
    "        \n",
    "        #Increase position by 1\n",
    "        if random.choice(choices) == 1:\n",
    "            currentpos += 1\n",
    "            \n",
    "            #Check the maximum\n",
    "            if currentpos > maxpos:\n",
    "                maxpos += 1\n",
    "        \n",
    "        #Decrease position by 1\n",
    "        else:\n",
    "            currentpos -= 1\n",
    "    \n",
    "    maxpositions.append(maxpos)\n",
    "\n",
    "#Find the expected maxposition\n",
    "print(sum(maxpositions)/numtrials)"
   ]
  }
 ],
 "metadata": {
  "kernelspec": {
   "argv": [
    "/usr/bin/python3",
    "-m",
    "ipykernel",
    "--HistoryManager.enabled=False",
    "--matplotlib=inline",
    "-c",
    "%config InlineBackend.figure_formats = set(['retina'])\nimport matplotlib; matplotlib.rcParams['figure.figsize'] = (12, 7)",
    "-f",
    "{connection_file}"
   ],
   "display_name": "Python 3 (system-wide)",
   "env": {
   },
   "language": "python",
   "metadata": {
    "cocalc": {
     "description": "Python 3 programming language",
     "priority": 100,
     "url": "https://www.python.org/"
    }
   },
   "name": "python3",
   "resource_dir": "/ext/jupyter/kernels/python3"
  },
  "language_info": {
   "codemirror_mode": {
    "name": "ipython",
    "version": 3
   },
   "file_extension": ".py",
   "mimetype": "text/x-python",
   "name": "python",
   "nbconvert_exporter": "python",
   "pygments_lexer": "ipython3",
   "version": "3.10.12"
  }
 },
 "nbformat": 4,
 "nbformat_minor": 4
}