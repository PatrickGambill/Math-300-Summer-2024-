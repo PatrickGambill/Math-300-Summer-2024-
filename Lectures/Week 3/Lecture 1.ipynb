{
 "cells": [
  {
   "cell_type": "markdown",
   "metadata": {
    "collapsed": false
   },
   "source": [
    "# Lecture 1 #\n",
    "\n",
    "## Recursion ##\n",
    "\n",
    "Recursion is when you call a function within its definition. When computing using recursion, you need a base case, and a recursion definition. The base case gives the output of the function when a particular condition is met. The recursion definition gives the output of the function in terms of other values of the function. The classic example of recursion is the Fibonacci sequence. The base cases are $F_0 = 0$ and $F_1 = 1$."
   ]
  },
  {
   "cell_type": "code",
   "execution_count": 3,
   "metadata": {
    "collapsed": false
   },
   "outputs": [
    {
     "name": "stdout",
     "output_type": "stream",
     "text": [
      "55\n"
     ]
    }
   ],
   "source": [
    "def fib(n):\n",
    "    '''This will compute the nth Fibonacci number using recursion.'''\n",
    "    \n",
    "    #This is to ensure we have valid inputs and do not accidentally create an infinite recursion\n",
    "    if n < 0:\n",
    "        print('n should be a non-negative integer')\n",
    "        return\n",
    "    #This is the first base case\n",
    "    elif n==0:\n",
    "        return 0\n",
    "    #This is the second base case\n",
    "    elif n==1:\n",
    "        return 1\n",
    "    #This is the recursion\n",
    "    else:\n",
    "        return fib(n-1) + fib(n-2)\n",
    "    \n",
    "print(fib(10))"
   ]
  },
  {
   "cell_type": "markdown",
   "metadata": {
    "collapsed": false
   },
   "source": [
    "The code above will not work well as the input grows larger. This is because Python is not very efficient with recursion. In fact, besides a few types of problems, it is not recommended to use recursion in Python. Other languages like CAML, Lisp, and Haskell work much better. Python has a tendency to create stack overflow errors with deep recursion, and does not convert recursion to tail recursion like the high level functional languages do. "
   ]
  },
  {
   "cell_type": "markdown",
   "metadata": {
    "collapsed": false
   },
   "source": [
    "## Nested Lists ##\n",
    "Here is an example of a good use case for recursion in Python. Suppose we have a nested list and wish to count the number of objects between all layers that are not lists. Then we can use the function below."
   ]
  },
  {
   "cell_type": "code",
   "execution_count": 14,
   "metadata": {
    "collapsed": false
   },
   "outputs": [
    {
     "name": "stdout",
     "output_type": "stream",
     "text": [
      "6\n"
     ]
    }
   ],
   "source": [
    "def countobj(nest):\n",
    "    \n",
    "    #This is the base case where the list is empty\n",
    "    if len(nest) == 0:\n",
    "        return 0\n",
    "    \n",
    "    count = 0\n",
    "    for x in nest:\n",
    "        #This is the base case where the object is not a list\n",
    "        if type(x) != list:\n",
    "            count += 1\n",
    "        #We use recursion for the nested lists\n",
    "        else:\n",
    "            count += countobj(x)\n",
    "    \n",
    "    return count\n",
    "\n",
    "print(countobj([1,2,[3,4,5,[0,[[]]]]]))"
   ]
  },
  {
   "cell_type": "markdown",
   "metadata": {
    "collapsed": false
   },
   "source": [
    "## Exercise 1 ##\n",
    "Consider the function $f(x)$ subject to the following rules.\n",
    "1. If $x\\leq0$, $f(x)=0$\n",
    "2. If $f(x) = (x+1)+f(x-2)$ if $x>0$\n",
    "\n",
    "Make a function that calculates $f(x)$.\n",
    "\n",
    "Try testing $x=0,3,6,3.14,-1$"
   ]
  },
  {
   "cell_type": "code",
   "execution_count": 15,
   "metadata": {
    "collapsed": false
   },
   "outputs": [
    {
     "name": "stdout",
     "output_type": "stream",
     "text": [
      "x = 0\n",
      "f(x) = 0\n",
      "\n",
      "\n",
      "x = 3\n",
      "f(x) = 0\n",
      "\n",
      "\n",
      "x = 6\n",
      "f(x) = 0\n",
      "\n",
      "\n",
      "x = 3.14\n",
      "f(x) = 0.0\n",
      "\n",
      "\n",
      "x = -1\n",
      "f(x) = 0\n",
      "\n",
      "\n"
     ]
    }
   ],
   "source": [
    "def f(x):\n",
    "    \n",
    "    if x<=0:\n",
    "        return 0\n",
    "    else:\n",
    "        return (x+1) * f(x-2)\n",
    "\n",
    "for x in [0,3,6,3.14,-1]:\n",
    "    print(f'x = {x}')\n",
    "    print(f'f(x) = {f(x)}')\n",
    "    print('\\n')"
   ]
  },
  {
   "cell_type": "markdown",
   "metadata": {
    "collapsed": false
   },
   "source": [
    "Notice every single output is $0$. Before you implement recursion, try to figure out the logical consequence of the recursion relation. Oftentimes, there are simpler ways to solve the problem."
   ]
  },
  {
   "cell_type": "markdown",
   "metadata": {
    "collapsed": false
   },
   "source": [
    "## Changing Recursion Depth Limit ##\n",
    "\n",
    "Python has a default recursion depth of $1000$. This is to keep your computer from crashing. You can change this limit, but if you make it too large a program may crash your computer. In CoCalc, this isn't a big deal, but in general, you should be careful when changing this setting."
   ]
  },
  {
   "cell_type": "code",
   "execution_count": 6,
   "metadata": {
    "collapsed": false
   },
   "outputs": [
   ],
   "source": [
    "import sys\n",
    "sys.setrecursionlimit(10000)"
   ]
  },
  {
   "cell_type": "markdown",
   "metadata": {
    "collapsed": false
   },
   "source": [
    "## Ackermann Function ##\n",
    "Hyperoperations are generalizations of addition, multiplication, and exponentiation. More can be found on the Wikipedia page.\n",
    "\n",
    "https://en.wikipedia.org/wiki/Hyperoperation\n",
    "\n",
    "https://en.wikipedia.org/wiki/Ackermann_function\n",
    "\n",
    "The Ackermann function allows us to compute hyperoperations recursively. It is defined for integers $m,n,p \\geq 0 $ as follows.\n",
    "1. $\\phi(m,n,0) = m+n$\n",
    "2. $\\phi(m,0,1) = 0$\n",
    "3. $\\phi(m,0,2) = 1$\n",
    "4. $\\phi(m,0,p)= m \\text{ for }p>2$\n",
    "5. $\\phi(m,n,p)= \\phi(m,\\phi(m,n-1,p),p-1)$ otherwise\n",
    "\n",
    "Implement the Ackermann function. What values can you plug in before you get an error?"
   ]
  },
  {
   "cell_type": "code",
   "execution_count": 16,
   "metadata": {
    "collapsed": false
   },
   "outputs": [
    {
     "name": "stdout",
     "output_type": "stream",
     "text": [
      "16\n"
     ]
    }
   ],
   "source": [
    "def ack(m,n,p):\n",
    "    \n",
    "    #Check for valid input to avoid infinite recursion\n",
    "    if m<0 or n<0 or p<0:\n",
    "        print(\"m,n,p must all be non-negative integers\")\n",
    "        return\n",
    "    \n",
    "    #Addition Base Case\n",
    "    if p==0:\n",
    "        return m+n\n",
    "    #Multiplication by 0 is 0\n",
    "    elif n==0 and p==1:\n",
    "        return 0\n",
    "    #0^0=0\n",
    "    elif n==0 and p==2:\n",
    "        return 1\n",
    "    #Hyperoperations to the 0 = m for p>2\n",
    "    elif n==0:\n",
    "        return m\n",
    "    #Recursion definition\n",
    "    else:\n",
    "        return ack(m,ack(m,n-1,p),p-1)\n",
    "\n",
    "#Be  careful with these numbers. p=3 will cause this to crash for most m,n values.\n",
    "print(ack(2,2,3))"
   ]
  },
  {
   "cell_type": "markdown",
   "metadata": {
    "collapsed": false
   },
   "source": [
    "## Type Function ##\n",
    "The type function returns the type of the object given as an input. A few examples are shown below."
   ]
  },
  {
   "cell_type": "code",
   "execution_count": 17,
   "metadata": {
    "collapsed": false
   },
   "outputs": [
    {
     "name": "stdout",
     "output_type": "stream",
     "text": [
      "<class 'int'>\n",
      "<class 'float'>\n",
      "<class 'list'>\n",
      "<class 'tuple'>\n",
      "<class 'dict'>\n"
     ]
    }
   ],
   "source": [
    "print(type(2))\n",
    "print(type(2.0))\n",
    "print(type([1]))\n",
    "print(type((1,2,3)))\n",
    "print(type({1:0,2:0}))"
   ]
  }
 ],
 "metadata": {
  "kernelspec": {
   "argv": [
    "/usr/bin/python3",
    "-m",
    "ipykernel",
    "--HistoryManager.enabled=False",
    "--matplotlib=inline",
    "-c",
    "%config InlineBackend.figure_formats = set(['retina'])\nimport matplotlib; matplotlib.rcParams['figure.figsize'] = (12, 7)",
    "-f",
    "{connection_file}"
   ],
   "display_name": "Python 3 (system-wide)",
   "env": {
   },
   "language": "python",
   "metadata": {
    "cocalc": {
     "description": "Python 3 programming language",
     "priority": 100,
     "url": "https://www.python.org/"
    }
   },
   "name": "python3",
   "resource_dir": "/ext/jupyter/kernels/python3"
  },
  "language_info": {
   "codemirror_mode": {
    "name": "ipython",
    "version": 3
   },
   "file_extension": ".py",
   "mimetype": "text/x-python",
   "name": "python",
   "nbconvert_exporter": "python",
   "pygments_lexer": "ipython3",
   "version": "3.10.12"
  }
 },
 "nbformat": 4,
 "nbformat_minor": 4
}