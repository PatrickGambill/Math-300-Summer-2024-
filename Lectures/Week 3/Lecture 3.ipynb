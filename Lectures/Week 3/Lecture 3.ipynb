{
 "cells": [
  {
   "cell_type": "markdown",
   "metadata": {
    "collapsed": false
   },
   "source": [
    "# Lecture 3 #\n",
    "## The Random Library ##\n",
    "\n",
    "We can use the random library for generating random numbers and random samples from lists. This library should not be used for cryptography, lotteries, or any other applications that need security. The documentation can be found here: https://docs.python.org/3/library/random.html\n"
   ]
  },
  {
   "cell_type": "code",
   "execution_count": 13,
   "metadata": {
    "collapsed": false
   },
   "outputs": [
    {
     "name": "stdout",
     "output_type": "stream",
     "text": [
      "0.13436424411240122\n",
      "0.8474337369372327\n",
      "0.763774618976614\n",
      "0.2550690257394217\n",
      "0.49543508709194095\n",
      "\n",
      "0.146437453521167\n",
      "1.561150809059341\n",
      "2.5210634579485927\n",
      "-2.3429828925803555\n",
      "-2.801567664345956\n"
     ]
    }
   ],
   "source": [
    "import random as random\n",
    "\n",
    "#Best practice is to set a seed before running any random number generation\n",
    "random.seed(1)\n",
    "\n",
    "for i in range(5):\n",
    "    #Picks a random float between 0 and 1, (not including 1)\n",
    "    print(random.random())\n",
    "    \n",
    "#Random float x with a<=x<b\n",
    "print()\n",
    "for i in range(5):\n",
    "    print(random.uniform(-3,4))"
   ]
  },
  {
   "cell_type": "markdown",
   "metadata": {
    "collapsed": false
   },
   "source": [
    "## Sample from a list ##\n",
    "We can create a list of objects to sample from. Suppose we wish to simulate drawing various colored balls from a bucket. "
   ]
  },
  {
   "cell_type": "code",
   "execution_count": 21,
   "metadata": {
    "collapsed": false
   },
   "outputs": [
    {
     "name": "stdout",
     "output_type": "stream",
     "text": [
      "b\n",
      "r\n",
      "r\n",
      "b\n",
      "b\n",
      "r\n",
      "b\n",
      "o\n",
      "b\n",
      "r\n",
      "['r', 'b', 'b', 'b', 'r']\n",
      "['b', 'b', 'b', 'b', 'b', 'b', 'b', 'b', 'b', 'b', 'o', 'o', 'o', 'o', 'o', 'r', 'r', 'r', 'r', 'r', 'r', 'r', 'r', 'r', 'r', 'r', 'r', 'r', 'r', 'r']\n",
      "['r', 'r', 'r', 'o', 'r', 'o', 'r', 'b', 'r', 'r', 'b', 'b', 'b', 'b', 'b', 'r', 'o', 'o', 'r', 'r', 'r', 'r', 'b', 'r', 'r', 'b', 'b', 'o', 'b', 'r']\n"
     ]
    }
   ],
   "source": [
    "#This represents our bucket, 'b' = blue, 'o' = orange, 'r' = red\n",
    "mylist = ['b' for i in range(10)] + ['o' for i in range(5)] + ['r' for i in range(15)]\n",
    "\n",
    "#Pick a random object from the list with replacement\n",
    "for i in range(10):\n",
    "    print(random.choice(mylist))\n",
    "\n",
    "#Pick a random sample without replacement\n",
    "print(random.sample(mylist,5))\n",
    "\n",
    "#Randomly order the elements of the list\n",
    "print(mylist)\n",
    "#This function will return none. This is similar to the .sort() method we saw previously\n",
    "random.shuffle(mylist)\n",
    "print(mylist)"
   ]
  },
  {
   "cell_type": "markdown",
   "metadata": {
    "collapsed": false
   },
   "source": [
    "## Exercise 1 ##\n",
    "Take your favorite paragraph from the syllabus, and generate a sample of 20 characters from the paragraph. "
   ]
  },
  {
   "cell_type": "code",
   "execution_count": 29,
   "metadata": {
    "collapsed": false
   },
   "outputs": [
    {
     "name": "stdout",
     "output_type": "stream",
     "text": [
      "['o', 's', 'k', 'g', 'o', 's', 'n', 'm', 'n', ' ', 'u', 'i', 'e', 's', 'n', 'o', 'l', 't', ' ', 'u']\n",
      "['y', 'e', 'a', 'u', 't', 'l', 'g', 't', ' ', ' ', ' ', 'e', 'c', 'd', 'c', 'h', ' ', 't', 'b', 'g']\n"
     ]
    }
   ],
   "source": [
    "#Here is a paragraph from the syllabus\n",
    "paragraph = 'We will have weekly homework. This homework will be due Sunday at midnight and will be completed on Cocalc. For the coding homework, you will be given sample outputs to check your work as you go. As homework will be challenging, you are encouraged to work together on these problems. If you collaborate, then you must each submit your own code to the problems and note which students you worked with. If you use resources besides the lecture notes when working through a problem (including ChatGPT), you must cite these resources by commenting in the code with a link to the relevant websites or the chatGPT prompt used. Late work will not be accepted unless you have a legitimate excuse and contact me before the due date.'\n",
    "\n",
    "#Create the list of characters from the paragraph\n",
    "charlist = list(paragraph)\n",
    "\n",
    "#Method 1: Sample\n",
    "print(random.sample(charlist,20))\n",
    "\n",
    "#Method 2: Shuffle\n",
    "random.shuffle(charlist)\n",
    "print(charlist[:20])"
   ]
  },
  {
   "cell_type": "markdown",
   "metadata": {
    "collapsed": false
   },
   "source": [
    "## Markov Chains ##\n",
    "Markov chains are probabilistic models. Each Markov chain has a current state, and list of transition probabilities given the current state. An example of the probabilities in a Markov chain is given below:\n",
    "\n",
    "**Current State: 1**\n",
    "$P(x_{n+1}  = 1|x_n = 1) = 0.5$,\n",
    "$P(x_{n+1}  = 2|x_n = 1) = 0.3$,\n",
    "$P(x_{n+1}  = 3|x_n = 1) = 0.2$,\n",
    "$P(x_{n+1}  = 4|x_n = 1) = 0$\n",
    "\n",
    "**Current State: 2**\n",
    "$P(x_{n+1}  = 1|x_n = 2) = 0$,\n",
    "$P(x_{n+1}  = 2|x_n = 2) = 0.2$,\n",
    "$P(x_{n+1}  = 3|x_n = 2) = 0$,\n",
    "$P(x_{n+1}  = 4|x_n = 2) = 0.8$\n",
    "\n",
    "**Current State: 3**\n",
    "$P(x_{n+1}  = 1|x_n = 3) = 0$,\n",
    "$P(x_{n+1}  = 2|x_n = 3) = 0$,\n",
    "$P(x_{n+1}  = 3|x_n = 3) = 0.2$,\n",
    "$P(x_{n+1}  = 4|x_n = 3) = 0.8$\n",
    "\n",
    "**Current State: 4**\n",
    "$P(x_{n+1}  = 1|x_n = 4) = 0.9$,\n",
    "$P(x_{n+1}  = 2|x_n = 4) = 0$,\n",
    "$P(x_{n+1}  = 3|x_n = 4) = 0$,\n",
    "$P(x_{n+1}  = 4|x_n = 4) = 0.1$\n",
    "\n",
    "Notice the sum of all probabilities of transition from a given state is always $1$. In addition, each of these probabilities is non-negative. There is a lot of work that has been done with Markov chains, and if you are curious to read more, the Wikipedia page https://en.wikipedia.org/wiki/Markov_chain and Levin's book https://pages.uoregon.edu/dlevin/MARKOV/markovmixing.pdf are good places to start. \n",
    "\n",
    "Let's implement this in code!"
   ]
  },
  {
   "cell_type": "code",
   "execution_count": 54,
   "metadata": {
    "collapsed": false
   },
   "outputs": [
    {
     "name": "stdout",
     "output_type": "stream",
     "text": [
      "{1: 45914, 2: 17277, 3: 11346, 4: 25464}\n",
      "{1: 0.45914, 2: 0.17277, 3: 0.11346, 4: 0.25464}\n"
     ]
    }
   ],
   "source": [
    "#Here are the states our Markov chain can take\n",
    "states = [1,2,3,4]\n",
    "#Here are the corresponding probabilities for each state\n",
    "stateprobs = {1:[0.5,0.3,0.2,0],2:[0,0.2,0,0.8],3:[0,0,0.2,0.8],4:[0.9,0,0,0.1]}\n",
    "#This is the current state\n",
    "currentstate = 1\n",
    "\n",
    "#This will keep a list of our visited states\n",
    "visited = [currentstate]\n",
    "\n",
    "#We will take some number of steps\n",
    "numsteps = 100000\n",
    "for i in range(numsteps):\n",
    "    #This gives the probablities for the current state\n",
    "    weights = stateprobs[currentstate]\n",
    "    #The choices function can take weights for each outcome. We need to call [0], as a list of 1 element is returned\n",
    "    currentstate = random.choices(states, weights=weights)[0]\n",
    "    \n",
    "    visited.append(currentstate)\n",
    "\n",
    "#We can find the number of times each state is visited\n",
    "counts = {i:sum([1 for j in visited if j == i]) for i in states}\n",
    "print(counts)\n",
    "proportions = {i:counts[i]/numsteps for i in states}\n",
    "print(proportions)"
   ]
  },
  {
   "cell_type": "markdown",
   "metadata": {
    "collapsed": false
   },
   "source": [
    "As you increase the numsteps, the proportions will start to converge, and you will see the long term behavior of the Markov chain."
   ]
  },
  {
   "cell_type": "markdown",
   "metadata": {
    "collapsed": false
   },
   "source": [
    "## Exercise 2 ##\n",
    "Implement a Markov chain with the transition matrix give on the board. (The probabilities are listed below).\n",
    "\n",
    "**Starting at A:**\n",
    "$P(x_{n+1}  = A|x_n = A) = \\frac{1}{3}$,\n",
    "$P(x_{n+1}  = B|x_n = A) = \\frac{1}{3}$,\n",
    "$P(x_{n+1}  = C|x_n = A) = \\frac{1}{3}$\n",
    "\n",
    "**Starting at B:**\n",
    "$P(x_{n+1}  = A|x_n = B) = \\frac{1}{2}$,\n",
    "$P(x_{n+1}  = B|x_n = B) = \\frac{1}{2}$,\n",
    "$P(x_{n+1}  = C|x_n = B) = 0$\n",
    "\n",
    "**Starting at C:**\n",
    "$P(x_{n+1}  = A|x_n = C) = \\frac{1}{2}$,\n",
    "$P(x_{n+1}  = B|x_n = C) = 0$,\n",
    "$P(x_{n+1}  = C|x_n = C) = \\frac{1}{2}$"
   ]
  },
  {
   "cell_type": "code",
   "execution_count": 57,
   "metadata": {
    "collapsed": false
   },
   "outputs": [
    {
     "name": "stdout",
     "output_type": "stream",
     "text": [
      "{'A': 42697, 'B': 28792, 'C': 28512}\n",
      "{'A': 0.42697, 'B': 0.28792, 'C': 0.28512}\n"
     ]
    }
   ],
   "source": [
    "#Here are the states our Markov chain can take\n",
    "states = ['A','B','C']\n",
    "#Here are the corresponding probabilities for each state\n",
    "stateprobs = {'A':[1/3,1/3,1/3],'B':[1/2,1/2,0],'C':[1/2,0,1/2]}\n",
    "#This is the current state\n",
    "currentstate = 'A'\n",
    "\n",
    "#This will keep a list of our visited states\n",
    "visited = [currentstate]\n",
    "\n",
    "#We will take some number of steps\n",
    "numsteps = 100000\n",
    "for i in range(numsteps):\n",
    "    #This gives the probablities for the current state\n",
    "    weights = stateprobs[currentstate]\n",
    "    #The choices function can take weights for each outcome. We need to call [0], as a list of 1 element is returned\n",
    "    currentstate = random.choices(states, weights=weights)[0]\n",
    "    \n",
    "    visited.append(currentstate)\n",
    "\n",
    "#We can find the number of times each state is visited\n",
    "counts = {i:sum([1 for j in visited if j == i]) for i in states}\n",
    "print(counts)\n",
    "proportions = {i:counts[i]/numsteps for i in states}\n",
    "print(proportions)"
   ]
  }
 ],
 "metadata": {
  "kernelspec": {
   "argv": [
    "/usr/bin/python3",
    "-m",
    "ipykernel",
    "--HistoryManager.enabled=False",
    "--matplotlib=inline",
    "-c",
    "%config InlineBackend.figure_formats = set(['retina'])\nimport matplotlib; matplotlib.rcParams['figure.figsize'] = (12, 7)",
    "-f",
    "{connection_file}"
   ],
   "display_name": "Python 3 (system-wide)",
   "env": {
   },
   "language": "python",
   "metadata": {
    "cocalc": {
     "description": "Python 3 programming language",
     "priority": 100,
     "url": "https://www.python.org/"
    }
   },
   "name": "python3",
   "resource_dir": "/ext/jupyter/kernels/python3"
  },
  "language_info": {
   "codemirror_mode": {
    "name": "ipython",
    "version": 3
   },
   "file_extension": ".py",
   "mimetype": "text/x-python",
   "name": "python",
   "nbconvert_exporter": "python",
   "pygments_lexer": "ipython3",
   "version": "3.10.12"
  }
 },
 "nbformat": 4,
 "nbformat_minor": 4
}