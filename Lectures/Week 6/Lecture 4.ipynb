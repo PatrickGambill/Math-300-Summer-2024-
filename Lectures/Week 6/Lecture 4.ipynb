{
 "cells": [
  {
   "cell_type": "markdown",
   "metadata": {
    "collapsed": false
   },
   "source": [
    "# Lecture 4 #\n",
    "## Solving Equations with sympy ##\n",
    "\n",
    "We can get solutions to equations in sympy."
   ]
  },
  {
   "cell_type": "code",
   "execution_count": 1,
   "metadata": {
    "collapsed": false
   },
   "outputs": [
    {
     "data": {
      "text/latex": [
       "$\\displaystyle \\mathbb{C}$"
      ],
      "text/plain": [
       "S.Complexes"
      ]
     },
     "execution_count": 1,
     "metadata": {
     },
     "output_type": "execute_result"
    }
   ],
   "source": [
    "import sympy as sym\n",
    "\n",
    "x,y,z = sym.symbols('x y z')\n",
    "\n",
    "equation = sym.Eq(3*x+2, 3*x+2)\n",
    "\n",
    "#Solve the equation with respect to x\n",
    "sym.solveset(equation,x)"
   ]
  },
  {
   "cell_type": "markdown",
   "metadata": {
    "collapsed": false
   },
   "source": [
    "This also works with linear systems of equations."
   ]
  },
  {
   "cell_type": "code",
   "execution_count": 2,
   "metadata": {
    "collapsed": false
   },
   "outputs": [
    {
     "data": {
      "text/latex": [
       "$\\displaystyle \\left\\{\\left( 2, \\  -1\\right)\\right\\}$"
      ],
      "text/plain": [
       "{(2, -1)}"
      ]
     },
     "execution_count": 2,
     "metadata": {
     },
     "output_type": "execute_result"
    }
   ],
   "source": [
    "eq1 = sym.Eq(2*x+3*y,1)\n",
    "eq2 = sym.Eq(3*x+2*y,4)\n",
    "\n",
    "sym.linsolve([eq1,eq2],[x,y])"
   ]
  },
  {
   "cell_type": "markdown",
   "metadata": {
    "collapsed": false
   },
   "source": [
    "We can also input the equation as an augmented matrix."
   ]
  },
  {
   "cell_type": "code",
   "execution_count": 3,
   "metadata": {
    "collapsed": false
   },
   "outputs": [
    {
     "data": {
      "text/latex": [
       "$\\displaystyle \\left\\{\\left( 2, \\  -1\\right)\\right\\}$"
      ],
      "text/plain": [
       "{(2, -1)}"
      ]
     },
     "execution_count": 3,
     "metadata": {
     },
     "output_type": "execute_result"
    }
   ],
   "source": [
    "#Augmented Matrix form\n",
    "\n",
    "sym.linsolve(sym.Matrix(([2,3,1],[3,2,4])),[x,y])"
   ]
  },
  {
   "cell_type": "markdown",
   "metadata": {
    "collapsed": false
   },
   "source": [
    "We can also use $Ax = b$ form."
   ]
  },
  {
   "cell_type": "code",
   "execution_count": 4,
   "metadata": {
    "collapsed": false
   },
   "outputs": [
    {
     "data": {
      "text/latex": [
       "$\\displaystyle \\left\\{\\left( 2, \\  -1\\right)\\right\\}$"
      ],
      "text/plain": [
       "{(2, -1)}"
      ]
     },
     "execution_count": 4,
     "metadata": {
     },
     "output_type": "execute_result"
    }
   ],
   "source": [
    "#Ax=b form\n",
    "A = sym.Matrix(([2,3],[3,2]))\n",
    "b = sym.Matrix((1,4))\n",
    "\n",
    "sym.linsolve((A,b),(x,y))"
   ]
  },
  {
   "cell_type": "code",
   "execution_count": 5,
   "metadata": {
    "collapsed": false
   },
   "outputs": [
    {
     "data": {
      "text/latex": [
       "$\\displaystyle \\left\\{\\left( 2, \\  -1\\right)\\right\\}$"
      ],
      "text/plain": [
       "{(2, -1)}"
      ]
     },
     "execution_count": 5,
     "metadata": {
     },
     "output_type": "execute_result"
    }
   ],
   "source": [
    "#You could convert a numpy array to a matrix before solving\n",
    "import numpy as np\n",
    "\n",
    "ar = np.array([[2,3],[3,2]])\n",
    "A = sym.Matrix(ar)\n",
    "\n",
    "sym.linsolve((A,b),(x,y))"
   ]
  },
  {
   "cell_type": "markdown",
   "metadata": {
    "collapsed": false
   },
   "source": [
    "If you want to get the multiplicity of roots, you should use the roots function instead."
   ]
  },
  {
   "cell_type": "code",
   "execution_count": 6,
   "metadata": {
    "collapsed": false
   },
   "outputs": [
    {
     "data": {
      "text/plain": [
       "{-1: 2}"
      ]
     },
     "execution_count": 6,
     "metadata": {
     },
     "output_type": "execute_result"
    }
   ],
   "source": [
    "#Polynomial with repeated roots\n",
    "\n",
    "#This will not tell us the multiplicity\n",
    "sym.solveset(x**2+2*x+1,x)\n",
    "\n",
    "#This will give multiplicity\n",
    "sym.roots(x**2+2*x+1,x)"
   ]
  },
  {
   "cell_type": "markdown",
   "metadata": {
    "collapsed": false
   },
   "source": [
    "Not all equations have algebraic solutions. evalf can help here."
   ]
  },
  {
   "cell_type": "code",
   "execution_count": 7,
   "metadata": {
    "collapsed": false
   },
   "outputs": [
    {
     "data": {
      "text/latex": [
       "$\\displaystyle \\left\\{-0.0843722211355497, -0.0697379301058918, 0.0549737675437051, 1235122.99900091, 0.0500677372386784 - 0.100041806410319 i, 0.0500677372386784 + 0.100041806410319 i\\right\\}$"
      ],
      "text/plain": [
       "{-0.0843722211355497, -0.0697379301058918, 0.0549737675437051, 1235122.99900091, 0.0500677372386784 - 0.100041806410319*I, 0.0500677372386784 + 0.100041806410319*I}"
      ]
     },
     "execution_count": 7,
     "metadata": {
     },
     "output_type": "execute_result"
    }
   ],
   "source": [
    "#High degree polynomials might not have a \"nice\" soluton\n",
    "\n",
    "poly = x**6 - 1235123*x**5 + 1234*x**4 - 1453*x**2 + 5\n",
    "#We can use evalf to get a workable solution\n",
    "sym.solveset(poly,x).evalf()"
   ]
  },
  {
   "cell_type": "markdown",
   "metadata": {
    "collapsed": false
   },
   "source": [
    "For non-linear systems, use the nonlinsolve function."
   ]
  },
  {
   "cell_type": "code",
   "execution_count": 8,
   "metadata": {
    "collapsed": false
   },
   "outputs": [
    {
     "data": {
      "text/latex": [
       "$\\displaystyle \\left\\{\\left( - \\sqrt{3}, \\  -1, \\  - \\sqrt{5}\\right), \\left( - \\sqrt{3}, \\  -1, \\  \\sqrt{5}\\right), \\left( - \\sqrt{3}, \\  1, \\  - \\sqrt{5}\\right), \\left( - \\sqrt{3}, \\  1, \\  \\sqrt{5}\\right), \\left( \\sqrt{3}, \\  -1, \\  - \\sqrt{5}\\right), \\left( \\sqrt{3}, \\  -1, \\  \\sqrt{5}\\right), \\left( \\sqrt{3}, \\  1, \\  - \\sqrt{5}\\right), \\left( \\sqrt{3}, \\  1, \\  \\sqrt{5}\\right)\\right\\}$"
      ],
      "text/plain": [
       "{(-sqrt(3), -1, -sqrt(5)), (-sqrt(3), -1, sqrt(5)), (-sqrt(3), 1, -sqrt(5)), (-sqrt(3), 1, sqrt(5)), (sqrt(3), -1, -sqrt(5)), (sqrt(3), -1, sqrt(5)), (sqrt(3), 1, -sqrt(5)), (sqrt(3), 1, sqrt(5))}"
      ]
     },
     "execution_count": 8,
     "metadata": {
     },
     "output_type": "execute_result"
    }
   ],
   "source": [
    "eq1 = x**2 + y**2 - 4\n",
    "eq2 = x**2 + z**2 - 8\n",
    "eq3 = y**2 + z**2 - 6\n",
    "\n",
    "sym.nonlinsolve([eq1,eq2,eq3],[x,y,z])"
   ]
  },
  {
   "cell_type": "markdown",
   "metadata": {
    "collapsed": false
   },
   "source": [
    "## Exercise 1 ##\n",
    "Use the method of Lagrange multipliers to find the maximum of \n",
    "\n",
    "$$ f(x) = 3x^2 - 2y^3 + e^z $$\n",
    "\n",
    "subject to\n",
    "\n",
    "$$ g(x) = x^2+y^2+z^2 = 12 $$\n",
    "\n",
    "(A review of Lagrange multipliers can be found here: https://en.wikipedia.org/wiki/Lagrange_multiplier#Multiple_constraints)"
   ]
  },
  {
   "cell_type": "code",
   "execution_count": 9,
   "metadata": {
    "collapsed": false
   },
   "outputs": [
    {
     "name": "stdout",
     "output_type": "stream",
     "text": [
      "{(0, 0, -2*sqrt(3), -sqrt(3)*exp(-2*sqrt(3))/12), (0, 0, 2*sqrt(3), sqrt(3)*exp(2*sqrt(3))/12)}\n",
      "0.0591057465619562\n",
      "16.9188286785579\n"
     ]
    }
   ],
   "source": [
    "#Get the mu symbol\n",
    "mu = sym.symbols('mu')\n",
    "\n",
    "#Get the functions\n",
    "f = 3*x**2 - 2*y**3 + sym.exp(z)\n",
    "g = x**2 + y**2 + z**2 - 12\n",
    "\n",
    "#Take the partial derivatives\n",
    "fx = f.diff(x)\n",
    "fy = f.diff(y)\n",
    "fz = f.diff(z)\n",
    "gx = g.diff(x)\n",
    "gy = g.diff(y)\n",
    "gz = g.diff(z)\n",
    "\n",
    "#Get the equations\n",
    "eqx = fx - mu*gx\n",
    "eqy = fy - mu*gy\n",
    "eqz = fz - mu*gz\n",
    "\n",
    "#Solve\n",
    "print(sym.nonlinsolve([eqx,eqy,eqz,g],[x,y,z,mu]))\n",
    "\n",
    "#Check for the maximum\n",
    "print(f.subs([(x,0),(y,0),(z,-2*sym.sqrt(2))]).evalf())\n",
    "print(f.subs([(x,0),(y,0),(z,2*sym.sqrt(2))]).evalf())"
   ]
  },
  {
   "cell_type": "markdown",
   "metadata": {
    "collapsed": false
   },
   "source": [
    "We can also solve some ODEs."
   ]
  },
  {
   "cell_type": "code",
   "execution_count": 10,
   "metadata": {
    "collapsed": false
   },
   "outputs": [
    {
     "data": {
      "text/latex": [
       "$\\displaystyle f{\\left(x \\right)} = \\left(C_{1} + C_{2} x\\right) e^{x} + \\frac{\\cos{\\left(x \\right)}}{2}$"
      ],
      "text/plain": [
       "Eq(f(x), (C1 + C2*x)*exp(x) + cos(x)/2)"
      ]
     },
     "execution_count": 10,
     "metadata": {
     },
     "output_type": "execute_result"
    }
   ],
   "source": [
    "f,g = sym.symbols('f g',cls=sym.Function)\n",
    "diffeq = sym.Eq(f(x).diff(x,x)-2*f(x).diff(x)+f(x),sym.sin(x))\n",
    "#Solve the diffeq\n",
    "sym.dsolve(diffeq,f(x))"
   ]
  },
  {
   "cell_type": "markdown",
   "metadata": {
    "collapsed": false
   },
   "source": [
    "Here is how we add the initial conditions $f(0)=0$ and $f'(0)=1$."
   ]
  },
  {
   "cell_type": "code",
   "execution_count": 11,
   "metadata": {
    "collapsed": false
   },
   "outputs": [
    {
     "data": {
      "text/latex": [
       "$\\displaystyle f{\\left(x \\right)} = \\left(\\frac{3 x}{2} - \\frac{1}{2}\\right) e^{x} + \\frac{\\cos{\\left(x \\right)}}{2}$"
      ],
      "text/plain": [
       "Eq(f(x), (3*x/2 - 1/2)*exp(x) + cos(x)/2)"
      ]
     },
     "execution_count": 11,
     "metadata": {
     },
     "output_type": "execute_result"
    }
   ],
   "source": [
    "#Solve diffeq with initial conditions\n",
    "diffeq = sym.Eq(f(x).diff(x,x)-2*f(x).diff(x)+f(x),sym.sin(x))\n",
    "#Solve the diffeq\n",
    "sym.dsolve(diffeq,f(x),ics={f(0):0, f(x).diff(x).subs(x,0):1})"
   ]
  },
  {
   "cell_type": "markdown",
   "metadata": {
    "collapsed": false
   },
   "source": [
    "We can also solve linear systems of ODEs.\n",
    "\n",
    "The solution might not output as nicely, so you may need to output the solutions separately afterwards."
   ]
  },
  {
   "cell_type": "code",
   "execution_count": 16,
   "metadata": {
    "collapsed": false
   },
   "outputs": [
    {
     "data": {
      "text/latex": [
       "$\\displaystyle g{\\left(x \\right)} = C_{1} e^{- x} + C_{2} e^{5 x}$"
      ],
      "text/plain": [
       "Eq(g(x), C1*exp(-x) + C2*exp(5*x))"
      ]
     },
     "execution_count": 16,
     "metadata": {
     },
     "output_type": "execute_result"
    }
   ],
   "source": [
    "diffeq1 = sym.Eq(f(x).diff(x),2*f(x) + 3*g(x))\n",
    "diffeq2 = sym.Eq(g(x).diff(x),3*f(x) + 2*g(x))\n",
    "sols = sym.dsolve([diffeq1,diffeq2],[f(x), g(x)])\n",
    "sols[0]\n",
    "sols[1]"
   ]
  }
 ],
 "metadata": {
  "kernelspec": {
   "argv": [
    "/usr/bin/python3",
    "-m",
    "ipykernel",
    "--HistoryManager.enabled=False",
    "--matplotlib=inline",
    "-c",
    "%config InlineBackend.figure_formats = set(['retina'])\nimport matplotlib; matplotlib.rcParams['figure.figsize'] = (12, 7)",
    "-f",
    "{connection_file}"
   ],
   "display_name": "Python 3 (system-wide)",
   "env": {
   },
   "language": "python",
   "metadata": {
    "cocalc": {
     "description": "Python 3 programming language",
     "priority": 100,
     "url": "https://www.python.org/"
    }
   },
   "name": "python3",
   "resource_dir": "/ext/jupyter/kernels/python3"
  }
 },
 "nbformat": 4,
 "nbformat_minor": 4
}