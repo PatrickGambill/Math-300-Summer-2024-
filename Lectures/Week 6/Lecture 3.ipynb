{
 "cells": [
  {
   "cell_type": "markdown",
   "metadata": {
    "collapsed": false
   },
   "source": [
    "# Lecture 3 #\n",
    "\n",
    "## Calculus with Sympy ##\n",
    "\n",
    "We can take derivatives with Sympy."
   ]
  },
  {
   "cell_type": "code",
   "execution_count": 3,
   "metadata": {
    "collapsed": false
   },
   "outputs": [
    {
     "data": {
      "text/latex": [
       "$\\displaystyle - 64 \\left(11753 \\sin{\\left(3 x \\right)} + 10296 \\cos{\\left(3 x \\right)}\\right) e^{- x}$"
      ],
      "text/plain": [
       "-64*(11753*sin(3*x) + 10296*cos(3*x))*exp(-x)"
      ]
     },
     "execution_count": 3,
     "metadata": {
     },
     "output_type": "execute_result"
    }
   ],
   "source": [
    "import sympy as sym\n",
    "x,y,z = sym.symbols('x y z')\n",
    "#Take a derivative\n",
    "expr = x**2 - 2*x + sym.sin(3*x)/(sym.exp(x))\n",
    "#Take the derivative with respect to x 12 times\n",
    "sym.diff(expr,x,12)"
   ]
  },
  {
   "cell_type": "markdown",
   "metadata": {
    "collapsed": false
   },
   "source": [
    "We can also do partial derivatives. Below, we are taking the $3$rd partial with respect to $x$ and second partial with respect to $y$."
   ]
  },
  {
   "cell_type": "code",
   "execution_count": 4,
   "metadata": {
    "collapsed": false
   },
   "outputs": [
    {
     "data": {
      "text/latex": [
       "$\\displaystyle \\frac{y z^{3} \\left(- \\frac{x^{2} y^{2} z^{2} \\left(\\frac{y \\left(\\tan^{2}{\\left(y \\right)} + 1\\right)}{\\tan{\\left(y \\right)}} - 1\\right)^{2} \\cos{\\left(\\frac{x y z}{\\tan{\\left(y \\right)}} \\right)}}{\\tan^{2}{\\left(y \\right)}} - \\frac{6 x y^{2} z \\left(\\frac{y \\left(\\tan^{2}{\\left(y \\right)} + 1\\right)}{\\tan{\\left(y \\right)}} - 1\\right) \\left(\\tan^{2}{\\left(y \\right)} + 1\\right) \\sin{\\left(\\frac{x y z}{\\tan{\\left(y \\right)}} \\right)}}{\\tan^{2}{\\left(y \\right)}} + \\frac{2 x y^{2} z \\left(\\tan^{2}{\\left(y \\right)} + 1\\right) \\left(- \\frac{y \\left(\\tan^{2}{\\left(y \\right)} + 1\\right)}{\\tan^{2}{\\left(y \\right)}} + y + \\frac{1}{\\tan{\\left(y \\right)}}\\right) \\sin{\\left(\\frac{x y z}{\\tan{\\left(y \\right)}} \\right)}}{\\tan{\\left(y \\right)}} + \\frac{6 x y z \\left(\\frac{y \\left(\\tan^{2}{\\left(y \\right)} + 1\\right)}{\\tan{\\left(y \\right)}} - 1\\right) \\sin{\\left(\\frac{x y z}{\\tan{\\left(y \\right)}} \\right)}}{\\tan{\\left(y \\right)}} + \\frac{12 y^{2} \\left(\\tan^{2}{\\left(y \\right)} + 1\\right)^{2} \\cos{\\left(\\frac{x y z}{\\tan{\\left(y \\right)}} \\right)}}{\\tan^{2}{\\left(y \\right)}} - 6 y^{2} \\left(\\tan^{2}{\\left(y \\right)} + 1\\right) \\cos{\\left(\\frac{x y z}{\\tan{\\left(y \\right)}} \\right)} - \\frac{18 y \\left(\\tan^{2}{\\left(y \\right)} + 1\\right) \\cos{\\left(\\frac{x y z}{\\tan{\\left(y \\right)}} \\right)}}{\\tan{\\left(y \\right)}} + 6 \\cos{\\left(\\frac{x y z}{\\tan{\\left(y \\right)}} \\right)}\\right)}{\\tan^{3}{\\left(y \\right)}}$"
      ],
      "text/plain": [
       "y*z**3*(-x**2*y**2*z**2*(y*(tan(y)**2 + 1)/tan(y) - 1)**2*cos(x*y*z/tan(y))/tan(y)**2 - 6*x*y**2*z*(y*(tan(y)**2 + 1)/tan(y) - 1)*(tan(y)**2 + 1)*sin(x*y*z/tan(y))/tan(y)**2 + 2*x*y**2*z*(tan(y)**2 + 1)*(-y*(tan(y)**2 + 1)/tan(y)**2 + y + 1/tan(y))*sin(x*y*z/tan(y))/tan(y) + 6*x*y*z*(y*(tan(y)**2 + 1)/tan(y) - 1)*sin(x*y*z/tan(y))/tan(y) + 12*y**2*(tan(y)**2 + 1)**2*cos(x*y*z/tan(y))/tan(y)**2 - 6*y**2*(tan(y)**2 + 1)*cos(x*y*z/tan(y)) - 18*y*(tan(y)**2 + 1)*cos(x*y*z/tan(y))/tan(y) + 6*cos(x*y*z/tan(y)))/tan(y)**3"
      ]
     },
     "execution_count": 4,
     "metadata": {
     },
     "output_type": "execute_result"
    }
   ],
   "source": [
    "expr = x*y*sym.exp(x*z)-sym.sin(x*y*z/sym.tan(y))\n",
    "#Partial Derivatives are Supported Too\n",
    "sym.diff(expr,x,3,y,2)"
   ]
  },
  {
   "cell_type": "markdown",
   "metadata": {
    "collapsed": false
   },
   "source": [
    "When working with differential equations, it is often helpful to have unevaluated derivatives. The syntax for this is shown below."
   ]
  },
  {
   "cell_type": "code",
   "execution_count": 5,
   "metadata": {
    "collapsed": false
   },
   "outputs": [
    {
     "data": {
      "text/latex": [
       "$\\displaystyle \\frac{d}{d x} \\left(x^{2} - 2 x + 3\\right)$"
      ],
      "text/plain": [
       "Derivative(x**2 - 2*x + 3, x)"
      ]
     },
     "execution_count": 5,
     "metadata": {
     },
     "output_type": "execute_result"
    }
   ],
   "source": [
    "expr = x**2 - 2*x + 3\n",
    "deriv = sym.Derivative(expr,x)\n",
    "#Unevaluated Derivative\n",
    "deriv"
   ]
  },
  {
   "cell_type": "markdown",
   "metadata": {
    "collapsed": false
   },
   "source": [
    "To evaluate an unevaluated integral, we use the syntax below:"
   ]
  },
  {
   "cell_type": "code",
   "execution_count": 6,
   "metadata": {
    "collapsed": false
   },
   "outputs": [
    {
     "data": {
      "text/latex": [
       "$\\displaystyle 2 x - 2$"
      ],
      "text/plain": [
       "2*x - 2"
      ]
     },
     "execution_count": 6,
     "metadata": {
     },
     "output_type": "execute_result"
    }
   ],
   "source": [
    "expr = x**2 - 2*x + 3\n",
    "deriv = sym.Derivative(expr,x)\n",
    "#Evaluated Derivative\n",
    "deriv.doit()"
   ]
  },
  {
   "cell_type": "markdown",
   "metadata": {
    "collapsed": false
   },
   "source": [
    "## Integrals ##\n",
    "\n",
    "Sympy can compute indefinite integrals, but it will not include the $+C$ at the end."
   ]
  },
  {
   "cell_type": "code",
   "execution_count": 7,
   "metadata": {
    "collapsed": false
   },
   "outputs": [
    {
     "data": {
      "text/latex": [
       "$\\displaystyle - \\frac{x^{4} \\sqrt{49 - x^{2}}}{5} - \\frac{196 x^{2} \\sqrt{49 - x^{2}}}{15} - \\frac{19208 \\sqrt{49 - x^{2}}}{15} + e^{x} - \\frac{\\sin^{2}{\\left(x \\right)}}{2}$"
      ],
      "text/plain": [
       "-x**4*sqrt(49 - x**2)/5 - 196*x**2*sqrt(49 - x**2)/15 - 19208*sqrt(49 - x**2)/15 + exp(x) - sin(x)**2/2"
      ]
     },
     "execution_count": 7,
     "metadata": {
     },
     "output_type": "execute_result"
    }
   ],
   "source": [
    "expr = sym.exp(x) - sym.sin(x)*sym.cos(x) + x**5/sym.sqrt(49-x**2)\n",
    "\n",
    "#Take the indefinite integral\n",
    "sym.integrate(expr,x)"
   ]
  },
  {
   "cell_type": "markdown",
   "metadata": {
    "collapsed": false
   },
   "source": [
    "Sympy can also do definite integrals. The strings '-oo' and 'oo' represent negative infinity and positive infinity respectively."
   ]
  },
  {
   "cell_type": "code",
   "execution_count": 8,
   "metadata": {
    "collapsed": false
   },
   "outputs": [
    {
     "data": {
      "text/latex": [
       "$\\displaystyle \\frac{\\sqrt{\\pi}}{2}$"
      ],
      "text/plain": [
       "sqrt(pi)/2"
      ]
     },
     "execution_count": 8,
     "metadata": {
     },
     "output_type": "execute_result"
    }
   ],
   "source": [
    "expr = sym.exp(-x**2)\n",
    "\n",
    "#Definite Integral with 0 as the lower bound and infinity as the upper bound.\n",
    "sym.integrate(expr,(x,0,'oo'))"
   ]
  },
  {
   "cell_type": "markdown",
   "metadata": {
    "collapsed": false
   },
   "source": [
    "The integral below is too hard for Sympy and for Wolram Alpha. The actual value is $\\frac{\\pi}{4}$. A proof of this is provided at the bottom of the notes. Sympy can still do numerical approximations of integrals as needed. To do so, we create an unevalued integral, then we use evalf."
   ]
  },
  {
   "cell_type": "code",
   "execution_count": 9,
   "metadata": {
    "collapsed": false
   },
   "outputs": [
    {
     "name": "stdout",
     "output_type": "stream",
     "text": [
      "0.7853981633974483096156608458198757210492923498437764552437361480769541015715522496570087063355292670\n",
      "0.7853981633974483096156608458198757210492923498437764552437361480769541015715522496570087063355292670\n"
     ]
    }
   ],
   "source": [
    "n  = sym.symbols('n',positive=True,real=True,integer=True)\n",
    "expr = sym.sin(x)**7 / (sym.sin(x)**7 + sym.cos(x)**7)\n",
    "#Create an unevaluated integral\n",
    "integral = sym.Integral(expr,(x,0,sym.pi/2))\n",
    "#Numuerical Approximation\n",
    "print(integral.evalf(100))\n",
    "#Float of actual value\n",
    "print((sym.pi/4).evalf(100))"
   ]
  },
  {
   "cell_type": "markdown",
   "metadata": {
    "collapsed": false
   },
   "source": [
    "## Sums ##\n",
    "\n",
    "When working with summations, you should use the summation and Sum functions rather than loops in sympy."
   ]
  },
  {
   "cell_type": "code",
   "execution_count": 24,
   "metadata": {
    "collapsed": false
   },
   "outputs": [
    {
     "data": {
      "text/latex": [
       "$\\displaystyle \\frac{n^{2}}{2} + \\frac{n}{2}$"
      ],
      "text/plain": [
       "n**2/2 + n/2"
      ]
     },
     "execution_count": 24,
     "metadata": {
     },
     "output_type": "execute_result"
    }
   ],
   "source": [
    "#This is the indexing variable. We are requiring k to be an integer to be safe\n",
    "k = sym.symbols('k',integer=True)\n",
    "\n",
    "expr = k\n",
    "#Here we create an unevalutated sum\n",
    "summation = sym.Sum(expr,(k,0,n))\n",
    "\n",
    "#This is the formula we expect for the triangle numbers.\n",
    "summation.doit()"
   ]
  },
  {
   "cell_type": "markdown",
   "metadata": {
    "collapsed": false
   },
   "source": [
    "If you do not want to create a Sum object, you can also use the summation function (just like we could take the integral directly with the integrate function)."
   ]
  },
  {
   "cell_type": "code",
   "execution_count": 11,
   "metadata": {
    "collapsed": false
   },
   "outputs": [
    {
     "data": {
      "text/latex": [
       "$\\displaystyle \\frac{n^{2}}{2} + \\frac{n}{2}$"
      ],
      "text/plain": [
       "n**2/2 + n/2"
      ]
     },
     "execution_count": 11,
     "metadata": {
     },
     "output_type": "execute_result"
    }
   ],
   "source": [
    "expr = k\n",
    "sym.summation(expr,(k,0,n))"
   ]
  },
  {
   "cell_type": "markdown",
   "metadata": {
    "collapsed": false
   },
   "source": [
    "The identity for the binomial coefficients is correctly identified by sympy!"
   ]
  },
  {
   "cell_type": "code",
   "execution_count": 12,
   "metadata": {
    "collapsed": false
   },
   "outputs": [
    {
     "data": {
      "text/latex": [
       "$\\displaystyle 2^{n}$"
      ],
      "text/plain": [
       "2**n"
      ]
     },
     "execution_count": 12,
     "metadata": {
     },
     "output_type": "execute_result"
    }
   ],
   "source": [
    "expr = sym.binomial(n,k)\n",
    "\n",
    "sym.summation(expr, (k,0,n))"
   ]
  },
  {
   "cell_type": "markdown",
   "metadata": {
    "collapsed": false
   },
   "source": [
    "## Limits ##\n",
    "\n",
    "When working with limits, sympy can help as well. sympy is able to use L'Hopital's rule properly."
   ]
  },
  {
   "cell_type": "code",
   "execution_count": 13,
   "metadata": {
    "collapsed": false
   },
   "outputs": [
    {
     "data": {
      "text/latex": [
       "$\\displaystyle 0$"
      ],
      "text/plain": [
       "0"
      ]
     },
     "execution_count": 13,
     "metadata": {
     },
     "output_type": "execute_result"
    }
   ],
   "source": [
    "expr = x**2/sym.exp(x)\n",
    "\n",
    "sym.limit(expr,x,'oo')"
   ]
  },
  {
   "cell_type": "markdown",
   "metadata": {
    "collapsed": false
   },
   "source": [
    "sympy can also do one-sided limits."
   ]
  },
  {
   "cell_type": "code",
   "execution_count": 14,
   "metadata": {
    "collapsed": false
   },
   "outputs": [
    {
     "data": {
      "text/latex": [
       "$\\displaystyle -\\infty$"
      ],
      "text/plain": [
       "-oo"
      ]
     },
     "execution_count": 14,
     "metadata": {
     },
     "output_type": "execute_result"
    }
   ],
   "source": [
    "#One Sided Limits\n",
    "expr = 1/x\n",
    "\n",
    "#Left hand limit\n",
    "sym.limit(expr,x,0,'-')"
   ]
  },
  {
   "cell_type": "code",
   "execution_count": 15,
   "metadata": {
    "collapsed": false
   },
   "outputs": [
    {
     "data": {
      "text/latex": [
       "$\\displaystyle \\infty$"
      ],
      "text/plain": [
       "oo"
      ]
     },
     "execution_count": 15,
     "metadata": {
     },
     "output_type": "execute_result"
    }
   ],
   "source": [
    "expr = 1/x\n",
    "\n",
    "#Right hand limit\n",
    "sym.limit(expr,x,0,'+')"
   ]
  },
  {
   "cell_type": "markdown",
   "metadata": {
    "collapsed": false
   },
   "source": [
    "If a function requires a one-sided limit, sympy will turn the two-sided limit into a one-sided limit. Be careful when working with sympy for these types of limits."
   ]
  },
  {
   "cell_type": "code",
   "execution_count": 16,
   "metadata": {
    "collapsed": false
   },
   "outputs": [
    {
     "data": {
      "text/latex": [
       "$\\displaystyle -\\infty$"
      ],
      "text/plain": [
       "-oo"
      ]
     },
     "execution_count": 16,
     "metadata": {
     },
     "output_type": "execute_result"
    }
   ],
   "source": [
    "expr = sym.log(x)\n",
    "\n",
    "sym.limit(expr,x,0)"
   ]
  },
  {
   "cell_type": "markdown",
   "metadata": {
    "collapsed": false
   },
   "source": [
    "When plugging into singularities, be sure to use the limit function rather than subs. subs may return nan (even when the limit exists), or may incorrectly return infinity."
   ]
  },
  {
   "cell_type": "code",
   "execution_count": 17,
   "metadata": {
    "collapsed": false
   },
   "outputs": [
    {
     "name": "stdout",
     "output_type": "stream",
     "text": [
      "nan\n",
      "1\n"
     ]
    }
   ],
   "source": [
    "expr = sym.sin(x)/x\n",
    "\n",
    "#This will give NAN\n",
    "print(expr.subs(x,0))\n",
    "#This gives the correct value\n",
    "print(expr.limit(x,0))"
   ]
  },
  {
   "cell_type": "markdown",
   "metadata": {
    "collapsed": false
   },
   "source": [
    "If you are ever unsure when sympy is converting an expression to a one-sided limit, create an unevaluated limit, like we did below."
   ]
  },
  {
   "cell_type": "code",
   "execution_count": 25,
   "metadata": {
    "collapsed": false
   },
   "outputs": [
    {
     "data": {
      "text/latex": [
       "$\\displaystyle \\lim_{x \\to 0^+} \\frac{1}{x}$"
      ],
      "text/plain": [
       "Limit(1/x, x, 0)"
      ]
     },
     "execution_count": 25,
     "metadata": {
     },
     "output_type": "execute_result"
    }
   ],
   "source": [
    "#Unevaluated Limit\n",
    "expr = 1/x\n",
    "lim = sym.Limit(expr,x,0)\n",
    "lim"
   ]
  },
  {
   "cell_type": "markdown",
   "metadata": {
    "collapsed": false
   },
   "source": [
    "## Series Expansions ##\n",
    "sympy can find the first few terms of the series expansion of an expression. It will not give the general form of the expansion. As a side note, sympy uses Landau notation for asymptotics. This means that $O(x^3)$ represents all of the terms of $3$rd order or higher. This is the opposite convention to the Big-O notation we have seen previously. "
   ]
  },
  {
   "cell_type": "code",
   "execution_count": 19,
   "metadata": {
    "collapsed": false
   },
   "outputs": [
    {
     "data": {
      "text/latex": [
       "$\\displaystyle x^{2} - \\frac{x^{6}}{6} + O\\left(x^{8}\\right)$"
      ],
      "text/plain": [
       "x**2 - x**6/6 + O(x**8)"
      ]
     },
     "execution_count": 19,
     "metadata": {
     },
     "output_type": "execute_result"
    }
   ],
   "source": [
    "expr = sym.sin(x**2)\n",
    "\n",
    "#Get the series expansion about 0 of expr\n",
    "expr.series(x,0,8)"
   ]
  },
  {
   "cell_type": "markdown",
   "metadata": {
    "collapsed": false
   },
   "source": [
    "We can get rid of the asymptotic term if needed."
   ]
  },
  {
   "cell_type": "code",
   "execution_count": 20,
   "metadata": {
    "collapsed": false
   },
   "outputs": [
    {
     "data": {
      "text/latex": [
       "$\\displaystyle - \\frac{x^{6}}{6} + x^{2}$"
      ],
      "text/plain": [
       "-x**6/6 + x**2"
      ]
     },
     "execution_count": 20,
     "metadata": {
     },
     "output_type": "execute_result"
    }
   ],
   "source": [
    "expr = sym.sin(x**2)\n",
    "\n",
    "#Get the series expansion about 0 of expr\n",
    "expr.series(x,0,8).removeO()"
   ]
  },
  {
   "cell_type": "markdown",
   "metadata": {
    "collapsed": false
   },
   "source": [
    "If we do not remove the asymptotic term, then it will absorb other terms. "
   ]
  },
  {
   "cell_type": "code",
   "execution_count": 21,
   "metadata": {
    "collapsed": false
   },
   "outputs": [
    {
     "data": {
      "text/latex": [
       "$\\displaystyle x^{4} + 2 x^{6} - \\frac{x^{8}}{6} + O\\left(x^{10}\\right)$"
      ],
      "text/plain": [
       "x**4 + 2*x**6 - x**8/6 + O(x**10)"
      ]
     },
     "execution_count": 21,
     "metadata": {
     },
     "output_type": "execute_result"
    }
   ],
   "source": [
    "#O absorbs higher order terms!\n",
    "\n",
    "expr = sym.sin(x**2)\n",
    "\n",
    "#Get the series expansion about 0 of expr\n",
    "ser = expr.series(x,0,8)\n",
    "\n",
    "sym.simplify(ser * (x**2 + 2*x**4 - 3*x**8))"
   ]
  },
  {
   "cell_type": "markdown",
   "metadata": {
    "collapsed": false
   },
   "source": [
    "## Proof of the Integral ##\n",
    "\n",
    "Suppose $n$ is a positive integer. We will show \n",
    "$$ \\int_{0}^{\\pi/2}{\\frac{\\sin ^n(x)}{\\sin ^n{(x)} + \\cos ^n{(x)}}dx} = \\frac{\\pi}{4}$$\n",
    "\n",
    "First, let's note that the integral should be unaffected if we reflect the function over the $y$-axis (as long as we adjust the bounds accordingly). It will also be unaffected if we translate the function along the $x$-axis. This gives the result below:\n",
    "\n",
    "$$ \\int_{a}^{b}{f(x)dx} = \\int_{a}^{b}{f(a+b-x)dx}$$\n",
    "\n",
    "If you wish to prove this for yourself, you can use a $u$-sub to do so. Let's apply this to the original integral.\n",
    "\n",
    "$$ I =\\int_{0}^{\\pi/2}{\\frac{\\sin ^n(x)}{\\sin ^n{(x)} + \\cos ^n{(x)}}dx} = \\int_{0}^{\\pi/2}{\\frac{\\sin ^n(\\frac{\\pi}{2}-x)}{\\sin ^n{(\\frac{\\pi}{2}-x)} + \\cos ^n{(\\frac{\\pi}{2}-x)}}dx}$$\n",
    "\n",
    "And as $\\cos(\\frac{\\pi}{2} - x) = \\sin(x)$ and $\\sin(\\frac{\\pi}{2} - x) = \\cos(x)$, then\n",
    "\n",
    "$$ I  = \\int_{0}^{\\pi/2}{\\frac{\\sin ^n(\\frac{\\pi}{2}-x)}{\\sin ^n{(\\frac{\\pi}{2}-x)} + \\cos ^n{(\\frac{\\pi}{2}-x)}}dx} = \\int_{0}^{\\pi/2}{\\frac{\\cos ^n(x)}{\\sin ^n{(x)} + \\cos ^n{(x)}}dx}$$\n",
    "\n",
    "We can add both of these forms of the integral together to get\n",
    "\n",
    "$$ 2I = \\int_{0}^{\\pi/2}{\\frac{\\sin ^n(x)}{\\sin ^n{(x)} + \\cos ^n{(x)}}dx}  + \\int_{0}^{\\pi/2}{\\frac{\\cos ^n(x)}{\\sin ^n{(x)} + \\cos ^n{(x)}}dx} =  \\int_{0}^{\\pi/2}{\\frac{\\sin ^n(x) + \\cos ^n(x)}{\\sin ^n{(x)} + \\cos ^n{(x)}}dx} = \\int_{0}^{\\frac{\\pi}{2}} dx = \\frac{\\pi}{2}$$\n",
    "\n",
    "Thus $I = \\frac{\\pi}{4}$. "
   ]
  }
 ],
 "metadata": {
  "kernelspec": {
   "argv": [
    "/usr/bin/python3",
    "-m",
    "ipykernel",
    "--HistoryManager.enabled=False",
    "--matplotlib=inline",
    "-c",
    "%config InlineBackend.figure_formats = set(['retina'])\nimport matplotlib; matplotlib.rcParams['figure.figsize'] = (12, 7)",
    "-f",
    "{connection_file}"
   ],
   "display_name": "Python 3 (system-wide)",
   "env": {
   },
   "language": "python",
   "metadata": {
    "cocalc": {
     "description": "Python 3 programming language",
     "priority": 100,
     "url": "https://www.python.org/"
    }
   },
   "name": "python3",
   "resource_dir": "/ext/jupyter/kernels/python3"
  },
  "language_info": {
   "codemirror_mode": {
    "name": "ipython",
    "version": 3
   },
   "file_extension": ".py",
   "mimetype": "text/x-python",
   "name": "python",
   "nbconvert_exporter": "python",
   "pygments_lexer": "ipython3",
   "version": "3.10.12"
  }
 },
 "nbformat": 4,
 "nbformat_minor": 4
}