{
 "cells": [
  {
   "cell_type": "markdown",
   "metadata": {
    "collapsed": false
   },
   "source": [
    "# Lecture 2 #\n",
    "\n",
    "Sympy allows us to specify what format the answer should be output. Here are some additional functions and simplifications:"
   ]
  },
  {
   "cell_type": "code",
   "execution_count": 4,
   "metadata": {
    "collapsed": false
   },
   "outputs": [
    {
     "data": {
      "image/png": "[encoded data removed]",
      "text/latex": [
       "$\\displaystyle \\tau + \\sqrt{x} + \\frac{x}{y}$"
      ],
      "text/plain": [
       "         x\n",
       "τ + √x + ─\n",
       "         y"
      ]
     },
     "execution_count": 4,
     "metadata": {
     },
     "output_type": "execute_result"
    }
   ],
   "source": [
    "import sympy as sym\n",
    "#We can call this function to give nice outputs\n",
    "sym.init_printing()\n",
    "\n",
    "#We can also use words to get greek symbols!\n",
    "x,y,tau = sym.symbols('x y tau')\n",
    "#Only the most recent statement will be shown. If you use a print statement, the format will not be nice\n",
    "x/y + sym.sqrt(x) + tau"
   ]
  },
  {
   "cell_type": "markdown",
   "metadata": {
    "collapsed": false
   },
   "source": [
    "The simplify function is a catch all for most simplification, but it is slow"
   ]
  },
  {
   "cell_type": "code",
   "execution_count": 59,
   "metadata": {
    "collapsed": false
   },
   "outputs": [
    {
     "data": {
      "image/png": "[encoded data removed]",
      "text/latex": [
       "$\\displaystyle \\frac{1}{x - 1}$"
      ],
      "text/plain": [
       "  1  \n",
       "─────\n",
       "x - 1"
      ]
     },
     "execution_count": 59,
     "metadata": {
     },
     "output_type": "execute_result"
    }
   ],
   "source": [
    "x,y,z,n = sym.symbols('x y z n')\n",
    "\n",
    "expr = (x**2 - 2*x + 1) / ((x-1)**3)\n",
    "#The simplify function simplifies, but is slow and might not give the right form of the expression\n",
    "sym.simplify(expr)"
   ]
  },
  {
   "cell_type": "markdown",
   "metadata": {
    "collapsed": false
   },
   "source": [
    "We can collect the same power of $x$, which i often helpful when an expression contains arbitrary constants and variables."
   ]
  },
  {
   "cell_type": "code",
   "execution_count": 23,
   "metadata": {
    "collapsed": false
   },
   "outputs": [
    {
     "data": {
      "image/png": "[encoded data removed]",
      "text/latex": [
       "$\\displaystyle x^{2} \\left(1 - z\\right) + x \\left(2 - 2 y\\right) + 3$"
      ],
      "text/plain": [
       " 2                          \n",
       "x ⋅(1 - z) + x⋅(2 - 2⋅y) + 3"
      ]
     },
     "execution_count": 23,
     "metadata": {
     },
     "output_type": "execute_result"
    }
   ],
   "source": [
    "#Collect combines like powers\n",
    "expr = x**2 - z*x**2 + 2*x - 2*y*x + 3\n",
    "#Combine all powers of x\n",
    "sym.collect(expr,x)"
   ]
  },
  {
   "cell_type": "markdown",
   "metadata": {
    "collapsed": false
   },
   "source": [
    "We can do partial fraction decomposition!"
   ]
  },
  {
   "cell_type": "code",
   "execution_count": 29,
   "metadata": {
    "collapsed": false
   },
   "outputs": [
    {
     "data": {
      "image/png": "[encoded data removed]",
      "text/latex": [
       "$\\displaystyle - \\frac{1}{10 \\left(x + 4\\right)} + \\frac{1}{10 \\left(x - 6\\right)}$"
      ],
      "text/plain": [
       "      1            1     \n",
       "- ────────── + ──────────\n",
       "  10⋅(x + 4)   10⋅(x - 6)"
      ]
     },
     "execution_count": 29,
     "metadata": {
     },
     "output_type": "execute_result"
    }
   ],
   "source": [
    "#Apart does partial fraction decomposition\n",
    "expr = 1/(x**2 - 2*x - 24)\n",
    "sym.apart(expr)"
   ]
  },
  {
   "cell_type": "markdown",
   "metadata": {
    "collapsed": false
   },
   "source": [
    "Sympy also has trig functions. Inverse trig functions have an a before them (for arc). Note that we will have \"pi\" written out as we used a print statement here."
   ]
  },
  {
   "cell_type": "code",
   "execution_count": 5,
   "metadata": {
    "collapsed": false
   },
   "outputs": [
    {
     "name": "stdout",
     "output_type": "stream",
     "text": [
      "Trig Functions:\n",
      "\n",
      "-sqrt(2)/4 + sqrt(6)/4\n",
      "sqrt(2)/4 + sqrt(6)/4\n",
      "2 - sqrt(3)\n",
      "1/(sqrt(2)/4 + sqrt(6)/4)\n",
      "1/(-sqrt(2)/4 + sqrt(6)/4)\n",
      "sqrt(3) + 2\n",
      "\n",
      "\n",
      "\n",
      "Inverse Trig Functions:\n",
      "\n",
      "pi/2\n",
      "0\n",
      "pi/4\n",
      "0\n",
      "pi/2\n",
      "pi/4\n"
     ]
    }
   ],
   "source": [
    "print(\"Trig Functions:\\n\")\n",
    "#Sympy also has trig functions\n",
    "print(sym.sin(sym.pi/12))\n",
    "print(sym.cos(sym.pi/12))\n",
    "print(sym.tan(sym.pi/12))\n",
    "print(sym.sec(sym.pi/12))\n",
    "print(sym.csc(sym.pi/12))\n",
    "print(sym.cot(sym.pi/12))\n",
    "\n",
    "print('\\n\\n\\nInverse Trig Functions:\\n')\n",
    "#Sympy also has inverse trig functions\n",
    "print(sym.asin(1))\n",
    "print(sym.acos(1))\n",
    "print(sym.atan(1))\n",
    "print(sym.asec(1))\n",
    "print(sym.acsc(1))\n",
    "print(sym.acot(1))"
   ]
  },
  {
   "cell_type": "markdown",
   "metadata": {
    "collapsed": false
   },
   "source": [
    "When the double angle, half angle, sum of angle, product, and Pythagorean identities can be used, then we can simplify the trig functions."
   ]
  },
  {
   "cell_type": "code",
   "execution_count": 8,
   "metadata": {
    "collapsed": false
   },
   "outputs": [
    {
     "data": {
      "image/png": "[encoded data removed]",
      "text/latex": [
       "$\\displaystyle - 2 \\sin^{3}{\\left(x \\right)} + \\sin{\\left(x \\right)} + \\sqrt{3} \\sin{\\left(x + \\frac{\\pi}{3} \\right)} + 1$"
      ],
      "text/plain": [
       "       3                     ⎛    π⎞    \n",
       "- 2⋅sin (x) + sin(x) + √3⋅sin⎜x + ─⎟ + 1\n",
       "                             ⎝    3⎠    "
      ]
     },
     "execution_count": 8,
     "metadata": {
     },
     "output_type": "execute_result"
    }
   ],
   "source": [
    "#We can simplify trig expressions!\n",
    "expr = sym.cos(x)**2 + sym.sin(x)**2 + sym.cos(x) + sym.sin(x+sym.pi/6) + sym.cos(2*x)*sym.sin(x)\n",
    "#Combine all trig functions\n",
    "sym.trigsimp(expr)"
   ]
  },
  {
   "cell_type": "markdown",
   "metadata": {
    "collapsed": false
   },
   "source": [
    "We can also expand using the same identities."
   ]
  },
  {
   "cell_type": "code",
   "execution_count": 56,
   "metadata": {
    "collapsed": false
   },
   "outputs": [
    {
     "data": {
      "image/png": "[encoded data removed]",
      "text/latex": [
       "$\\displaystyle - \\left(- 4 \\sin^{3}{\\left(x \\right)} + 3 \\sin{\\left(x \\right)}\\right) \\left(\\frac{\\sqrt{3} \\left(- 8 \\sin^{3}{\\left(x^{2} \\right)} \\cos{\\left(x^{2} \\right)} + 4 \\sin{\\left(x^{2} \\right)} \\cos{\\left(x^{2} \\right)}\\right)}{2} + 4 \\cos^{4}{\\left(x^{2} \\right)} - 4 \\cos^{2}{\\left(x^{2} \\right)} + \\frac{1}{2}\\right) + \\left(4 \\cos^{3}{\\left(x \\right)} - 3 \\cos{\\left(x \\right)}\\right) \\left(\\frac{\\sqrt{3} \\left(8 \\cos^{4}{\\left(x^{2} \\right)} - 8 \\cos^{2}{\\left(x^{2} \\right)} + 1\\right)}{2} + 4 \\sin^{3}{\\left(x^{2} \\right)} \\cos{\\left(x^{2} \\right)} - 2 \\sin{\\left(x^{2} \\right)} \\cos{\\left(x^{2} \\right)}\\right)$"
      ],
      "text/plain": [
       "                           ⎛   ⎛       3⎛ 2⎞    ⎛ 2⎞        ⎛ 2⎞    ⎛ 2⎞⎞     \n",
       "  ⎛       3              ⎞ ⎜√3⋅⎝- 8⋅sin ⎝x ⎠⋅cos⎝x ⎠ + 4⋅sin⎝x ⎠⋅cos⎝x ⎠⎠     \n",
       "- ⎝- 4⋅sin (x) + 3⋅sin(x)⎠⋅⎜───────────────────────────────────────────── + 4⋅\n",
       "                           ⎝                      2                           \n",
       "\n",
       "                         ⎞                          ⎛   ⎛     4⎛ 2⎞        2⎛ \n",
       "   4⎛ 2⎞        2⎛ 2⎞   1⎟   ⎛     3              ⎞ ⎜√3⋅⎝8⋅cos ⎝x ⎠ - 8⋅cos ⎝x\n",
       "cos ⎝x ⎠ - 4⋅cos ⎝x ⎠ + ─⎟ + ⎝4⋅cos (x) - 3⋅cos(x)⎠⋅⎜─────────────────────────\n",
       "                        2⎠                          ⎝               2         \n",
       "\n",
       "2⎞    ⎞                                         ⎞\n",
       " ⎠ + 1⎠        3⎛ 2⎞    ⎛ 2⎞        ⎛ 2⎞    ⎛ 2⎞⎟\n",
       "─────── + 4⋅sin ⎝x ⎠⋅cos⎝x ⎠ - 2⋅sin⎝x ⎠⋅cos⎝x ⎠⎟\n",
       "                                                ⎠"
      ]
     },
     "execution_count": 56,
     "metadata": {
     },
     "output_type": "execute_result"
    }
   ],
   "source": [
    "#We can also expand trig functions\n",
    "expr = sym.cos(3*x + sym.pi/6 + 4*x**2)\n",
    "sym.expand_trig(expr)"
   ]
  },
  {
   "cell_type": "markdown",
   "metadata": {
    "collapsed": false
   },
   "source": [
    "We have to be a little careful when working with powers. In general, the identities\n",
    "\n",
    "$$ (xy)^n = x^ny^n $$\n",
    "\n",
    "and \n",
    "\n",
    "$$ (x^n)^m $$\n",
    "\n",
    "Might not work with all complex numbers (as values for $x,n,m$). As such, sympy might not simplify these fully unless we state assumptions about the symbols $x,y$."
   ]
  },
  {
   "cell_type": "code",
   "execution_count": 71,
   "metadata": {
    "collapsed": false
   },
   "outputs": [
    {
     "data": {
      "image/png": "[encoded data removed]",
      "text/latex": [
       "$\\displaystyle x^{n} y^{n}$"
      ],
      "text/plain": [
       " n  n\n",
       "x ⋅y "
      ]
     },
     "execution_count": 71,
     "metadata": {
     },
     "output_type": "execute_result"
    }
   ],
   "source": [
    "expr = (x*y)**n\n",
    "#We sometimes have to make assumptions to make sure the simplification works as desired. We can add these into the symbols function\n",
    "x,y = sym.symbols('x y',positive=True,real=True)\n",
    "sym.expand(expr)"
   ]
  },
  {
   "cell_type": "markdown",
   "metadata": {
    "collapsed": false
   },
   "source": [
    "Usually powsimp will simplify powers. This sometimes gives strange formats for the answer."
   ]
  },
  {
   "cell_type": "code",
   "execution_count": 78,
   "metadata": {
    "collapsed": false
   },
   "outputs": [
    {
     "data": {
      "image/png": "[encoded data removed]",
      "text/latex": [
       "$\\displaystyle e^{m \\left(2 n - 1\\right) \\log{\\left(x + y \\right)}}$"
      ],
      "text/plain": [
       " m⋅(2⋅n - 1)⋅log(x + y)\n",
       "ℯ                      "
      ]
     },
     "execution_count": 78,
     "metadata": {
     },
     "output_type": "execute_result"
    }
   ],
   "source": [
    "x,y, n, m = sym.symbols('x y n m',positive=True,real=True)\n",
    "expr = ((x+y)**n * (x+y)**(n-1))**m\n",
    "#Sometimes simplifies powers\n",
    "sym.powsimp(expr)"
   ]
  },
  {
   "cell_type": "markdown",
   "metadata": {
    "collapsed": false
   },
   "source": [
    "We can use the function below to multiply through powers (assuming relevant assumptions are met)"
   ]
  },
  {
   "cell_type": "code",
   "execution_count": 10,
   "metadata": {
    "collapsed": false
   },
   "outputs": [
    {
     "data": {
      "image/png": "[encoded data removed]",
      "text/latex": [
       "$\\displaystyle \\left(x + y\\right)^{m \\left(2 n - 1\\right)}$"
      ],
      "text/plain": [
       "       m⋅(2⋅n - 1)\n",
       "(x + y)           "
      ]
     },
     "execution_count": 10,
     "metadata": {
     },
     "output_type": "execute_result"
    }
   ],
   "source": [
    "x,y, n, m = sym.symbols('x y n m',positive=True,real=True)\n",
    "expr = ((x+y)**n * (x+y)**(n-1))**m\n",
    "#Multiplies in the powers if possible\n",
    "sym.powdenest(expr)"
   ]
  },
  {
   "cell_type": "markdown",
   "metadata": {
    "collapsed": false
   },
   "source": [
    "This time, simplify made the right guess."
   ]
  },
  {
   "cell_type": "code",
   "execution_count": 79,
   "metadata": {
    "collapsed": false
   },
   "outputs": [
    {
     "data": {
      "image/png": "[encoded data removed]",
      "text/latex": [
       "$\\displaystyle \\left(x + y\\right)^{m \\left(2 n - 1\\right)}$"
      ],
      "text/plain": [
       "       m⋅(2⋅n - 1)\n",
       "(x + y)           "
      ]
     },
     "execution_count": 79,
     "metadata": {
     },
     "output_type": "execute_result"
    }
   ],
   "source": [
    "x,y, n, m = sym.symbols('x y n m',positive=True,real=True)\n",
    "expr = ((x+y)**n * (x+y)**(n-1))**m\n",
    "#Compare to simplify\n",
    "sym.simplify(expr)"
   ]
  },
  {
   "cell_type": "markdown",
   "metadata": {
    "collapsed": false
   },
   "source": [
    "We can also simplify logarithms. Sympy defaults to using $\\log$ for $\\ln$. If we wish to expand the logarithms, we use the function below:"
   ]
  },
  {
   "cell_type": "code",
   "execution_count": 82,
   "metadata": {
    "collapsed": false
   },
   "outputs": [
    {
     "data": {
      "image/png": "[encoded data removed]",
      "text/latex": [
       "$\\displaystyle \\sqrt{y} + 3 \\log{\\left(x \\right)} + \\log{\\left(y \\right)} + \\cos{\\left(x \\right)}$"
      ],
      "text/plain": [
       "√y + 3⋅log(x) + log(y) + cos(x)"
      ]
     },
     "execution_count": 82,
     "metadata": {
     },
     "output_type": "execute_result"
    }
   ],
   "source": [
    "x,y, n, m = sym.symbols('x y n m',positive=True,real=True)\n",
    "#In Sympy, log is ln\n",
    "expr = sym.log(x*y*x**2) + sym.cos(x) + sym.sqrt(y)\n",
    "#Expand the logs\n",
    "sym.expand_log(expr)"
   ]
  },
  {
   "cell_type": "markdown",
   "metadata": {
    "collapsed": false
   },
   "source": [
    "If we wish to combine the logarithms, we use the function below:"
   ]
  },
  {
   "cell_type": "code",
   "execution_count": 87,
   "metadata": {
    "collapsed": false
   },
   "outputs": [
    {
     "data": {
      "image/png": "[encoded data removed]",
      "text/latex": [
       "$\\displaystyle \\log{\\left(\\frac{1}{y} \\right)}$"
      ],
      "text/plain": [
       "   ⎛1⎞\n",
       "log⎜─⎟\n",
       "   ⎝y⎠"
      ]
     },
     "execution_count": 87,
     "metadata": {
     },
     "output_type": "execute_result"
    }
   ],
   "source": [
    "x,y, n, m = sym.symbols('x y n m',positive=True,real=True)\n",
    "#In Sympy, log is ln\n",
    "expr = 3*sym.log(x) + 2*sym.log(y) - 3*sym.log(x*y)\n",
    "#Combine the logs\n",
    "sym.logcombine(expr)"
   ]
  },
  {
   "cell_type": "markdown",
   "metadata": {
    "collapsed": false
   },
   "source": [
    "We can also use and simplify factorials and binomial coefficients."
   ]
  },
  {
   "cell_type": "code",
   "execution_count": 92,
   "metadata": {
    "collapsed": false
   },
   "outputs": [
    {
     "data": {
      "image/png": "[encoded data removed]",
      "text/latex": [
       "$\\displaystyle n \\left(n - 1\\right)$"
      ],
      "text/plain": [
       "n⋅(n - 1)"
      ]
     },
     "execution_count": 92,
     "metadata": {
     },
     "output_type": "execute_result"
    }
   ],
   "source": [
    "#Simplification of combinatorial functions!\n",
    "expr = sym.factorial(n) / sym.factorial(n-2)\n",
    "sym.combsimp(expr)"
   ]
  },
  {
   "cell_type": "code",
   "execution_count": 96,
   "metadata": {
    "collapsed": false
   },
   "outputs": [
    {
     "data": {
      "image/png": "[encoded data removed]",
      "text/latex": [
       "$\\displaystyle {\\binom{n}{m}}$"
      ],
      "text/plain": [
       "⎛n⎞\n",
       "⎜ ⎟\n",
       "⎝m⎠"
      ]
     },
     "execution_count": 96,
     "metadata": {
     },
     "output_type": "execute_result"
    }
   ],
   "source": [
    "#It can simplify binomial coefficients!\n",
    "n,m = sym.symbols('n m',positive=True, real=True, integer=True)\n",
    "expr = sym.binomial(n-1,m-1) + sym.binomial(n-1,m)\n",
    "sym.combsimp(expr)"
   ]
  },
  {
   "cell_type": "markdown",
   "metadata": {
    "collapsed": false
   },
   "source": [
    "We probably want a better method to represent sums symbolically."
   ]
  },
  {
   "cell_type": "code",
   "execution_count": 98,
   "metadata": {
    "collapsed": false
   },
   "outputs": [
    {
     "data": {
      "image/png": "[encoded data removed]",
      "text/latex": [
       "$\\displaystyle 4096$"
      ],
      "text/plain": [
       "4096"
      ]
     },
     "execution_count": 98,
     "metadata": {
     },
     "output_type": "execute_result"
    }
   ],
   "source": [
    "n,m = sym.symbols('n m',positive=True, real=True, integer=True)\n",
    "expr = 0\n",
    "for i in range(13):\n",
    "    expr = expr + sym.binomial(12,i)\n",
    "expr"
   ]
  }
 ],
 "metadata": {
  "kernelspec": {
   "argv": [
    "/usr/bin/python3",
    "-m",
    "ipykernel",
    "--HistoryManager.enabled=False",
    "--matplotlib=inline",
    "-c",
    "%config InlineBackend.figure_formats = set(['retina'])\nimport matplotlib; matplotlib.rcParams['figure.figsize'] = (12, 7)",
    "-f",
    "{connection_file}"
   ],
   "display_name": "Python 3 (system-wide)",
   "env": {
   },
   "language": "python",
   "metadata": {
    "cocalc": {
     "description": "Python 3 programming language",
     "priority": 100,
     "url": "https://www.python.org/"
    }
   },
   "name": "python3",
   "resource_dir": "/ext/jupyter/kernels/python3"
  },
  "language_info": {
   "codemirror_mode": {
    "name": "ipython",
    "version": 3
   },
   "file_extension": ".py",
   "mimetype": "text/x-python",
   "name": "python",
   "nbconvert_exporter": "python",
   "pygments_lexer": "ipython3",
   "version": "3.10.12"
  }
 },
 "nbformat": 4,
 "nbformat_minor": 4
}