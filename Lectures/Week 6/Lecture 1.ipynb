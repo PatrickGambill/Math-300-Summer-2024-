{
 "cells": [
  {
   "cell_type": "markdown",
   "metadata": {
    "collapsed": false
   },
   "source": [
    "# Lecture 1 #\n",
    "This week we will focus on sympy. If we finish covering sympy before the end of the week, we may talk a bit about scipy at the end of the week (but sympy takes priority). sympy allows for symbolic manipulation in Python. This allows us to write code similar to Mathematica or Maple, but with an open source library!"
   ]
  },
  {
   "cell_type": "code",
   "execution_count": 104,
   "metadata": {
    "collapsed": false
   },
   "outputs": [
    {
     "name": "stdout",
     "output_type": "stream",
     "text": [
      "211454720000\n",
      "58400*sqrt(62)\n",
      "0.18867803417588616\n",
      "6797842595260149/36028797018963968\n",
      "41152/218107\n",
      "sqrt(2)/2\n"
     ]
    }
   ],
   "source": [
    "import sympy as sym\n",
    "\n",
    "#Float Operations\n",
    "print(8*4*124*400*365**2)\n",
    "#Symbolic Manipulation\n",
    "print(sym.sqrt(211454720000))\n",
    "\n",
    "#Simplifying Fractions\n",
    "print(123456/654321)\n",
    "#Do not do this\n",
    "print(sym.Rational(123456/654321))\n",
    "#Do this instead\n",
    "print(sym.Rational(123456)/654321)\n",
    "\n",
    "#By default, sympy will rationalize the denominator in square roots\n",
    "number = 1/sym.sqrt(2)\n",
    "print(number)"
   ]
  },
  {
   "cell_type": "markdown",
   "metadata": {
    "collapsed": false
   },
   "source": [
    "Symbols are like variables (in the math sense) in Sympy. Once we define a symbol, we can create an expression using the symbol."
   ]
  },
  {
   "cell_type": "code",
   "execution_count": 101,
   "metadata": {
    "collapsed": false
   },
   "outputs": [
    {
     "name": "stdout",
     "output_type": "stream",
     "text": [
      "x**3 + 2*x\n",
      "ratio/(ratio + 1)\n",
      "x*y/(1 - x**2)\n"
     ]
    }
   ],
   "source": [
    "x = sym.symbols('x')\n",
    "print(x+x+x**2 + x**3 - x**2)\n",
    "\n",
    "#Symbols can be words and we can define multiple symbols at once\n",
    "ratio = sym.symbols('ratio')\n",
    "print(ratio/(ratio+1))\n",
    "\n",
    "#We can also define multiple symbols at once\n",
    "x,y = sym.symbols('x y')\n",
    "print(x*y/(1-x**2))"
   ]
  },
  {
   "cell_type": "markdown",
   "metadata": {
    "collapsed": false
   },
   "source": [
    "We can expand and factor expressions."
   ]
  },
  {
   "cell_type": "code",
   "execution_count": 102,
   "metadata": {
    "collapsed": false
   },
   "outputs": [
    {
     "name": "stdout",
     "output_type": "stream",
     "text": [
      "(x + y)**2\n",
      "x**8 + 4*x**6 + x**5 + x**4*y + 6*x**4 - 2*x**3*y**2 - 2*x**2*y**3 + 4*x**2 + x*y**4 + y**5 + 1\n"
     ]
    }
   ],
   "source": [
    "x,y = sym.symbols('x y')\n",
    "\n",
    "#Factor a square of sums\n",
    "expression = x**2 + 2*x*y + y**2\n",
    "print(expression.factor())\n",
    "\n",
    "#Expand a gross expression\n",
    "expression = (x+y)**3 * (x-y)**2 + (x**2 + 1)**4\n",
    "print(expression.expand())"
   ]
  },
  {
   "cell_type": "markdown",
   "metadata": {
    "collapsed": false
   },
   "source": [
    "We can also plug values into expressions."
   ]
  },
  {
   "cell_type": "code",
   "execution_count": 53,
   "metadata": {
    "collapsed": false
   },
   "outputs": [
    {
     "name": "stdout",
     "output_type": "stream",
     "text": [
      "56\n",
      "10125\n",
      "sqrt(5)/5\n"
     ]
    }
   ],
   "source": [
    "x,y = sym.symbols('x y')\n",
    "\n",
    "#Here, we are plugging in for x\n",
    "expression = x**3 + 2*x**2 + 3*x + 2\n",
    "print(expression.subs(x,3))\n",
    "\n",
    "#We can substitute into multiple symbols at once by inputting a list of tuples when substituting\n",
    "expression = (x+y)**3 * (x-y)**2 + (x**2 + 1)**4\n",
    "print(expression.subs([(x,3),(y,2)]))\n",
    "\n",
    "#When substituting, we still get square roots and fractions in exact form\n",
    "expression = sym.sqrt((x+y)/(x-y))\n",
    "print(expression.subs([(x,3),(y,-2)]))"
   ]
  },
  {
   "cell_type": "markdown",
   "metadata": {
    "collapsed": false
   },
   "source": [
    "We can also go from an exact value to an arbitrary precision float in sympy."
   ]
  },
  {
   "cell_type": "code",
   "execution_count": 103,
   "metadata": {
    "collapsed": false
   },
   "outputs": [
    {
     "name": "stdout",
     "output_type": "stream",
     "text": [
      "0.7071067811865475244008443621048490392848359376884740365883398689953662392310535194251937671638207864\n"
     ]
    }
   ],
   "source": [
    "#Convert to a float with 100 places of precision\n",
    "print(number.evalf(100))"
   ]
  },
  {
   "cell_type": "markdown",
   "metadata": {
    "collapsed": false
   },
   "source": [
    "# Exercise 1 #\n",
    "Recall Binet's Formula from Lecture 2 of week 1. Using Sympy, implement Binet's formula.\n",
    "\n",
    "$$ a = \\frac{1+\\sqrt{5}}{2} $$\n",
    "$$ b = \\frac{1-\\sqrt{5}}{2} $$\n",
    "$$ F_n = \\frac{a^n - b^n}{\\sqrt{5}}$$"
   ]
  },
  {
   "cell_type": "code",
   "execution_count": 122,
   "metadata": {
    "collapsed": false
   },
   "outputs": [
    {
     "name": "stdout",
     "output_type": "stream",
     "text": [
      "33644764876431783266621612005107543310302148460680063906564769974680081442166662368155595513633734025582065332680836159373734790483865268263040892463056431887354544369559827491606602099884183933864652731300088830269235673613135117579297437854413752130520504347701602264758318906527890855154366159582987279682987510631200575428783453215515103870818298969791613127856265033195487140214287532698187962046936097879900350962302291026368131493195275630227837628441540360584402572114334961180023091208287046088923962328835461505776583271252546093591128203925285393434620904245248929403901706233888991085841065183173360437470737908552631764325733993712871937587746897479926305837065742830161637408969178426378624212835258112820516370298089332099905707920064367426202389783111470054074998459250360633560933883831923386783056136435351892133279732908133732642652633989763922723407882928177953580570993691049175470808931841056146322338217465637321248226383092103297701648054726243842374862411453093812206564914032751086643394517512161526545361333111314042436854805106765843493523836959653428071768775328348234345557366719731392746273629108210679280784718035329131176778924659089938635459327894523777674406192240337638674004021330343297496902028328145933418826817683893072003634795623117103101291953169794607632737589253530772552375943788434504067715555779056450443016640119462580972216729758615026968443146952034614932291105970676243268515992834709891284706740862008587135016260312071903172086094081298321581077282076353186624611278245537208532365305775956430072517744315051539600905168603220349163222640885248852433158051534849622434848299380905070483482449327453732624567755879089187190803662058009594743150052402532709746995318770724376825907419939632265984147498193609285223945039707165443156421328157688908058783183404917434556270520223564846495196112460268313970975069382648706613264507665074611512677522748621598642530711298441182622661057163515069260029861704945425047491378115154139941550671256271197133252763631939606902895650288268608362241082050562430701794976171121233066073310059947366875.\n",
      "33644764876431783266621612005107543310302148460680063906564769974680081442166662368155595513633734025582065332680836159373734790483865268263040892463056431887354544369559827491606602099884183933864652731300088830269235673613135117579297437854413752130520504347701602264758318906527890855154366159582987279682987510631200575428783453215515103870818298969791613127856265033195487140214287532698187962046936097879900350962302291026368131493195275630227837628441540360584402572114334961180023091208287046088923962328835461505776583271252546093591128203925285393434620904245248929403901706233888991085841065183173360437470737908552631764325733993712871937587746897479926305837065742830161637408969178426378624212835258112820516370298089332099905707920064367426202389783111470054074998459250360633560933883831923386783056136435351892133279732908133732642652633989763922723407882928177953580570993691049175470808931841056146322338217465637321248226383092103297701648054726243842374862411453093812206564914032751086643394517512161526545361333111314042436854805106765843493523836959653428071768775328348234345557366719731392746273629108210679280784718035329131176778924659089938635459327894523777674406192240337638674004021330343297496902028328145933418826817683893072003634795623117103101291953169794607632737589253530772552375943788434504067715555779056450443016640119462580972216729758615026968443146952034614932291105970676243268515992834709891284706740862008587135016260312071903172086094081298321581077282076353186624611278245537208532365305775956430072517744315051539600905168603220349163222640885248852433158051534849622434848299380905070483482449327453732624567755879089187190803662058009594743150052402532709746995318770724376825907419939632265984147498193609285223945039707165443156421328157688908058783183404917434556270520223564846495196112460268313970975069382648706613264507665074611512677522748621598642530711298441182622661057163515069260029861704945425047491378115154139941550671256271197133252763631939606902895650288268608362241082050562430701794976171121233066073310059947366875.\n"
     ]
    }
   ],
   "source": [
    "n = sym.symbols('n')\n",
    "\n",
    "a = (1+sym.sqrt(5))/2\n",
    "b = (1-sym.sqrt(5))/2\n",
    "Fn = (a**n-b**n)/sym.sqrt(5)\n",
    "\n",
    "#One way to plug in\n",
    "print(Fn.subs(n,10000).evalf(2090))\n",
    "\n",
    "#Second way to plug in\n",
    "print(Fn.evalf(2090,subs={n:10000}))\n",
    "\n",
    "#For large enough inputs, this is "
   ]
  },
  {
   "cell_type": "markdown",
   "metadata": {
    "collapsed": false
   },
   "source": [
    "The method above is faster than the for loop method for very large inputs! Compare the runtime to the usual for loop code."
   ]
  },
  {
   "cell_type": "code",
   "execution_count": 132,
   "metadata": {
    "collapsed": false
   },
   "outputs": [
    {
     "name": "stdout",
     "output_type": "stream",
     "text": [
      "33644764876431783266621612005107543310302148460680063906564769974680081442166662368155595513633734025582065332680836159373734790483865268263040892463056431887354544369559827491606602099884183933864652731300088830269235673613135117579297437854413752130520504347701602264758318906527890855154366159582987279682987510631200575428783453215515103870818298969791613127856265033195487140214287532698187962046936097879900350962302291026368131493195275630227837628441540360584402572114334961180023091208287046088923962328835461505776583271252546093591128203925285393434620904245248929403901706233888991085841065183173360437470737908552631764325733993712871937587746897479926305837065742830161637408969178426378624212835258112820516370298089332099905707920064367426202389783111470054074998459250360633560933883831923386783056136435351892133279732908133732642652633989763922723407882928177953580570993691049175470808931841056146322338217465637321248226383092103297701648054726243842374862411453093812206564914032751086643394517512161526545361333111314042436854805106765843493523836959653428071768775328348234345557366719731392746273629108210679280784718035329131176778924659089938635459327894523777674406192240337638674004021330343297496902028328145933418826817683893072003634795623117103101291953169794607632737589253530772552375943788434504067715555779056450443016640119462580972216729758615026968443146952034614932291105970676243268515992834709891284706740862008587135016260312071903172086094081298321581077282076353186624611278245537208532365305775956430072517744315051539600905168603220349163222640885248852433158051534849622434848299380905070483482449327453732624567755879089187190803662058009594743150052402532709746995318770724376825907419939632265984147498193609285223945039707165443156421328157688908058783183404917434556270520223564846495196112460268313970975069382648706613264507665074611512677522748621598642530711298441182622661057163515069260029861704945425047491378115154139941550671256271197133252763631939606902895650288268608362241082050562430701794976171121233066073310059947366875\n"
     ]
    }
   ],
   "source": [
    "#We have to allow Python to output long strings for large values\n",
    "import sys\n",
    "sys.set_int_max_str_digits(1000000)\n",
    "\n",
    "n = 10000\n",
    "\n",
    "#Calculate the Fibbonacci numbers\n",
    "F0,F1 = 0,1\n",
    "if n == 0:\n",
    "    print(0)\n",
    "elif n==1:\n",
    "    print(1)\n",
    "else:\n",
    "    for i in range(1,n):\n",
    "        F0,F1 = F1,F0+F1\n",
    "    print(F1)"
   ]
  },
  {
   "cell_type": "markdown",
   "metadata": {
    "collapsed": false
   },
   "source": [
    "You can also plug expressions into expressions using subs! This allows us to do composition of functions (and repeated composition of functions) easily."
   ]
  },
  {
   "cell_type": "code",
   "execution_count": 133,
   "metadata": {
    "collapsed": false
   },
   "outputs": [
    {
     "name": "stdout",
     "output_type": "stream",
     "text": [
      "x**2/4 - x*y/2 + y**2/4\n"
     ]
    }
   ],
   "source": [
    "x,y = sym.symbols('x y')\n",
    "expression1 = x**2\n",
    "expression2 = (y-x)/2\n",
    "\n",
    "#Here, we are plugging expression2 into expression1\n",
    "print(expression1.subs(x,expression2).expand())"
   ]
  },
  {
   "cell_type": "markdown",
   "metadata": {
    "collapsed": false
   },
   "source": [
    "# Exercise 2 #\n",
    "\n",
    "Suppose $f(x) = \\frac{1}{1+x}$. Find $f(f(f(...f(x))))$ when $n$ functions are composed. \n",
    "\n",
    "Try this for \n",
    "* $x=1,n=10$\n",
    "* $x=2,n=10$\n",
    "* $x=3, n=100$"
   ]
  },
  {
   "cell_type": "code",
   "execution_count": 134,
   "metadata": {
    "collapsed": false
   },
   "outputs": [
    {
     "name": "stdout",
     "output_type": "stream",
     "text": [
      "89/144\n",
      "123/199\n",
      "1010993835682927422153/1635822388551602829326\n"
     ]
    }
   ],
   "source": [
    "def ex2(xval,n):\n",
    "    \n",
    "    x = sym.symbols('x')\n",
    "\n",
    "    f = 1/(1+x)\n",
    "    \n",
    "    if n == 1:\n",
    "        return f.subs(x,xval)\n",
    "    \n",
    "    expression = f\n",
    "    for i in range(n-1):\n",
    "        expression = f.subs(x,expression)\n",
    "    \n",
    "    return expression.subs(x,xval)\n",
    "\n",
    "print(ex2(1,10))\n",
    "print(ex2(2,10))\n",
    "print(ex2(3,100))"
   ]
  }
 ],
 "metadata": {
  "kernelspec": {
   "argv": [
    "/usr/bin/python3",
    "-m",
    "ipykernel",
    "--HistoryManager.enabled=False",
    "--matplotlib=inline",
    "-c",
    "%config InlineBackend.figure_formats = set(['retina'])\nimport matplotlib; matplotlib.rcParams['figure.figsize'] = (12, 7)",
    "-f",
    "{connection_file}"
   ],
   "display_name": "Python 3 (system-wide)",
   "env": {
   },
   "language": "python",
   "metadata": {
    "cocalc": {
     "description": "Python 3 programming language",
     "priority": 100,
     "url": "https://www.python.org/"
    }
   },
   "name": "python3",
   "resource_dir": "/ext/jupyter/kernels/python3"
  },
  "language_info": {
   "codemirror_mode": {
    "name": "ipython",
    "version": 3
   },
   "file_extension": ".py",
   "mimetype": "text/x-python",
   "name": "python",
   "nbconvert_exporter": "python",
   "pygments_lexer": "ipython3",
   "version": "3.10.12"
  }
 },
 "nbformat": 4,
 "nbformat_minor": 4
}