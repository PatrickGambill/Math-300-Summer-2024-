{
 "cells": [
  {
   "cell_type": "markdown",
   "metadata": {
    "collapsed": false
   },
   "source": [
    "# Lecture 5 #\n",
    "## Matrices in sympy ##\n",
    "\n",
    "We can do many operations with matrices in sympy."
   ]
  },
  {
   "cell_type": "code",
   "execution_count": 3,
   "metadata": {
    "collapsed": false
   },
   "outputs": [
   ],
   "source": [
    "import sympy as sym"
   ]
  },
  {
   "cell_type": "markdown",
   "metadata": {
    "collapsed": false
   },
   "source": [
    "Here is how we can create a matrix in Python."
   ]
  },
  {
   "cell_type": "code",
   "execution_count": 4,
   "metadata": {
    "collapsed": false
   },
   "outputs": [
    {
     "data": {
      "text/latex": [
       "$\\displaystyle \\left[\\begin{matrix}5\\\\11\\end{matrix}\\right]$"
      ],
      "text/plain": [
       "Matrix([\n",
       "[ 5],\n",
       "[11]])"
      ]
     },
     "execution_count": 4,
     "metadata": {
     },
     "output_type": "execute_result"
    }
   ],
   "source": [
    "M = sym.Matrix([[1,2],[3,4]])\n",
    "v = sym.Matrix([1,2])\n",
    "M*v"
   ]
  },
  {
   "cell_type": "markdown",
   "metadata": {
    "collapsed": false
   },
   "source": [
    "Some of the functions use the same syntax as numpy."
   ]
  },
  {
   "cell_type": "code",
   "execution_count": 5,
   "metadata": {
    "collapsed": false
   },
   "outputs": [
    {
     "data": {
      "text/plain": [
       "(2, 2)"
      ]
     },
     "execution_count": 5,
     "metadata": {
     },
     "output_type": "execute_result"
    }
   ],
   "source": [
    "#Get the dimensions of the matrix\n",
    "M.shape"
   ]
  },
  {
   "cell_type": "code",
   "execution_count": 44,
   "metadata": {
    "collapsed": false
   },
   "outputs": [
    {
     "data": {
      "text/latex": [
       "$\\displaystyle \\left[\\begin{matrix}1 & 3\\\\2 & 4\\end{matrix}\\right]$"
      ],
      "text/plain": [
       "Matrix([\n",
       "[1, 3],\n",
       "[2, 4]])"
      ]
     },
     "execution_count": 44,
     "metadata": {
     },
     "output_type": "execute_result"
    }
   ],
   "source": [
    "#Transpose of M\n",
    "M.T"
   ]
  },
  {
   "cell_type": "markdown",
   "metadata": {
    "collapsed": false
   },
   "source": [
    "We can also return rows and columns easily in sympy."
   ]
  },
  {
   "cell_type": "code",
   "execution_count": 6,
   "metadata": {
    "collapsed": false
   },
   "outputs": [
    {
     "data": {
      "text/latex": [
       "$\\displaystyle \\left[\\begin{matrix}1 & 2\\end{matrix}\\right]$"
      ],
      "text/plain": [
       "Matrix([[1, 2]])"
      ]
     },
     "execution_count": 6,
     "metadata": {
     },
     "output_type": "execute_result"
    }
   ],
   "source": [
    "#Get the 0th row\n",
    "M.row(0)"
   ]
  },
  {
   "cell_type": "code",
   "execution_count": 7,
   "metadata": {
    "collapsed": false
   },
   "outputs": [
    {
     "data": {
      "text/latex": [
       "$\\displaystyle \\left[\\begin{matrix}2\\\\4\\end{matrix}\\right]$"
      ],
      "text/plain": [
       "Matrix([\n",
       "[2],\n",
       "[4]])"
      ]
     },
     "execution_count": 7,
     "metadata": {
     },
     "output_type": "execute_result"
    }
   ],
   "source": [
    "#Get the 1st column\n",
    "M.col(1)"
   ]
  },
  {
   "cell_type": "code",
   "execution_count": 38,
   "metadata": {
    "collapsed": false
   },
   "outputs": [
    {
     "data": {
      "text/latex": [
       "$\\displaystyle \\left[\\begin{matrix}2\\end{matrix}\\right]$"
      ],
      "text/plain": [
       "Matrix([[2]])"
      ]
     },
     "execution_count": 38,
     "metadata": {
     },
     "output_type": "execute_result"
    }
   ],
   "source": [
    "M = sym.Matrix([[1,2],[3,4]])\n",
    "v = sym.Matrix([1,2])\n",
    "\n",
    "#We can delete Columns and rows\n",
    "M.col_del(0)\n",
    "M.row_del(1)\n",
    "M"
   ]
  },
  {
   "cell_type": "code",
   "execution_count": 9,
   "metadata": {
    "collapsed": false
   },
   "outputs": [
    {
     "data": {
      "text/latex": [
       "$\\displaystyle \\left[\\begin{matrix}1 & 2 & 3\\\\1 & 5 & 2\\\\3 & 6 & 4\\end{matrix}\\right]$"
      ],
      "text/plain": [
       "Matrix([\n",
       "[1, 2, 3],\n",
       "[1, 5, 2],\n",
       "[3, 6, 4]])"
      ]
     },
     "execution_count": 9,
     "metadata": {
     },
     "output_type": "execute_result"
    }
   ],
   "source": [
    "M = sym.Matrix([[1,2],[3,4]])\n",
    "v = sym.Matrix([1,2])\n",
    "\n",
    "#We can add rows and columns. We need to be careful to store these as M, if we want to update M\n",
    "M = M.col_insert(1,sym.Matrix([[5],[6]]))\n",
    "M = M.row_insert(0,sym.Matrix([[1,2,3]]))\n",
    "M"
   ]
  },
  {
   "cell_type": "markdown",
   "metadata": {
    "collapsed": false
   },
   "source": [
    "Unlike numpy, matrix operations in sympy are the standard math definitions."
   ]
  },
  {
   "cell_type": "code",
   "execution_count": 40,
   "metadata": {
    "collapsed": false
   },
   "outputs": [
    {
     "data": {
      "text/latex": [
       "$\\displaystyle \\left[\\begin{matrix}2 & 3\\\\4 & 5\\end{matrix}\\right]$"
      ],
      "text/plain": [
       "Matrix([\n",
       "[2, 3],\n",
       "[4, 5]])"
      ]
     },
     "execution_count": 40,
     "metadata": {
     },
     "output_type": "execute_result"
    }
   ],
   "source": [
    "#Operations with matrices\n",
    "M = sym.Matrix([[1,2],[3,4]])\n",
    "N = sym.Matrix([[1,1],[1,1]])\n",
    "v = sym.Matrix([1,2])\n",
    "\n",
    "#Add matrices\n",
    "M+N"
   ]
  },
  {
   "cell_type": "code",
   "execution_count": 11,
   "metadata": {
    "collapsed": false
   },
   "outputs": [
    {
     "data": {
      "text/latex": [
       "$\\displaystyle \\left[\\begin{matrix}3 & 3\\\\7 & 7\\end{matrix}\\right]$"
      ],
      "text/plain": [
       "Matrix([\n",
       "[3, 3],\n",
       "[7, 7]])"
      ]
     },
     "execution_count": 11,
     "metadata": {
     },
     "output_type": "execute_result"
    }
   ],
   "source": [
    "#Multiply matrices\n",
    "M*N"
   ]
  },
  {
   "cell_type": "code",
   "execution_count": 12,
   "metadata": {
    "collapsed": false
   },
   "outputs": [
    {
     "data": {
      "text/latex": [
       "$\\displaystyle \\left[\\begin{matrix}37 & 54\\\\81 & 118\\end{matrix}\\right]$"
      ],
      "text/plain": [
       "Matrix([\n",
       "[37,  54],\n",
       "[81, 118]])"
      ]
     },
     "execution_count": 12,
     "metadata": {
     },
     "output_type": "execute_result"
    }
   ],
   "source": [
    "#Repeated Multiplication\n",
    "M**3"
   ]
  },
  {
   "cell_type": "code",
   "execution_count": 13,
   "metadata": {
    "collapsed": false
   },
   "outputs": [
    {
     "data": {
      "text/latex": [
       "$\\displaystyle \\left[\\begin{matrix}-2 & 1\\\\\\frac{3}{2} & - \\frac{1}{2}\\end{matrix}\\right]$"
      ],
      "text/plain": [
       "Matrix([\n",
       "[ -2,    1],\n",
       "[3/2, -1/2]])"
      ]
     },
     "execution_count": 13,
     "metadata": {
     },
     "output_type": "execute_result"
    }
   ],
   "source": [
    "#Inverse of matrices\n",
    "M**-1"
   ]
  },
  {
   "cell_type": "markdown",
   "metadata": {
    "collapsed": false
   },
   "source": [
    "If we try taking the inverse of a singular matrix, we get an error as expected."
   ]
  },
  {
   "cell_type": "code",
   "execution_count": 14,
   "metadata": {
    "collapsed": false
   },
   "outputs": [
    {
     "ename": "NonInvertibleMatrixError",
     "evalue": "Matrix det == 0; not invertible.",
     "output_type": "error",
     "traceback": [
      "\u001b[0;31m---------------------------------------------------------------------------\u001b[0m",
      "\u001b[0;31mNonInvertibleMatrixError\u001b[0m                  Traceback (most recent call last)",
      "\u001b[0;32m/tmp/ipykernel_809/4171537326.py\u001b[0m in \u001b[0;36m<cell line: 1>\u001b[0;34m()\u001b[0m\n\u001b[0;32m----> 1\u001b[0;31m \u001b[0mN\u001b[0m\u001b[0;34m**\u001b[0m\u001b[0;34m-\u001b[0m\u001b[0;36m1\u001b[0m\u001b[0;34m\u001b[0m\u001b[0;34m\u001b[0m\u001b[0m\n\u001b[0m",
      "\u001b[0;32m/usr/lib/python3/dist-packages/sympy/core/decorators.py\u001b[0m in \u001b[0;36mbinary_op_wrapper\u001b[0;34m(self, other)\u001b[0m\n\u001b[1;32m    134\u001b[0m                     \u001b[0;32mif\u001b[0m \u001b[0mf\u001b[0m \u001b[0;32mis\u001b[0m \u001b[0;32mnot\u001b[0m \u001b[0;32mNone\u001b[0m\u001b[0;34m:\u001b[0m\u001b[0;34m\u001b[0m\u001b[0;34m\u001b[0m\u001b[0m\n\u001b[1;32m    135\u001b[0m                         \u001b[0;32mreturn\u001b[0m \u001b[0mf\u001b[0m\u001b[0;34m(\u001b[0m\u001b[0mself\u001b[0m\u001b[0;34m)\u001b[0m\u001b[0;34m\u001b[0m\u001b[0;34m\u001b[0m\u001b[0m\n\u001b[0;32m--> 136\u001b[0;31m             \u001b[0;32mreturn\u001b[0m \u001b[0mfunc\u001b[0m\u001b[0;34m(\u001b[0m\u001b[0mself\u001b[0m\u001b[0;34m,\u001b[0m \u001b[0mother\u001b[0m\u001b[0;34m)\u001b[0m\u001b[0;34m\u001b[0m\u001b[0;34m\u001b[0m\u001b[0m\n\u001b[0m\u001b[1;32m    137\u001b[0m         \u001b[0;32mreturn\u001b[0m \u001b[0mbinary_op_wrapper\u001b[0m\u001b[0;34m\u001b[0m\u001b[0;34m\u001b[0m\u001b[0m\n\u001b[1;32m    138\u001b[0m     \u001b[0;32mreturn\u001b[0m \u001b[0mpriority_decorator\u001b[0m\u001b[0;34m\u001b[0m\u001b[0;34m\u001b[0m\u001b[0m\n",
      "\u001b[0;32m/usr/lib/python3/dist-packages/sympy/matrices/common.py\u001b[0m in \u001b[0;36m__pow__\u001b[0;34m(self, exp)\u001b[0m\n\u001b[1;32m   2839\u001b[0m         \u001b[0;34m\"\"\"Return self**exp a scalar or symbol.\"\"\"\u001b[0m\u001b[0;34m\u001b[0m\u001b[0;34m\u001b[0m\u001b[0m\n\u001b[1;32m   2840\u001b[0m \u001b[0;34m\u001b[0m\u001b[0m\n\u001b[0;32m-> 2841\u001b[0;31m         \u001b[0;32mreturn\u001b[0m \u001b[0mself\u001b[0m\u001b[0;34m.\u001b[0m\u001b[0mpow\u001b[0m\u001b[0;34m(\u001b[0m\u001b[0mexp\u001b[0m\u001b[0;34m)\u001b[0m\u001b[0;34m\u001b[0m\u001b[0;34m\u001b[0m\u001b[0m\n\u001b[0m\u001b[1;32m   2842\u001b[0m \u001b[0;34m\u001b[0m\u001b[0m\n\u001b[1;32m   2843\u001b[0m \u001b[0;34m\u001b[0m\u001b[0m\n",
      "\u001b[0;32m/usr/lib/python3/dist-packages/sympy/matrices/common.py\u001b[0m in \u001b[0;36mpow\u001b[0;34m(self, exp, method)\u001b[0m\n\u001b[1;32m   2883\u001b[0m             \u001b[0;32mif\u001b[0m \u001b[0mexp\u001b[0m \u001b[0;34m<\u001b[0m \u001b[0;36m0\u001b[0m\u001b[0;34m:\u001b[0m\u001b[0;34m\u001b[0m\u001b[0;34m\u001b[0m\u001b[0m\n\u001b[1;32m   2884\u001b[0m                 \u001b[0mexp\u001b[0m \u001b[0;34m=\u001b[0m \u001b[0;34m-\u001b[0m\u001b[0mexp\u001b[0m\u001b[0;34m\u001b[0m\u001b[0;34m\u001b[0m\u001b[0m\n\u001b[0;32m-> 2885\u001b[0;31m                 \u001b[0ma\u001b[0m \u001b[0;34m=\u001b[0m \u001b[0ma\u001b[0m\u001b[0;34m.\u001b[0m\u001b[0minv\u001b[0m\u001b[0;34m(\u001b[0m\u001b[0;34m)\u001b[0m\u001b[0;34m\u001b[0m\u001b[0;34m\u001b[0m\u001b[0m\n\u001b[0m\u001b[1;32m   2886\u001b[0m         \u001b[0;31m# When certain conditions are met,\u001b[0m\u001b[0;34m\u001b[0m\u001b[0;34m\u001b[0m\u001b[0m\n\u001b[1;32m   2887\u001b[0m         \u001b[0;31m# Jordan block algorithm is faster than\u001b[0m\u001b[0;34m\u001b[0m\u001b[0;34m\u001b[0m\u001b[0m\n",
      "\u001b[0;32m/usr/lib/python3/dist-packages/sympy/matrices/matrices.py\u001b[0m in \u001b[0;36minv\u001b[0;34m(self, method, iszerofunc, try_block_diag)\u001b[0m\n\u001b[1;32m   2221\u001b[0m \u001b[0;34m\u001b[0m\u001b[0m\n\u001b[1;32m   2222\u001b[0m     \u001b[0;32mdef\u001b[0m \u001b[0minv\u001b[0m\u001b[0;34m(\u001b[0m\u001b[0mself\u001b[0m\u001b[0;34m,\u001b[0m \u001b[0mmethod\u001b[0m\u001b[0;34m=\u001b[0m\u001b[0;32mNone\u001b[0m\u001b[0;34m,\u001b[0m \u001b[0miszerofunc\u001b[0m\u001b[0;34m=\u001b[0m\u001b[0m_iszero\u001b[0m\u001b[0;34m,\u001b[0m \u001b[0mtry_block_diag\u001b[0m\u001b[0;34m=\u001b[0m\u001b[0;32mFalse\u001b[0m\u001b[0;34m)\u001b[0m\u001b[0;34m:\u001b[0m\u001b[0;34m\u001b[0m\u001b[0;34m\u001b[0m\u001b[0m\n\u001b[0;32m-> 2223\u001b[0;31m         return _inv(self, method=method, iszerofunc=iszerofunc,\n\u001b[0m\u001b[1;32m   2224\u001b[0m                 try_block_diag=try_block_diag)\n\u001b[1;32m   2225\u001b[0m \u001b[0;34m\u001b[0m\u001b[0m\n",
      "\u001b[0;32m/usr/lib/python3/dist-packages/sympy/matrices/inverse.py\u001b[0m in \u001b[0;36m_inv\u001b[0;34m(M, method, iszerofunc, try_block_diag)\u001b[0m\n\u001b[1;32m    457\u001b[0m \u001b[0;34m\u001b[0m\u001b[0m\n\u001b[1;32m    458\u001b[0m     \u001b[0;32mif\u001b[0m \u001b[0mmethod\u001b[0m \u001b[0;34m==\u001b[0m \u001b[0;34m\"GE\"\u001b[0m\u001b[0;34m:\u001b[0m\u001b[0;34m\u001b[0m\u001b[0;34m\u001b[0m\u001b[0m\n\u001b[0;32m--> 459\u001b[0;31m         \u001b[0mrv\u001b[0m \u001b[0;34m=\u001b[0m \u001b[0mM\u001b[0m\u001b[0;34m.\u001b[0m\u001b[0minverse_GE\u001b[0m\u001b[0;34m(\u001b[0m\u001b[0miszerofunc\u001b[0m\u001b[0;34m=\u001b[0m\u001b[0miszerofunc\u001b[0m\u001b[0;34m)\u001b[0m\u001b[0;34m\u001b[0m\u001b[0;34m\u001b[0m\u001b[0m\n\u001b[0m\u001b[1;32m    460\u001b[0m     \u001b[0;32melif\u001b[0m \u001b[0mmethod\u001b[0m \u001b[0;34m==\u001b[0m \u001b[0;34m\"LU\"\u001b[0m\u001b[0;34m:\u001b[0m\u001b[0;34m\u001b[0m\u001b[0;34m\u001b[0m\u001b[0m\n\u001b[1;32m    461\u001b[0m         \u001b[0mrv\u001b[0m \u001b[0;34m=\u001b[0m \u001b[0mM\u001b[0m\u001b[0;34m.\u001b[0m\u001b[0minverse_LU\u001b[0m\u001b[0;34m(\u001b[0m\u001b[0miszerofunc\u001b[0m\u001b[0;34m=\u001b[0m\u001b[0miszerofunc\u001b[0m\u001b[0;34m)\u001b[0m\u001b[0;34m\u001b[0m\u001b[0;34m\u001b[0m\u001b[0m\n",
      "\u001b[0;32m/usr/lib/python3/dist-packages/sympy/matrices/matrices.py\u001b[0m in \u001b[0;36minverse_GE\u001b[0;34m(self, iszerofunc)\u001b[0m\n\u001b[1;32m   2206\u001b[0m \u001b[0;34m\u001b[0m\u001b[0m\n\u001b[1;32m   2207\u001b[0m     \u001b[0;32mdef\u001b[0m \u001b[0minverse_GE\u001b[0m\u001b[0;34m(\u001b[0m\u001b[0mself\u001b[0m\u001b[0;34m,\u001b[0m \u001b[0miszerofunc\u001b[0m\u001b[0;34m=\u001b[0m\u001b[0m_iszero\u001b[0m\u001b[0;34m)\u001b[0m\u001b[0;34m:\u001b[0m\u001b[0;34m\u001b[0m\u001b[0;34m\u001b[0m\u001b[0m\n\u001b[0;32m-> 2208\u001b[0;31m         \u001b[0;32mreturn\u001b[0m \u001b[0m_inv_GE\u001b[0m\u001b[0;34m(\u001b[0m\u001b[0mself\u001b[0m\u001b[0;34m,\u001b[0m \u001b[0miszerofunc\u001b[0m\u001b[0;34m=\u001b[0m\u001b[0miszerofunc\u001b[0m\u001b[0;34m)\u001b[0m\u001b[0;34m\u001b[0m\u001b[0;34m\u001b[0m\u001b[0m\n\u001b[0m\u001b[1;32m   2209\u001b[0m \u001b[0;34m\u001b[0m\u001b[0m\n\u001b[1;32m   2210\u001b[0m     \u001b[0;32mdef\u001b[0m \u001b[0minverse_LU\u001b[0m\u001b[0;34m(\u001b[0m\u001b[0mself\u001b[0m\u001b[0;34m,\u001b[0m \u001b[0miszerofunc\u001b[0m\u001b[0;34m=\u001b[0m\u001b[0m_iszero\u001b[0m\u001b[0;34m)\u001b[0m\u001b[0;34m:\u001b[0m\u001b[0;34m\u001b[0m\u001b[0;34m\u001b[0m\u001b[0m\n",
      "\u001b[0;32m/usr/lib/python3/dist-packages/sympy/matrices/inverse.py\u001b[0m in \u001b[0;36m_inv_GE\u001b[0;34m(M, iszerofunc)\u001b[0m\n\u001b[1;32m    243\u001b[0m \u001b[0;34m\u001b[0m\u001b[0m\n\u001b[1;32m    244\u001b[0m     \u001b[0;32mif\u001b[0m \u001b[0many\u001b[0m\u001b[0;34m(\u001b[0m\u001b[0miszerofunc\u001b[0m\u001b[0;34m(\u001b[0m\u001b[0mred\u001b[0m\u001b[0;34m[\u001b[0m\u001b[0mj\u001b[0m\u001b[0;34m,\u001b[0m \u001b[0mj\u001b[0m\u001b[0;34m]\u001b[0m\u001b[0;34m)\u001b[0m \u001b[0;32mfor\u001b[0m \u001b[0mj\u001b[0m \u001b[0;32min\u001b[0m \u001b[0mrange\u001b[0m\u001b[0;34m(\u001b[0m\u001b[0mred\u001b[0m\u001b[0;34m.\u001b[0m\u001b[0mrows\u001b[0m\u001b[0;34m)\u001b[0m\u001b[0;34m)\u001b[0m\u001b[0;34m:\u001b[0m\u001b[0;34m\u001b[0m\u001b[0;34m\u001b[0m\u001b[0m\n\u001b[0;32m--> 245\u001b[0;31m         \u001b[0;32mraise\u001b[0m \u001b[0mNonInvertibleMatrixError\u001b[0m\u001b[0;34m(\u001b[0m\u001b[0;34m\"Matrix det == 0; not invertible.\"\u001b[0m\u001b[0;34m)\u001b[0m\u001b[0;34m\u001b[0m\u001b[0;34m\u001b[0m\u001b[0m\n\u001b[0m\u001b[1;32m    246\u001b[0m \u001b[0;34m\u001b[0m\u001b[0m\n\u001b[1;32m    247\u001b[0m     \u001b[0;32mreturn\u001b[0m \u001b[0mM\u001b[0m\u001b[0;34m.\u001b[0m\u001b[0m_new\u001b[0m\u001b[0;34m(\u001b[0m\u001b[0mred\u001b[0m\u001b[0;34m[\u001b[0m\u001b[0;34m:\u001b[0m\u001b[0;34m,\u001b[0m \u001b[0mbig\u001b[0m\u001b[0;34m.\u001b[0m\u001b[0mrows\u001b[0m\u001b[0;34m:\u001b[0m\u001b[0;34m]\u001b[0m\u001b[0;34m)\u001b[0m\u001b[0;34m\u001b[0m\u001b[0;34m\u001b[0m\u001b[0m\n",
      "\u001b[0;31mNonInvertibleMatrixError\u001b[0m: Matrix det == 0; not invertible."
     ]
    }
   ],
   "source": [
    "N**-1"
   ]
  },
  {
   "cell_type": "markdown",
   "metadata": {
    "collapsed": false
   },
   "source": [
    "sympy also supports more complicated matrix operations!"
   ]
  },
  {
   "cell_type": "code",
   "execution_count": 42,
   "metadata": {
    "collapsed": false
   },
   "outputs": [
    {
     "data": {
      "text/latex": [
       "$\\displaystyle \\left[\\begin{matrix}\\frac{2 \\left(\\frac{5}{2} + \\frac{\\sqrt{33}}{2}\\right)^{0.25}}{\\left(- \\frac{\\sqrt{33}}{2} - \\frac{3}{2}\\right) \\left(- \\frac{2}{- \\frac{3}{2} + \\frac{\\sqrt{33}}{2}} + \\frac{2}{- \\frac{\\sqrt{33}}{2} - \\frac{3}{2}}\\right)} - \\frac{2 \\left(-21 + 3 \\sqrt{33}\\right) \\left(\\frac{5}{2} - \\frac{\\sqrt{33}}{2}\\right)^{0.25}}{\\left(-33 + 7 \\sqrt{33}\\right) \\left(- \\frac{3}{2} + \\frac{\\sqrt{33}}{2}\\right)} & \\frac{8 \\left(\\frac{5}{2} + \\frac{\\sqrt{33}}{2}\\right)^{0.25}}{\\left(-11 + \\sqrt{33}\\right) \\left(- \\frac{\\sqrt{33}}{2} - \\frac{3}{2}\\right)} - \\frac{4 \\left(\\frac{5}{2} - \\frac{\\sqrt{33}}{2}\\right)^{0.25}}{\\left(- \\frac{3}{2} + \\frac{\\sqrt{33}}{2}\\right) \\left(2 + \\frac{12}{\\frac{21}{2} - \\frac{3 \\sqrt{33}}{2}}\\right)}\\\\- \\frac{\\left(\\frac{5}{2} + \\frac{\\sqrt{33}}{2}\\right)^{0.25}}{- \\frac{2}{- \\frac{3}{2} + \\frac{\\sqrt{33}}{2}} + \\frac{2}{- \\frac{\\sqrt{33}}{2} - \\frac{3}{2}}} + \\frac{\\left(-21 + 3 \\sqrt{33}\\right) \\left(\\frac{5}{2} - \\frac{\\sqrt{33}}{2}\\right)^{0.25}}{-33 + 7 \\sqrt{33}} & - \\frac{4 \\left(\\frac{5}{2} + \\frac{\\sqrt{33}}{2}\\right)^{0.25}}{-11 + \\sqrt{33}} + \\frac{2 \\left(\\frac{5}{2} - \\frac{\\sqrt{33}}{2}\\right)^{0.25}}{2 + \\frac{12}{\\frac{21}{2} - \\frac{3 \\sqrt{33}}{2}}}\\end{matrix}\\right]$"
      ],
      "text/plain": [
       "Matrix([\n",
       "[2*(5/2 + sqrt(33)/2)**0.25/((-sqrt(33)/2 - 3/2)*(-2/(-3/2 + sqrt(33)/2) + 2/(-sqrt(33)/2 - 3/2))) - 2*(-21 + 3*sqrt(33))*(5/2 - sqrt(33)/2)**0.25/((-33 + 7*sqrt(33))*(-3/2 + sqrt(33)/2)), 8*(5/2 + sqrt(33)/2)**0.25/((-11 + sqrt(33))*(-sqrt(33)/2 - 3/2)) - 4*(5/2 - sqrt(33)/2)**0.25/((-3/2 + sqrt(33)/2)*(2 + 12/(21/2 - 3*sqrt(33)/2)))],\n",
       "[                                               -(5/2 + sqrt(33)/2)**0.25/(-2/(-3/2 + sqrt(33)/2) + 2/(-sqrt(33)/2 - 3/2)) + (-21 + 3*sqrt(33))*(5/2 - sqrt(33)/2)**0.25/(-33 + 7*sqrt(33)),                                            -4*(5/2 + sqrt(33)/2)**0.25/(-11 + sqrt(33)) + 2*(5/2 - sqrt(33)/2)**0.25/(2 + 12/(21/2 - 3*sqrt(33)/2))]])"
      ]
     },
     "execution_count": 42,
     "metadata": {
     },
     "output_type": "execute_result"
    }
   ],
   "source": [
    "#sympy supports matrix roots\n",
    "M**(1/4)"
   ]
  },
  {
   "cell_type": "code",
   "execution_count": 43,
   "metadata": {
    "collapsed": false
   },
   "outputs": [
    {
     "data": {
      "text/latex": [
       "$\\displaystyle \\left[\\begin{matrix}- \\frac{2 \\left(-21 + 3 \\sqrt{33}\\right)}{\\left(-33 + 7 \\sqrt{33}\\right) \\left(- \\frac{3}{2} + \\frac{\\sqrt{33}}{2}\\right) e^{- \\frac{5}{2} + \\frac{\\sqrt{33}}{2}}} + \\frac{2 e^{\\frac{5}{2} + \\frac{\\sqrt{33}}{2}}}{\\left(- \\frac{\\sqrt{33}}{2} - \\frac{3}{2}\\right) \\left(- \\frac{2}{- \\frac{3}{2} + \\frac{\\sqrt{33}}{2}} + \\frac{2}{- \\frac{\\sqrt{33}}{2} - \\frac{3}{2}}\\right)} & - \\frac{4}{\\left(- \\frac{3}{2} + \\frac{\\sqrt{33}}{2}\\right) \\left(2 + \\frac{12}{\\frac{21}{2} - \\frac{3 \\sqrt{33}}{2}}\\right) e^{- \\frac{5}{2} + \\frac{\\sqrt{33}}{2}}} + \\frac{8 e^{\\frac{5}{2} + \\frac{\\sqrt{33}}{2}}}{\\left(-11 + \\sqrt{33}\\right) \\left(- \\frac{\\sqrt{33}}{2} - \\frac{3}{2}\\right)}\\\\\\frac{-21 + 3 \\sqrt{33}}{\\left(-33 + 7 \\sqrt{33}\\right) e^{- \\frac{5}{2} + \\frac{\\sqrt{33}}{2}}} - \\frac{e^{\\frac{5}{2} + \\frac{\\sqrt{33}}{2}}}{- \\frac{2}{- \\frac{3}{2} + \\frac{\\sqrt{33}}{2}} + \\frac{2}{- \\frac{\\sqrt{33}}{2} - \\frac{3}{2}}} & \\frac{2}{\\left(2 + \\frac{12}{\\frac{21}{2} - \\frac{3 \\sqrt{33}}{2}}\\right) e^{- \\frac{5}{2} + \\frac{\\sqrt{33}}{2}}} - \\frac{4 e^{\\frac{5}{2} + \\frac{\\sqrt{33}}{2}}}{-11 + \\sqrt{33}}\\end{matrix}\\right]$"
      ],
      "text/plain": [
       "Matrix([\n",
       "[-2*(-21 + 3*sqrt(33))*exp(5/2 - sqrt(33)/2)/((-33 + 7*sqrt(33))*(-3/2 + sqrt(33)/2)) + 2*exp(5/2 + sqrt(33)/2)/((-sqrt(33)/2 - 3/2)*(-2/(-3/2 + sqrt(33)/2) + 2/(-sqrt(33)/2 - 3/2))), -4*exp(5/2 - sqrt(33)/2)/((-3/2 + sqrt(33)/2)*(2 + 12/(21/2 - 3*sqrt(33)/2))) + 8*exp(5/2 + sqrt(33)/2)/((-11 + sqrt(33))*(-sqrt(33)/2 - 3/2))],\n",
       "[                                                 (-21 + 3*sqrt(33))*exp(5/2 - sqrt(33)/2)/(-33 + 7*sqrt(33)) - exp(5/2 + sqrt(33)/2)/(-2/(-3/2 + sqrt(33)/2) + 2/(-sqrt(33)/2 - 3/2)),                                              2*exp(5/2 - sqrt(33)/2)/(2 + 12/(21/2 - 3*sqrt(33)/2)) - 4*exp(5/2 + sqrt(33)/2)/(-11 + sqrt(33))]])"
      ]
     },
     "execution_count": 43,
     "metadata": {
     },
     "output_type": "execute_result"
    }
   ],
   "source": [
    "#sympy supports matrix exponentials!\n",
    "sym.exp(M)"
   ]
  },
  {
   "cell_type": "markdown",
   "metadata": {
    "collapsed": false
   },
   "source": [
    "sympy can create common matrix types."
   ]
  },
  {
   "cell_type": "code",
   "execution_count": 18,
   "metadata": {
    "collapsed": false
   },
   "outputs": [
    {
     "data": {
      "text/latex": [
       "$\\displaystyle \\left[\\begin{matrix}1 & 0 & 0 & 0 & 0\\\\0 & 1 & 0 & 0 & 0\\\\0 & 0 & 1 & 0 & 0\\\\0 & 0 & 0 & 1 & 0\\\\0 & 0 & 0 & 0 & 1\\end{matrix}\\right]$"
      ],
      "text/plain": [
       "Matrix([\n",
       "[1, 0, 0, 0, 0],\n",
       "[0, 1, 0, 0, 0],\n",
       "[0, 0, 1, 0, 0],\n",
       "[0, 0, 0, 1, 0],\n",
       "[0, 0, 0, 0, 1]])"
      ]
     },
     "execution_count": 18,
     "metadata": {
     },
     "output_type": "execute_result"
    }
   ],
   "source": [
    "#Identity Matrix\n",
    "sym.eye(5)"
   ]
  },
  {
   "cell_type": "code",
   "execution_count": 19,
   "metadata": {
    "collapsed": false
   },
   "outputs": [
    {
     "data": {
      "text/latex": [
       "$\\displaystyle \\left[\\begin{matrix}0 & 0 & 0 & 0\\\\0 & 0 & 0 & 0\\\\0 & 0 & 0 & 0\\end{matrix}\\right]$"
      ],
      "text/plain": [
       "Matrix([\n",
       "[0, 0, 0, 0],\n",
       "[0, 0, 0, 0],\n",
       "[0, 0, 0, 0]])"
      ]
     },
     "execution_count": 19,
     "metadata": {
     },
     "output_type": "execute_result"
    }
   ],
   "source": [
    "#Matrix of all zeros\n",
    "sym.zeros(3,4)"
   ]
  },
  {
   "cell_type": "code",
   "execution_count": 20,
   "metadata": {
    "collapsed": false
   },
   "outputs": [
    {
     "data": {
      "text/latex": [
       "$\\displaystyle \\left[\\begin{matrix}1 & 1 & 1\\\\1 & 1 & 1\\\\1 & 1 & 1\\\\1 & 1 & 1\\end{matrix}\\right]$"
      ],
      "text/plain": [
       "Matrix([\n",
       "[1, 1, 1],\n",
       "[1, 1, 1],\n",
       "[1, 1, 1],\n",
       "[1, 1, 1]])"
      ]
     },
     "execution_count": 20,
     "metadata": {
     },
     "output_type": "execute_result"
    }
   ],
   "source": [
    "#Matrix of all 1s\n",
    "sym.ones(4,3)"
   ]
  },
  {
   "cell_type": "code",
   "execution_count": 21,
   "metadata": {
    "collapsed": false
   },
   "outputs": [
    {
     "data": {
      "text/latex": [
       "$\\displaystyle \\left[\\begin{matrix}2 & 0 & 0 & 0\\\\0 & 3 & 0 & 0\\\\0 & 0 & 4 & 0\\\\0 & 0 & 0 & 5\\end{matrix}\\right]$"
      ],
      "text/plain": [
       "Matrix([\n",
       "[2, 0, 0, 0],\n",
       "[0, 3, 0, 0],\n",
       "[0, 0, 4, 0],\n",
       "[0, 0, 0, 5]])"
      ]
     },
     "execution_count": 21,
     "metadata": {
     },
     "output_type": "execute_result"
    }
   ],
   "source": [
    "#Diagonal Matrix\n",
    "sym.diag(2,3,4,5)"
   ]
  },
  {
   "cell_type": "code",
   "execution_count": 45,
   "metadata": {
    "collapsed": false
   },
   "outputs": [
    {
     "data": {
      "text/latex": [
       "$\\displaystyle \\left[\\begin{matrix}1 & 2 & 0 & 0 & 0 & 0\\\\3 & 4 & 0 & 0 & 0 & 0\\\\0 & 0 & 1 & 2 & 0 & 0\\\\0 & 0 & 3 & 4 & 0 & 0\\\\0 & 0 & 0 & 0 & 1 & 1\\\\0 & 0 & 0 & 0 & 1 & 1\\end{matrix}\\right]$"
      ],
      "text/plain": [
       "Matrix([\n",
       "[1, 2, 0, 0, 0, 0],\n",
       "[3, 4, 0, 0, 0, 0],\n",
       "[0, 0, 1, 2, 0, 0],\n",
       "[0, 0, 3, 4, 0, 0],\n",
       "[0, 0, 0, 0, 1, 1],\n",
       "[0, 0, 0, 0, 1, 1]])"
      ]
     },
     "execution_count": 45,
     "metadata": {
     },
     "output_type": "execute_result"
    }
   ],
   "source": [
    "#Block diagonal matrix\n",
    "D = sym.diag(M,M,N)\n",
    "D"
   ]
  },
  {
   "cell_type": "markdown",
   "metadata": {
    "collapsed": false
   },
   "source": [
    "sympy supports some common matrix operations."
   ]
  },
  {
   "cell_type": "code",
   "execution_count": 23,
   "metadata": {
    "collapsed": false
   },
   "outputs": [
    {
     "name": "stdout",
     "output_type": "stream",
     "text": [
      "-2\n",
      "0\n"
     ]
    }
   ],
   "source": [
    "#Take the determinant\n",
    "print(M.det())\n",
    "print(N.det())"
   ]
  },
  {
   "cell_type": "code",
   "execution_count": 46,
   "metadata": {
    "collapsed": false
   },
   "outputs": [
    {
     "data": {
      "text/plain": [
       "(Matrix([\n",
       " [1, 0],\n",
       " [0, 1]]),\n",
       " (0, 1))"
      ]
     },
     "execution_count": 46,
     "metadata": {
     },
     "output_type": "execute_result"
    }
   ],
   "source": [
    "#Get the RREF\n",
    "#The first element of the tuple is the RREF, the second is a tuple of pivot columns\n",
    "M.rref()"
   ]
  },
  {
   "cell_type": "code",
   "execution_count": 25,
   "metadata": {
    "collapsed": false
   },
   "outputs": [
    {
     "data": {
      "text/plain": [
       "[Matrix([\n",
       " [-1],\n",
       " [ 1]])]"
      ]
     },
     "execution_count": 25,
     "metadata": {
     },
     "output_type": "execute_result"
    }
   ],
   "source": [
    "#This returns a basis for the nullspace\n",
    "N.nullspace()"
   ]
  },
  {
   "cell_type": "code",
   "execution_count": 48,
   "metadata": {
    "collapsed": false
   },
   "outputs": [
    {
     "data": {
      "text/plain": [
       "[Matrix([\n",
       " [1],\n",
       " [3]]),\n",
       " Matrix([\n",
       " [2],\n",
       " [4]])]"
      ]
     },
     "execution_count": 48,
     "metadata": {
     },
     "output_type": "execute_result"
    }
   ],
   "source": [
    "#Basis for the column space\n",
    "M.columnspace()"
   ]
  },
  {
   "cell_type": "code",
   "execution_count": 47,
   "metadata": {
    "collapsed": false
   },
   "outputs": [
    {
     "data": {
      "text/plain": [
       "[Matrix([[1, 2]]), Matrix([[0, -2]])]"
      ]
     },
     "execution_count": 47,
     "metadata": {
     },
     "output_type": "execute_result"
    }
   ],
   "source": [
    "#Basis for the row space\n",
    "M.rowspace()"
   ]
  },
  {
   "cell_type": "code",
   "execution_count": 27,
   "metadata": {
    "collapsed": false
   },
   "outputs": [
    {
     "data": {
      "text/plain": [
       "{5/2 - sqrt(33)/2: 2, 5/2 + sqrt(33)/2: 2, 2: 1, 0: 1}"
      ]
     },
     "execution_count": 27,
     "metadata": {
     },
     "output_type": "execute_result"
    }
   ],
   "source": [
    "#Get the eigenvalues with multiplicity\n",
    "D.eigenvals()"
   ]
  },
  {
   "cell_type": "code",
   "execution_count": 28,
   "metadata": {
    "collapsed": false
   },
   "outputs": [
    {
     "data": {
      "text/plain": [
       "[(0,\n",
       "  1,\n",
       "  [Matrix([\n",
       "   [ 0],\n",
       "   [ 0],\n",
       "   [ 0],\n",
       "   [ 0],\n",
       "   [-1],\n",
       "   [ 1]])]),\n",
       " (2,\n",
       "  1,\n",
       "  [Matrix([\n",
       "   [0],\n",
       "   [0],\n",
       "   [0],\n",
       "   [0],\n",
       "   [1],\n",
       "   [1]])]),\n",
       " (5/2 - sqrt(33)/2,\n",
       "  2,\n",
       "  [Matrix([\n",
       "   [-sqrt(33)/6 - 1/2],\n",
       "   [                1],\n",
       "   [                0],\n",
       "   [                0],\n",
       "   [                0],\n",
       "   [                0]]),\n",
       "   Matrix([\n",
       "   [                0],\n",
       "   [                0],\n",
       "   [-sqrt(33)/6 - 1/2],\n",
       "   [                1],\n",
       "   [                0],\n",
       "   [                0]])]),\n",
       " (5/2 + sqrt(33)/2,\n",
       "  2,\n",
       "  [Matrix([\n",
       "   [-1/2 + sqrt(33)/6],\n",
       "   [                1],\n",
       "   [                0],\n",
       "   [                0],\n",
       "   [                0],\n",
       "   [                0]]),\n",
       "   Matrix([\n",
       "   [                0],\n",
       "   [                0],\n",
       "   [-1/2 + sqrt(33)/6],\n",
       "   [                1],\n",
       "   [                0],\n",
       "   [                0]])])]"
      ]
     },
     "execution_count": 28,
     "metadata": {
     },
     "output_type": "execute_result"
    }
   ],
   "source": [
    "#Output gives eigenvalue, multiplicity, and a basis for the corresponding eigenspace\n",
    "D.eigenvects()"
   ]
  },
  {
   "cell_type": "code",
   "execution_count": 29,
   "metadata": {
    "collapsed": false
   },
   "outputs": [
    {
     "data": {
      "text/latex": [
       "$\\displaystyle 12$"
      ],
      "text/plain": [
       "12"
      ]
     },
     "execution_count": 29,
     "metadata": {
     },
     "output_type": "execute_result"
    }
   ],
   "source": [
    "#Get the trace\n",
    "D.trace()"
   ]
  },
  {
   "cell_type": "code",
   "execution_count": 30,
   "metadata": {
    "collapsed": false
   },
   "outputs": [
    {
     "data": {
      "text/plain": [
       "(Matrix([\n",
       " [-sqrt(33)/6 - 1/2, -1/2 + sqrt(33)/6],\n",
       " [                1,                 1]]),\n",
       " Matrix([\n",
       " [5/2 - sqrt(33)/2,                0],\n",
       " [               0, 5/2 + sqrt(33)/2]]))"
      ]
     },
     "execution_count": 30,
     "metadata": {
     },
     "output_type": "execute_result"
    }
   ],
   "source": [
    "#We can get the S and D matrices when diagonalizing M\n",
    "M.diagonalize()"
   ]
  },
  {
   "cell_type": "code",
   "execution_count": 50,
   "metadata": {
    "collapsed": false
   },
   "outputs": [
    {
     "data": {
      "text/plain": [
       "([Matrix([\n",
       "  [-sqrt(33)/6 - 1/2],\n",
       "  [                1]])],\n",
       " [Matrix([\n",
       "  [-1/2 + sqrt(33)/6],\n",
       "  [                1]])])"
      ]
     },
     "execution_count": 50,
     "metadata": {
     },
     "output_type": "execute_result"
    }
   ],
   "source": [
    "#Compare the S matrix to the eigenvectors\n",
    "M.eigenvects()[0][2],M.eigenvects()[1][2]"
   ]
  },
  {
   "cell_type": "markdown",
   "metadata": {
    "collapsed": false
   },
   "source": [
    "sympy can do matrix operations with symbols too."
   ]
  },
  {
   "cell_type": "code",
   "execution_count": 53,
   "metadata": {
    "collapsed": false
   },
   "outputs": [
    {
     "data": {
      "text/latex": [
       "$\\displaystyle \\left[\\begin{matrix}1 & 2 & 3\\\\4 & x & 5\\\\3 & y & z\\end{matrix}\\right]$"
      ],
      "text/plain": [
       "Matrix([\n",
       "[1, 2, 3],\n",
       "[4, x, 5],\n",
       "[3, y, z]])"
      ]
     },
     "execution_count": 53,
     "metadata": {
     },
     "output_type": "execute_result"
    }
   ],
   "source": [
    "x,y,z = sym.symbols('x y z')\n",
    "M = sym.Matrix([[1,2,3],[4,x,5],[3,y,z]])\n",
    "M"
   ]
  },
  {
   "cell_type": "code",
   "execution_count": 54,
   "metadata": {
    "collapsed": false
   },
   "outputs": [
    {
     "data": {
      "text/latex": [
       "$\\displaystyle x z - 9 x + 7 y - 8 z + 30$"
      ],
      "text/plain": [
       "x*z - 9*x + 7*y - 8*z + 30"
      ]
     },
     "execution_count": 54,
     "metadata": {
     },
     "output_type": "execute_result"
    }
   ],
   "source": [
    "eq = M.det()\n",
    "eq"
   ]
  },
  {
   "cell_type": "markdown",
   "metadata": {
    "collapsed": false
   },
   "source": [
    "We can find the set of $x,y,z$ values that cause the determinant be zero. Here, $x$ can be found in terms of $y,z$."
   ]
  },
  {
   "cell_type": "code",
   "execution_count": 55,
   "metadata": {
    "collapsed": false
   },
   "outputs": [
    {
     "data": {
      "text/latex": [
       "$\\displaystyle \\left\\{- \\frac{7 y - 8 z + 30}{z - 9}\\right\\}$"
      ],
      "text/plain": [
       "{-(7*y - 8*z + 30)/(z - 9)}"
      ]
     },
     "execution_count": 55,
     "metadata": {
     },
     "output_type": "execute_result"
    }
   ],
   "source": [
    "sym.solveset(eq,x)"
   ]
  },
  {
   "cell_type": "markdown",
   "metadata": {
    "collapsed": false
   },
   "source": [
    "sympy also supports vector calculus."
   ]
  },
  {
   "cell_type": "code",
   "execution_count": 34,
   "metadata": {
    "collapsed": false
   },
   "outputs": [
    {
     "data": {
      "text/latex": [
       "$\\displaystyle \\left[\\begin{matrix}0 & 0 & 0\\\\0 & 1 & 0\\\\0 & 0 & 0\\end{matrix}\\right]$"
      ],
      "text/plain": [
       "Matrix([\n",
       "[0, 0, 0],\n",
       "[0, 1, 0],\n",
       "[0, 0, 0]])"
      ]
     },
     "execution_count": 34,
     "metadata": {
     },
     "output_type": "execute_result"
    }
   ],
   "source": [
    "#sympy supports derivatives of matrices (as we see in vector calc)\n",
    "sym.diff(M,x)"
   ]
  },
  {
   "cell_type": "code",
   "execution_count": 35,
   "metadata": {
    "collapsed": false
   },
   "outputs": [
    {
     "data": {
      "text/latex": [
       "$\\displaystyle \\left[\\begin{matrix}x & 2 x & 3 x\\\\4 x & \\frac{x^{2}}{2} & 5 x\\\\3 x & x y & x z\\end{matrix}\\right]$"
      ],
      "text/plain": [
       "Matrix([\n",
       "[  x,    2*x, 3*x],\n",
       "[4*x, x**2/2, 5*x],\n",
       "[3*x,    x*y, x*z]])"
      ]
     },
     "execution_count": 35,
     "metadata": {
     },
     "output_type": "execute_result"
    }
   ],
   "source": [
    "#sympy also can integrate elementwise in a matrix\n",
    "sym.integrate(M,x)"
   ]
  },
  {
   "cell_type": "markdown",
   "metadata": {
    "collapsed": false
   },
   "source": [
    "One final warning. When working with the Greek character, $\\lambda$, we have to be careful. lambda is a function in Python, and we cannot call our variable lambda. Thankfully bad spelling can save the day."
   ]
  },
  {
   "cell_type": "code",
   "execution_count": 36,
   "metadata": {
    "collapsed": false
   },
   "outputs": [
    {
     "data": {
      "text/latex": [
       "$\\displaystyle \\lambda$"
      ],
      "text/plain": [
       "lamda"
      ]
     },
     "execution_count": 36,
     "metadata": {
     },
     "output_type": "execute_result"
    }
   ],
   "source": [
    "#lambda is for lambda functions in python\n",
    "f = lambda x: 3*x\n",
    "f(3)\n",
    "\n",
    "#This is lamda in sympy\n",
    "lamda = sym.symbols('lamda')\n",
    "lamda"
   ]
  }
 ],
 "metadata": {
  "kernelspec": {
   "argv": [
    "/usr/bin/python3",
    "-m",
    "ipykernel",
    "--HistoryManager.enabled=False",
    "--matplotlib=inline",
    "-c",
    "%config InlineBackend.figure_formats = set(['retina'])\nimport matplotlib; matplotlib.rcParams['figure.figsize'] = (12, 7)",
    "-f",
    "{connection_file}"
   ],
   "display_name": "Python 3 (system-wide)",
   "env": {
   },
   "language": "python",
   "metadata": {
    "cocalc": {
     "description": "Python 3 programming language",
     "priority": 100,
     "url": "https://www.python.org/"
    }
   },
   "name": "python3",
   "resource_dir": "/ext/jupyter/kernels/python3"
  },
  "language_info": {
   "codemirror_mode": {
    "name": "ipython",
    "version": 3
   },
   "file_extension": ".py",
   "mimetype": "text/x-python",
   "name": "python",
   "nbconvert_exporter": "python",
   "pygments_lexer": "ipython3",
   "version": "3.10.12"
  }
 },
 "nbformat": 4,
 "nbformat_minor": 4
}