{
 "cells": [
  {
   "cell_type": "markdown",
   "metadata": {
    "collapsed": false
   },
   "source": [
    "# Lecture 1 #\n",
    "## Conditionals ##"
   ]
  },
  {
   "cell_type": "code",
   "execution_count": 10,
   "metadata": {
    "collapsed": false
   },
   "outputs": [
    {
     "name": "stdout",
     "output_type": "stream",
     "text": [
      "Condition is True\n",
      "mynum is congruent to 0 mod 3\n"
     ]
    }
   ],
   "source": [
    "condition = True\n",
    "#if\n",
    "if condition:\n",
    "    print(\"Condition is True\")\n",
    "#else\n",
    "else:\n",
    "    print(\"Condition is False\")\n",
    "    \n",
    "mynum = 9\n",
    "if mynum%3 == 0:\n",
    "    print(\"mynum is congruent to 0 mod 3\")\n",
    "#elif\n",
    "elif mynum%3 ==1:\n",
    "    print(\"mynum is congruent to 1 mod 3\")\n",
    "else:\n",
    "    print(\"mynum is congruent to 2 mod 3\")"
   ]
  },
  {
   "cell_type": "markdown",
   "metadata": {
    "collapsed": false
   },
   "source": [
    "Python also takes non-bools as inputs for conditionals"
   ]
  },
  {
   "cell_type": "code",
   "execution_count": 24,
   "metadata": {
    "collapsed": false
   },
   "outputs": [
    {
     "name": "stdout",
     "output_type": "stream",
     "text": [
      "True\n",
      "true\n",
      "list is True\n",
      "0\n"
     ]
    }
   ],
   "source": [
    "#Any non-zero number is True\n",
    "if 123123123:\n",
    "    print(\"True\")\n",
    "#Any non-empty string is True\n",
    "if \" \":\n",
    "    print(\"true\")\n",
    "if [0]:\n",
    "    print('list is True')\n",
    "if (0,1):\n",
    "    print(0)"
   ]
  },
  {
   "cell_type": "markdown",
   "metadata": {
    "collapsed": false
   },
   "source": [
    "We can put multiple conditions on a single conditional using and, or, and not."
   ]
  },
  {
   "cell_type": "code",
   "execution_count": 34,
   "metadata": {
    "collapsed": false
   },
   "outputs": [
    {
     "name": "stdout",
     "output_type": "stream",
     "text": [
      "0\n",
      "5\n"
     ]
    }
   ],
   "source": [
    "bool1 = True\n",
    "bool2 = False\n",
    "bool3 = True\n",
    "\n",
    "if (bool1 and bool2) or (bool1 and not bool3) or (not bool2 and bool3):\n",
    "    print(0)\n",
    "\n",
    "a,b,c = 9,8,100\n",
    "\n",
    "if a<b or a+b >= c:\n",
    "    print(1)\n",
    "elif b+c != 5:\n",
    "    print(5)\n",
    "else:\n",
    "    print(\"Else\")"
   ]
  },
  {
   "cell_type": "markdown",
   "metadata": {
    "collapsed": false
   },
   "source": [
    "## Exercise 1 ##\n",
    "Given:\n",
    "$$ P = (x_1 \\vee x_2) \\wedge (x_2 \\vee x_3) $$\n",
    "Create code that takes $x_1,x_2,x_3$ and prints \"True\" when $P$ is true, and \"False\" otherwise.\n",
    "\n",
    "1. $x_1$ = True, $x_2$ = False, $x_3$ = False\n",
    "2. $x_1$ = False, $x_2$ = True, $x_3$ = True\n",
    "3. $x_1$ = False, $x_2$ = True,$ x_3$ = False"
   ]
  },
  {
   "cell_type": "code",
   "execution_count": 35,
   "metadata": {
    "collapsed": false
   },
   "outputs": [
    {
     "name": "stdout",
     "output_type": "stream",
     "text": [
      "False\n",
      "True\n",
      "True\n"
     ]
    }
   ],
   "source": [
    "#1\n",
    "x1, x2, x3 = True, False, False\n",
    "P = (x1 or x2) and (x2 or x3)\n",
    "if P:\n",
    "    print(\"True\")\n",
    "else:\n",
    "    print(\"False\")\n",
    "\n",
    "#2\n",
    "x1, x2, x3 = False, True, True\n",
    "P = (x1 or x2) and (x2 or x3)\n",
    "if P:\n",
    "    print(\"True\")\n",
    "else:\n",
    "    print(\"False\")\n",
    "\n",
    "#3\n",
    "x1, x2, x3 = False, True, False\n",
    "P = (x1 or x2) and (x2 or x3)\n",
    "if P:\n",
    "    print(\"True\")\n",
    "else:\n",
    "    print(\"False\")"
   ]
  },
  {
   "cell_type": "markdown",
   "metadata": {
    "collapsed": false
   },
   "source": [
    "Cocalc Tricks:\n",
    "1. TimeTravel allows you to see old code. This is particularly helpful if you make a change to your code, and wish to go back.\n",
    "2. If you hold ctrl and click, you get an additional cursor in the code. When you type, you will affect the code at these locations at the same time. This is helpful if you wish to rename a variable or to fix indention at multiple places in the code at once."
   ]
  },
  {
   "cell_type": "code",
   "execution_count": 0,
   "metadata": {
    "collapsed": false
   },
   "outputs": [
   ],
   "source": [
    "myvariable = 7\n",
    "y = 6\n",
    "\n",
    "z = myvariable+y\n",
    "\n",
    "print(myvariable)\n",
    "print(y)\n",
    "print(myvariable+y + z)\n"
   ]
  },
  {
   "cell_type": "markdown",
   "metadata": {
    "collapsed": false
   },
   "source": [
    "## Polynomials as Lists ##\n",
    "We can store polynomials in Python as lists. For example, suppose $$p(x) = 1+2x+3x^2 + 4x^5$$ Then we can store $p(x)$ as [1,2,3,0,0,4]. Each coefficient in the polynomial corresponds to the corresponding entry in the list (with $0$s added for value that are not in the polynomial)."
   ]
  }
 ],
 "metadata": {
  "kernelspec": {
   "argv": [
    "/usr/bin/python3",
    "-m",
    "ipykernel",
    "--HistoryManager.enabled=False",
    "--matplotlib=inline",
    "-c",
    "%config InlineBackend.figure_formats = set(['retina'])\nimport matplotlib; matplotlib.rcParams['figure.figsize'] = (12, 7)",
    "-f",
    "{connection_file}"
   ],
   "display_name": "Python 3 (system-wide)",
   "env": {
   },
   "language": "python",
   "metadata": {
    "cocalc": {
     "description": "Python 3 programming language",
     "priority": 100,
     "url": "https://www.python.org/"
    }
   },
   "name": "python3",
   "resource_dir": "/ext/jupyter/kernels/python3"
  }
 },
 "nbformat": 4,
 "nbformat_minor": 4
}