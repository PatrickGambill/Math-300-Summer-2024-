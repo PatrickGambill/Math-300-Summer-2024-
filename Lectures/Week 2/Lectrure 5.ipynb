{
 "cells": [
  {
   "cell_type": "markdown",
   "metadata": {
    "collapsed": false
   },
   "source": [
    "# Lecture 5 #\n",
    "\n",
    "## List Comprehension ##\n",
    "List comprehension functions like set builder notation in math. It allows you to quickly and concisely create lists with a specified property. "
   ]
  },
  {
   "cell_type": "code",
   "execution_count": 4,
   "metadata": {
    "collapsed": false
   },
   "outputs": [
    {
     "name": "stdout",
     "output_type": "stream",
     "text": [
      "[0, 1, 2, 3, 4, 5, 6, 7, 8, 9]\n",
      "[0, 1, 2, 3, 4, 5, 6, 7, 8, 9]\n"
     ]
    }
   ],
   "source": [
    "#Example 1\n",
    "n = 10\n",
    "#Without Comprehension\n",
    "mylist = []\n",
    "for i in range(n):\n",
    "    mylist.append(i)\n",
    "print(mylist)\n",
    "\n",
    "#With Comprehension\n",
    "mylist1 = [i for i in range(n)]\n",
    "print(mylist1)"
   ]
  },
  {
   "cell_type": "markdown",
   "metadata": {
    "collapsed": false
   },
   "source": [
    "List Comprehension is particularly helpful when combined with functions."
   ]
  },
  {
   "cell_type": "code",
   "execution_count": 9,
   "metadata": {
    "collapsed": false
   },
   "outputs": [
    {
     "name": "stdout",
     "output_type": "stream",
     "text": [
      "[7, 10, 15, 22, 31, 42, 55, 70, 87, 106]\n",
      "[0.0, 3.0, 12.0, 27.0, 48.0, 75.0, 108.0, 147.0, 192.0, 243.0]\n"
     ]
    }
   ],
   "source": [
    "#Example 2 If we compute in the list\n",
    "mylist2 = [i**2+2*i+7 for i in mylist]\n",
    "print(mylist2)\n",
    "\n",
    "#Example 3\n",
    "#Predefined Function (We made this one last lecture)\n",
    "def polysumr(n):\n",
    "    \n",
    "    #These are the closed form solutions for each of the desired calulations\n",
    "    T_n = n*(n+1)/2\n",
    "    S_n = n**2\n",
    "    P_n = n*(3*n-1)/2\n",
    "    \n",
    "    return T_n + S_n + P_n\n",
    "\n",
    "#The list comprehension is here\n",
    "mylist3 = [polysumr(i) for i in range(n)]\n",
    "print(mylist3)"
   ]
  },
  {
   "cell_type": "markdown",
   "metadata": {
    "collapsed": false
   },
   "source": [
    "List comprehension can also replace nested for loops and conditionals. "
   ]
  },
  {
   "cell_type": "code",
   "execution_count": 13,
   "metadata": {
    "collapsed": false
   },
   "outputs": [
    {
     "name": "stdout",
     "output_type": "stream",
     "text": [
      "[(0, 0, 0), (0, 0, 1), (0, 0, 2), (0, 1, 0), (0, 1, 1), (0, 1, 2), (0, 2, 0), (0, 2, 1), (0, 2, 2), (0, 3, 0), (0, 3, 1), (0, 3, 2), (0, 4, 0), (0, 4, 1), (0, 4, 2), (1, 0, 0), (1, 0, 1), (1, 0, 2), (1, 1, 0), (1, 1, 1), (1, 1, 2), (1, 2, 0), (1, 2, 1), (1, 2, 2), (1, 3, 0), (1, 3, 1), (1, 3, 2), (1, 4, 0), (1, 4, 1), (1, 4, 2)]\n",
      "[(0, 1, 9), (0, 2, 8), (0, 3, 7), (0, 4, 6), (0, 5, 5), (0, 6, 4), (0, 7, 3), (0, 8, 2), (0, 9, 1), (1, 0, 9), (1, 1, 8), (1, 2, 7), (1, 3, 6), (1, 4, 5), (1, 5, 4), (1, 6, 3), (1, 7, 2), (1, 8, 1), (1, 9, 0), (2, 0, 8), (2, 1, 7), (2, 2, 6), (2, 3, 5), (2, 4, 4), (2, 5, 3), (2, 6, 2), (2, 7, 1), (2, 8, 0), (3, 0, 7), (3, 1, 6), (3, 2, 5), (3, 3, 4), (3, 4, 3), (3, 5, 2), (3, 6, 1), (3, 7, 0), (4, 0, 6), (4, 1, 5), (4, 2, 4), (4, 3, 3), (4, 4, 2), (4, 5, 1), (4, 6, 0), (5, 0, 5), (5, 1, 4), (5, 2, 3), (5, 3, 2), (5, 4, 1), (5, 5, 0), (6, 0, 4), (6, 1, 3), (6, 2, 2), (6, 3, 1), (6, 4, 0), (7, 0, 3), (7, 1, 2), (7, 2, 1), (7, 3, 0), (8, 0, 2), (8, 1, 1), (8, 2, 0), (9, 0, 1), (9, 1, 0)]\n"
     ]
    }
   ],
   "source": [
    "#We wish to generate all ordered integer triples under n.\n",
    "mytrips = [(i,j,k) for i in range(2) for j in range(5) for k in range(3)]\n",
    "print(mytrips)\n",
    "\n",
    "#Suppose the trips must have their coordinates add to 10\n",
    "mytripsb = [(i,j,k) for i in range(n) for j in range(n) for k in range(n) if i+j+k == 10]\n",
    "print(mytripsb)"
   ]
  },
  {
   "cell_type": "markdown",
   "metadata": {
    "collapsed": false
   },
   "source": [
    "We can iterate over any iterable when doing list comprehension."
   ]
  },
  {
   "cell_type": "code",
   "execution_count": 14,
   "metadata": {
    "collapsed": false
   },
   "outputs": [
    {
     "name": "stdout",
     "output_type": "stream",
     "text": [
      "['a', 'b', 'd', 'n', 'j', 'a', 's', 'i', 'd', 'j', '9', 'i', 'q', '1', '2', '9', 'e', 'i', 'u', 'a', 's', 'd', 'q', '2', '9', 'e', 'a', 'q', 'd', '1', '2', 'e', 'a', 'd', 'q', '1', 'e', '2', 'a', 'q', 'd', 'q', 'w', 'd', 's', 'd', 's', 'd', 'w', '2', '2', 'e', 's', 'd', 'w', 'd', 'a', 'q', 'w', 'w', 'e', '2', 'e', '2', 's', 'w', 'd', 's', 'a', 'd', 'a', 's', 'd', 'a', 's', 'd', 'a', 's', 'd', 'q', 'w', 'd', 'a', 's', 'd']\n"
     ]
    }
   ],
   "source": [
    "#String Example\n",
    "mystring = \"abdnjasidj9iq129eiu  asdq29e aqd 12e a dq1e2   aqdqwd sd sdw22e sd wdaqwwe2e2swdsad asd asd \\n \\n asdqwdasd\"\n",
    "characters = [c for c in mystring if not (c==\" \" or c==\"\\n\")]\n",
    "print(characters)"
   ]
  },
  {
   "cell_type": "markdown",
   "metadata": {
    "collapsed": false
   },
   "source": [
    "Comprehensions work for dict and $\\text{tuple}^*$ objects as well.\n",
    "\n",
    "\\* Tuples don't function the same as lists and dictionaries here."
   ]
  },
  {
   "cell_type": "code",
   "execution_count": 27,
   "metadata": {
    "collapsed": false
   },
   "outputs": [
    {
     "name": "stdout",
     "output_type": "stream",
     "text": [
      "{0: 5, 1: 4, 2: 5, 3: 8, 4: 13, 5: 20, 6: 29, 7: 40, 8: 53, 9: 68}\n",
      "<generator object <genexpr> at 0x7f11a42bc2e0>\n",
      "0\n",
      "1\n",
      "2\n",
      "3\n",
      "4\n",
      "5\n",
      "6\n",
      "7\n",
      "8\n",
      "9\n"
     ]
    }
   ],
   "source": [
    "#Dictionaries also use comprehension. This is over an iterable.\n",
    "mydict = {i:i**2-2*i+5 for i in range(n)}\n",
    "print(mydict)\n",
    "\n",
    "#Tuple Comprehension Gives a generator rather than a tuple\n",
    "mytuple = (i for i in range(n))\n",
    "#We cannot get a single tuple here\n",
    "print(mytuple)\n",
    "#We can iterate over the elements of the generator though\n",
    "for i in mytuple:\n",
    "    print(i)"
   ]
  },
  {
   "cell_type": "markdown",
   "metadata": {
    "collapsed": false
   },
   "source": [
    "## Activity 1 ##\n",
    "\n",
    "Consider the function $f(x) = x^2 - 4$. Create a list of $x$ values from $-10<=x<=10$, find the corresponding list of $f(x)$ values, and then combine the ordered pairs into a single list of ordered pairs. E.G. $[(-10,96),(-9,77),\\dots]$"
   ]
  },
  {
   "cell_type": "code",
   "execution_count": 23,
   "metadata": {
    "collapsed": false
   },
   "outputs": [
    {
     "name": "stdout",
     "output_type": "stream",
     "text": [
      "[(-10, 96), (-9, 77), (-8, 60), (-7, 45), (-6, 32), (-5, 21), (-4, 12), (-3, 5), (-2, 0), (-1, -3), (0, -4), (1, -3), (2, 0), (3, 5), (4, 12), (5, 21), (6, 32), (7, 45), (8, 60), (9, 77), (10, 96)]\n",
      "[(-10, 96), (-9, 77), (-8, 60), (-7, 45), (-6, 32), (-5, 21), (-4, 12), (-3, 5), (-2, 0), (-1, -3), (0, -4), (1, -3), (2, 0), (3, 5), (4, 12), (5, 21), (6, 32), (7, 45), (8, 60), (9, 77), (10, 96)]\n"
     ]
    }
   ],
   "source": [
    "#Method 1 This is better if the x-values are specific and not uniform\n",
    "xs = [i for i in range(-10,11)]\n",
    "ys = [x**2 - 4 for x in xs]\n",
    "pairs = [(xs[i],ys[i]) for i in range(len(xs))] \n",
    "print(pairs)\n",
    "\n",
    "#Method 2 This is better for uniform x-values\n",
    "pairs1 = [(x,x**2-4) for x in range(-10,11)]\n",
    "print(pairs1)"
   ]
  },
  {
   "cell_type": "markdown",
   "metadata": {
    "collapsed": false
   },
   "source": [
    "## Activity 2 ##\n",
    "Create a list of all positive integers under $10000$ that are divisible by $7,9,\\text{and } 17$."
   ]
  },
  {
   "cell_type": "code",
   "execution_count": 26,
   "metadata": {
    "collapsed": false
   },
   "outputs": [
    {
     "name": "stdout",
     "output_type": "stream",
     "text": [
      "[1071, 2142, 3213, 4284, 5355, 6426, 7497, 8568, 9639]\n"
     ]
    }
   ],
   "source": [
    "#Here we can check the conditional as well.\n",
    "divisibles = [i for i in range(1,10000) if (i%7 ==0 and i%9 ==0 and i%17==0)]\n",
    "print(divisibles)"
   ]
  }
 ],
 "metadata": {
  "kernelspec": {
   "argv": [
    "/usr/bin/python3",
    "-m",
    "ipykernel",
    "--HistoryManager.enabled=False",
    "--matplotlib=inline",
    "-c",
    "%config InlineBackend.figure_formats = set(['retina'])\nimport matplotlib; matplotlib.rcParams['figure.figsize'] = (12, 7)",
    "-f",
    "{connection_file}"
   ],
   "display_name": "Python 3 (system-wide)",
   "env": {
   },
   "language": "python",
   "metadata": {
    "cocalc": {
     "description": "Python 3 programming language",
     "priority": 100,
     "url": "https://www.python.org/"
    }
   },
   "name": "python3",
   "resource_dir": "/ext/jupyter/kernels/python3"
  }
 },
 "nbformat": 4,
 "nbformat_minor": 4
}