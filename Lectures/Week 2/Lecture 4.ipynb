{
 "cells": [
  {
   "cell_type": "markdown",
   "metadata": {
    "collapsed": false
   },
   "source": [
    "# Lecture 4 #\n",
    "## Functions ##\n",
    "\n",
    "A function allows you reuse a section of code. This is particularly helpful if you have a process you repeat throughout your code. This also is helpful when trying to make your code easier to read and understand. When defining a function in Python, it is best practice to include docstrings (which come in the line below the def line, and are denoted with the ''' on each side). Ideally, this should include descriptions of the function, the inputs, and the outputs of the function (including the types of the objects that are inputs and outputs)."
   ]
  },
  {
   "cell_type": "code",
   "execution_count": 4,
   "metadata": {
    "collapsed": false
   },
   "outputs": [
    {
     "name": "stdout",
     "output_type": "stream",
     "text": [
      "42\n"
     ]
    }
   ],
   "source": [
    "#Here is an example. Our function is called addmult and has a single input, n\n",
    "def addmult(n):\n",
    "    '''This will add n*7 + 14.\n",
    "    \n",
    "    Inputs:\n",
    "        n: An int\n",
    "    \n",
    "    Outputs:\n",
    "        tot: The result of the calculation\n",
    "    \n",
    "    '''\n",
    "    \n",
    "    x = n*7 + 14\n",
    "    \n",
    "    return x\n",
    "\n",
    "#This is storing the output of the function as x\n",
    "x = addmult(4)\n",
    "print(x)"
   ]
  },
  {
   "cell_type": "markdown",
   "metadata": {
    "collapsed": false
   },
   "source": [
    "## help function ##\n",
    "The docstrings of any created function will be returned if you call help on your function. "
   ]
  },
  {
   "cell_type": "code",
   "execution_count": 14,
   "metadata": {
    "collapsed": false
   },
   "outputs": [
    {
     "name": "stdout",
     "output_type": "stream",
     "text": [
      "Help on function addmult in module __main__:\n",
      "\n",
      "addmult(n)\n",
      "    This will add n*7 + 14.\n",
      "    \n",
      "    Inputs:\n",
      "        n: An int\n",
      "    \n",
      "    Outputs:\n",
      "        tot: The result of the calculation\n",
      "\n"
     ]
    }
   ],
   "source": [
    "help(addmult)"
   ]
  },
  {
   "cell_type": "markdown",
   "metadata": {
    "collapsed": false
   },
   "source": [
    "With any function, you have to be careful with the inputs. If you try inputting something with the wrong type, Python will still try to run the code. "
   ]
  },
  {
   "cell_type": "code",
   "execution_count": 15,
   "metadata": {
    "collapsed": false
   },
   "outputs": [
    {
     "ename": "TypeError",
     "evalue": "can only concatenate list (not \"int\") to list",
     "output_type": "error",
     "traceback": [
      "\u001b[0;31m---------------------------------------------------------------------------\u001b[0m",
      "\u001b[0;31mTypeError\u001b[0m                                 Traceback (most recent call last)",
      "\u001b[0;32m/tmp/ipykernel_227/3612081779.py\u001b[0m in \u001b[0;36m<cell line: 1>\u001b[0;34m()\u001b[0m\n\u001b[0;32m----> 1\u001b[0;31m \u001b[0maddmult\u001b[0m\u001b[0;34m(\u001b[0m\u001b[0;34m[\u001b[0m\u001b[0;36m12\u001b[0m\u001b[0;34m]\u001b[0m\u001b[0;34m)\u001b[0m\u001b[0;34m\u001b[0m\u001b[0;34m\u001b[0m\u001b[0m\n\u001b[0m",
      "\u001b[0;32m/tmp/ipykernel_227/3565013594.py\u001b[0m in \u001b[0;36maddmult\u001b[0;34m(n)\u001b[0m\n\u001b[1;32m     10\u001b[0m     '''\n\u001b[1;32m     11\u001b[0m \u001b[0;34m\u001b[0m\u001b[0m\n\u001b[0;32m---> 12\u001b[0;31m     \u001b[0mx\u001b[0m \u001b[0;34m=\u001b[0m \u001b[0mn\u001b[0m\u001b[0;34m*\u001b[0m\u001b[0;36m7\u001b[0m \u001b[0;34m+\u001b[0m \u001b[0;36m14\u001b[0m\u001b[0;34m\u001b[0m\u001b[0;34m\u001b[0m\u001b[0m\n\u001b[0m\u001b[1;32m     13\u001b[0m \u001b[0;34m\u001b[0m\u001b[0m\n\u001b[1;32m     14\u001b[0m     \u001b[0;32mreturn\u001b[0m \u001b[0mtot\u001b[0m\u001b[0;34m\u001b[0m\u001b[0;34m\u001b[0m\u001b[0m\n",
      "\u001b[0;31mTypeError\u001b[0m: can only concatenate list (not \"int\") to list"
     ]
    }
   ],
   "source": [
    "addmult([12])"
   ]
  },
  {
   "cell_type": "markdown",
   "metadata": {
    "collapsed": false
   },
   "source": [
    "## Multiple Inputs and outputs ##\n",
    "In Python, a function can have multiple inputs and outputs. Each input/output will be separated by a \",\". For the inputs, optional inputs can be given a default value by \"input=x\". In this case, the value of x will be used for the input unless one is specifically provided."
   ]
  },
  {
   "cell_type": "code",
   "execution_count": 5,
   "metadata": {
    "collapsed": false
   },
   "outputs": [
    {
     "name": "stdout",
     "output_type": "stream",
     "text": [
      "56\n",
      "10\n"
     ]
    }
   ],
   "source": [
    "def powersums(n,m=1,k=3):\n",
    "    '''This function will return n^m + n^k and  n+m+k\n",
    "    \n",
    "    Inputs:\n",
    "        n,m: ints\n",
    "        k: int, default = 3\n",
    "    Outputs:\n",
    "        pows = n^m + n^k\n",
    "        sums = n+m+k'''\n",
    "    \n",
    "    pows = n**m + n**k\n",
    "    sums = n+m+k\n",
    "    \n",
    "    return pows,sums\n",
    "\n",
    "pows, sums = powersums(7, k=2)\n",
    "print(pows)\n",
    "print(sums)"
   ]
  },
  {
   "cell_type": "markdown",
   "metadata": {
    "collapsed": false
   },
   "source": [
    "Using functions, we can simplify previous code. Consider the sum of squares code from Lecture 2 this week:"
   ]
  },
  {
   "cell_type": "code",
   "execution_count": 26,
   "metadata": {
    "collapsed": false
   },
   "outputs": [
    {
     "name": "stdout",
     "output_type": "stream",
     "text": [
      "[92, 85, 89, 145, 42, 20, 4, 16, 37, 58, 89, 145, 42, 20, 4, 16, 37, 58, 89, 145, 42, 20, 4, 16, 37, 58, 89, 145, 42, 20, 4, 16, 37, 58, 89, 145, 42, 20, 4, 16, 37, 58, 89, 145, 42, 20, 4, 16, 37, 58, 89, 145, 42, 20, 4, 16, 37, 58, 89, 145, 42, 20, 4, 16, 37, 58, 89, 145, 42, 20, 4, 16, 37, 58, 89, 145, 42, 20, 4, 16, 37, 58, 89, 145, 42, 20, 4, 16, 37, 58, 89, 145, 42, 20, 4, 16, 37, 58, 89, 145]\n"
     ]
    }
   ],
   "source": [
    "#First we will define our sum of squares function\n",
    "def sumsquares(n):\n",
    "    '''Return the sum of squares of the digits of n\n",
    "    \n",
    "    Inputs:\n",
    "        n: a positive integer\n",
    "    Outputs:\n",
    "        ssq: Sum of squares of digits'''\n",
    "    \n",
    "    ssq = 0\n",
    "    for j in range(len(str(n))):\n",
    "        \n",
    "        ssq += (n%10)**2\n",
    "        n //= 10\n",
    "        \n",
    "    return ssq\n",
    "\n",
    "#This is the starting n\n",
    "n=235336\n",
    "outputs = []\n",
    "#We can repeatedly apply ssq to itself this way\n",
    "for i in range(100):\n",
    "    ssq = sumsquares(n)\n",
    "    outputs.append(ssq)\n",
    "    n = ssq\n",
    "print(outputs)"
   ]
  },
  {
   "cell_type": "markdown",
   "metadata": {
    "collapsed": false
   },
   "source": [
    "While the code is similar in reasoning, the above may be easier to understand.\n",
    "\n",
    "### Exercise ###\n",
    "The triangle numbers $T_n$ are defined as $T_1 = 1$, $T_2=3$, $\\dots, T_n = T_{n-1} +n$.\n",
    "\n",
    "The square numbers are defined as  $S_n = n^2$.\n",
    "\n",
    "The pentagonal numbers are defined as $P_1 =1$, $P_2=5$, $P_3 = 12$, $\\dots, P_n = P_{n-1} +(3n-2)$.\n",
    "\n",
    "Find the sum $T_n + S_n + P_n$ when given a $n$ value. Try $n=10,n=100,n=1000$."
   ]
  },
  {
   "cell_type": "markdown",
   "metadata": {
    "collapsed": false
   },
   "source": [
    "### Method 1 ###\n",
    "Here, we will use functions to help with interpretability. We will make a function to find each of $T_n,S_n,P_n$. Afterwards, we will create a function to add each of these together. "
   ]
  },
  {
   "cell_type": "code",
   "execution_count": 8,
   "metadata": {
    "collapsed": false
   },
   "outputs": [
    {
     "name": "stdout",
     "output_type": "stream",
     "text": [
      "The sum for n=10 is 300\n",
      "The sum for n=1001 is 3006003\n",
      "The sum for n=1000 is 3000000\n"
     ]
    }
   ],
   "source": [
    "#Triangle Numbers\n",
    "def T_n(n):\n",
    "    '''Finds the nth triangular number.\n",
    "    Inputs:\n",
    "        n: an int\n",
    "    Outputs:\n",
    "        tn: the nth triangular number.'''\n",
    "    \n",
    "    tn = 0\n",
    "    for i in range(1,n+1):\n",
    "        tn += i\n",
    "    \n",
    "    return tn\n",
    "#Square Numbers\n",
    "def S_n(n):\n",
    "    '''Finds the nth square number'''\n",
    "    \n",
    "    return n**2\n",
    "#Pentagonal Numbers\n",
    "def P_n(n):\n",
    "    '''Finds the nth pentagonal number'''\n",
    "    \n",
    "    pn = 0\n",
    "    for i in range(1,n+1):\n",
    "        pn += 3*i - 2\n",
    "        \n",
    "    return(pn)\n",
    "#Add them together\n",
    "def polysum(n):\n",
    "    \n",
    "    return T_n(n)+S_n(n)+P_n(n)\n",
    "\n",
    "#Find the values\n",
    "print(f\"The sum for n=10 is {polysum(10)}\")\n",
    "print(f\"The sum for n=100 is {polysum(100)}\")\n",
    "print(f\"The sum for n=1000 is {polysum(1000)}\")"
   ]
  },
  {
   "cell_type": "markdown",
   "metadata": {
    "collapsed": false
   },
   "source": [
    "### Method 2 ###\n",
    "As each of these definitions is a linear recurrence relation, there is a nice way to solve for the general formula. Details about how to solve linear recurrence relations can be found here https://www.eecs.yorku.ca/course_archive/2008-09/S/1019/Website_files/21-linear-recurrences.pdf or here https://www.eecs.yorku.ca/course_archive/2007-08/F/1019/A/recurrence.pdf ."
   ]
  },
  {
   "cell_type": "code",
   "execution_count": 9,
   "metadata": {
    "collapsed": false
   },
   "outputs": [
    {
     "name": "stdout",
     "output_type": "stream",
     "text": [
      "The sum for n=10 is 300.0\n",
      "The sum for n=100 is 30000.0\n",
      "The sum for n=1000 is 3000000.0\n"
     ]
    }
   ],
   "source": [
    "def polysumr(n):\n",
    "    \n",
    "    #These are the closed form solutions for each of the desired calulations\n",
    "    T_n = n*(n+1)/2\n",
    "    S_n = n**2\n",
    "    P_n = n*(3*n-1)/2\n",
    "    \n",
    "    return T_n + S_n + P_n\n",
    "\n",
    "#Find the values\n",
    "print(f\"The sum for n=10 is {polysumr(10)}\")\n",
    "print(f\"The sum for n=100 is {polysumr(100)}\")\n",
    "print(f\"The sum for n=1000 is {polysumr(1000)}\")"
   ]
  },
  {
   "cell_type": "markdown",
   "metadata": {
    "collapsed": false
   },
   "source": [
    "Both of these methods are fast enough for our purposes, but for large values of $n$, the second method is far quicker. Compare the runtimes in the cells below:"
   ]
  },
  {
   "cell_type": "code",
   "execution_count": 21,
   "metadata": {
    "collapsed": false
   },
   "outputs": [
   ],
   "source": [
    "#Method 1\n",
    "for i in range(10000,12000):\n",
    "    polysum(i)"
   ]
  },
  {
   "cell_type": "code",
   "execution_count": 20,
   "metadata": {
    "collapsed": false
   },
   "outputs": [
   ],
   "source": [
    "#Method 2 (Notice the range is far larger and includes inputs that are two orders of magnitudes larger)\n",
    "for i in range(1000000,1500000):\n",
    "    polysumr(i)"
   ]
  }
 ],
 "metadata": {
  "kernelspec": {
   "argv": [
    "/usr/bin/python3",
    "-m",
    "ipykernel",
    "--HistoryManager.enabled=False",
    "--matplotlib=inline",
    "-c",
    "%config InlineBackend.figure_formats = set(['retina'])\nimport matplotlib; matplotlib.rcParams['figure.figsize'] = (12, 7)",
    "-f",
    "{connection_file}"
   ],
   "display_name": "Python 3 (system-wide)",
   "env": {
   },
   "language": "python",
   "metadata": {
    "cocalc": {
     "description": "Python 3 programming language",
     "priority": 100,
     "url": "https://www.python.org/"
    }
   },
   "name": "python3",
   "resource_dir": "/ext/jupyter/kernels/python3"
  }
 },
 "nbformat": 4,
 "nbformat_minor": 4
}