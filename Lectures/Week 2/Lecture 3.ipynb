{
 "cells": [
  {
   "cell_type": "markdown",
   "metadata": {
    "collapsed": false
   },
   "source": [
    "# Lecture 3 #\n",
    "\n",
    "## while Loops ##\n",
    "A while loop will run until a condition is met. When using while loops, be careful, as some conditions may cause a while loop to run indefinitely or to never run at all. Not all loops require a while loop. Below is a bad example of a while loop use."
   ]
  },
  {
   "cell_type": "code",
   "execution_count": 3,
   "metadata": {
    "collapsed": false
   },
   "outputs": [
   ],
   "source": [
    "#example syntax\n",
    "i=1\n",
    "#Oftentimes, it is helpful to add a maxiter condition to ensure your while loop does not run indefinitely.\n",
    "maxiter=10000\n",
    "numiterations = 0\n",
    "while i<=10 and numiterations < maxiter:\n",
    "    numiterations += 1"
   ]
  },
  {
   "cell_type": "markdown",
   "metadata": {
    "collapsed": false
   },
   "source": [
    "This is a bad use because we already know how many times to run the loop. A for loop would work better. Below is a good use of a while loop."
   ]
  },
  {
   "cell_type": "code",
   "execution_count": 3,
   "metadata": {
    "collapsed": false
   },
   "outputs": [
    {
     "name": "stdout",
     "output_type": "stream",
     "text": [
      "2\n",
      "16364766085.0\n"
     ]
    }
   ],
   "source": [
    "#A good use of a while loop\n",
    "mynum = 65459064340\n",
    "\n",
    "#Try finding how many times can we divide mynum by 2\n",
    "count = 0\n",
    "\n",
    "while mynum%2 == 0:\n",
    "    count += 1\n",
    "    mynum /= 2\n",
    "print(count)\n",
    "print(mynum)"
   ]
  },
  {
   "cell_type": "markdown",
   "metadata": {
    "collapsed": false
   },
   "source": [
    "This is a better use of a while loop, as we do not know beforehand how many times we will have to divide by $2$. \n",
    "\n",
    "## break ##\n",
    "\n",
    "A break statement will end a loop prematurely. This will only end the innermost loop in a nested loop."
   ]
  },
  {
   "cell_type": "code",
   "execution_count": 5,
   "metadata": {
    "collapsed": false
   },
   "outputs": [
    {
     "name": "stdout",
     "output_type": "stream",
     "text": [
      "101\n",
      "102\n",
      "103\n",
      "104\n",
      "105\n",
      "cat\n",
      "101\n",
      "102\n",
      "103\n",
      "104\n",
      "105\n",
      "dog\n",
      "101\n",
      "102\n",
      "103\n",
      "104\n",
      "105\n",
      "orange\n"
     ]
    }
   ],
   "source": [
    "#example\n",
    "for x in ['cat','dog','orange']:\n",
    "    for i in range(101,200):\n",
    "\n",
    "        if i%5 ==0:\n",
    "            print(i)\n",
    "            break\n",
    "        else:\n",
    "            print(i)\n",
    "    \n",
    "    print(x)"
   ]
  },
  {
   "cell_type": "markdown",
   "metadata": {
    "collapsed": false
   },
   "source": [
    "## continue and pass Statements ##\n",
    "If we want to end one iteration of the loop, we can use continue. This takes us back to the top of the innermost loop. A pass statement will do nothing (but is sometimes needed to avoid errors)."
   ]
  },
  {
   "cell_type": "code",
   "execution_count": 6,
   "metadata": {
    "collapsed": false
   },
   "outputs": [
    {
     "name": "stdout",
     "output_type": "stream",
     "text": [
      "We finished iteration 1\n",
      "We finished iteration 3\n",
      "We finished iteration 5\n",
      "We finished iteration 7\n",
      "We finished iteration 9\n"
     ]
    }
   ],
   "source": [
    "for i in range(10):\n",
    "    \n",
    "    \n",
    "    if i%2 == 0:\n",
    "        \n",
    "        #This will go back to the top of the loop\n",
    "        continue\n",
    "    else:\n",
    "        #This does nothing\n",
    "        pass\n",
    "    \n",
    "        #The code below here only runs when i is odd. It is throwaway code for the demonstration\n",
    "        a = i\n",
    "        \n",
    "        a = i+2*i+2*3*i\n",
    "        \n",
    "        if i%5 == 0:\n",
    "            a = i+i\n",
    "        else:\n",
    "            a = i-i\n",
    "    print(\"We finished iteration \" + str(i))"
   ]
  },
  {
   "cell_type": "markdown",
   "metadata": {
    "collapsed": false
   },
   "source": [
    "## Activity 1 ##\n",
    "### Collatz Sequences ###\n",
    "\n",
    "Given a positive integer, $n$, we can say $f(n) = 3n+1$ if $n$ is odd and $f(n) = \\frac{n}{2}$ if $n$ is even. If we repeatedly apply $f$ to some starting $n$, it seems like we eventually reach a repeating subsequence of the form $4,2,1,4,2,1,\\dots$. We will call the length of a Collatz sequence the number of steps needed for the sequence to reach a value of $1$. For each starting $n$ with $1\\leq n\\leq 1000$, which $n$ has the longest Collatz sequence?"
   ]
  },
  {
   "cell_type": "code",
   "execution_count": 3,
   "metadata": {
    "collapsed": false
   },
   "outputs": [
    {
     "name": "stdout",
     "output_type": "stream",
     "text": [
      "178 871\n"
     ]
    }
   ],
   "source": [
    "#This is the highest value we check\n",
    "n = 1000\n",
    "#These will tell us the maximum length and the corresponding starting value\n",
    "maxlength = 0\n",
    "maxval = 1\n",
    "#We will store previous lengths in a dictionary for efficiency\n",
    "lengths = {1:0}\n",
    "\n",
    "for i in range(2,n+1):\n",
    "    length = 0\n",
    "    x = i\n",
    "    \n",
    "    while x!=1:\n",
    "        \n",
    "        #When we reach a previously seen value, we will add the length to our current length, and break from the while loop\n",
    "        if x<i:\n",
    "            length += lengths[x]\n",
    "            #Note, instead of a break, we also could have set x=1 in the line below this\n",
    "            break\n",
    "        #If x is odd\n",
    "        elif x%2 == 1:\n",
    "            x = 3*x+1\n",
    "            length += 1\n",
    "        #If x is even\n",
    "        else:\n",
    "            x /=2\n",
    "            length +=1\n",
    "    \n",
    "    lengths[i] = length\n",
    "    if length > maxlength:\n",
    "        maxlength = length\n",
    "        maxval = i\n",
    "print(maxlength,maxval)"
   ]
  },
  {
   "cell_type": "markdown",
   "metadata": {
    "collapsed": false
   },
   "source": [
    "If you run the above code with $n=1000000$, it will go significantly faster than if you did not use a dictionary to store previous lengths."
   ]
  }
 ],
 "metadata": {
  "kernelspec": {
   "argv": [
    "/usr/bin/python3",
    "-m",
    "ipykernel",
    "--HistoryManager.enabled=False",
    "--matplotlib=inline",
    "-c",
    "%config InlineBackend.figure_formats = set(['retina'])\nimport matplotlib; matplotlib.rcParams['figure.figsize'] = (12, 7)",
    "-f",
    "{connection_file}"
   ],
   "display_name": "Python 3 (system-wide)",
   "env": {
   },
   "language": "python",
   "metadata": {
    "cocalc": {
     "description": "Python 3 programming language",
     "priority": 100,
     "url": "https://www.python.org/"
    }
   },
   "name": "python3",
   "resource_dir": "/ext/jupyter/kernels/python3"
  }
 },
 "nbformat": 4,
 "nbformat_minor": 4
}