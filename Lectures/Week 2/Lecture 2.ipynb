{
 "cells": [
  {
   "cell_type": "markdown",
   "metadata": {
    "collapsed": false
   },
   "source": [
    "# Lecture 2 #\n",
    "\n",
    "## for loops ##\n",
    "\n",
    "For loops allow us to repeat a section of code. In Python, we can iterate a for loop over any iterable. These include lists, strings, dictionaries, tuples, and the range function. "
   ]
  },
  {
   "cell_type": "code",
   "execution_count": 4,
   "metadata": {
    "collapsed": false
   },
   "outputs": [
    {
     "name": "stdout",
     "output_type": "stream",
     "text": [
      "1\n",
      "3\n",
      "5\n",
      "7\n",
      "9\n",
      "11\n",
      "10\n",
      "9\n"
     ]
    }
   ],
   "source": [
    "#Increment with range\n",
    "for i in range(1,11,2):\n",
    "    \n",
    "    print(i)\n",
    "#You can also loop backwards through range\n",
    "for i in range(11,8,-1):\n",
    "    print(i)"
   ]
  },
  {
   "cell_type": "markdown",
   "metadata": {
    "collapsed": false
   },
   "source": [
    "Count the number of numbers less than $1000$ that are divisible by 2,3 or 5."
   ]
  },
  {
   "cell_type": "code",
   "execution_count": 5,
   "metadata": {
    "collapsed": false
   },
   "outputs": [
    {
     "name": "stdout",
     "output_type": "stream",
     "text": [
      "366832\n"
     ]
    }
   ],
   "source": [
    "tot = 0\n",
    "for i in range(1000):\n",
    "    \n",
    "    if i%2 == 0 or i%3 ==0 or i%5 ==0:\n",
    "        tot += i\n",
    "print(tot)"
   ]
  },
  {
   "cell_type": "markdown",
   "metadata": {
    "collapsed": false
   },
   "source": [
    "## Fibonacci Numbers ##\n",
    "Recall our old Fibonacci number code couldn't compute $n=10,000$ without difficulty. We can compute $n=1,000,000$ in about 20 seconds with the code below."
   ]
  },
  {
   "cell_type": "code",
   "execution_count": 10,
   "metadata": {
    "collapsed": false
   },
   "outputs": [
    {
     "name": "stdout",
     "output_type": "stream",
     "text": [
      "33644764876431783266621612005107543310302148460680063906564769974680081442166662368155595513633734025582065332680836159373734790483865268263040892463056431887354544369559827491606602099884183933864652731300088830269235673613135117579297437854413752130520504347701602264758318906527890855154366159582987279682987510631200575428783453215515103870818298969791613127856265033195487140214287532698187962046936097879900350962302291026368131493195275630227837628441540360584402572114334961180023091208287046088923962328835461505776583271252546093591128203925285393434620904245248929403901706233888991085841065183173360437470737908552631764325733993712871937587746897479926305837065742830161637408969178426378624212835258112820516370298089332099905707920064367426202389783111470054074998459250360633560933883831923386783056136435351892133279732908133732642652633989763922723407882928177953580570993691049175470808931841056146322338217465637321248226383092103297701648054726243842374862411453093812206564914032751086643394517512161526545361333111314042436854805106765843493523836959653428071768775328348234345557366719731392746273629108210679280784718035329131176778924659089938635459327894523777674406192240337638674004021330343297496902028328145933418826817683893072003634795623117103101291953169794607632737589253530772552375943788434504067715555779056450443016640119462580972216729758615026968443146952034614932291105970676243268515992834709891284706740862008587135016260312071903172086094081298321581077282076353186624611278245537208532365305775956430072517744315051539600905168603220349163222640885248852433158051534849622434848299380905070483482449327453732624567755879089187190803662058009594743150052402532709746995318770724376825907419939632265984147498193609285223945039707165443156421328157688908058783183404917434556270520223564846495196112460268313970975069382648706613264507665074611512677522748621598642530711298441182622661057163515069260029861704945425047491378115154139941550671256271197133252763631939606902895650288268608362241082050562430701794976171121233066073310059947366875\n"
     ]
    }
   ],
   "source": [
    "#We have to run these first 2 lines of code so we can actually see our output. This will vary by IDE\n",
    "import sys\n",
    "sys.set_int_max_str_digits(1000000)\n",
    "\n",
    "#This is the n we are trying to calculate\n",
    "n=10000\n",
    "a = 0\n",
    "b = 1\n",
    "\n",
    "#We need these if statements to make sure we account for the base cases\n",
    "if n==0:\n",
    "    print(a)\n",
    "elif n==1:\n",
    "    print(b)\n",
    "#This is the meat of the code\n",
    "else:\n",
    "    for i in range(n-1):\n",
    "        \n",
    "        b,a = a+b,b\n",
    "print(b)"
   ]
  },
  {
   "cell_type": "markdown",
   "metadata": {
    "collapsed": false
   },
   "source": [
    "Here are some for loops made with other iterables:"
   ]
  },
  {
   "cell_type": "code",
   "execution_count": 11,
   "metadata": {
    "collapsed": false
   },
   "outputs": [
    {
     "name": "stdout",
     "output_type": "stream",
     "text": [
      "asd\n",
      "123\n",
      "['asd', 1]\n",
      "232\n",
      "a\n",
      "s\n",
      "d\n",
      "f\n",
      "g\n",
      "h\n",
      "j\n",
      "1\n",
      "4\n",
      "5\n"
     ]
    }
   ],
   "source": [
    "#list, entries are iterated over\n",
    "mylist = ['asd',123,['asd',1],232]\n",
    "\n",
    "for x in mylist:\n",
    "    print(x)\n",
    "\n",
    "#string, chars are iterated over\n",
    "mystring = \"asdfghj\"\n",
    "\n",
    "for c in mystring:\n",
    "    print(c)\n",
    "\n",
    "#dict, keys are iterated over\n",
    "mydict = {1:2,4:'cat',5:\"potato\"}\n",
    "for x in mydict:\n",
    "    print(x)"
   ]
  },
  {
   "cell_type": "markdown",
   "metadata": {
    "collapsed": false
   },
   "source": [
    "## Nested for Loops ##\n",
    "Sometimes it is helpful to put for loops inside of for loops."
   ]
  },
  {
   "cell_type": "code",
   "execution_count": 12,
   "metadata": {
    "collapsed": false
   },
   "outputs": [
    {
     "name": "stdout",
     "output_type": "stream",
     "text": [
      "27\n"
     ]
    }
   ],
   "source": [
    "#Suppose we want to sum all the numbers in each of the nested lists.\n",
    "mylist = [[1,2,3],[2,3,4],[3,4,5]]\n",
    "\n",
    "tot = 0\n",
    "#Each x is an interior list\n",
    "for x in mylist:\n",
    "    #We can then sum each of the numbers in each of the lists manually\n",
    "    for y in x:\n",
    "        tot+=y\n",
    "print(tot)"
   ]
  },
  {
   "cell_type": "markdown",
   "metadata": {
    "collapsed": false
   },
   "source": [
    "## Activity 1 ##\n",
    "Given the polynomial [1,2,3,4,5,6], and the scalar $c = 7$. Create code to multiply the polynomial by $7$."
   ]
  },
  {
   "cell_type": "code",
   "execution_count": 14,
   "metadata": {
    "collapsed": false
   },
   "outputs": [
    {
     "name": "stdout",
     "output_type": "stream",
     "text": [
      "[7, 14, 21, 28, 35, 42]\n"
     ]
    }
   ],
   "source": [
    "#This code can be modified for other polynomials.\n",
    "p = [1,2,3,4,5,6]\n",
    "c = 7\n",
    "\n",
    "cp = []\n",
    "\n",
    "for x in p:\n",
    "    cp.append(x*c)\n",
    "print(cp)"
   ]
  },
  {
   "cell_type": "markdown",
   "metadata": {
    "collapsed": false
   },
   "source": [
    "If you wanted to work with symbolic manipulation, you could write code to add and subtract polynomials as well (Be sure to consider what happens when the lengths of the lists are different). There are additional polynomial algorithm problems in the homework."
   ]
  },
  {
   "cell_type": "markdown",
   "metadata": {
    "collapsed": false
   },
   "source": [
    "## Sum of Square Digits ##\n",
    "Given a positive integer, $x$, define $$s(x) = \\sum_{y\\in\\text{digits of }x} y^2$$\n",
    "\n",
    "What happens if you take s(s(...(x))) for some x? Is there a pattern if we do this $5$ times, $10$ times, $100$ times?"
   ]
  },
  {
   "cell_type": "code",
   "execution_count": 22,
   "metadata": {
    "collapsed": false
   },
   "outputs": [
    {
     "name": "stdout",
     "output_type": "stream",
     "text": [
      "[104, 17, 50, 25, 29, 85, 89, 145, 42, 20, 4, 16, 37, 58, 89, 145, 42, 20, 4, 16, 37, 58, 89, 145, 42, 20, 4, 16, 37, 58, 89, 145, 42, 20, 4, 16, 37, 58, 89, 145, 42, 20, 4, 16, 37, 58, 89, 145, 42, 20, 4, 16, 37, 58, 89, 145, 42, 20, 4, 16, 37, 58, 89, 145, 42, 20, 4, 16, 37, 58, 89, 145, 42, 20, 4, 16, 37, 58, 89, 145, 42, 20, 4, 16, 37, 58, 89, 145, 42, 20, 4, 16, 37, 58, 89, 145, 42, 20, 4, 16]\n"
     ]
    }
   ],
   "source": [
    "#Method 1\n",
    "numiterations = 100\n",
    "tot = 123623434\n",
    "outputs = []\n",
    "\n",
    "for i in range(numiterations):\n",
    "    newtot = 0\n",
    "    \n",
    "    for j in range(9):\n",
    "        \n",
    "        newtot += (tot%10)**2\n",
    "        tot //= 10\n",
    "    \n",
    "    outputs.append(newtot)\n",
    "    tot = newtot\n",
    "print(outputs)"
   ]
  },
  {
   "cell_type": "markdown",
   "metadata": {
    "collapsed": false
   },
   "source": [
    "## Method 2 ##\n",
    "\n",
    "### Bradley's Method ###"
   ]
  },
  {
   "cell_type": "code",
   "execution_count": 24,
   "metadata": {
    "collapsed": false
   },
   "outputs": [
    {
     "name": "stdout",
     "output_type": "stream",
     "text": [
      "[104, 17, 50, 25, 29, 85, 89, 145, 42, 20, 4, 16, 37, 58, 89, 145, 42, 20, 4, 16, 37, 58, 89, 145, 42, 20, 4, 16, 37, 58, 89, 145, 42, 20, 4, 16, 37, 58, 89, 145, 42, 20, 4, 16, 37, 58, 89, 145, 42, 20, 4, 16, 37, 58, 89, 145, 42, 20, 4, 16, 37, 58, 89, 145, 42, 20, 4, 16, 37, 58, 89, 145, 42, 20, 4, 16, 37, 58, 89, 145, 42, 20, 4, 16, 37, 58, 89, 145, 42, 20, 4, 16, 37, 58, 89, 145, 42, 20, 4, 16]\n"
     ]
    }
   ],
   "source": [
    "#Method 2\n",
    "numiterations = 100\n",
    "tot = 123623434\n",
    "output = []\n",
    "\n",
    "for i in range(numiterations):\n",
    "    \n",
    "    newtot = 0\n",
    "    \n",
    "    tot = str(tot)\n",
    "    \n",
    "    for c in tot:\n",
    "        newtot += int(c)**2\n",
    "    \n",
    "    output.append(newtot)\n",
    "    tot = newtot\n",
    "print(output)"
   ]
  },
  {
   "cell_type": "markdown",
   "metadata": {
    "collapsed": false
   },
   "source": [
    "It seems the sting of numbers, $16, 37, 58, 89, 145, 42, 20, 4$ repeats indefinitely with any starting value of tot, except for $\\text{tot} = 1$. Code has given us an interesting conjecture. "
   ]
  }
 ],
 "metadata": {
  "kernelspec": {
   "argv": [
    "/usr/bin/python3",
    "-m",
    "ipykernel",
    "--HistoryManager.enabled=False",
    "--matplotlib=inline",
    "-c",
    "%config InlineBackend.figure_formats = set(['retina'])\nimport matplotlib; matplotlib.rcParams['figure.figsize'] = (12, 7)",
    "-f",
    "{connection_file}"
   ],
   "display_name": "Python 3 (system-wide)",
   "env": {
   },
   "language": "python",
   "metadata": {
    "cocalc": {
     "description": "Python 3 programming language",
     "priority": 100,
     "url": "https://www.python.org/"
    }
   },
   "name": "python3",
   "resource_dir": "/ext/jupyter/kernels/python3"
  }
 },
 "nbformat": 4,
 "nbformat_minor": 4
}