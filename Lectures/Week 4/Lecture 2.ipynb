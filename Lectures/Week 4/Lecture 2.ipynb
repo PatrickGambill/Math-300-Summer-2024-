{
 "cells": [
  {
   "cell_type": "markdown",
   "metadata": {
    "collapsed": false
   },
   "source": [
    "# Lecture 2 #\n",
    "\n",
    "We are implementing the sieve of Eratosthenes below. This algorithm for finding lists of prime numbers has been around for a while. https://en.wikipedia.org/wiki/Sieve_of_Eratosthenes\n",
    "\n",
    "This algorithm is very fast. Using $10^8$ as an input will give you all primes less than $100$ million. If you had this list in the 70s, you would know more prime numbers than all of humanity combined."
   ]
  },
  {
   "cell_type": "code",
   "execution_count": 3,
   "metadata": {
    "collapsed": false
   },
   "outputs": [
    {
     "name": "stdout",
     "output_type": "stream",
     "text": [
      "[       2        3        5 ... 99999959 99999971 99999989]\n",
      "True\n"
     ]
    }
   ],
   "source": [
    "import numpy as np\n",
    "def sieve(n):\n",
    "    '''This function returns all the primes below n as an array using the Sieve of Eratosthenes.'''\n",
    "    import numpy as np\n",
    "    #Create an array of 1s\n",
    "    A=np.ones((n,), dtype = bool)\n",
    "    #This tells us the values we search through. We are using the Sieve Eratosthenes\n",
    "    for i in range(2, int(n**0.5+1)):\n",
    "        if (A[i]):\n",
    "            #Check every i values starting at i**2\n",
    "            A[i*i::i] = False\n",
    "    \n",
    "    #Takes the indices with non-zero values and removes 0 and 1 from it\n",
    "    primes = np.delete(np.nonzero(A),[0,1],1)\n",
    "    return primes[0]\n",
    "\n",
    "primes = sieve(10**8)\n",
    "\n",
    "#Printing the array directly isn't very helpful\n",
    "print(primes)\n",
    "\n",
    "#Instead, we can check if individual numbers are in the array \n",
    "print(71 in primes)"
   ]
  },
  {
   "cell_type": "code",
   "execution_count": 14,
   "metadata": {
    "collapsed": false
   },
   "outputs": [
    {
     "name": "stdout",
     "output_type": "stream",
     "text": [
      "[ True  True  True False  True False  True  True  True  True  True  True\n",
      "  True  True  True  True  True  True  True  True]\n",
      "(array([ 0,  1,  2,  4,  6,  7,  8,  9, 10, 11, 12, 13, 14, 15, 16, 17, 18,\n",
      "       19]),)\n",
      "[[ 2  4  6  7  8  9 10 11 12 13 14 15 16 17 18 19]]\n"
     ]
    }
   ],
   "source": [
    "#We specifically use dtype = bool, as we only care if each number is crossed out in the sieve at each step\n",
    "A=np.ones((20,), dtype = bool)\n",
    "\n",
    "A[3] = 0\n",
    "A[5] = 0\n",
    "print(A)\n",
    "#This returns the array consisting of the indices of the non-zero values\n",
    "print(np.nonzero(A))\n",
    "#Here, we delete the 0th and 1st entries of the non-zero array. We need to use delete, since we are working with arrays\n",
    "print(np.delete(np.nonzero(A),[0,1],1))"
   ]
  },
  {
   "cell_type": "markdown",
   "metadata": {
    "collapsed": false
   },
   "source": [
    "## Exercise 1 ##\n",
    "A positive integer is a prime permutation if every permutation of the digits is also prime. All $1$ digit primes are prime permutations. Another example is $17$ (as $71$ is also prime).\n",
    "\n",
    "How many positive integer are prime permutations and less than $1000$? (Note positive integers cannot start with $0$)."
   ]
  },
  {
   "cell_type": "code",
   "execution_count": 5,
   "metadata": {
    "collapsed": false
   },
   "outputs": [
    {
     "name": "stdout",
     "output_type": "stream",
     "text": [
      "[2, 3, 5, 7, 11, 13, 17, 31, 37, 71, 73, 79, 97, 113, 131, 199, 311, 337, 373, 733, 919, 991]\n",
      "22\n"
     ]
    }
   ],
   "source": [
    "#This is much nicer with itertools\n",
    "n = 1000\n",
    "primes = sieve(n)\n",
    "import itertools as it\n",
    "\n",
    "#These are the permutation primes\n",
    "perms = []\n",
    "for i in primes:\n",
    "    \n",
    "    #We convert to a string for easy use of itertools\n",
    "    num = str(i)\n",
    "    \n",
    "    #This is the generator we can use as an iterable when making our checks\n",
    "    checks = it.permutations(num)\n",
    "    \n",
    "    is_perm = True\n",
    "    \n",
    "    #If any check is not a prime, then we break the inner loop and do not append i\n",
    "    for check in checks:\n",
    "        if not int(''.join(check)) in primes:\n",
    "            is_perm = False\n",
    "            break\n",
    "    \n",
    "    if is_perm:\n",
    "        perms.append(i)\n",
    "\n",
    "print(perms)\n",
    "print(len(perms))"
   ]
  },
  {
   "cell_type": "code",
   "execution_count": 12,
   "metadata": {
    "collapsed": false
   },
   "outputs": [
    {
     "name": "stdout",
     "output_type": "stream",
     "text": [
      "Permutations\n",
      "abc\n",
      "acb\n",
      "bac\n",
      "bca\n",
      "cab\n",
      "cba\n",
      "\n",
      "Combinations\n",
      "ab\n",
      "ac\n",
      "bc\n"
     ]
    }
   ],
   "source": [
    "import itertools as it\n",
    "\n",
    "#Permutations care about orderings of the elements. Default is permutations of all elements\n",
    "perms = it.permutations('abc')\n",
    "print('Permutations')\n",
    "#We join the tuples into strings using the join function method\n",
    "for perm in perms:\n",
    "    print(''.join(perm))\n",
    "    \n",
    "print(\"\\nCombinations\")\n",
    "#Combinations do not care about the order of the elements. Here we check all combinations of 2 elements\n",
    "combs = it.combinations('abc',r=2)\n",
    "for comb in combs:\n",
    "    print(''.join(comb))"
   ]
  },
  {
   "cell_type": "markdown",
   "metadata": {
    "collapsed": false
   },
   "source": [
    "## More with Itertools ##"
   ]
  },
  {
   "cell_type": "code",
   "execution_count": 13,
   "metadata": {
    "collapsed": false
   },
   "outputs": [
    {
     "name": "stdout",
     "output_type": "stream",
     "text": [
      "('a', 'b')\n",
      "('a', 'c')\n",
      "('b', 'a')\n",
      "('b', 'c')\n",
      "('c', 'a')\n",
      "('c', 'b')\n"
     ]
    }
   ],
   "source": [
    "#Permutations can be done by taking all 2 element permutations of the iterable, as done below\n",
    "twodigits = it.permutations('abc',r=2)\n",
    "\n",
    "for i in twodigits:\n",
    "    print(i)"
   ]
  }
 ],
 "metadata": {
  "kernelspec": {
   "argv": [
    "/usr/bin/python3",
    "-m",
    "ipykernel",
    "--HistoryManager.enabled=False",
    "--matplotlib=inline",
    "-c",
    "%config InlineBackend.figure_formats = set(['retina'])\nimport matplotlib; matplotlib.rcParams['figure.figsize'] = (12, 7)",
    "-f",
    "{connection_file}"
   ],
   "display_name": "Python 3 (system-wide)",
   "env": {
   },
   "language": "python",
   "metadata": {
    "cocalc": {
     "description": "Python 3 programming language",
     "priority": 100,
     "url": "https://www.python.org/"
    }
   },
   "name": "python3",
   "resource_dir": "/ext/jupyter/kernels/python3"
  },
  "language_info": {
   "codemirror_mode": {
    "name": "ipython",
    "version": 3
   },
   "file_extension": ".py",
   "mimetype": "text/x-python",
   "name": "python",
   "nbconvert_exporter": "python",
   "pygments_lexer": "ipython3",
   "version": "3.10.12"
  }
 },
 "nbformat": 4,
 "nbformat_minor": 4
}