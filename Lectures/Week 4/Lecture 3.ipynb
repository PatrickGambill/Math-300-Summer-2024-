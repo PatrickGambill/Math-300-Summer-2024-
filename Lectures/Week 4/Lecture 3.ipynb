{
 "cells": [
  {
   "cell_type": "markdown",
   "metadata": {
    "collapsed": false
   },
   "source": [
    "# Lecture 3 #\n",
    "\n",
    "When you are working with long loops in Python, you have to be careful about memory. Itertools helps us deal with this. "
   ]
  },
  {
   "cell_type": "code",
   "execution_count": 19,
   "metadata": {
    "collapsed": false
   },
   "outputs": [
   ],
   "source": [
    "#Running this block of code may crash cocalc. \n",
    "x = []\n",
    "for i in range(100000000):\n",
    "    x.append(i)\n",
    "for i in x:\n",
    "    continue"
   ]
  },
  {
   "cell_type": "markdown",
   "metadata": {
    "collapsed": false
   },
   "source": [
    "If we want to iterate over the list, itertools and list comprehension are much more memory stable. Itertools is preferred, since it allows us to iterate over products, combinations, and permutations without needing to generate each of the lists explicitly (even though it may often be helpful to do so).\n",
    "\n",
    "With itertools iterables, once an iterable is created, it will output one object at a time. This will not reset if you call the iterable again."
   ]
  },
  {
   "cell_type": "code",
   "execution_count": 4,
   "metadata": {
    "collapsed": false
   },
   "outputs": [
    {
     "name": "stdout",
     "output_type": "stream",
     "text": [
      "3\n",
      "5\n",
      "7\n",
      "The new loop picks up where the last one left off.\n",
      "9\n"
     ]
    }
   ],
   "source": [
    "import itertools as it\n",
    "\n",
    "counter = it.count(3,2)\n",
    "\n",
    "for i in counter:\n",
    "    print(i)\n",
    "    \n",
    "    if i >5:\n",
    "        break\n",
    "        \n",
    "print('The new loop picks up where the last one left off.')\n",
    "for i in counter:\n",
    "    print(i)\n",
    "    \n",
    "    break"
   ]
  },
  {
   "cell_type": "markdown",
   "metadata": {
    "collapsed": false
   },
   "source": [
    "We can use itertools to write concise nested loops. The product itertools function acts like the Cartesian Product in set theory."
   ]
  },
  {
   "cell_type": "code",
   "execution_count": 5,
   "metadata": {
    "collapsed": false
   },
   "outputs": [
    {
     "name": "stdout",
     "output_type": "stream",
     "text": [
      "('a', '1')\n",
      "('a', '2')\n",
      "('a', '3')\n",
      "('a', '4')\n",
      "('a', '5')\n",
      "('b', '1')\n",
      "('b', '2')\n",
      "('b', '3')\n",
      "('b', '4')\n",
      "('b', '5')\n",
      "('c', '1')\n",
      "('c', '2')\n",
      "('c', '3')\n",
      "('c', '4')\n",
      "('c', '5')\n",
      "('d', '1')\n",
      "('d', '2')\n",
      "('d', '3')\n",
      "('d', '4')\n",
      "('d', '5')\n",
      "('e', '1')\n",
      "('e', '2')\n",
      "('e', '3')\n",
      "('e', '4')\n",
      "('e', '5')\n",
      "('f', '1')\n",
      "('f', '2')\n",
      "('f', '3')\n",
      "('f', '4')\n",
      "('f', '5')\n"
     ]
    }
   ],
   "source": [
    "x = 'abcdef'\n",
    "y = '12345'\n",
    "\n",
    "prod = it.product(x,y)\n",
    "\n",
    "for i in prod:\n",
    "    print(i)"
   ]
  },
  {
   "cell_type": "markdown",
   "metadata": {
    "collapsed": false
   },
   "source": [
    "## Exercise 1 ##\n",
    "\n",
    "Verify the odds of each outcome on the powerball website. Recall, you pick $5$ white balls and $1$ red ball (called the powerball) when selecting a ticket. There are $69$ white balls and $26$ red balls, and the number of matching white and redballs determines the outcome. If you know the probability $p$ of an event, the odds of the event $1:A$ can be found by the following formula:\n",
    "\n",
    "$$ \\frac{1}{A} = \\frac{p}{1-p} $$\n",
    "\n",
    "The odds for powerball are listed here: https://www.powerball.com/powerball-prize-chart"
   ]
  },
  {
   "cell_type": "code",
   "execution_count": 8,
   "metadata": {
    "collapsed": false
   },
   "outputs": [
    {
     "name": "stdout",
     "output_type": "stream",
     "text": [
      "Probabilities\n",
      "\n",
      "If the red ball doesn't match:\n",
      "{0: 0.6523337685743246, 1: 0.2718057369059686, 2: 0.035646654020454895, 3: 0.0017248380977639465, 4: 2.737838250418963e-05, 5: 8.555744532559259e-08}\n",
      "If the red ball does match:\n",
      "{0: 0.026093350742972983, 1: 0.010872229476238744, 2: 0.0014258661608181958, 3: 6.899352391055786e-05, 4: 1.095135300167585e-06, 5: 3.4222978130237033e-09}\n",
      "\n",
      "Odds\n",
      "\n",
      "If the red ball doesn't match:\n",
      "{0: 0.5329575873183753, 1: 2.6790982095641005, 2: 27.05312384792627, 3: 578.7645595238096, 4: 36524.16725, 5: 11688052.52}\n",
      "If the red ball does match:\n",
      "{0: 37.323939682959384, 1: 90.97745523910251, 2: 700.3280961981567, 3: 14493.113988095238, 4: 913128.18125, 5: 292201337.0}\n"
     ]
    }
   ],
   "source": [
    "import itertools as it\n",
    "\n",
    "#Here are all the possible values for the white balls\n",
    "whiteballs = [i for i in range(1,70)]\n",
    "#We can pick any 5 white balls to use when finding the probability\n",
    "winners = {1,2,3,4,5}\n",
    "\n",
    "#Here are all of the combinations of white balls\n",
    "draws = it.combinations(whiteballs,r=5)\n",
    "\n",
    "#We will store the counts of each outcome for white balls here\n",
    "counts = {i:0 for i in range(6)}\n",
    "totdraws = 0\n",
    "\n",
    "#We will find the number of times a given 5 white ball outcome occurs\n",
    "for draw in draws:\n",
    "    totdraws += 1\n",
    "    #We count how many elements of draw and winners are shared. We use set intersection to do so\n",
    "    numintersections = len(winners.intersection(set(draw)))\n",
    "    #We increment the appropriate value in counts\n",
    "    counts[numintersections] += 1\n",
    "\n",
    "#Account for the red ball\n",
    "totdraws *= 26\n",
    "\n",
    "#These are the probabliities where the red ball doesn't match\n",
    "whiteprobs = {i:counts[i]*25/totdraws for i in counts}\n",
    "#These are the probabilities where the red ball matches\n",
    "redprobs = {i:counts[i]/totdraws for i in counts}\n",
    "\n",
    "print('Probabilities\\n')\n",
    "print(\"If the red ball doesn't match:\")\n",
    "print(whiteprobs)\n",
    "print(\"If the red ball does match:\")\n",
    "print(redprobs)\n",
    "\n",
    "#These are the corresponding odds\n",
    "whiteodds = {i:(1-whiteprobs[i])/whiteprobs[i] for i in whiteprobs}\n",
    "redodds = {i:(1-redprobs[i])/redprobs[i] for i in redprobs}\n",
    "\n",
    "print('\\nOdds\\n')\n",
    "print(\"If the red ball doesn't match:\")\n",
    "print(whiteodds)\n",
    "print(\"If the red ball does match:\")\n",
    "print(redodds)"
   ]
  }
 ],
 "metadata": {
  "kernelspec": {
   "argv": [
    "/usr/bin/python3",
    "-m",
    "ipykernel",
    "--HistoryManager.enabled=False",
    "--matplotlib=inline",
    "-c",
    "%config InlineBackend.figure_formats = set(['retina'])\nimport matplotlib; matplotlib.rcParams['figure.figsize'] = (12, 7)",
    "-f",
    "{connection_file}"
   ],
   "display_name": "Python 3 (system-wide)",
   "env": {
   },
   "language": "python",
   "metadata": {
    "cocalc": {
     "description": "Python 3 programming language",
     "priority": 100,
     "url": "https://www.python.org/"
    }
   },
   "name": "python3",
   "resource_dir": "/ext/jupyter/kernels/python3"
  },
  "language_info": {
   "codemirror_mode": {
    "name": "ipython",
    "version": 3
   },
   "file_extension": ".py",
   "mimetype": "text/x-python",
   "name": "python",
   "nbconvert_exporter": "python",
   "pygments_lexer": "ipython3",
   "version": "3.10.12"
  }
 },
 "nbformat": 4,
 "nbformat_minor": 4
}