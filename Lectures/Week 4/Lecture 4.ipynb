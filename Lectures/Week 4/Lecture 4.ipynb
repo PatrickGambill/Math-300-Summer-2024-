{
 "cells": [
  {
   "cell_type": "markdown",
   "metadata": {
    "collapsed": false
   },
   "source": [
    "# Lecture 4 #\n",
    "\n",
    "For any Markov chain, we can make a matrix called the **Transition Matrix** (Or State Matrix or Markov Matrix depending on the text). This matrix has entries $$M_{ij} = P(X_{n+1} = i|X_n = j)$$\n",
    "\n",
    "A Markov chain is irreducible if it is possible to reach any state given an arbitrary starting state. A Markov chain is said to be acyclic if there are not any guaranteed infinite cycles of states (Like a triangle with each edge having probability $1$). If a Markov chain is acyclic and aperiodic, then the corresponding transition matrix will have an eigenvector corresponding to eigenvalue $1$ this gives the long term distribution of the states (When appropriately normalized)."
   ]
  },
  {
   "cell_type": "code",
   "execution_count": 15,
   "metadata": {
    "collapsed": false
   },
   "outputs": [
    {
     "name": "stdout",
     "output_type": "stream",
     "text": [
      "(0.9999999999999998+0j)\n",
      "[0.27272727+0.j 0.45454545+0.j 0.27272727+0.j]\n"
     ]
    }
   ],
   "source": [
    "import numpy as np\n",
    "\n",
    "#This matrix is the transition matrix for a Markov chain\n",
    "M = np.array([[0.5,0,0.5],[0.5,0.7,0],[0,0.3,0.5]])\n",
    "\n",
    "#We find the eigenvalues and eigenvectors of M\n",
    "vals,vecs = np.linalg.eig(M)\n",
    "\n",
    "#The 0th eigenvalue is 1\n",
    "print(vals[0])\n",
    "#This is the eigenvector corresponding to 0. We need :,0 to ensure we get the entire vector\n",
    "vec = vecs[:,0]\n",
    "#Here we normalize. We make sure all the entries in vec sum to 1\n",
    "dist = vec/sum(vec)\n",
    "#This is the long term distribution\n",
    "print(dist)"
   ]
  },
  {
   "cell_type": "markdown",
   "metadata": {
    "collapsed": false
   },
   "source": [
    "## Exercise 1 ##\n",
    "\n",
    "Find the long term distribution of the Markov chain with $5$ states, with the following transition probabilities:\n",
    "\n",
    "$ P(X_{n+1}=2|X_n=1)=1 $\n",
    "\n",
    "$ P(X_{n+1}=1|X_n=2)=\\frac{1}{5},P(X_{n+1}=2|X_n=2)=\\frac{1}{5},P(X_{n+1}=3|X_n=2)=\\frac{1}{5},P(X_{n+1}=4|X_n=2)=\\frac{1}{5},P(X_{n+1}=5|X_n=2)=\\frac{1}{5} $\n",
    "\n",
    "$ P(X_{n+1}=1|X_n=3)=\\frac{1}{4},P(X_{n+1}=3|X_n=3)=\\frac{1}{4},P(X_{n+1}=4|X_n=3)=\\frac{1}{4},P(X_{n+1}=5|X_n=3)=\\frac{1}{4} $\n",
    "\n",
    "$ P(X_{n+1}=1|X_n=4)=\\frac{1}{3}, P(X_{n+1}=4|X_n=4)=\\frac{1}{3}, P(X_{n+1}=5|X_n=4)=\\frac{1}{3} $\n",
    "\n",
    "$ P(X_{n+1}=1|X_n=5)=\\frac{1}{2}, P(X_{n+1}=5|X_n=5)=\\frac{1}{2} $\n",
    "\n",
    "with all other probabilities as $0$."
   ]
  },
  {
   "cell_type": "code",
   "execution_count": 18,
   "metadata": {
    "collapsed": false
   },
   "outputs": [
    {
     "name": "stdout",
     "output_type": "stream",
     "text": [
      "[0.24489796+0.j 0.30612245+0.j 0.08163265+0.j 0.12244898+0.j\n",
      " 0.24489796+0.j]\n"
     ]
    }
   ],
   "source": [
    "import numpy as np\n",
    "\n",
    "#Create the transition matrix\n",
    "M = np.array([[0,1,0,0,0],[1/5,1/5,1/5,1/5,1/5],[1/4,0,1/4,1/4,1/4],[1/3,0,0,1/3,1/3],[1/2,0,0,0,1/2]]).T\n",
    "\n",
    "#Find the eigenstuffs\n",
    "vals,vecs = np.linalg.eig(M)\n",
    "\n",
    "#Get the distribution by normalizing\n",
    "dist = vecs[:,0]/sum(vecs[:,0])\n",
    "print(dist)"
   ]
  },
  {
   "cell_type": "markdown",
   "metadata": {
    "collapsed": false
   },
   "source": [
    "## Exercise 2 ##\n",
    "\n",
    "Suppose $X\\in\\{x\\in\\mathbb{Z}|0\\leq x\\leq N\\}$ such that each $x$ has the following transition probabilities:\n",
    "\n",
    "$$ P(X_{n+1}=2x \\text{ mod}(N+1) | X_n=x) = \\frac{1}{3}$$\n",
    "$$ P(X_{n+1}=3x \\text{ mod}(N+1) | X_n=x) = \\frac{1}{3}$$\n",
    "$$ P(X_{n+1}=x-1 \\text{ mod}(N+1) | X_n=x) = \\frac{1}{3}$$\n",
    "\n",
    "Find the long term distribution of this process and the most(least) likely states for the following values of $N$.\n",
    "\n",
    "1. $N=31$\n",
    "2. $N=30$\n",
    "3. $N=25$"
   ]
  },
  {
   "cell_type": "code",
   "execution_count": 4,
   "metadata": {
    "collapsed": false
   },
   "outputs": [
    {
     "name": "stdout",
     "output_type": "stream",
     "text": [
      "N=31\n"
     ]
    },
    {
     "name": "stdout",
     "output_type": "stream",
     "text": [
      "[0.03225806-0.j 0.03225806-0.j 0.03225806-0.j 0.03225806-0.j\n",
      " 0.03225806-0.j 0.03225806-0.j 0.03225806-0.j 0.03225806-0.j\n",
      " 0.03225806-0.j 0.03225806-0.j 0.03225806-0.j 0.03225806-0.j\n",
      " 0.03225806-0.j 0.03225806-0.j 0.03225806-0.j 0.03225806-0.j\n",
      " 0.03225806-0.j 0.03225806-0.j 0.03225806-0.j 0.03225806-0.j\n",
      " 0.03225806-0.j 0.03225806-0.j 0.03225806-0.j 0.03225806-0.j\n",
      " 0.03225806-0.j 0.03225806-0.j 0.03225806-0.j 0.03225806-0.j\n",
      " 0.03225806-0.j 0.03225806-0.j 0.03225806-0.j]\n",
      "N=30\n",
      "[0.08571429+0.j 0.00714286+0.j 0.02142857+0.j 0.03095238+0.j\n",
      " 0.02619048+0.j 0.02857143+0.j 0.08571429+0.j 0.00714286+0.j\n",
      " 0.02142857+0.j 0.03095238+0.j 0.02619048+0.j 0.02857143+0.j\n",
      " 0.08571429+0.j 0.00714286+0.j 0.02142857+0.j 0.03095238+0.j\n",
      " 0.02619048+0.j 0.02857143+0.j 0.08571429+0.j 0.00714286+0.j\n",
      " 0.02142857+0.j 0.03095238+0.j 0.02619048+0.j 0.02857143+0.j\n",
      " 0.08571429+0.j 0.00714286+0.j 0.02142857+0.j 0.03095238+0.j\n",
      " 0.02619048+0.j 0.02857143+0.j]\n",
      "N=25\n",
      "[0.04+0.j 0.04+0.j 0.04+0.j 0.04+0.j 0.04+0.j 0.04+0.j 0.04+0.j 0.04+0.j\n",
      " 0.04+0.j 0.04+0.j 0.04+0.j 0.04+0.j 0.04+0.j 0.04+0.j 0.04+0.j 0.04+0.j\n",
      " 0.04+0.j 0.04+0.j 0.04+0.j 0.04+0.j 0.04+0.j 0.04+0.j 0.04+0.j 0.04+0.j\n",
      " 0.04+0.j]\n"
     ]
    }
   ],
   "source": [
    "def numberchain(N):\n",
    "    '''Given the Markov chain described above, find the long term distribution.\n",
    "    \n",
    "    inputs: \n",
    "        N: The N value for the above Markov chain\n",
    "        \n",
    "    outputs:\n",
    "        dist: The long term distribution of the Markov chain'''\n",
    "    \n",
    "    import numpy as np\n",
    "    M = np.zeros((N,N))\n",
    "\n",
    "    for i in range(N):\n",
    "\n",
    "        M[(2*i)%N,i] += 1/3\n",
    "        M[(3*i)%N,i] += 1/3\n",
    "        M[(i-1)%N,i] += 1/3\n",
    "\n",
    "    vals,vecs = np.linalg.eig(M)\n",
    "\n",
    "    dist = vecs[:,0] / sum(vecs[:,0])\n",
    "\n",
    "    return dist\n",
    "\n",
    "print(\"N=31\")\n",
    "print(numberchain(31))\n",
    "\n",
    "print(\"N=30\")\n",
    "print(numberchain(30))\n",
    "\n",
    "print(\"N=25\")\n",
    "print(numberchain(25))"
   ]
  },
  {
   "cell_type": "markdown",
   "metadata": {
    "collapsed": false
   },
   "source": [
    "If $N$ is relatively prime to $2$ and $3$ (Meaning it is not divisible by $2$ or $3$), then the distribution will be uniform (This comes from some facts about cyclic groups from group theory). When $N$ is divisible by $2$ or $3$, the most likely states are the states that are multiples of $2$ or $3$. These kinds of probabilistic arguments are sometimes used in number theory to provide evidence for or against a conjecture. "
   ]
  }
 ],
 "metadata": {
  "kernelspec": {
   "argv": [
    "/usr/bin/python3",
    "-m",
    "ipykernel",
    "--HistoryManager.enabled=False",
    "--matplotlib=inline",
    "-c",
    "%config InlineBackend.figure_formats = set(['retina'])\nimport matplotlib; matplotlib.rcParams['figure.figsize'] = (12, 7)",
    "-f",
    "{connection_file}"
   ],
   "display_name": "Python 3 (system-wide)",
   "env": {
   },
   "language": "python",
   "metadata": {
    "cocalc": {
     "description": "Python 3 programming language",
     "priority": 100,
     "url": "https://www.python.org/"
    }
   },
   "name": "python3",
   "resource_dir": "/ext/jupyter/kernels/python3"
  }
 },
 "nbformat": 4,
 "nbformat_minor": 4
}