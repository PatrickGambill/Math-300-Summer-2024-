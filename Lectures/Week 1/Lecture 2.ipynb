{
 "cells": [
  {
   "cell_type": "markdown",
   "metadata": {
    "collapsed": false
   },
   "source": [
    "# Lecture 2 #"
   ]
  },
  {
   "cell_type": "markdown",
   "metadata": {
    "collapsed": false
   },
   "source": [
    "## Ints vs Floats ##"
   ]
  },
  {
   "cell_type": "markdown",
   "metadata": {
    "collapsed": false
   },
   "source": [
    "In Python, ints have arbitrary precision. Even if there are memory issues, this is due to the settings in the notebook, rather than the precision of the ints themselves."
   ]
  },
  {
   "cell_type": "code",
   "execution_count": 3,
   "metadata": {
    "collapsed": false
   },
   "outputs": [
    {
     "ename": "ValueError",
     "evalue": "Exceeds the limit (4300) for integer string conversion; use sys.set_int_max_str_digits() to increase the limit",
     "output_type": "error",
     "traceback": [
      "\u001b[0;31m---------------------------------------------------------------------------\u001b[0m",
      "\u001b[0;31mValueError\u001b[0m                                Traceback (most recent call last)",
      "\u001b[0;32m/tmp/ipykernel_787/1870867648.py\u001b[0m in \u001b[0;36m<cell line: 2>\u001b[0;34m()\u001b[0m\n\u001b[1;32m      1\u001b[0m \u001b[0;31m#In Python, Ints have arbitrary precision\u001b[0m\u001b[0;34m\u001b[0m\u001b[0;34m\u001b[0m\u001b[0m\n\u001b[0;32m----> 2\u001b[0;31m \u001b[0mprint\u001b[0m\u001b[0;34m(\u001b[0m\u001b[0;36m2\u001b[0m\u001b[0;34m**\u001b[0m\u001b[0;36m1000000\u001b[0m\u001b[0;34m)\u001b[0m\u001b[0;34m\u001b[0m\u001b[0;34m\u001b[0m\u001b[0m\n\u001b[0m\u001b[1;32m      3\u001b[0m \u001b[0;31m#Even with a very large number, a setting can be changed\u001b[0m\u001b[0;34m\u001b[0m\u001b[0;34m\u001b[0m\u001b[0m\n",
      "\u001b[0;31mValueError\u001b[0m: Exceeds the limit (4300) for integer string conversion; use sys.set_int_max_str_digits() to increase the limit"
     ]
    }
   ],
   "source": [
    "#In Python, Ints have arbitrary precision\n",
    "print(2**1000000)\n",
    "#Even with a very large number, a setting can be changed"
   ]
  },
  {
   "cell_type": "markdown",
   "metadata": {
    "collapsed": false
   },
   "source": [
    "By comparison, floats in Python are doubles point precision. This means there is only 64 bits of precision. For very small numbers this can lead to rounding and precision errors. In Python, Ints  tend to be faster than floats. For most operations, this isn't an issue. For repeated computations, this time difference can add up."
   ]
  },
  {
   "cell_type": "code",
   "execution_count": 4,
   "metadata": {
    "collapsed": false
   },
   "outputs": [
   ],
   "source": [
    "#The int computation\n",
    "for i in range(100000000):\n",
    "    2 + 3\n"
   ]
  },
  {
   "cell_type": "code",
   "execution_count": 5,
   "metadata": {
    "collapsed": false
   },
   "outputs": [
   ],
   "source": [
    "#The float computation\n",
    "for i in range(100000000):\n",
    "    2.1+3.1\n"
   ]
  },
  {
   "cell_type": "markdown",
   "metadata": {
    "collapsed": false
   },
   "source": [
    "## Fibonacci Numbers ##\n",
    "\n",
    "Binet's Formula can be used to generate the Fibonacci numbers. Google shows multiple derivations of this formula.\n",
    "\n",
    "$$ F_n = \\frac{(\\frac{1+\\sqrt{5}}{2})^n - (\\frac{1-\\sqrt{5}}{2})^n}{\\sqrt{5}} $$\n",
    "\n",
    "\n",
    "\n",
    "Below is an implementation of Binet's formula (if you haven't already done this, try implementing this yourself).\n",
    "\n",
    "Try running the code for \n",
    "* $n=10$\n",
    "* $n=100$\n",
    "* $n=1000$\n",
    "* $n=10000$\n",
    "\n",
    "What happens for each $n$ value?"
   ]
  },
  {
   "cell_type": "code",
   "execution_count": 13,
   "metadata": {
    "collapsed": false
   },
   "outputs": [
    {
     "name": "stdout",
     "output_type": "stream",
     "text": [
      "55.000000000000014\n"
     ]
    }
   ],
   "source": [
    "n = 10\n",
    "\n",
    "a = (1+5**(0.5))/(2)\n",
    "b = (1-5**(0.5))/(2)\n",
    "Fn = 1/(5**(0.5)) * (a**n - b**n)\n",
    "\n",
    "print(Fn)"
   ]
  },
  {
   "cell_type": "markdown",
   "metadata": {
    "collapsed": false
   },
   "source": [
    "Even though Binet's formula seems like it would be more efficient (since it doesn't require any loops), the precision of floats becomes an issue. For some values of $n$, we get a rounded value of $F_n$. For larger values of $n$ we get an error with large enough $n$ values! Let's compare this to the code the AI generates: \n",
    "\n",
    "Try running the AI's code for \n",
    "\n",
    "* $n=5$\n",
    "* $n=10$\n",
    "* $n=20$\n",
    "* $n=30$\n",
    "* $n=40$ (This one might take a while)"
   ]
  },
  {
   "cell_type": "code",
   "execution_count": 17,
   "metadata": {
    "collapsed": false
   },
   "outputs": [
    {
     "name": "stdout",
     "output_type": "stream",
     "text": [
      "102334155\n"
     ]
    }
   ],
   "source": [
    "#This is the AI's function\n",
    "def fibonacci(n):\n",
    "  if n <= 1:\n",
    "    return n\n",
    "  else:\n",
    "    return fibonacci(n-1) + fibonacci(n-2)\n",
    "\n",
    "#Change this n value to plug in different values of n into the AIs function.\n",
    "n = 40\n",
    "print(fibonacci(n))"
   ]
  },
  {
   "cell_type": "markdown",
   "metadata": {
    "collapsed": false
   },
   "source": [
    "The AI's code is much slower than ours, and breaks well before ours. When we learn about loops next week, we will learn an efficient way to compute Fibonacci numbers that is not susceptible to the same precision and memory issues the above methods have. "
   ]
  },
  {
   "cell_type": "markdown",
   "metadata": {
    "collapsed": false
   },
   "source": [
    "## Strings ##\n",
    "\n",
    "A string is an array of characters. We often use strings when working with text. Strings are often used when collecting and storing data. Here are some common ways to manipulate strings in Python:"
   ]
  },
  {
   "cell_type": "code",
   "execution_count": 8,
   "metadata": {
    "collapsed": false
   },
   "outputs": [
    {
     "name": "stdout",
     "output_type": "stream",
     "text": [
      "This is a string\n",
      "This is also a string\n",
      "Thi\n",
      "Thi\n",
      "s a \n",
      "ing\n",
      "This \n",
      " is \n",
      "\n",
      "\n"
     ]
    }
   ],
   "source": [
    "#This is a string\n",
    "x = 'This is a string'\n",
    "y = \"This is also a string\"\n",
    "\n",
    "print(x)\n",
    "print(y)\n",
    "\n",
    "#Get the first 3 characters from a string\n",
    "print(x[0:3])\n",
    "#If no left number is specified, 0 is assumed\n",
    "print(x[:3])\n",
    "\n",
    "#Get the 6th through 9th characters\n",
    "print(x[6:10])\n",
    "\n",
    "#Return the last 3 characters. With no number right number specified, Python takes all the characters until the end of the string\n",
    "print(x[-3:])\n",
    "\n",
    "#\\n is a single character denoting an enter\n",
    "print(\"This \\n is \\n a \\n string\"[:10])\n",
    "\n",
    "print('a\\nb'[1])"
   ]
  },
  {
   "cell_type": "markdown",
   "metadata": {
    "collapsed": false
   },
   "source": [
    "In particular, strings consider spaces and enters as characters. We also have methods for modifying strings in Python."
   ]
  },
  {
   "cell_type": "code",
   "execution_count": 9,
   "metadata": {
    "collapsed": false
   },
   "outputs": [
    {
     "name": "stdout",
     "output_type": "stream",
     "text": [
      "This is a stringThis is also a string\n",
      "This is a string This is also a string\n",
      "Thisisastring\n",
      "Thws ws a strwng\n",
      "Tspam String\n",
      "Ti sasrn\n",
      "gnirts a si sihT\n",
      "git  ish\n",
      "this string has awful capitalization\n",
      "THIS STRING HAS AWFUL CAPITALIZATION\n"
     ]
    }
   ],
   "source": [
    "x = 'This is a string'\n",
    "y = \"This is also a string\"\n",
    "\n",
    "#Adding strings concatenates\n",
    "z = x + y\n",
    "print(z)\n",
    "\n",
    "#We can also add spaces\n",
    "z = x + \" \" + y\n",
    "print(z)\n",
    "\n",
    "#We can remove characters with the replace method\n",
    "strippedstring = x.replace(\" \", \"\")\n",
    "print(strippedstring)\n",
    "\n",
    "#We can replace a character or string of characters with another string\n",
    "replacedstring = x.replace(\"i\",\"w\")\n",
    "print(replacedstring)\n",
    "\n",
    "print(\"Test String\".replace(\"est\",\"spam\"))\n",
    "\n",
    "#This gives every other character\n",
    "print(x[::2])\n",
    "\n",
    "#This reverses the string\n",
    "print(x[::-1])\n",
    "\n",
    "#This reverses the string and takes every other character from the reversed string\n",
    "print(x[::-2])\n",
    "\n",
    "#Make all characters lowercase\n",
    "print(\"This String has AwFul CapItalIzaTion\".lower())\n",
    "\n",
    "#Makes all characters uppercase\n",
    "print(\"This String has AwFul CapItalIzaTion\".upper())"
   ]
  },
  {
   "cell_type": "markdown",
   "metadata": {
    "collapsed": false
   },
   "source": [
    "## Exercise ##\n",
    "\n",
    "1. Take a paragraph from the syllabus and get it to print with the same enters and indentations as on the syllabus.\n",
    "\n",
    "2. Reverse this paragraph, remove all indentations and enters, make it all lowercase, and remove all spaces\n",
    "\n",
    "3. Replace all of the \"and\", \"or\", \"if\" and \"is\" with the word \"spam\" in the original paragraph."
   ]
  },
  {
   "cell_type": "markdown",
   "metadata": {
    "collapsed": false
   },
   "source": [
    "For 3, we have to be careful if we only want to replace the word \"if\", and not the \"if\" in the middle of other words. To do this, we make sure to include spaces in our replace method. We also need to be careful as the characters are case sensitive."
   ]
  },
  {
   "cell_type": "code",
   "execution_count": 10,
   "metadata": {
    "collapsed": false
   },
   "outputs": [
    {
     "name": "stdout",
     "output_type": "stream",
     "text": [
      "Jiffy spam spiffy If nifty\n"
     ]
    }
   ],
   "source": [
    "print(\"Jiffy if spiffy If nifty\".replace(\" if \",\" spam \"))"
   ]
  }
 ],
 "metadata": {
  "kernelspec": {
   "argv": [
    "/usr/bin/python3",
    "-m",
    "ipykernel",
    "--HistoryManager.enabled=False",
    "--matplotlib=inline",
    "-c",
    "%config InlineBackend.figure_formats = set(['retina'])\nimport matplotlib; matplotlib.rcParams['figure.figsize'] = (12, 7)",
    "-f",
    "{connection_file}"
   ],
   "display_name": "Python 3 (system-wide)",
   "env": {
   },
   "language": "python",
   "metadata": {
    "cocalc": {
     "description": "Python 3 programming language",
     "priority": 100,
     "url": "https://www.python.org/"
    }
   },
   "name": "python3",
   "resource_dir": "/ext/jupyter/kernels/python3"
  }
 },
 "nbformat": 4,
 "nbformat_minor": 4
}