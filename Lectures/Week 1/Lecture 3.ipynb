{
 "cells": [
  {
   "cell_type": "markdown",
   "metadata": {
    "collapsed": false
   },
   "source": [
    "# Lecture 3 #\n",
    "\n",
    "## Bools ##\n",
    "\n",
    "Bools are only able to be True or False. These are useful for symbolic logic."
   ]
  },
  {
   "cell_type": "code",
   "execution_count": 3,
   "metadata": {
    "collapsed": false
   },
   "outputs": [
    {
     "name": "stdout",
     "output_type": "stream",
     "text": [
      "False\n",
      "True\n",
      "True\n"
     ]
    }
   ],
   "source": [
    "#These are bools\n",
    "x = True\n",
    "y = False\n",
    "\n",
    "#and \n",
    "print(x and y)\n",
    "\n",
    "#or\n",
    "print(x or y)\n",
    "\n",
    "#not\n",
    "print(x and not y)"
   ]
  },
  {
   "cell_type": "markdown",
   "metadata": {
    "collapsed": false
   },
   "source": [
    "## Comparison Operators ##\n",
    "\n",
    "The six comparison operators are: >,<,,>=,<=,==,!=. These can be used when comparing objects in Python. In particular, we use the inequalities for comparing numbers, and the == and != operators for comparing any objects."
   ]
  },
  {
   "cell_type": "code",
   "execution_count": 4,
   "metadata": {
    "collapsed": false
   },
   "outputs": [
    {
     "name": "stdout",
     "output_type": "stream",
     "text": [
      "True\n",
      "False\n",
      "False\n",
      "True\n",
      "True\n",
      "True\n"
     ]
    }
   ],
   "source": [
    "#<\n",
    "print(3<4)\n",
    "\n",
    "#>=\n",
    "print(3>=4)\n",
    "\n",
    "#Check for equality\n",
    "print(3==4)\n",
    "\n",
    "#Check for not equal\n",
    "print(x != 2)\n",
    "\n",
    "#Ints and floats are converted when comparing\n",
    "print(3.0 == 3)\n",
    "\n",
    "#Strings are not converted when comparing\n",
    "print('3' != 3)"
   ]
  },
  {
   "cell_type": "markdown",
   "metadata": {
    "collapsed": false
   },
   "source": [
    "## Ex 1 ##\n",
    "\n",
    "We can also verify mathematical statements with these comparison operators. Without going through the hassle of counting digits, we can use Python to determine if the below statement is true.\n",
    "$$ 3^{710} < 2^{41} * 3^{41} - 73 + 4^{620} $$"
   ]
  },
  {
   "cell_type": "code",
   "execution_count": 5,
   "metadata": {
    "collapsed": false
   },
   "outputs": [
    {
     "name": "stdout",
     "output_type": "stream",
     "text": [
      "570283558599802720729080889519397401298331672107035808202349418007902733054547637450043772358052400747706159384400430504968104409740878195027939534528547777149043825161094067750579204287972313924468211379724067450267550338320213862651475534527651794249291055282018297084885995401240144022899674075801411646172502372282755021599143502105049\n",
      "18931918374918312259842860525830629810325739976663871503331597251242070450959291152707445583896195211932393456580541183559732537557144432699969741598901820476247175082588401611743726515963469047115648973972729092950782937164237371447529769983590559225799277347161770791969350439154833301774897030356294275128799603777480153488247079601447618320837496701294695264000233439159\n",
      "True\n"
     ]
    }
   ],
   "source": [
    "x = 3**710\n",
    "y = (2**41) * (3**41) - 73 + 4**620\n",
    "\n",
    "print(x)\n",
    "print(y)\n",
    "\n",
    "print(x<y)"
   ]
  },
  {
   "cell_type": "markdown",
   "metadata": {
    "collapsed": false
   },
   "source": [
    "Strings, ints, and floats can be converted into bools. Bools can be converted into strings ints, and floats. This is not transitive however. If we try taking the bool, True, convert it into a string, then into an int, we will get an error."
   ]
  },
  {
   "cell_type": "code",
   "execution_count": 6,
   "metadata": {
    "collapsed": false
   },
   "outputs": [
    {
     "name": "stdout",
     "output_type": "stream",
     "text": [
      "True\n",
      "False\n",
      "True\n",
      "False\n",
      "Truestring = True\n"
     ]
    },
    {
     "ename": "ValueError",
     "evalue": "invalid literal for int() with base 10: 'True'",
     "output_type": "error",
     "traceback": [
      "\u001b[0;31m---------------------------------------------------------------------------\u001b[0m",
      "\u001b[0;31mValueError\u001b[0m                                Traceback (most recent call last)",
      "\u001b[0;32m/tmp/ipykernel_962/113599375.py\u001b[0m in \u001b[0;36m<cell line: 14>\u001b[0;34m()\u001b[0m\n\u001b[1;32m     12\u001b[0m \u001b[0mprint\u001b[0m\u001b[0;34m(\u001b[0m\u001b[0;34m\"Truestring = \"\u001b[0m \u001b[0;34m+\u001b[0m \u001b[0mtruestring\u001b[0m\u001b[0;34m)\u001b[0m\u001b[0;34m\u001b[0m\u001b[0;34m\u001b[0m\u001b[0m\n\u001b[1;32m     13\u001b[0m \u001b[0;31m#This line will give an error\u001b[0m\u001b[0;34m\u001b[0m\u001b[0;34m\u001b[0m\u001b[0m\n\u001b[0;32m---> 14\u001b[0;31m \u001b[0mint\u001b[0m\u001b[0;34m(\u001b[0m\u001b[0mtruestring\u001b[0m\u001b[0;34m)\u001b[0m\u001b[0;34m\u001b[0m\u001b[0;34m\u001b[0m\u001b[0m\n\u001b[0m",
      "\u001b[0;31mValueError\u001b[0m: invalid literal for int() with base 10: 'True'"
     ]
    }
   ],
   "source": [
    "#Any nonzero int becomes true\n",
    "mynum = 7\n",
    "print(bool(mynum))\n",
    "print(bool(0))\n",
    "\n",
    "#Any nonempty string is True\n",
    "print(bool('Cabbage'))\n",
    "print(bool(''))\n",
    "\n",
    "#We can also convert other types into strings\n",
    "truestring = str(True)\n",
    "print(\"Truestring = \" + truestring)\n",
    "#This line will give an error\n",
    "int(truestring)"
   ]
  },
  {
   "cell_type": "markdown",
   "metadata": {
    "collapsed": false
   },
   "source": [
    "We can convert strings into numbers if the string only consists of number however. "
   ]
  },
  {
   "cell_type": "code",
   "execution_count": 7,
   "metadata": {
    "collapsed": false
   },
   "outputs": [
    {
     "name": "stdout",
     "output_type": "stream",
     "text": [
      "123123\n",
      "123123\n"
     ]
    }
   ],
   "source": [
    "mynum = 123123\n",
    "mystring = str(mynum)\n",
    "print(str(mystring))\n",
    "mynum1 = int(mystring)\n",
    "print(mynum1)"
   ]
  },
  {
   "cell_type": "markdown",
   "metadata": {
    "collapsed": false
   },
   "source": [
    "# Lists and Tuples #\n",
    "\n",
    "Lists and tuples both store collections of objects. These objects do not need to be the same type in order for this to work. In general, lists are more flexible than tuples, but are slower. "
   ]
  },
  {
   "cell_type": "code",
   "execution_count": 8,
   "metadata": {
    "collapsed": false
   },
   "outputs": [
    {
     "name": "stdout",
     "output_type": "stream",
     "text": [
      "[1, 2, 3, 4, 5, 6]\n",
      "[1, 2, 3]\n",
      "[5, 4, 3]\n",
      "1\n",
      "('a', 'b', 'c')\n",
      "('a', 'b')\n"
     ]
    }
   ],
   "source": [
    "#This is a list\n",
    "mylist = [1,2,3,4,5,6]\n",
    "print(mylist)\n",
    "\n",
    "#Access elements of a list\n",
    "print(mylist[:3])\n",
    "print(mylist[4:1:-1])\n",
    "print(mylist[0])\n",
    "\n",
    "#This is a tuple\n",
    "mytuple = ('a','b','c')\n",
    "print(mytuple)\n",
    "#We access elements of a tuple using the same notation\n",
    "print(mytuple[:2])"
   ]
  },
  {
   "cell_type": "markdown",
   "metadata": {
    "collapsed": false
   },
   "source": [
    "There are a few differences between the types."
   ]
  },
  {
   "cell_type": "code",
   "execution_count": 9,
   "metadata": {
    "collapsed": false
   },
   "outputs": [
    {
     "name": "stdout",
     "output_type": "stream",
     "text": [
      "[1, 2, 3, 4, 5, 6, 7, 'a', 'b', 'c', True, False]\n",
      "(1, 2, 3, 4, 5, 6, 7, 'a', 'b', 'c', True, False)\n",
      "[1, 2, 3, 4, 5, 6, 7, 8]\n"
     ]
    },
    {
     "ename": "AttributeError",
     "evalue": "'tuple' object has no attribute 'append'",
     "output_type": "error",
     "traceback": [
      "\u001b[0;31m---------------------------------------------------------------------------\u001b[0m",
      "\u001b[0;31mAttributeError\u001b[0m                            Traceback (most recent call last)",
      "\u001b[0;32m/tmp/ipykernel_962/3846281631.py\u001b[0m in \u001b[0;36m<cell line: 19>\u001b[0;34m()\u001b[0m\n\u001b[1;32m     17\u001b[0m \u001b[0;34m\u001b[0m\u001b[0m\n\u001b[1;32m     18\u001b[0m \u001b[0;31m#The same doesn't work with tuples\u001b[0m\u001b[0;34m\u001b[0m\u001b[0;34m\u001b[0m\u001b[0m\n\u001b[0;32m---> 19\u001b[0;31m \u001b[0mtuple1\u001b[0m\u001b[0;34m.\u001b[0m\u001b[0mappend\u001b[0m\u001b[0;34m(\u001b[0m\u001b[0;36m8\u001b[0m\u001b[0;34m)\u001b[0m\u001b[0;34m\u001b[0m\u001b[0;34m\u001b[0m\u001b[0m\n\u001b[0m",
      "\u001b[0;31mAttributeError\u001b[0m: 'tuple' object has no attribute 'append'"
     ]
    }
   ],
   "source": [
    "list1 = [1,2,3,4,5,6,7]\n",
    "list2 = ['a','b','c',True, False]\n",
    "tuple1 = (1,2,3,4,5,6,7)\n",
    "tuple2 = ('a','b','c',True, False)\n",
    "\n",
    "#We can add lists to make a new list\n",
    "addedlist = list1 + list2\n",
    "print(addedlist)\n",
    "\n",
    "#We can do the same with tuples\n",
    "addedtuple = tuple1+ tuple2\n",
    "print(addedtuple)\n",
    "\n",
    "#We can also append to lists\n",
    "list1.append(8)\n",
    "print(list1)\n",
    "\n",
    "#The same doesn't work with tuples\n",
    "tuple1.append(8)"
   ]
  },
  {
   "cell_type": "markdown",
   "metadata": {
    "collapsed": false
   },
   "source": [
    "We can use the pop method to remove an element of a list. This will return the element removed, so it is possible to print and store the \"popped\" element if you wish. The same is not true for tuples."
   ]
  },
  {
   "cell_type": "code",
   "execution_count": 10,
   "metadata": {
    "collapsed": false
   },
   "outputs": [
    {
     "name": "stdout",
     "output_type": "stream",
     "text": [
      "2\n",
      "[1, 3, 4, 5, 6, 7]\n"
     ]
    },
    {
     "ename": "AttributeError",
     "evalue": "'tuple' object has no attribute 'pop'",
     "output_type": "error",
     "traceback": [
      "\u001b[0;31m---------------------------------------------------------------------------\u001b[0m",
      "\u001b[0;31mAttributeError\u001b[0m                            Traceback (most recent call last)",
      "\u001b[0;32m/tmp/ipykernel_962/4195280862.py\u001b[0m in \u001b[0;36m<cell line: 6>\u001b[0;34m()\u001b[0m\n\u001b[1;32m      4\u001b[0m \u001b[0;34m\u001b[0m\u001b[0m\n\u001b[1;32m      5\u001b[0m \u001b[0mtuple1\u001b[0m \u001b[0;34m=\u001b[0m \u001b[0;34m(\u001b[0m\u001b[0;36m1\u001b[0m\u001b[0;34m,\u001b[0m\u001b[0;36m2\u001b[0m\u001b[0;34m,\u001b[0m\u001b[0;36m3\u001b[0m\u001b[0;34m,\u001b[0m\u001b[0;36m4\u001b[0m\u001b[0;34m,\u001b[0m\u001b[0;36m5\u001b[0m\u001b[0;34m,\u001b[0m\u001b[0;36m6\u001b[0m\u001b[0;34m,\u001b[0m\u001b[0;36m7\u001b[0m\u001b[0;34m)\u001b[0m\u001b[0;34m\u001b[0m\u001b[0;34m\u001b[0m\u001b[0m\n\u001b[0;32m----> 6\u001b[0;31m \u001b[0mtuple1\u001b[0m\u001b[0;34m.\u001b[0m\u001b[0mpop\u001b[0m\u001b[0;34m(\u001b[0m\u001b[0;36m1\u001b[0m\u001b[0;34m)\u001b[0m\u001b[0;34m\u001b[0m\u001b[0;34m\u001b[0m\u001b[0m\n\u001b[0m\u001b[1;32m      7\u001b[0m \u001b[0mprint\u001b[0m\u001b[0;34m(\u001b[0m\u001b[0mtuple1\u001b[0m\u001b[0;34m)\u001b[0m\u001b[0;34m\u001b[0m\u001b[0;34m\u001b[0m\u001b[0m\n",
      "\u001b[0;31mAttributeError\u001b[0m: 'tuple' object has no attribute 'pop'"
     ]
    }
   ],
   "source": [
    "list1 = [1,2,3,4,5,6,7]\n",
    "print(list1.pop(1))\n",
    "print(list1)\n",
    "\n",
    "tuple1 = (1,2,3,4,5,6,7)\n",
    "tuple1.pop(1)\n",
    "print(tuple1)"
   ]
  },
  {
   "cell_type": "markdown",
   "metadata": {
    "collapsed": false
   },
   "source": [
    "If we wish to convert an element in the middle of the list, it is possible to do so. For a tuple, you have to define an entire new tuple for this to work."
   ]
  },
  {
   "cell_type": "code",
   "execution_count": 11,
   "metadata": {
    "collapsed": false
   },
   "outputs": [
    {
     "name": "stdout",
     "output_type": "stream",
     "text": [
      "[1, 2, 3, 'Coconut', 5, 6, 7]\n",
      "(1, 2, 3, 'Shrubbery', 5, 6, 7)\n"
     ]
    }
   ],
   "source": [
    "list1 = [1,2,3,4,5,6,7]\n",
    "tuple1 = (1,2,3,4,5,6,7)\n",
    "\n",
    "list1[3] = 'Coconut'\n",
    "tuple1 = (1,2,3,\"Shrubbery\",5,6,7)\n",
    "\n",
    "print(list1)\n",
    "print(tuple1)"
   ]
  },
  {
   "cell_type": "markdown",
   "metadata": {
    "collapsed": false
   },
   "source": [
    "It is possible to sort a list. This will sort strings by the ASCII ordering. For numbers, it will sort from least to greatest. It is not possible to sort a tuple."
   ]
  },
  {
   "cell_type": "code",
   "execution_count": 12,
   "metadata": {
    "collapsed": false
   },
   "outputs": [
    {
     "name": "stdout",
     "output_type": "stream",
     "text": [
      "[686767867, 78787, 12123, 2323, 98, 7, 2, 2, 2]\n"
     ]
    },
    {
     "ename": "AttributeError",
     "evalue": "'tuple' object has no attribute 'sort'",
     "output_type": "error",
     "traceback": [
      "\u001b[0;31m---------------------------------------------------------------------------\u001b[0m",
      "\u001b[0;31mAttributeError\u001b[0m                            Traceback (most recent call last)",
      "\u001b[0;32m/tmp/ipykernel_962/1433873157.py\u001b[0m in \u001b[0;36m<cell line: 9>\u001b[0;34m()\u001b[0m\n\u001b[1;32m      7\u001b[0m \u001b[0;34m\u001b[0m\u001b[0m\n\u001b[1;32m      8\u001b[0m \u001b[0;31m#Tuples cannot\u001b[0m\u001b[0;34m\u001b[0m\u001b[0;34m\u001b[0m\u001b[0m\n\u001b[0;32m----> 9\u001b[0;31m \u001b[0munsortedtuple\u001b[0m\u001b[0;34m.\u001b[0m\u001b[0msort\u001b[0m\u001b[0;34m(\u001b[0m\u001b[0;34m)\u001b[0m\u001b[0;34m\u001b[0m\u001b[0;34m\u001b[0m\u001b[0m\n\u001b[0m\u001b[1;32m     10\u001b[0m \u001b[0mprint\u001b[0m\u001b[0;34m(\u001b[0m\u001b[0munsortedtuple\u001b[0m\u001b[0;34m)\u001b[0m\u001b[0;34m\u001b[0m\u001b[0;34m\u001b[0m\u001b[0m\n",
      "\u001b[0;31mAttributeError\u001b[0m: 'tuple' object has no attribute 'sort'"
     ]
    }
   ],
   "source": [
    "unsortedlist = [2,7,2,98,2,78787,2323,686767867,12123]\n",
    "unsortedtuple = (1,23232,687767,13123,58567,2,7)\n",
    "\n",
    "#Lists can sort\n",
    "unsortedlist.sort(reverse = True)\n",
    "print(unsortedlist)\n",
    "\n",
    "#Tuples cannot\n",
    "unsortedtuple.sort()\n",
    "print(unsortedtuple)"
   ]
  },
  {
   "cell_type": "markdown",
   "metadata": {
    "collapsed": false
   },
   "source": [
    "We can work around this by converting a tuple to a list before sorting, then converting back afterwards."
   ]
  },
  {
   "cell_type": "code",
   "execution_count": 13,
   "metadata": {
    "collapsed": false
   },
   "outputs": [
    {
     "name": "stdout",
     "output_type": "stream",
     "text": [
      "(1, 2, 7, 13123, 23232, 58567, 687767)\n",
      "(1, 2, 3, 'Shrubbery', 5, 6, 7)\n"
     ]
    }
   ],
   "source": [
    "#Workaround for sorting a tuple\n",
    "unsortedtuple = (1,23232,687767,13123,58567,2,7)\n",
    "\n",
    "templist = list(unsortedtuple)\n",
    "templist.sort()\n",
    "unsortedtuple = tuple(templist)\n",
    "\n",
    "print(unsortedtuple)\n",
    "\n",
    "#Workaround for changing an element in a tuple\n",
    "mytuple = (1,2,3,4,5,6,7)\n",
    "mytuple = list(mytuple)\n",
    "mytuple[3] = \"Shrubbery\"\n",
    "mytuple = tuple(mytuple)\n",
    "print(mytuple)"
   ]
  },
  {
   "cell_type": "markdown",
   "metadata": {
    "collapsed": false
   },
   "source": [
    "If we convert a string to a list, we get a list of the characters."
   ]
  },
  {
   "cell_type": "code",
   "execution_count": 14,
   "metadata": {
    "collapsed": false
   },
   "outputs": [
    {
     "name": "stdout",
     "output_type": "stream",
     "text": [
      "['s', 'h', 'r', 'u', 'b', 'b', 'e', 'r', 'y']\n",
      "['b', 'b', 'e', 'h', 'r', 'r', 's', 'u', 'y']\n",
      "['b', 'b', 'e', 'h', 'r', 'r', 's', 'u', 'y']\n"
     ]
    }
   ],
   "source": [
    "stringtolist = list(\"shrubbery\")\n",
    "print(stringtolist)\n",
    "\n",
    "#You can sort characters alphabetically\n",
    "stringtolist.sort()\n",
    "print(stringtolist)\n",
    "\n",
    "print(str(stringtolist))"
   ]
  },
  {
   "cell_type": "markdown",
   "metadata": {
    "collapsed": false
   },
   "source": [
    "## Practice Problem 1 ##\n",
    "\n",
    "Take a paragraph of your choice from the syllabus. Convert it to a list of all of the characters listed in reverse alphabetical order.\n"
   ]
  },
  {
   "cell_type": "code",
   "execution_count": 12,
   "metadata": {
    "collapsed": false
   },
   "outputs": [
    {
     "name": "stdout",
     "output_type": "stream",
     "text": [
      "['y', 'y', 'y', 'w', 'w', 'v', 'v', 'u', 'u', 'u', 'u', 'u', 'u', 'u', 'u', 'u', 't', 't', 't', 't', 't', 't', 't', 't', 't', 't', 't', 't', 's', 's', 's', 's', 's', 's', 's', 's', 's', 's', 's', 's', 's', 's', 's', 's', 's', 's', 's', 's', 's', 's', 's', 's', 'r', 'r', 'r', 'r', 'r', 'r', 'r', 'r', 'r', 'r', 'r', 'r', 'r', 'r', 'r', 'r', 'r', 'r', 'p', 'p', 'p', 'p', 'o', 'o', 'o', 'o', 'o', 'o', 'o', 'o', 'o', 'o', 'o', 'o', 'o', 'o', 'o', 'o', 'n', 'n', 'n', 'n', 'n', 'n', 'n', 'n', 'n', 'n', 'n', 'n', 'n', 'n', 'n', 'n', 'n', 'n', 'n', 'n', 'n', 'n', 'm', 'm', 'm', 'm', 'l', 'l', 'l', 'l', 'l', 'l', 'l', 'l', 'l', 'i', 'i', 'i', 'i', 'i', 'i', 'i', 'i', 'i', 'i', 'i', 'i', 'i', 'i', 'i', 'i', 'i', 'i', 'i', 'i', 'i', 'i', 'i', 'i', 'h', 'h', 'h', 'h', 'g', 'g', 'g', 'f', 'f', 'f', 'e', 'e', 'e', 'e', 'e', 'e', 'e', 'e', 'e', 'e', 'e', 'e', 'e', 'e', 'e', 'e', 'e', 'e', 'e', 'e', 'e', 'd', 'd', 'd', 'd', 'd', 'd', 'd', 'd', 'd', 'd', 'c', 'c', 'c', 'c', 'c', 'c', 'c', 'c', 'c', 'c', 'c', 'c', 'b', 'b', 'b', 'a', 'a', 'a', 'a', 'a', 'a', 'a', 'a', 'a', 'a', 'a', 'a', 'a', 'a', 'a', 'a']\n"
     ]
    }
   ],
   "source": [
    "mystring = \"Students are responsible for reading and understanding all university-wide policies and resources pertaining to all courses (for instance: accommodations, crisis resources, policies on discrimination or harassment), which can be found in the university syllabus:\"\n",
    "\n",
    "#We need to make all characters lowercase, since ASCII treats capital and lower case characters differently when sorting. \n",
    "mystring = mystring.lower()\n",
    "#Convert the string to a list\n",
    "mylist = list(mystring)\n",
    "#Sort the list\n",
    "mylist.sort(reverse = True)\n",
    "#Slice the list to excluse any punctuation\n",
    "print(mylist[:221])"
   ]
  }
 ],
 "metadata": {
  "kernelspec": {
   "argv": [
    "/usr/bin/python3",
    "-m",
    "ipykernel",
    "--HistoryManager.enabled=False",
    "--matplotlib=inline",
    "-c",
    "%config InlineBackend.figure_formats = set(['retina'])\nimport matplotlib; matplotlib.rcParams['figure.figsize'] = (12, 7)",
    "-f",
    "{connection_file}"
   ],
   "display_name": "Python 3 (system-wide)",
   "env": {
   },
   "language": "python",
   "metadata": {
    "cocalc": {
     "description": "Python 3 programming language",
     "priority": 100,
     "url": "https://www.python.org/"
    }
   },
   "name": "python3",
   "resource_dir": "/ext/jupyter/kernels/python3"
  }
 },
 "nbformat": 4,
 "nbformat_minor": 4
}