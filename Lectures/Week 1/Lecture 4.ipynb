{
 "cells": [
  {
   "cell_type": "markdown",
   "metadata": {
    "collapsed": false
   },
   "source": [
    "# Lecture 4 #\n",
    "\n",
    "## More With Lists ##\n",
    "\n",
    "Here are a few more things we can do with lists."
   ]
  },
  {
   "cell_type": "code",
   "execution_count": 18,
   "metadata": {
    "collapsed": false
   },
   "outputs": [
    {
     "name": "stdout",
     "output_type": "stream",
     "text": [
      "[2, 3, 4, 5, 76, 'asd', [123, 'fd', 's'], 3]\n",
      "[2, 3, 5, 76, 'asd', [123, 'fd', 's'], 3]\n",
      "766454545445\n",
      "53433\n",
      "4\n",
      "False\n",
      "True\n"
     ]
    }
   ],
   "source": [
    "x = [1,2,3,4,5,76,'asd',[123,'fd','s'],3]\n",
    "y = [123123,53433,1231233,766454545445]\n",
    "\n",
    "#Delete the 0th element of the list\n",
    "del x[0]\n",
    "print(x)\n",
    "\n",
    "#Remove first occurrance of object in a list\n",
    "x.remove(4)\n",
    "print(x)\n",
    "\n",
    "#max value in list\n",
    "print(max(y))\n",
    "#min value in list\n",
    "print(min(y))\n",
    "\n",
    "#length of list\n",
    "print(len(y))\n",
    "\n",
    "#Check if an object is in list\n",
    "print(1 in x)\n",
    "print(2 in x)"
   ]
  },
  {
   "cell_type": "markdown",
   "metadata": {
    "collapsed": false
   },
   "source": [
    "## Dictionaries ##\n",
    "Dictionaries are used for storing key-value pairs. These are helpful for \"looking up\" information given an input. Below we have an example usage with first name, last name pairs."
   ]
  },
  {
   "cell_type": "code",
   "execution_count": 31,
   "metadata": {
    "collapsed": false
   },
   "outputs": [
    {
     "name": "stdout",
     "output_type": "stream",
     "text": [
      "Mclellan\n",
      "dict_keys(['Patrick', 'Aiden', 'Kaitlyn', 'Doug'])\n",
      "dict_values(['Gambill', 'Sackmann', 'White', 'Mclellan'])\n",
      "dict_items([('Patrick', 'Gambill'), ('Aiden', 'Sackmann'), ('Kaitlyn', 'White'), ('Doug', 'Mclellan')])\n",
      "{'Patrick': 'Gambill', 'Aiden': 'Sackmann', 'Kaitlyn': 'White', 'Doug': 'Mclellan', 'Emmy': 'Noether'}\n",
      "Gambill\n",
      "{'Aiden': 'Sackmann', 'Kaitlyn': 'White', 'Doug': 'Mclellan', 'Emmy': 'Noether'}\n",
      "{'Aiden': 'Sackmann', 'Kaitlyn': 'White', 'Doug': 'Mclellan'}\n"
     ]
    }
   ],
   "source": [
    "mydict = {'Patrick':'Gambill', 'Aiden':'Sackmann', 'Kaitlyn':'White', 'Doug':'Mclellan'}\n",
    "print(mydict['Doug'])\n",
    "\n",
    "#Return the dictionary keys\n",
    "print(mydict.keys())\n",
    "#Return the dictionary values\n",
    "print(mydict.values())\n",
    "#Get the key,value pairs\n",
    "print(mydict.items())\n",
    "\n",
    "#Add a name to the list\n",
    "mydict['Emmy'] = 'Noether'\n",
    "print(mydict)\n",
    "\n",
    "#Remove elements by key (note that pop will return the value paired with the removed key)\n",
    "print(mydict.pop('Patrick'))\n",
    "print(mydict)\n",
    "\n",
    "#Remove elements by key without returning the paired value\n",
    "del mydict['Emmy']\n",
    "print(mydict)"
   ]
  },
  {
   "cell_type": "markdown",
   "metadata": {
    "collapsed": false
   },
   "source": [
    "## Valid Keys ##\n",
    "\n",
    "You can use most things as keys in dictionaries. There are a few exceptions however. "
   ]
  },
  {
   "cell_type": "code",
   "execution_count": 52,
   "metadata": {
    "collapsed": false
   },
   "outputs": [
    {
     "name": "stdout",
     "output_type": "stream",
     "text": [
      "{1: 3}\n"
     ]
    }
   ],
   "source": [
    "#Numbers work\n",
    "dict1 = {1.2:1,2.3:2,3:3}\n",
    "\n",
    "#Strings work\n",
    "dict2 = {'cat':1,'dog':2}\n",
    "\n",
    "#The line commented out below will give an error. Lists do not work as keys\n",
    "#dicterror = {[1,2,3]:1,[2,3,4]:2}\n",
    "\n",
    "#Tuples work as keys\n",
    "dict3 = {(1,2,3):1,(2,3,4):2}\n",
    "\n",
    "#Values can be almost anything (including lists, tuples, and dicts)\n",
    "dict4 = {1:[1,2,3],2:['cat','dog']}\n",
    "\n",
    "#Find the length of the dictionary (number of key value pairs)\n",
    "len(dict1)\n",
    "\n",
    "#Keys have to be unique. The most recent call of the key is the one that stays for the dictionary\n",
    "dict4 = {1:0, 1:2, 1:3}\n",
    "print(dict4)"
   ]
  },
  {
   "cell_type": "markdown",
   "metadata": {
    "collapsed": false
   },
   "source": [
    "## Practice ##\n",
    "\n",
    "Create a dictionary containing the days of the week as keys, and a list of the characters in each day as the value.\n",
    "\n",
    "i.e. days['Monday'] = ['M','o','n','d','a','y']\n",
    "\n",
    "There are a few methods we can use to do this."
   ]
  },
  {
   "cell_type": "code",
   "execution_count": 53,
   "metadata": {
    "collapsed": false
   },
   "outputs": [
    {
     "name": "stdout",
     "output_type": "stream",
     "text": [
      "{'Monday': ['M', 'o', 'n', 'd', 'a', 'y'], 'Tuesday': ['T', 'u', 'e', 's', 'd', 'a', 'y'], 'Wednesday': ['W', 'e', 'd', 'n', 'e', 's', 'd', 'a', 'y'], 'Thursday': ['T', 'h', 'u', 'r', 's', 'd', 'a', 'y'], 'Friday': ['F', 'r', 'i', 'd', 'a', 'y'], 'Saturday': ['S', 'a', 't', 'u', 'r', 'd', 'a', 'y'], 'Sunday': ['S', 'u', 'n', 'd', 'a', 'y']}\n",
      "{'Monday': ['M', 'o', 'n', 'd', 'a', 'y'], 'Tuesday': ['T', 'u', 'e', 's', 'd', 'a', 'y'], 'Wednesday': ['W', 'e', 'd', 'n', 'e', 's', 'd', 'a', 'y'], 'Thursday': ['T', 'h', 'u', 'r', 's', 'd', 'a', 'y'], 'Friday': ['F', 'r', 'i', 'd', 'a', 'y'], 'Saturday': ['S', 'a', 't', 'u', 'r', 'd', 'a', 'y'], 'Sunday': ['S', 'u', 'n', 'd', 'a', 'y']}\n",
      "{'Monday': ['M', 'o', 'n', 'd', 'a', 'y'], 'Tuesday': ['T', 'u', 'e', 's', 'd', 'a', 'y'], 'Wednesday': ['W', 'e', 'd', 'n', 'e', 's', 'd', 'a', 'y'], 'Thursday': ['T', 'h', 'u', 'r', 's', 'd', 'a', 'y'], 'Friday': ['F', 'r', 'i', 'd', 'a', 'y'], 'Saturday': ['S', 'a', 't', 'u', 'r', 'd', 'a', 'y'], 'Sunday': ['S', 'u', 'n', 'd', 'a', 'y']}\n"
     ]
    }
   ],
   "source": [
    "daylist = ['Monday','Tuesday','Wednesday', 'Thursday', 'Friday', 'Saturday', 'Sunday']\n",
    "\n",
    "#Method 1, call from elements of a list\n",
    "days1 = {daylist[0]:list(daylist[0]),daylist[1]:list(daylist[1]),daylist[2]:list(daylist[2]),daylist[3]:list(daylist[3]),daylist[4]:list(daylist[4]),daylist[5]:list(daylist[5]),daylist[6]:list(daylist[6])}\n",
    "print(days1)\n",
    "\n",
    "#Method 2, manually enter the days\n",
    "days2 = {'Monday':list('Monday'), 'Tuesday':list('Tuesday'),'Wednesday':list('Wednesday'),'Thursday':list('Thursday'),'Friday':list('Friday'),'Saturday':list('Saturday'),'Sunday':list('Sunday')}\n",
    "print(days2)\n",
    "\n",
    "#Method 3, dict comprehension (We will learn this next week)\n",
    "days3 = {daylist[i]:list(daylist[i]) for i in range(len(daylist))}\n",
    "print(days3)"
   ]
  },
  {
   "cell_type": "markdown",
   "metadata": {
    "collapsed": false
   },
   "source": [
    "## Type ##\n",
    "Sometimes it is helpful to know what type of object a variable is. This can be shown by using the type function."
   ]
  },
  {
   "cell_type": "code",
   "execution_count": 50,
   "metadata": {
    "collapsed": false
   },
   "outputs": [
    {
     "name": "stdout",
     "output_type": "stream",
     "text": [
      "<class 'tuple'>\n"
     ]
    }
   ],
   "source": [
    "x = 123123213.23232\n",
    "y = ['asdasd',(12123,1), 'asdasd']\n",
    "\n",
    "print(type(y[1]))"
   ]
  }
 ],
 "metadata": {
  "kernelspec": {
   "argv": [
    "/usr/bin/python3",
    "-m",
    "ipykernel",
    "--HistoryManager.enabled=False",
    "--matplotlib=inline",
    "-c",
    "%config InlineBackend.figure_formats = set(['retina'])\nimport matplotlib; matplotlib.rcParams['figure.figsize'] = (12, 7)",
    "-f",
    "{connection_file}"
   ],
   "display_name": "Python 3 (system-wide)",
   "env": {
   },
   "language": "python",
   "metadata": {
    "cocalc": {
     "description": "Python 3 programming language",
     "priority": 100,
     "url": "https://www.python.org/"
    }
   },
   "name": "python3",
   "resource_dir": "/ext/jupyter/kernels/python3"
  }
 },
 "nbformat": 4,
 "nbformat_minor": 4
}