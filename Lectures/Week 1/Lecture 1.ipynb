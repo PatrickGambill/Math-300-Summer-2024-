{
 "cells": [
  {
   "cell_type": "markdown",
   "metadata": {
    "collapsed": false
   },
   "source": [
    "# Lecture 1 #"
   ]
  },
  {
   "cell_type": "markdown",
   "metadata": {
    "collapsed": false
   },
   "source": [
    "## Warm up Problem ##"
   ]
  },
  {
   "cell_type": "markdown",
   "metadata": {
    "collapsed": false
   },
   "source": [
    "How many positive integers less than 1 million are not divisible by 2, 3, or 5?\n",
    "\n",
    "This could be done using inclusion-exclusion principle (which is often covered in an introductory combinatorics class). Alternatively, we can use the ***Fundamental Theorem of Enumeration*** (https://www.reddit.com/r/mathmemes/comments/12u75eh/the_fundamental_theorem_of_enumeration/).\n",
    "\n",
    "$$ |A| = \\sum_{a \\in A} 1$$\n",
    "\n",
    "Python is quite good at counting quickly, so we will use Python to count (and avoid using any tricks from combinatorics)."
   ]
  },
  {
   "cell_type": "code",
   "execution_count": 3,
   "metadata": {
    "collapsed": false
   },
   "outputs": [
    {
     "name": "stdout",
     "output_type": "stream",
     "text": [
      "333333\n"
     ]
    }
   ],
   "source": [
    "#Here is our count\n",
    "tot = 0\n",
    "#Here we will check each positive integer up to 1 million\n",
    "for i in range(1000000):\n",
    "    \n",
    "    #If the number is not divisible by 2,3, or 5, add 1 to our count\n",
    "    if ((i%2) * (i%3) * (i*5)) != 0:\n",
    "        tot+=1\n",
    "        \n",
    "#Output the total\n",
    "print(tot)"
   ]
  },
  {
   "cell_type": "markdown",
   "metadata": {
    "collapsed": false
   },
   "source": [
    "## Some markdown notation ##\n",
    "\n",
    "Here are some things you can type in markdown. Double click on the text cell below to see the syntax for each of these."
   ]
  },
  {
   "cell_type": "markdown",
   "metadata": {
    "collapsed": false
   },
   "source": [
    "# Big Title #\n",
    "## Medium Title ##\n",
    "### Smaller Title ###\n",
    "\n",
    "*Italicize*\n",
    "**Bold**\n",
    "***Both***\n",
    "\n",
    "* Bullet 1\n",
    "* Bullet 2\n",
    "\n",
    "1. **1**\n",
    "2. **2**\n",
    "\n",
    "$ 3x + 2x = 5x $\n",
    "\n",
    "Fraction $ \\frac{3}{11}$\n",
    "\n",
    "$ \\frac{d}{dx}$\n",
    "\n",
    "Centered and entered \n",
    "\n",
    "$$ 123 = 321 - x $$\n",
    "\n",
    "Integral $ \\int $\n",
    "\n",
    "Summation $ \\sum $\n",
    "\n",
    "Power  $x^{3*7}$\n",
    "\n",
    "Subscript $x_{21}$\n",
    "\n",
    "text $3x = \\text{sin}(x)$\n",
    "\n",
    "$\\ln$\n",
    "\n",
    "Make sure to use \\text when working with text in the middle of an equation. Otherwise you get an error like below.\n",
    "\n",
    "$\\functoin$"
   ]
  },
  {
   "cell_type": "markdown",
   "metadata": {
    "collapsed": false
   },
   "source": [
    "## Commenting ##\n",
    "\n",
    "When coding it is important to comment. This will help let yourself and others understand what each chunk of code is supposed to do. The computer will not read comments, and as a developer, this will make life much better when revisiting old code. I suggest using ChatGPT to write comments in the event you do not wish to do so by hand."
   ]
  },
  {
   "cell_type": "code",
   "execution_count": 17,
   "metadata": {
    "collapsed": false
   },
   "outputs": [
    {
     "name": "stdout",
     "output_type": "stream",
     "text": [
      "This is text\n",
      "This is also text\n"
     ]
    }
   ],
   "source": [
    "#The compute cannot read this\n",
    "#This is a separate line\n",
    "#This is a very secret message only for the developer\n",
    "\n",
    "'''Everything in here is a comment. This is sometimes called a docstring. asidjqw\n",
    "\\dqwhdqwd\n",
    "qwd\n",
    "qwd\n",
    "qw\n",
    "dqw\n",
    "dqw\n",
    "dqwd\n",
    "'''\n",
    "\n",
    "#x is a variable\n",
    "x = 7\n",
    "x += 3\n",
    "x -= 3434\n",
    "\n",
    "#When outputting code, we need to call a print statement to see what is going on.\n",
    "print('This is text')\n",
    "print(\"This is also text\")\n",
    "\n",
    "#IF you do not understand a function in Python, you can call help to see the documentation.\n",
    "help(int)"
   ]
  },
  {
   "cell_type": "code",
   "execution_count": 24,
   "metadata": {
    "collapsed": false
   },
   "outputs": [
   ],
   "source": [
    "#These are all valid variable names\n",
    "x = 3\n",
    "x0 = 3\n",
    "myNumber = 3\n",
    "my_number = 3\n",
    "\n",
    "#Valid variable names cannot start with numbers and cannot have spaces in the middle"
   ]
  },
  {
   "cell_type": "markdown",
   "metadata": {
    "collapsed": false
   },
   "source": [
    "## Integers ##\n",
    "\n",
    "Python can do a lot of operations with integers."
   ]
  },
  {
   "cell_type": "code",
   "execution_count": 46,
   "metadata": {
    "collapsed": false
   },
   "outputs": [
    {
     "name": "stdout",
     "output_type": "stream",
     "text": [
      "10\n",
      "4\n",
      "21\n",
      "2.3333333333333335\n",
      "1\n",
      "2\n",
      "343\n",
      "2.6457513110645907\n",
      "9233031140864094719132042393852804201194073347209734610834594348249031958627230173364238447005526118117509643702949840894807892907352401640582663696982910107331892509154584939000884907151160889061913724218756958513662018737922578618807207318585633179679504864509669084719780977126361307675969036722327515383424151537473210882520754919702663005696428501764734159591429742066754218796109752389348188238176694724321138746497766785690089475284022678977841735875920889869340989094936141578067079455174319907081008218519422040045507844625038725285934800014747512285386177015292484002726223334480553204648641195565352796300588149013280277736628966393693829484480899125851379820970609512471115012512159792240504585919905561896222493897377258352467978719307244800742227691033322838818047974814453770180828681328677427856086091978867850673729140652157971950213118814519684944463226612131559540577096571782496444693451010234781787995063515977461806609062325183770558051833197105046731744525918565817366411923845022004478412731731986813803594509961240251270536716090552801091043497249303895830490295650695245818401758238897946387139894902344604677406807743172555639283792519418928135782824235472250280676329552890904045843914894489497169477389124365267946563683158255030644120742583350286090487005054107820575451521334058629131072216821125177644744514468662668365498656016201089829836267957523668405571419375162751056112261941597094152317578140481291227609255978884028467268266134394402375581243919601856986428469367604267178349165392308106560966927772499497317057794792044691183694664260601241030414981346643110962897314255641915639708750524607738343356424206668330049515109524653882371650995416258967118909666501549884188642308213170338155543300101056446642170528366104839824523652596792382510791024884458571409947377069373504184016760690743955180321518901372638230215889414979794102627848091669944103853817784799834429960033551365925598558965798228525536155897584389996090458010309599190537672783941507499276334798170029069752818197372065518109418448076862409630092203962467285580167229371691307132857466379453464236624470505324462237919699625292663670056307993194029830719304315146737579644592856607916673221925244292563220294550391148815933792578009367460900056955033902735198743745868544617142631646848188813205729535455070626391717071547685699806243306731386791691948442359584651413930341718878074916430382544889556689591035389299274725981496596034663152167153564566554397239904971905624897382919965874347603956830779796027563154279232892005834143657046075346296578915725369715083143623232768804601605879890743904747165561844103211811727521812710144999983441927299403563262615232294943718546444143896557504593914387229234476241142655771988210390413385080788409600451074733561793779772392658788454469740480907816108383494878550083340480246627240256951522786667540481921061394959956445963780839367920702994642920169166038857243341441971650561933858284355756748945643293867302784589182143769873778729570387654716547561332756020693577725488511337669353393149780355978278743653152074113254596845754733899177287133350402447740630555845569933173565546317118605430114270918297299993942192212957192078931011875791882952099609871876034426731792282657677091695329835196019655927992872648358899247492345136086587429260808206145764302180814658369704199116484968470800856844997407879697533031007986793515779267285040351052052613313718795023064074911162065716896506772978897562969338854994572698582331886829177254908955002539360743416236524222059627000373658740057041602634334115702440797979091850704461679028302956632285159176777785668704786043371709360705282084221289297156964841702329173415080331810986893660037124831849897021505872045678521416199148294119568494104871968533646508832244215597585083838323931747464705062158678302003932977266988235411568556050308452775976587793031456564106102419478466789376\n"
     ]
    }
   ],
   "source": [
    "x = 7\n",
    "y = 3\n",
    "\n",
    "#Add Integers\n",
    "mysum = x + y\n",
    "\n",
    "print(mysum)\n",
    "\n",
    "#Subtract Integers\n",
    "mydif = x-y\n",
    "print(mydif)\n",
    "\n",
    "#Multiply Integers\n",
    "myprod = x*y\n",
    "print(myprod)\n",
    "\n",
    "#Divide Integers\n",
    "mydiv = x/y\n",
    "print(mydiv)\n",
    "\n",
    "#Modulo Integers (This is the remainder when taking x divided by y)\n",
    "mymod = x%y\n",
    "print(mymod)\n",
    "\n",
    "#Floor division (This is the x/y rounded down to the nearest integer)\n",
    "myfloor = x//y\n",
    "print(myfloor)\n",
    "\n",
    "#Exponent\n",
    "myexp = x**y\n",
    "print(myexp)\n",
    "\n",
    "#Square root\n",
    "myroot = x ** (1/2)\n",
    "print(myroot)\n",
    "\n",
    "#Python can work with very large integers easily and quickly. \n",
    "print(88**2000)"
   ]
  }
 ],
 "metadata": {
  "kernelspec": {
   "argv": [
    "/usr/bin/python3",
    "-m",
    "ipykernel",
    "--HistoryManager.enabled=False",
    "--matplotlib=inline",
    "-c",
    "%config InlineBackend.figure_formats = set(['retina'])\nimport matplotlib; matplotlib.rcParams['figure.figsize'] = (12, 7)",
    "-f",
    "{connection_file}"
   ],
   "display_name": "Python 3 (system-wide)",
   "env": {
   },
   "language": "python",
   "metadata": {
    "cocalc": {
     "description": "Python 3 programming language",
     "priority": 100,
     "url": "https://www.python.org/"
    }
   },
   "name": "python3",
   "resource_dir": "/ext/jupyter/kernels/python3"
  }
 },
 "nbformat": 4,
 "nbformat_minor": 4
}