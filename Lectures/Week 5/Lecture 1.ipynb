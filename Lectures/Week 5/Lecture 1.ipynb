{
 "cells": [
  {
   "cell_type": "markdown",
   "metadata": {
    "collapsed": false
   },
   "source": [
    "# Lecture 1 #\n",
    "## Classes ##"
   ]
  },
  {
   "cell_type": "code",
   "execution_count": 15,
   "metadata": {
    "collapsed": false
   },
   "outputs": [
    {
     "name": "stdout",
     "output_type": "stream",
     "text": [
      "<class '__main__.Card'>\n",
      "a\n",
      "s\n",
      "True\n",
      "False\n",
      "0\n",
      "Butch the Cougar\n",
      "as\n"
     ]
    }
   ],
   "source": [
    "class Card:\n",
    "    '''This class is for a card.'''\n",
    "    \n",
    "    def __init__(self,value,suit,faceup=True,player=0):\n",
    "        '''Create the card. Each card has a value and a suit.'''\n",
    "        \n",
    "        #Giving the defined card, its attributes\n",
    "        self.value = value\n",
    "        self.suit = suit\n",
    "        self.faceup = faceup\n",
    "        self.player = player\n",
    "    \n",
    "    def flip(self):\n",
    "        '''Flip the card over'''\n",
    "        \n",
    "        self.faceup = not self.faceup\n",
    "    \n",
    "    def changeplayer(self,newplayer):\n",
    "        self.player = newplayer\n",
    "    \n",
    "    def readcard(self):\n",
    "        '''Returns the full card'''\n",
    "        \n",
    "        return self.value + self.suit\n",
    "        \n",
    "mycard = Card('a','s')\n",
    "\n",
    "#The card object has its own type\n",
    "print(type(mycard))\n",
    "\n",
    "#We can get the value and suit of the card\n",
    "print(mycard.value)\n",
    "print(mycard.suit)\n",
    "\n",
    "print(mycard.faceup)\n",
    "\n",
    "mycard.flip()\n",
    "print(mycard.faceup)\n",
    "\n",
    "print(mycard.player)\n",
    "mycard.changeplayer(\"Butch the Cougar\")\n",
    "print(mycard.player)\n",
    "\n",
    "print(mycard.readcard())"
   ]
  },
  {
   "cell_type": "markdown",
   "metadata": {
    "collapsed": false
   },
   "source": [
    "## Start Building the Deck Object ##"
   ]
  },
  {
   "cell_type": "code",
   "execution_count": 29,
   "metadata": {
    "collapsed": false
   },
   "outputs": [
    {
     "name": "stdout",
     "output_type": "stream",
     "text": [
      "['0r', '+2r', 'sy', 'ck', '+4k', '6b', '5b', 'rr', '5g', '4g', '6g', '8y', 'sr', 'rr', '7b', '8b', '3r', '9r', '+2r', '7r', 'sb', 'sy', '7y', '8b', '+4k', 'ry', '+2y', '4y', '2b', '3b', '5r', '0y', '5r', '9b', '0g', '2g', '2b', '7b', 'ck', 'sb', '1g', 'rb', '8g', '1r', '+2b', '3r', 'rb', '1y', '3g', 'rg', '1r', '0b', '2r', 'sr', '5g', '4b', '6g', '+2y', 'sg', '9g', '8g', '4r', '3y', '8b', '0b', '8g', '7r', '1y', '9g', '4y', '2g', '4g', '9r', '5g', '+4k', '+2y', 'sg', '+4k', '0r', '9y', '5b', '3b', '7b', '6g', 'sb', '3y', '+2g', '1y', '5y', '6y', '4r', '0y', '3g', '4b', '7y', 'ck', '9y', '2r', '9r', 'sg', 'rb', '5y', '6r', '+2r', '0g', '3y', '7y', '1b', '4r', '+4k', '6g', '+2y', '1y', '7g', '5b', 'sy', '9b', '6y', '3r', '2r', '4b', 'ck', '0y', '0g', '4g', '8g', '+2r', '3b', 'ry', '2y', 'rr', '2b', '0b', '0r', '8y', 'rg', '9b', '8r', '1b', '8r', 'sy', '7g', '0r', 'ck', '7g', '4r', '0b', '9y', '+4k', 'ck', '6y', '9b', '1g', 'ry', '5b', '5r', '4b', '7g', '1b', '6r', '7r', '9g', '1g', '0y', '5g', '0g', '4y', '8y', '3y', '2y', '1r', '2y', '4g', '6b', '+2b', '3g', '5y', '8b', '2r', '3r', '9g', '+2b', '6b', '+2g', '2y', 'sg', '+2g', '6r', 'sr', 'rg', '2g', '6r', '6b', '4y', '+4k', '8r', 'sr', 'ck', '5y', '7y', '+2g', 'ck', '1r', '1g', '8y', 'rg', '5r', 'rr', '9y', '+2b', '2g', '2b', '+4k', '8r', '9r', 'ry', 'rb', '7b', 'sb', '3b', '6y', '3g', '7r', '1b']\n"
     ]
    }
   ],
   "source": [
    "class Deck:\n",
    "    '''This is a deck of cards.'''\n",
    "    def __init__(self):\n",
    "        '''Create the deck of cards'''\n",
    "        \n",
    "        self.cards = []\n",
    "        self.discards = []\n",
    "        self.inhands = []\n",
    "        \n",
    "    def generate(self, numdecks = 1,decktype = 'standard'):\n",
    "        \n",
    "        import random as random\n",
    "        if decktype == 'standard':\n",
    "            values = ['a','2','3','4','5','6','7','8','9','t','j','q','k']\n",
    "            suits = ['c','d','h','s']\n",
    "        elif decktype == 'pinochle':\n",
    "            values = ['a','9','t','j','q','k']*2\n",
    "            suits = ['c','d','h','s']\n",
    "        elif decktype == 'dpinochle':\n",
    "            values = ['a','t','j','q','k']*4\n",
    "            suits = ['c','d','h','s']\n",
    "        elif decktype == 'uno':\n",
    "            values = ['0','1','2','3','4','5','6','7','8','9','s','r','+2']*4\n",
    "            suits = ['r','y','b','g']\n",
    "        \n",
    "        self.cards = [Card(value,suit) for value in values for suit in suits]*numdecks\n",
    "        if decktype == 'uno':\n",
    "            specialcards = [Card(value,'k') for value in ['+4','c']]*8\n",
    "            self.cards += specialcards\n",
    "        random.shuffle(self.cards)\n",
    "    \n",
    "    def readdeck(self):\n",
    "        \n",
    "        return [card.readcard() for card in self.cards]\n",
    "    \n",
    "    def deal(self,players,numcards):\n",
    "        for i in range(len(players)):\n",
    "            for j in range(numcards):\n",
    "                card = self.cards.pop()\n",
    "                card.player = i\n",
    "                self.inhands.append(card)\n",
    "    \n",
    "    def shuffle(self):\n",
    "        import random as random\n",
    "        \n",
    "        cards = self.cards + self.discards + self.inhands\n",
    "        random.shuffle(cards)\n",
    "        \n",
    "        self.cards = cards\n",
    "        self.discards,self.inhands = [],[]\n",
    "        \n",
    "mydeck = Deck()\n",
    "mydeck.generate(decktype='uno')\n",
    "print(mydeck.readdeck())"
   ]
  },
  {
   "cell_type": "markdown",
   "metadata": {
    "collapsed": false
   },
   "source": [
    "## Exercise 1 ##\n",
    "Create a method in the deck object that returns all the of cards in order in a readable format."
   ]
  },
  {
   "cell_type": "markdown",
   "metadata": {
    "collapsed": false
   },
   "source": [
    "## Exercise 2 ##\n",
    "Create attributes and methods for the Deck class that allow you to store the discards, deal some number of cards to each player, and to shuffle all the cards (including discards and held cards) back into the deck."
   ]
  }
 ],
 "metadata": {
  "kernelspec": {
   "argv": [
    "/usr/bin/python3",
    "-m",
    "ipykernel",
    "--HistoryManager.enabled=False",
    "--matplotlib=inline",
    "-c",
    "%config InlineBackend.figure_formats = set(['retina'])\nimport matplotlib; matplotlib.rcParams['figure.figsize'] = (12, 7)",
    "-f",
    "{connection_file}"
   ],
   "display_name": "Python 3 (system-wide)",
   "env": {
   },
   "language": "python",
   "metadata": {
    "cocalc": {
     "description": "Python 3 programming language",
     "priority": 100,
     "url": "https://www.python.org/"
    }
   },
   "name": "python3",
   "resource_dir": "/ext/jupyter/kernels/python3"
  }
 },
 "nbformat": 4,
 "nbformat_minor": 4
}