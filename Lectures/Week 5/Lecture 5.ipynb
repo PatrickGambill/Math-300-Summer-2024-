{
 "cells": [
  {
   "cell_type": "markdown",
   "metadata": {
    "collapsed": false
   },
   "source": [
    "# Lecture 5 #\n",
    "\n",
    "## Analyzing Complexity of Code ##\n",
    "\n",
    "Let's analyze some code together. First, let's compare our implementations of the Fibonacci number calculations. "
   ]
  },
  {
   "cell_type": "code",
   "execution_count": 14,
   "metadata": {
    "collapsed": false
   },
   "outputs": [
    {
     "name": "stdout",
     "output_type": "stream",
     "text": [
      "4.3466557686938915e+208\n"
     ]
    }
   ],
   "source": [
    "#Binet's Formula Code\n",
    "import numpy as np\n",
    "n = 1000 #Space complexity +1 \n",
    "\n",
    "a = (1+np.sqrt(5))/(2) #Space complexity +1, Time complexity +3\n",
    "b = (1-np.sqrt(5))/(2) #Space complexity +1, Time complexity +3\n",
    "Fn = 1/(np.sqrt(5)) * (a**n - b**n) #Space complexity +1, Time complexity +6\n",
    "\n",
    "print(Fn)\n",
    "\n",
    "#Space complexity = 4 = O(1)\n",
    "#Time Complexity = 12 = O(1)"
   ]
  },
  {
   "cell_type": "code",
   "execution_count": 17,
   "metadata": {
    "collapsed": false
   },
   "outputs": [
    {
     "name": "stderr",
     "output_type": "stream",
     "text": [
      "WARNING: Some output was deleted.\n"
     ]
    }
   ],
   "source": [
    "#Recursion (This was ChatGPT's approach)\n",
    "#This is the AI's function\n",
    "def fibonacci(n): #Space Complexity +2\n",
    "  if n <= 1: #Time complexity +1\n",
    "    return n \n",
    "  else:\n",
    "    return fibonacci(n-1) + fibonacci(n-2) #Time complexity = time of fibbonacci(n-1) + time of fibbonacci(n-2) #Space Complexity = space complexity of fibbonacci(n-1) + fibbonacci(n-2)\n",
    "\n",
    "#Change this n value to plug in different values of n into the AIs function.\n",
    "n = 300\n",
    "print(fibonacci(n))\n",
    "#The space complexity = O(4^n) as we have to use more space with each recusive call\n",
    "#The time complexity = O(4^n)\n",
    "#The complexity is bad, since we have to call exponentially functions in the recursive calls."
   ]
  },
  {
   "cell_type": "code",
   "execution_count": 3,
   "metadata": {
    "collapsed": false
   },
   "outputs": [
    {
     "name": "stdout",
     "output_type": "stream",
     "text": [
      "43466557686937456435688527675040625802564660517371780402481729089536555417949051890403879840079255169295922593080322634775209689623239873322471161642996440906533187938298969649928516003704476137795166849228875\n"
     ]
    }
   ],
   "source": [
    "#Our for loop code\n",
    "\n",
    "#We have to run these first 2 lines of code so we can actually see our output. This will vary by IDE\n",
    "import sys\n",
    "sys.set_int_max_str_digits(1000000)\n",
    "\n",
    "#This is the n we are trying to calculate\n",
    "n=1000 #Space complexity +1\n",
    "a = 0 #Space complexity +1\n",
    "b = 1 #Space complexity +1\n",
    "\n",
    "#We need these if statements to make sure we account for the base cases\n",
    "if n==0: #Time complexity +1\n",
    "    print(a)\n",
    "elif n==1: #Time complexity +1\n",
    "    print(b)\n",
    "#This is the meat of the code\n",
    "else:\n",
    "    for i in range(n-1): #Time complexity 2*(n-1)\n",
    "        \n",
    "        b,a = a+b,b #Time complexity +2\n",
    "print(b)\n",
    "\n",
    "#Space complexity = 3 = O(1), and Time complexity = 2n-2+2 = 2n = O(n)"
   ]
  },
  {
   "cell_type": "markdown",
   "metadata": {
    "collapsed": false
   },
   "source": [
    "## P vs NP ##\n",
    "\n",
    "A problem is in the class, P, if it is solvable in polynomial time. A problem is in the class NP (nondeterministic polynomial) if checking a solution for validity takes polynomial time. Solving the problem might not take polynomial time. P vs NP asks if these classes are the same.\n",
    "\n",
    "A problem is said to be NP complete if it is a able to be transformed into one of a few special problems. If you can show any NP complete problem is solvable in polynomial time. Then you can show all of them are. If you can find a polynomial time algorithm to any of these, you have solved P vs NP. A list of these problems can be found here: https://en.wikipedia.org/wiki/List_of_NP-complete_problems\n",
    "\n",
    "The class NP hard contains all problems that are NP complete or more difficult. Traveling Salesman is an example of an NP Hard problem that is not NP complete.\n",
    "\n",
    "There is a class of problems called undecidable problems. No computer algorithm can exist that solves these problems in every case. Either the algorithm will sometimes be wrong or it will run forever. A list of these problems can be found here: https://en.wikipedia.org/wiki/List_of_undecidable_problems\n",
    "\n",
    "There are a few common misconceptions about P vs NP we should address. \n",
    "\n",
    "### 1) If P vs NP is true, this will probably not break all existing encryption. ###\n",
    "\n",
    "If a non-constructive proof of P vs NP is found, this may have some implications for RSA. This would not provide an algorithm for cracking RSA. Even if a polynomial time algorithm is found, this will not ensure that it is tractable (able to be run on a real computer in a reasonable amount of time/space). Even if a tractable algorithm is found, there are other encryption schemes that could replace RSA. older encryption schemes such as knapsack codes that have gotten renewed attention in recent years (with the push for quantum computing). In addition, we could build encryption based on NP hard problems like Traveling Salesman (optimal path formulation). \n",
    "\n",
    "### 2) Problems in P are easy to solve and problems in NP are hard to solve ##\n",
    "\n",
    "With complexity, we are considering the growth rate of the time/space complexity when we use Big-O notation. In addition, Big-O only cares about the worst case scenario. Many NP-Complete problems (like Sudoku) have nice solutions for most practical cases. We only need a handful of unusually difficult sudoku puzzles to make it difficult to find an algorithm. Similarly, a polynomial time algorithm can be quite difficult to implement and create. If there are a large coefficients, this polynomial algorithm could take longer to run than an exponential algorithm in some cases. \n",
    "\n",
    "## 3) Polynomial Algorithms can be implemented easily in practice ##\n",
    "\n",
    "As we saw with our Fibonacci code above, a constant time algorithm (like Binet's formula) may lead to other difficulties when being implemented on an actual computer. The float precision becomes an issue, and overflow errors also become a possible issue. If a polynomial time algorithm is found, it might not be practical to implement on an actual computer. We have examples of polynomial algorithms with no known implementation (such as Seymour's algorithm https://en.m.wikipedia.org/wiki/Robertson%E2%80%93Seymour_theorem)\n",
    "\n",
    "\n",
    "If you want to learn more about complexity, here is a great resource: https://complexityzoo.net/Complexity_Zoo"
   ]
  }
 ],
 "metadata": {
  "kernelspec": {
   "argv": [
    "/usr/bin/python3",
    "-m",
    "ipykernel",
    "--HistoryManager.enabled=False",
    "--matplotlib=inline",
    "-c",
    "%config InlineBackend.figure_formats = set(['retina'])\nimport matplotlib; matplotlib.rcParams['figure.figsize'] = (12, 7)",
    "-f",
    "{connection_file}"
   ],
   "display_name": "Python 3 (system-wide)",
   "env": {
   },
   "language": "python",
   "metadata": {
    "cocalc": {
     "description": "Python 3 programming language",
     "priority": 100,
     "url": "https://www.python.org/"
    }
   },
   "name": "python3",
   "resource_dir": "/ext/jupyter/kernels/python3"
  },
  "language_info": {
   "codemirror_mode": {
    "name": "ipython",
    "version": 3
   },
   "file_extension": ".py",
   "mimetype": "text/x-python",
   "name": "python",
   "nbconvert_exporter": "python",
   "pygments_lexer": "ipython3",
   "version": "3.10.12"
  }
 },
 "nbformat": 4,
 "nbformat_minor": 4
}