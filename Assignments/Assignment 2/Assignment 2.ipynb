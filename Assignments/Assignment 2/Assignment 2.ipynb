{
 "cells": [
  {
   "cell_type": "markdown",
   "metadata": {
    "collapsed": false,
    "deletable": false,
    "editable": false
   },
   "source": [
    "# Assignment 2 #\n",
    "\n",
    "Run the cell below before starting the assignment."
   ]
  },
  {
   "cell_type": "code",
   "execution_count": 0,
   "metadata": {
    "collapsed": false,
    "deletable": false,
    "editable": false
   },
   "outputs": [
   ],
   "source": [
    "import assignment2checker as ck"
   ]
  },
  {
   "cell_type": "markdown",
   "metadata": {
    "collapsed": false,
    "deletable": false,
    "editable": false
   },
   "source": [
    "## Exercise 1 ##\n",
    "### Symbolic Logic ###\n",
    "\n",
    "Recall the $\\vee$, $\\wedge$, and $\\neg$ symbols represent 'or', 'and', and 'not' respectively in symbolic logic. Suppose for $1\\leq i \\leq 8$ that $x_i$ are statements. These statements can either be True or False. Consider the statement below:\n",
    "$$ (x_1 \\vee x_2) \\wedge (x_3 \\vee x_4 \\vee x_5) \\wedge (x_6 \\vee x_7) \\wedge (x_8) $$\n",
    "\n",
    "Given the input list $[x_1,x_2,x_3,x_4,x_5,x_6,x_7,x_8]$, create code to output the truth value of the above statement."
   ]
  },
  {
   "cell_type": "code",
   "execution_count": 0,
   "metadata": {
    "collapsed": false
   },
   "outputs": [
   ],
   "source": [
    "def problem1(statements):\n",
    "    '''\n",
    "    Inputs: \n",
    "        statements: This is a list containing the bools [x_1,x_2,x_3,x_4,x_5,x_6,x_7,x_8]\n",
    "    \n",
    "    Outputs:\n",
    "        truth_value: This should output the truth value of the statement in the problem description.\n",
    "        \n",
    "    '''\n",
    "    \n",
    "    #Your code goes here\n",
    "    \n",
    "    truth_value = \n",
    "    \n",
    "    return truth_value"
   ]
  },
  {
   "cell_type": "code",
   "execution_count": 0,
   "metadata": {
    "collapsed": false,
    "deletable": false,
    "editable": false
   },
   "outputs": [
   ],
   "source": [
    "ck.p1(problem1)"
   ]
  },
  {
   "cell_type": "markdown",
   "metadata": {
    "collapsed": false,
    "deletable": false,
    "editable": false
   },
   "source": [
    "## Exercise 2 ##\n",
    "### Double Factorial ##\n",
    "Let $n$ be a positive integer. Then the double factorial is defined as \n",
    "$$ n!! = n*(n-2)\\dots*4*2 $$\n",
    "if $n$ is even and \n",
    "$$ n!! = n*(n-2)\\dots*3*1 $$\n",
    "if $n$ is odd. Create code to calculate the double factorial of $n$."
   ]
  },
  {
   "cell_type": "code",
   "execution_count": 0,
   "metadata": {
    "collapsed": false
   },
   "outputs": [
   ],
   "source": [
    "def problem2(n):\n",
    "    '''\n",
    "    Inputs: \n",
    "        n: A positive integer\n",
    "    \n",
    "    Outputs:\n",
    "        double_factorial: The double factorial of n\n",
    "        \n",
    "    '''\n",
    "    \n",
    "    #Your code goes here\n",
    "    double_factorial = \n",
    "    \n",
    "    return double_factorial"
   ]
  },
  {
   "cell_type": "code",
   "execution_count": 0,
   "metadata": {
    "collapsed": false,
    "deletable": false,
    "editable": false
   },
   "outputs": [
   ],
   "source": [
    "ck.p2(problem2)"
   ]
  },
  {
   "cell_type": "markdown",
   "metadata": {
    "collapsed": false,
    "deletable": false,
    "editable": false
   },
   "source": [
    "## Exercise 3 ##\n",
    "### Sum of Multiples ##\n",
    "\n",
    "Given a list of positive integers and an upper bound of $n$, find the sum of all positive integers less than or equal to $n$ that are multiples of any of the numbers in the list. For example, \n",
    "\n",
    "$$ \\text{num_list} = [2,4,5],\\text{ }n=10 $$\n",
    "$$ \\text{multiple_sum} = 2+4+5+6+8+10 = 35$$"
   ]
  },
  {
   "cell_type": "code",
   "execution_count": 0,
   "metadata": {
    "collapsed": false
   },
   "outputs": [
   ],
   "source": [
    "def problem3(num_list,n):\n",
    "    '''\n",
    "    Inputs: \n",
    "        num_list: A list of postive numbers. These are the numbers we are using to check for divisibility\n",
    "        n: A positive integer that is our upper bound\n",
    "    \n",
    "    Outputs:\n",
    "        multiple_sum: The sum of positive integers less than n that are multiples of at least one number in numlist\n",
    "        \n",
    "    '''\n",
    "    \n",
    "    #Your code goes here\n",
    "    multiple_sum = \n",
    "    \n",
    "    return multiple_sum"
   ]
  },
  {
   "cell_type": "code",
   "execution_count": 0,
   "metadata": {
    "collapsed": false,
    "deletable": false,
    "editable": false
   },
   "outputs": [
   ],
   "source": [
    "ck.p3(problem3)"
   ]
  },
  {
   "cell_type": "markdown",
   "metadata": {
    "collapsed": false,
    "deletable": false,
    "editable": false
   },
   "source": [
    "## Exercise 4 ##\n",
    "### Pythagorean Triples ###\n",
    "\n",
    "A Pythagorean triple is a collection of three positive integers such that $a<b<c$ and $a^2 + b^2 = c^2 $. There are exactly $8$ Pythagorean triples such that $$ a + b + c = 840 $$\n",
    "Find these $8$ triples, and output them as a list of tuples such that each tuple is in ascending order. E.g. $$[(a_1,b_1,c_1),(a_2,b_2,c_2),\\dots(a_8,b_8,c_8)]$$\n",
    "For credit, please include your code for finding these triples in the cell below."
   ]
  },
  {
   "cell_type": "code",
   "execution_count": 0,
   "metadata": {
    "collapsed": false
   },
   "outputs": [
   ],
   "source": [
    "def problem4():\n",
    "    '''\n",
    "    Inputs: none\n",
    "    \n",
    "    Outputs:\n",
    "        triples: This is the list of 8 Pythagorean triples each stored as a tuple in ascending order.\n",
    "        \n",
    "    '''\n",
    "    \n",
    "    #Your code goes here\n",
    "    triples = \n",
    "    \n",
    "    return triples"
   ]
  },
  {
   "cell_type": "code",
   "execution_count": 0,
   "metadata": {
    "collapsed": false,
    "deletable": false,
    "editable": false
   },
   "outputs": [
   ],
   "source": [
    "ck.p4(problem4)"
   ]
  },
  {
   "cell_type": "markdown",
   "metadata": {
    "collapsed": false,
    "deletable": false,
    "editable": false
   },
   "source": [
    "## Exercise 5 ##\n",
    "### Polynomial Derivatives ###\n",
    "Recall the power rule for derivatives of polynomials. If \n",
    "$$f(x) = \\sum_{k=0}^{n}c_kx$$ \n",
    "Then \n",
    "$$f'(x) = \\sum_{k=1}^{n}kc_kx^{k-1}$$\n",
    "\n",
    "A degree $n$ polynomial can be stored in Python as a list of $n+1$ coefficients. For example, $1 - 3x + 4x^2$ can be stored as $[1,-3,4]$. Create code that take a polynomial (stored as a list) and outputs its derivative (stored as a list). E.g.\n",
    "$$f = [1,-3,4]$$\n",
    "$$f' = [-3,8]$$"
   ]
  },
  {
   "cell_type": "code",
   "execution_count": 0,
   "metadata": {
    "collapsed": false
   },
   "outputs": [
   ],
   "source": [
    "def problem5(f):\n",
    "    '''\n",
    "    Inputs:\n",
    "        f: This is an n+1 element list of coefficients of polynomial f, listed in order\n",
    "    \n",
    "    Outputs:\n",
    "        df: This is the derivative of f stored as an n+1 element list of coefficients of polynomial f', listed in order\n",
    "        \n",
    "    '''\n",
    "    \n",
    "    #Your code goes here\n",
    "    df = \n",
    "    \n",
    "    return df"
   ]
  },
  {
   "cell_type": "code",
   "execution_count": 0,
   "metadata": {
    "collapsed": false,
    "deletable": false,
    "editable": false
   },
   "outputs": [
   ],
   "source": [
    "ck.p5(problem5)"
   ]
  },
  {
   "cell_type": "markdown",
   "metadata": {
    "collapsed": false,
    "deletable": false,
    "editable": false
   },
   "source": [
    "## Exercise 6 ##\n",
    "### Polynomial Values ###\n",
    "\n",
    "Suppose you are given a list of coefficients corresponding to a polynomial $f(x)$ of degree $n$ (using the same convention as given above). Create code that returns $f(x)$ when given a polynomial $f$ in list form and a float $x$."
   ]
  },
  {
   "cell_type": "code",
   "execution_count": 0,
   "metadata": {
    "collapsed": false
   },
   "outputs": [
   ],
   "source": [
    "def problem6(f,x):\n",
    "    '''\n",
    "    Inputs:\n",
    "        f: This is an n+1 element list of coefficients of polynomial f, listed in order\n",
    "        x: This is the value to plug into your polynomial\n",
    "    \n",
    "    Outputs:\n",
    "        fx: This is the value of the polynomial at x\n",
    "        \n",
    "    '''\n",
    "    \n",
    "    #Your code goes here\n",
    "    fx\n",
    "    \n",
    "    return fx"
   ]
  },
  {
   "cell_type": "code",
   "execution_count": 0,
   "metadata": {
    "collapsed": false,
    "deletable": false,
    "editable": false
   },
   "outputs": [
   ],
   "source": [
    "ck.p6(problem6)"
   ]
  },
  {
   "cell_type": "markdown",
   "metadata": {
    "collapsed": false,
    "deletable": false,
    "editable": false
   },
   "source": [
    "For the following bonus problems, be careful with how you format your output. If the autograder isn't grading correctly (due to the format of the output), you can compare your code to the output provided in the assignment2checker.py file. If this is the case, please leave a comment or markdown text, and I can manually grade the bonus problem."
   ]
  },
  {
   "cell_type": "markdown",
   "metadata": {
    "collapsed": false,
    "deletable": false,
    "editable": false
   },
   "source": [
    "## Bonus Problem 1 ##\n",
    "### Polynomial Multiplication ###\n",
    "\n",
    "Given two polynomials $f$ and $g$, in list form, create code that returns the product of the polynomials as a list."
   ]
  },
  {
   "cell_type": "code",
   "execution_count": 0,
   "metadata": {
    "collapsed": false
   },
   "outputs": [
   ],
   "source": [
    "def bonusproblem1(f,g):\n",
    "    '''\n",
    "    inputs:\n",
    "        f: The first polynomial to multiply, stored as a list of coefficients\n",
    "        g: The second polynomial to multiply, stored as a list of coefficients\n",
    "    \n",
    "    outputs:\n",
    "        fg: The product of the polynomials, stored as a list of coefficients\n",
    "    \n",
    "    '''\n",
    "    #Your code goes here\n",
    "    fg = \n",
    "    \n",
    "    return fg"
   ]
  },
  {
   "cell_type": "code",
   "execution_count": 0,
   "metadata": {
    "collapsed": false,
    "deletable": false,
    "editable": false
   },
   "outputs": [
   ],
   "source": [
    "ck.b1(bonusproblem1)"
   ]
  },
  {
   "cell_type": "markdown",
   "metadata": {
    "collapsed": false,
    "deletable": false,
    "editable": false
   },
   "source": [
    "## Bonus Problem 2 ##\n",
    "### Polynomial Division ###\n",
    "\n",
    "Recall for two real polynomials, $f(x),g(x)$, that there exist unique polynomials $q(x),r(x)$ such that $$f(x) = g(x)q(x) + r(x)$$ such that $\\text{deg}(r(x)) < \\text{deg}(g(x))$ or $r(x) = 0$."
   ]
  },
  {
   "cell_type": "code",
   "execution_count": 0,
   "metadata": {
    "collapsed": false
   },
   "outputs": [
   ],
   "source": [
    "def bonusproblem2(f,g):\n",
    "    '''\n",
    "     inputs:\n",
    "        f: The first polynomial in the division, stored as a list of coefficients\n",
    "        g: The second polynomial in the division, stored as a list of coefficients\n",
    "    \n",
    "    outputs:\n",
    "        q: The quotient of the polynomial division, stored as a list of coefficients of length deg(q) + 1\n",
    "        r: The remainder of the polynomial division, stored as a list of coefficients of length deg(g) if g is not a constant, and of length 1, if g is a constant\n",
    "    \n",
    "    '''\n",
    "    #Your code goes here\n",
    "    q = \n",
    "    r = \n",
    "    \n",
    "    return q,r"
   ]
  },
  {
   "cell_type": "code",
   "execution_count": 0,
   "metadata": {
    "collapsed": false,
    "deletable": false,
    "editable": false
   },
   "outputs": [
   ],
   "source": [
    "ck.b2(bonusproblem2)"
   ]
  }
 ],
 "metadata": {
  "kernelspec": {
   "argv": [
    "/usr/bin/python3",
    "-m",
    "ipykernel",
    "--HistoryManager.enabled=False",
    "--matplotlib=inline",
    "-c",
    "%config InlineBackend.figure_formats = set(['retina'])\nimport matplotlib; matplotlib.rcParams['figure.figsize'] = (12, 7)",
    "-f",
    "{connection_file}"
   ],
   "display_name": "Python 3 (system-wide)",
   "env": {
   },
   "language": "python",
   "metadata": {
    "cocalc": {
     "description": "Python 3 programming language",
     "priority": 100,
     "url": "https://www.python.org/"
    }
   },
   "name": "python3",
   "resource_dir": "/ext/jupyter/kernels/python3"
  }
 },
 "nbformat": 4,
 "nbformat_minor": 4
}