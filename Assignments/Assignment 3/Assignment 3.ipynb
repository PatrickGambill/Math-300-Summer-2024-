{
 "cells": [
  {
   "cell_type": "markdown",
   "metadata": {
    "collapsed": false,
    "deletable": false,
    "editable": false
   },
   "source": [
    "# Assignment 3 #\n",
    "\n",
    "Note. Not all of these exercises have autochecking. This is because it is hard to verify plots by code. I will check these manually. In addition, the probability based algorithms may give different results depending on the seed, so I will grade these by hand as well. \n",
    "\n",
    "Run the cell of code below before starting the assignment."
   ]
  },
  {
   "cell_type": "code",
   "execution_count": 0,
   "metadata": {
    "collapsed": false,
    "deletable": false,
    "editable": false
   },
   "outputs": [
   ],
   "source": [
    "import assignment3checker as ck"
   ]
  },
  {
   "cell_type": "markdown",
   "metadata": {
    "collapsed": false,
    "deletable": false,
    "editable": false
   },
   "source": [
    "## Exercise 1 ##\n",
    "### Recurrence Relation ###\n",
    "Consider the recurrence relation $R_n = R_{n-1}^2 + 3n$ for $n\\geq1$, with $R_0 = 0$. Create a function to find $R_n$ given $n$ as an input."
   ]
  },
  {
   "cell_type": "code",
   "execution_count": 0,
   "metadata": {
    "collapsed": false,
    "deletable": false
   },
   "outputs": [
   ],
   "source": [
    "def problem1(n):\n",
    "    '''Find the value of R_n given an integer n >= 0.\n",
    "    \n",
    "    inputs:\n",
    "        n: An non-negative int\n",
    "    outputs:\n",
    "        R_n: The value of R_n in the recursion relation defined in the problem statement.\n",
    "        '''\n",
    "    \n",
    "    R_n = \n",
    "    #Your code goes here\n",
    "    \n",
    "    \n",
    "    return R_n"
   ]
  },
  {
   "cell_type": "code",
   "execution_count": 0,
   "metadata": {
    "collapsed": false,
    "deletable": false,
    "editable": false
   },
   "outputs": [
   ],
   "source": [
    "ck.p1(problem1)"
   ]
  },
  {
   "cell_type": "markdown",
   "metadata": {
    "collapsed": false,
    "deletable": false,
    "editable": false
   },
   "source": [
    "## Exercise 2 ##\n",
    "### Counting Nested Subsets ###\n",
    "\n",
    "Suppose you are given a list containing lists and integers. Each of the nested lists may also contain lists and integers. Given an input list, nest, determine how many lists are contained within nest, between all layers.\n",
    "\n",
    "Example: Consider nest = [1,[1,[23,[2,1]],[5], [] ]]. Then we should count 6 total lists (this is seen most easily by humans by counting the number of '[' brackets)."
   ]
  },
  {
   "cell_type": "code",
   "execution_count": 0,
   "metadata": {
    "collapsed": false,
    "deletable": false
   },
   "outputs": [
   ],
   "source": [
    "def problem2(nest):\n",
    "    '''Find the number of lists included in nest.\n",
    "    \n",
    "    inputs:\n",
    "        nest: A list that contains nested lists\n",
    "    outputs:\n",
    "        count: The number of nested lists\n",
    "        '''\n",
    "    \n",
    "    count = \n",
    "    #Your code goes here\n",
    "    \n",
    "    \n",
    "    return count"
   ]
  },
  {
   "cell_type": "code",
   "execution_count": 0,
   "metadata": {
    "collapsed": false,
    "deletable": false,
    "editable": false
   },
   "outputs": [
   ],
   "source": [
    "ck.p2(problem2)"
   ]
  },
  {
   "cell_type": "markdown",
   "metadata": {
    "collapsed": false,
    "deletable": false,
    "editable": false
   },
   "source": [
    "## Exercise 3 ##\n",
    "### Plotting Curves ###\n",
    "\n",
    "Plot the following curves in Matplotlib. All three curves should appear on the same plot, the colors should be the same as listed, and you should consider a range of $x$ values from $-10$ to $10$.\n",
    "1. $y=2x+3$ Plot this one in red\n",
    "2. $y=-3x^2 + 2x - 3$ Plot this one in blue\n",
    "3. $y=|x|$ Plot this one in green"
   ]
  },
  {
   "cell_type": "code",
   "execution_count": 3,
   "metadata": {
    "collapsed": false,
    "deletable": false
   },
   "outputs": [
   ],
   "source": [
    "#This will be graded manually.\n",
    "\n",
    "#Your code goes here"
   ]
  },
  {
   "cell_type": "markdown",
   "metadata": {
    "collapsed": false,
    "deletable": false,
    "editable": false
   },
   "source": [
    "## Exercise 4-6 ##\n",
    "### Card Simulations ###\n",
    "\n",
    "In the next series of exercises, we will use the random library to simulate probabilities with cards. We will break this process into smaller sub-tasks. \n",
    "\n",
    "## Exercise 4 ##\n",
    "### Build the Deck ###\n",
    "We will start by making a list of cards. Each card will be represented by a string of the form 'xy', where x encodes the value of the card, and y encodes the suit (Note these are case sensitive). Below is the list of all the x and y values we will use:\n",
    "\n",
    "### x ###\n",
    "$$x\\in\\{'a','2','3','4','5','6','7','8','9','t','j',q','k'\\}$$\n",
    "$$y\\in\\{'c','d','h','s'\\}$$\n",
    "\n",
    "Create code to generate this 'deck' of cards as a list. Your final answer should be of the form:\n",
    "['ac','td','kh','7c',$\\dots$]\n",
    "\n",
    "(Note: You could copy the answer from the assignment3checker.py file, but for full credit, you need to use loops, list comprehension, or some other method to generate this list.)"
   ]
  },
  {
   "cell_type": "code",
   "execution_count": 0,
   "metadata": {
    "collapsed": false,
    "deletable": false
   },
   "outputs": [
   ],
   "source": [
    "def problem4():\n",
    "    '''This function will generate the list of cards, with each card stored as a string in the format given above.\n",
    "    \n",
    "    inputs:\n",
    "        none\n",
    "    outputs:\n",
    "        deck: This is the list we are trying to generate. Note that the strings are case sensitive, and all characters should be lower case.'''\n",
    "    \n",
    "    deck = \n",
    "    #Your code goes here\n",
    "    \n",
    "    return deck"
   ]
  },
  {
   "cell_type": "code",
   "execution_count": 0,
   "metadata": {
    "collapsed": false,
    "deletable": false,
    "editable": false
   },
   "outputs": [
   ],
   "source": [
    "ck.p4(problem4)"
   ]
  },
  {
   "cell_type": "markdown",
   "metadata": {
    "collapsed": false,
    "deletable": false,
    "editable": false
   },
   "source": [
    "## Exercise 5 ##\n",
    "### Simulating Draw Scores ###\n",
    "\n",
    "A card has a score calculated by summing the value of the cards value and suit. These values are listed below\n",
    "### x values ###\n",
    "* 'a' = 1\n",
    "* '2' = 2\n",
    "* '3' = 3\n",
    "* '4' = 4\n",
    "* '5' = 5\n",
    "* '6' = 6\n",
    "* '7' = 7\n",
    "* '8' = 8\n",
    "* '9' = 9\n",
    "* 't' = 10\n",
    "* 'j' = 11\n",
    "* 'q' = 12\n",
    "* 'k' = 13\n",
    "\n",
    "### y values ###\n",
    "* 'c' = 1\n",
    "* 'd' = 2\n",
    "* 'h' = 3\n",
    "* 's' = 4\n",
    "\n",
    "If $5$ cards are drawn from a deck without replacement, we say the draw score is the sum of the scores of all $5$ drawn cards. For example, if the five drawn cards are 'as','2h','jd','7c','9c', then the draw score will be:\n",
    "$$ (1+4) + (2+3) +(11+2)+(7+1) + (9+1) = 5 + 5 + 13 + 8 + 10 = 41$$\n",
    "\n",
    "Create code to draw $5$ random cards from the deck and compute their draw score. (You should use the deck list from the previous exercise to help)."
   ]
  },
  {
   "cell_type": "code",
   "execution_count": 0,
   "metadata": {
    "collapsed": false,
    "deletable": false
   },
   "outputs": [
   ],
   "source": [
    "#This will be graded manually.\n",
    "\n",
    "#Your code here"
   ]
  },
  {
   "cell_type": "markdown",
   "metadata": {
    "collapsed": false,
    "deletable": false,
    "editable": false
   },
   "source": [
    "## Exercise 6 ##\n",
    "### The Distribution of Draw Scores ###\n",
    "Using the function from Exercise 5, simulate $10,000$ draws and record the draw scores. Using these scores, create a histogram of the scores using Matplotlib."
   ]
  },
  {
   "cell_type": "code",
   "execution_count": 0,
   "metadata": {
    "collapsed": false,
    "deletable": false
   },
   "outputs": [
   ],
   "source": [
    "#This will be graded manually.\n",
    "\n",
    "#Your code here"
   ]
  },
  {
   "cell_type": "markdown",
   "metadata": {
    "collapsed": false,
    "deletable": false,
    "editable": false
   },
   "source": [
    "## Bonus Problem 1 ##\n",
    "### Blackjack Simulation ###\n",
    "The rules of blackjack are listed here on Wikipedia https://en.wikipedia.org/wiki/Blackjack. We are going to do some simulations with blackjack. Use code to answer the following questions.\n",
    "1. If the dealer must stand at $17$ and above (including soft $17$), and the dealer must hit whenever their hand is at $16$ or below, find the approximate proportion of hands where the dealer busts.\n",
    "2. If the rules now require the dealer to hit on a soft $17$, but are the same otherwise, then find the approximate proportion of hands where the dealer busts.\n",
    "\n",
    "For each of these, run at least $10,000$ trials."
   ]
  },
  {
   "cell_type": "code",
   "execution_count": 0,
   "metadata": {
    "collapsed": false,
    "deletable": false
   },
   "outputs": [
   ],
   "source": [
    "def bonusproblem1():\n",
    "    '''This will return the proportions of hands where the dealer busts in scenarios 1 and 2.\n",
    "    \n",
    "    inputs:\n",
    "        none\n",
    "    outputs:\n",
    "        prop1: The proportion of hands where the dealer busts in scenario 1.\n",
    "        prop2: The proportion of hands where the dealer busts in scenario 2.\n",
    "        '''\n",
    "    \n",
    "    prop1 = \n",
    "    #Your code goes here\n",
    "    \n",
    "    prop2 = \n",
    "    #Your code goes here\n",
    "    \n",
    "    return prop1,prop2"
   ]
  },
  {
   "cell_type": "markdown",
   "metadata": {
    "collapsed": false,
    "deletable": false,
    "editable": false
   },
   "source": [
    "Running the cell below will show the sample means I found after running 100 trials with sample sizes of 10,000 hands each. Your answer may vary depending on the seed."
   ]
  },
  {
   "cell_type": "code",
   "execution_count": 0,
   "metadata": {
    "collapsed": false,
    "deletable": false,
    "editable": false
   },
   "outputs": [
   ],
   "source": [
    "ck.b1()"
   ]
  },
  {
   "cell_type": "markdown",
   "metadata": {
    "collapsed": false,
    "deletable": false,
    "editable": false
   },
   "source": [
    "## Bonus Problem 2 ##\n",
    "### More Blackjack Simulation ###\n",
    "For each of the two cases above, find the average value of the dealer's hand when they stand (or bust). "
   ]
  },
  {
   "cell_type": "code",
   "execution_count": 0,
   "metadata": {
    "collapsed": false,
    "deletable": false
   },
   "outputs": [
   ],
   "source": [
    "def bonusproblem2():\n",
    "    '''This will return the average value of the dealer's hand after the dealer stands or busts.\n",
    "    \n",
    "    inputs:\n",
    "        none\n",
    "    outputs:\n",
    "        av1:The average value of the dealer's hand in scenario 1.\n",
    "        av2:The average value of the dealer's hand in scenario 2.'''\n",
    "    \n",
    "    av1 = \n",
    "    #Your code here\n",
    "    \n",
    "    \n",
    "    av2 =\n",
    "    #Your code here\n",
    "    \n",
    "    return av1,av2"
   ]
  },
  {
   "cell_type": "markdown",
   "metadata": {
    "collapsed": false,
    "deletable": false,
    "editable": false
   },
   "source": [
    "Running the cell below will show the sample means I found after running 100 trials with sample sizes of 10,000 hands each. Your answer may vary depending on the seed."
   ]
  },
  {
   "cell_type": "code",
   "execution_count": 0,
   "metadata": {
    "collapsed": false,
    "deletable": false,
    "editable": false
   },
   "outputs": [
   ],
   "source": [
    "ck.b2()"
   ]
  }
 ],
 "metadata": {
  "kernelspec": {
   "argv": [
    "/usr/bin/python3",
    "-m",
    "ipykernel",
    "--HistoryManager.enabled=False",
    "--matplotlib=inline",
    "-c",
    "%config InlineBackend.figure_formats = set(['retina'])\nimport matplotlib; matplotlib.rcParams['figure.figsize'] = (12, 7)",
    "-f",
    "{connection_file}"
   ],
   "display_name": "Python 3 (system-wide)",
   "env": {
   },
   "language": "python",
   "metadata": {
    "cocalc": {
     "description": "Python 3 programming language",
     "priority": 100,
     "url": "https://www.python.org/"
    }
   },
   "name": "python3",
   "resource_dir": "/ext/jupyter/kernels/python3"
  }
 },
 "nbformat": 4,
 "nbformat_minor": 4
}