{
 "cells": [
  {
   "cell_type": "markdown",
   "metadata": {
    "collapsed": false,
    "deletable": false,
    "editable": false
   },
   "source": [
    "# Assignment 1 #\n",
    "\n",
    "Run the cell below before starting the assignment."
   ]
  },
  {
   "cell_type": "code",
   "execution_count": 3,
   "metadata": {
    "collapsed": false,
    "deletable": false,
    "editable": false
   },
   "outputs": [
   ],
   "source": [
    "import assignment1checker as ck"
   ]
  },
  {
   "cell_type": "markdown",
   "metadata": {
    "collapsed": false,
    "deletable": false,
    "editable": false
   },
   "source": [
    "## Exercise 0 ##\n",
    "\n",
    "### Background Survey ###\n",
    "\n",
    "Complete the Background Survey on Canvas."
   ]
  },
  {
   "cell_type": "markdown",
   "metadata": {
    "collapsed": false,
    "deletable": false,
    "editable": false
   },
   "source": [
    "## Exercise 1 ##\n",
    "\n",
    "### Markdown Practice ###\n",
    "\n",
    "In the cell below this one, solve the the following equations for $ x $. Show all of your work in markdown.\n",
    "\n",
    "1. $$ x^{2} -1 = 0 $$\n",
    "\n",
    "2. $$ \\frac{1}{3x} = 4 $$\n",
    "\n",
    "3. $$ \\ln{x} = 3 $$"
   ]
  },
  {
   "cell_type": "markdown",
   "metadata": {
    "collapsed": false
   },
   "source": [
    "Your work goes here...\n",
    "\n",
    "1.\n",
    "\n",
    "2.\n",
    "\n",
    "3."
   ]
  },
  {
   "cell_type": "markdown",
   "metadata": {
    "collapsed": false,
    "deletable": false,
    "editable": false
   },
   "source": [
    "## Exercise 2 ##\n",
    "\n",
    "### int and float Calculations ###\n",
    "\n",
    "Compute the following quantities using Python.\n",
    "\n",
    "1. $$ \\frac{6^{2}-4^{3} +7*6*5}{42^{2}} $$\n",
    "\n",
    "2. $$ \\frac{78^{76}}{45^{54}} $$\n",
    "\n",
    "3. $$ 1444^{1/37} - 19^{13/4} + 38^{59 + 121} $$"
   ]
  },
  {
   "cell_type": "code",
   "execution_count": 4,
   "metadata": {
    "collapsed": false
   },
   "outputs": [
   ],
   "source": [
    "def problem2():\n",
    "    '''\n",
    "    Inputs: None\n",
    "    \n",
    "    Outputs:\n",
    "        answer1: You should store your answer to part one in this variable.\n",
    "        answer2: You should store your answer to part two in this variable.\n",
    "        answer3: You should store your answer to part three in this variable.\n",
    "        \n",
    "    '''\n",
    "    \n",
    "    answer1 = 123\n",
    "    #Your code for part one goes here \n",
    "    \n",
    "    answer2 = 322\n",
    "    #Your code for part two goes here\n",
    "    \n",
    "    answer3 = 3232\n",
    "    #Your code for part three goes here\n",
    "    \n",
    "    return answer1, answer2, answer3"
   ]
  },
  {
   "cell_type": "markdown",
   "metadata": {
    "collapsed": false,
    "deletable": false,
    "editable": false
   },
   "source": [
    "Run the cell below to check your work for the problem."
   ]
  },
  {
   "cell_type": "code",
   "execution_count": 5,
   "metadata": {
    "collapsed": false,
    "deletable": false,
    "editable": false
   },
   "outputs": [
    {
     "name": "stdout",
     "output_type": "stream",
     "text": [
      "Answer 1 is incorrect\n",
      "Answer 2 is incorrect\n",
      "Answer 3 is incorrect\n"
     ]
    }
   ],
   "source": [
    "ck.p2(problem2)"
   ]
  },
  {
   "cell_type": "markdown",
   "metadata": {
    "collapsed": false,
    "deletable": false,
    "editable": false
   },
   "source": [
    "## Exercise 3 ##\n",
    "\n",
    "### True or False ##\n",
    "\n",
    "To practice with bool objects, we will determine if the following statements are true using Python. You will create code that returns True if the corresponding statement is True, and False if the corresponding statement is False.\n",
    "\n",
    "1. $$ 1909^{1111} >= {1111}^{1909} $$\n",
    "\n",
    "2. $$ {782}^{12} - {782}^{11} = 52230636404824458735319180987947008 $$\n",
    "\n",
    "3. $$ 13888 \\text{ is divisible by }14 $$"
   ]
  },
  {
   "cell_type": "code",
   "execution_count": 0,
   "metadata": {
    "collapsed": false
   },
   "outputs": [
   ],
   "source": [
    "def problem3():\n",
    "    '''\n",
    "    Inputs: None\n",
    "    \n",
    "    Outputs:\n",
    "        answer1: You should store your answer to part one in this variable.\n",
    "        answer2: You should store your answer to part two in this variable.\n",
    "        answer3: You should store your answer to part three in this variable.\n",
    "    \n",
    "    '''\n",
    "    \n",
    "    answer1 = \n",
    "    #Your code for part one goes here \n",
    "    \n",
    "    answer2 = \n",
    "    #Your code for part two goes here\n",
    "    \n",
    "    answer3 = \n",
    "    #Your code for part three goes here\n",
    "    \n",
    "    return answer1, answer2, answer3"
   ]
  },
  {
   "cell_type": "markdown",
   "metadata": {
    "collapsed": false,
    "deletable": false,
    "editable": false
   },
   "source": [
    "Run the cell below to check your work for the problem."
   ]
  },
  {
   "cell_type": "code",
   "execution_count": 0,
   "metadata": {
    "collapsed": false,
    "deletable": false,
    "editable": false
   },
   "outputs": [
   ],
   "source": [
    "ck.p3(problem3)"
   ]
  },
  {
   "cell_type": "markdown",
   "metadata": {
    "collapsed": false,
    "deletable": false,
    "editable": false
   },
   "source": [
    "## Exercise 4 ##\n",
    "\n",
    "### Palindrome Strings ###\n",
    "\n",
    "Create code to determine if the input string is a palindrome. A string is a palindrome if it is the same forwards and backwards. This function should be case sensitive and should consider spaces in the string as character. \n",
    "\n",
    "\n",
    "Examples \n",
    "\n",
    "1. \"racecar\" is a palindrome, so True should be returned.\n",
    "\n",
    "2. \"race car\" is not a palindrome because of the space in the middle of the string is still a character, so False should be returned.\n",
    "\n",
    "3. \"cat\" is not a palindrome since it is not the same forwards and backwards. False should be returned.\n",
    "\n",
    "4. \"Tacocat\" is not a palindrome, since the capital \"T\" and lower case \"t\" are not the same character. False should be a returned.\n",
    "\n",
    "5. \"TacOcaT\" is a palindrome, as it is the same forwards and backwards. True should be returned."
   ]
  },
  {
   "cell_type": "code",
   "execution_count": 0,
   "metadata": {
    "collapsed": false
   },
   "outputs": [
   ],
   "source": [
    "def problem4(string):\n",
    "    '''\n",
    "    inputs:\n",
    "        string: This is the input string we are checking.\n",
    "    \n",
    "    outputs:\n",
    "        is_palindrome: This is a bool that will be True if the string is a palindrome and False otherwise (Assuming case matters).\n",
    "    \n",
    "    '''\n",
    "    #Your code goes here\n",
    "    is_palindrome = \n",
    "    \n",
    "    return is_palindrome"
   ]
  },
  {
   "cell_type": "markdown",
   "metadata": {
    "collapsed": false,
    "deletable": false,
    "editable": false
   },
   "source": [
    "Run the cell below to check your work for the problem."
   ]
  },
  {
   "cell_type": "code",
   "execution_count": 0,
   "metadata": {
    "collapsed": false,
    "deletable": false,
    "editable": false
   },
   "outputs": [
   ],
   "source": [
    "ck.p4(problem4)"
   ]
  },
  {
   "cell_type": "markdown",
   "metadata": {
    "collapsed": false,
    "deletable": false,
    "editable": false
   },
   "source": [
    "## Bonus Problem 1 ##\n",
    "\n",
    "### Palindrome Strings 2 ###\n",
    "\n",
    "Create a function that checks if a given string is a palindrome when all spaces are removed from the string and the case of the letters are no longer considered. For example, \"Race cAr\" is now a palindrome, so the function should return true. "
   ]
  },
  {
   "cell_type": "code",
   "execution_count": 0,
   "metadata": {
    "collapsed": false
   },
   "outputs": [
   ],
   "source": [
    "def bonusproblem1(string):\n",
    "    '''\n",
    "    inputs:\n",
    "        string: This is the input string we are checking.\n",
    "    \n",
    "    outputs:\n",
    "        is_palindrome: This is a bool that will be True if the string is a palindrome and False otherwise (assuming case and spaces don't matter).\n",
    "    \n",
    "    '''\n",
    "    \n",
    "    is_palindrome = \n",
    "    \n",
    "    return is_palindrome"
   ]
  },
  {
   "cell_type": "markdown",
   "metadata": {
    "collapsed": false,
    "deletable": false,
    "editable": false
   },
   "source": [
    "Run the cell below to check your work for the problem."
   ]
  },
  {
   "cell_type": "code",
   "execution_count": 0,
   "metadata": {
    "collapsed": false,
    "deletable": false,
    "editable": false
   },
   "outputs": [
   ],
   "source": [
    "ck.b1(bonusproblem1)"
   ]
  },
  {
   "cell_type": "markdown",
   "metadata": {
    "collapsed": false,
    "deletable": false,
    "editable": false
   },
   "source": [
    "## Problem 5 ##\n",
    "\n",
    "### List Scoring ###\n",
    "\n",
    "A list of numbers will have a score given by:\n",
    "$$ \\text{score }=\\text{ (length of list) } * \\text{(largest of the first 7 numbers in list)} $$\n",
    "Create a function to find the score of the input list. (You can assume each list has at least 7 numbers)"
   ]
  },
  {
   "cell_type": "code",
   "execution_count": 0,
   "metadata": {
    "collapsed": false
   },
   "outputs": [
   ],
   "source": [
    "def problem5(inputlist):\n",
    "    '''\n",
    "    inputs:\n",
    "        inputlist: This is the input list we are scoring.\n",
    "    \n",
    "    outputs:\n",
    "        score: This is the score that you are calculating for the list.\n",
    "    \n",
    "    '''\n",
    "    #Your code goes here\n",
    "    score = \n",
    "    \n",
    "    return score"
   ]
  },
  {
   "cell_type": "markdown",
   "metadata": {
    "collapsed": false,
    "deletable": false,
    "editable": false
   },
   "source": [
    "Run the cell below to check your work for the problem."
   ]
  },
  {
   "cell_type": "code",
   "execution_count": 0,
   "metadata": {
    "collapsed": false,
    "deletable": false,
    "editable": false
   },
   "outputs": [
   ],
   "source": [
    "ck.p5(problem5)"
   ]
  },
  {
   "cell_type": "markdown",
   "metadata": {
    "collapsed": false,
    "deletable": false,
    "editable": false
   },
   "source": [
    "## Bonus Problem 2 ##\n",
    "\n",
    "### List Scoring 2 ###\n",
    "Suppose the score2 of a list is given by the formula below:\n",
    "$$ \\text{score2 } = \\text{ (length of the list modulo 7) } + \\text{ The third largest number in the list}$$\n",
    "Create a function to find the score2 of the input list (You can assume each list has at least three numbers)."
   ]
  },
  {
   "cell_type": "code",
   "execution_count": 0,
   "metadata": {
    "collapsed": false
   },
   "outputs": [
   ],
   "source": [
    "def bonusproblem2(inputlist):\n",
    "    '''\n",
    "    inputs:\n",
    "        inputlist: This is the input list we are scoring.\n",
    "    \n",
    "    outputs:\n",
    "        score2: This is the score2 that you are calculating for the list.\n",
    "    \n",
    "    '''\n",
    "    #Your code goes here\n",
    "    score2 = \n",
    "    \n",
    "    return score2"
   ]
  },
  {
   "cell_type": "markdown",
   "metadata": {
    "collapsed": false,
    "deletable": false,
    "editable": false
   },
   "source": [
    "Run the cell below to check your work for the problem."
   ]
  },
  {
   "cell_type": "code",
   "execution_count": 0,
   "metadata": {
    "collapsed": false,
    "deletable": false,
    "editable": false
   },
   "outputs": [
   ],
   "source": [
    "ck.b2(bonusproblem2)"
   ]
  },
  {
   "cell_type": "markdown",
   "metadata": {
    "collapsed": false,
    "deletable": false,
    "editable": false
   },
   "source": [
    "## Problem 6 ##\n",
    "### Dictionary of Words ###\n",
    "\n",
    "Given a list of five strings as an input, create a dictionary with each string as the key, and a tuple with the characters sorted by their ASCII (This is the default sort ordering for characters in Python) as the value corresponding to the key. \n",
    "\n",
    "### Example ###\n",
    "input = ['cat', 'dog', 'walrus', 'apple', 'math']\n",
    "\n",
    "output = {'cat' : ('a','c','t'), 'dog' : ('d','g','o'), 'walrus' : ('a','l','r','s','u','w'), 'apple' : ('a','e','l',p','p'), 'math' : ('a','h','m','t')}"
   ]
  },
  {
   "cell_type": "code",
   "execution_count": 0,
   "metadata": {
    "collapsed": false
   },
   "outputs": [
   ],
   "source": [
    "def problem6(inputlist):\n",
    "    '''\n",
    "    inputs:\n",
    "        inputlist: This is the input list of 5 strings.\n",
    "    \n",
    "    outputs:\n",
    "        mydict: This is the dictionary with the strings and sorted characters in the strings.\n",
    "    \n",
    "    '''\n",
    "    #Your code goes here\n",
    "    mydict = \n",
    "    \n",
    "    return mydict"
   ]
  },
  {
   "cell_type": "markdown",
   "metadata": {
    "collapsed": false,
    "deletable": false,
    "editable": false
   },
   "source": [
    "Run the cell below to check your work for the problem."
   ]
  },
  {
   "cell_type": "code",
   "execution_count": 0,
   "metadata": {
    "collapsed": false,
    "deletable": false,
    "editable": false
   },
   "outputs": [
   ],
   "source": [
    "ck.p6(problem6)"
   ]
  }
 ],
 "metadata": {
  "kernelspec": {
   "argv": [
    "/usr/bin/python3",
    "-m",
    "ipykernel",
    "--HistoryManager.enabled=False",
    "--matplotlib=inline",
    "-c",
    "%config InlineBackend.figure_formats = set(['retina'])\nimport matplotlib; matplotlib.rcParams['figure.figsize'] = (12, 7)",
    "-f",
    "{connection_file}"
   ],
   "display_name": "Python 3 (system-wide)",
   "env": {
   },
   "language": "python",
   "metadata": {
    "cocalc": {
     "description": "Python 3 programming language",
     "priority": 100,
     "url": "https://www.python.org/"
    }
   },
   "name": "python3",
   "resource_dir": "/ext/jupyter/kernels/python3"
  },
  "language_info": {
   "codemirror_mode": {
    "name": "ipython",
    "version": 3
   },
   "file_extension": ".py",
   "mimetype": "text/x-python",
   "name": "python",
   "nbconvert_exporter": "python",
   "pygments_lexer": "ipython3",
   "version": "3.10.12"
  }
 },
 "nbformat": 4,
 "nbformat_minor": 4
}