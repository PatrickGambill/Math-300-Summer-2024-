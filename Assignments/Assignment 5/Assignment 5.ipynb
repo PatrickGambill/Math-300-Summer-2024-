{
 "cells": [
  {
   "cell_type": "markdown",
   "metadata": {
    "collapsed": false,
    "deletable": false,
    "editable": false
   },
   "source": [
    "# Assignment 5 #\n",
    "\n",
    "This assignment will be shorter than the rest of the assignments, so you can focus on coding your project. We will focus on computational complexity. Please provide all of your answers in Markdown with proper latex typesetting. I will grade these manually. "
   ]
  },
  {
   "cell_type": "markdown",
   "metadata": {
    "collapsed": false,
    "deletable": false,
    "editable": false
   },
   "source": [
    "## Problem 1 ##\n",
    "### O notation ###\n",
    "\n",
    "For each of the functions below, determine if the statements given are True or False. Provide an explanation with each True or False statement.\n",
    "\n",
    "For this problem, let $f(n) = 2n$, $g(n) = n^3+3$ and $h(n) = n^2$ if $n$ is odd and $h(n) = \\frac{3n}{2}$ if $n$ is even.\n",
    "\n",
    "1. $g(n) = n^3 + O(n^2)$\n",
    "\n",
    "2. $f(n)  h(n) = O(n^2)$\n",
    "\n",
    "3. $h(h(n)) = O(n!) $\n",
    "\n",
    "4. $ g(f(n)) = 8g(n) + O(n^2)$\n",
    "\n",
    "This problem will be worth $8$ points instead of the usual $4$."
   ]
  },
  {
   "cell_type": "markdown",
   "metadata": {
    "collapsed": false,
    "deletable": false
   },
   "source": [
    "## Put your answer to Problem 1 here ##"
   ]
  },
  {
   "cell_type": "markdown",
   "metadata": {
    "collapsed": false,
    "deletable": false,
    "editable": false
   },
   "source": [
    "## Problem 2-4 ##\n",
    "### Analyze Code ###\n",
    "\n",
    "For the code below, determine the time and space complexity. Justify your answer. Assume each operation and function is completed in constant time unless specified otherwise. Assume each int, float, and char takes constant space, and objects built using these (such as dicts, lists, tuples, and strings) use the same amount of space as the ints, floats, and chars within them."
   ]
  },
  {
   "cell_type": "code",
   "execution_count": 0,
   "metadata": {
    "collapsed": false,
    "deletable": false,
    "editable": false
   },
   "outputs": [
   ],
   "source": [
    "x,y = (0,0)\n",
    "for i in range(N):\n",
    "    x += i\n",
    "    x *= i\n",
    "for j in range(M):\n",
    "    y = x+y"
   ]
  },
  {
   "cell_type": "markdown",
   "metadata": {
    "collapsed": false,
    "deletable": false
   },
   "source": [
    "## Put your answer to Problem 2 here ##"
   ]
  },
  {
   "cell_type": "markdown",
   "metadata": {
    "collapsed": false,
    "deletable": false,
    "editable": false
   },
   "source": [
    "## Problem 3 ##\n",
    "For the code below, determine the time and space complexity. Justify your answer. Assume each operation and function is completed in constant time unless specified otherwise. Assume each int, float, and char takes constant space, and objects built using these (such as dicts, lists, tuples, and strings) use the same amount of space as the ints, floats, and chars within them."
   ]
  },
  {
   "cell_type": "code",
   "execution_count": 0,
   "metadata": {
    "collapsed": false,
    "deletable": false,
    "editable": false
   },
   "outputs": [
   ],
   "source": [
    "mylist = []\n",
    "\n",
    "for i in range(N):\n",
    "    for j in range(M**2):\n",
    "        mylist.append(i+j)\n",
    "\n",
    "x = 0\n",
    "for i in range(N**2):\n",
    "    for j in range(M):\n",
    "        x += i*j\n",
    "        \n"
   ]
  },
  {
   "cell_type": "markdown",
   "metadata": {
    "collapsed": false,
    "deletable": false
   },
   "source": [
    "## Put your answer to Problem 3 here ##"
   ]
  },
  {
   "cell_type": "markdown",
   "metadata": {
    "collapsed": false,
    "deletable": false,
    "editable": false
   },
   "source": [
    "## Problem 4 ##\n",
    "For the code below, determine the time and space complexity. Justify your answer. Assume each operation and function is completed in constant time unless specified otherwise. Assume each int, float, and char takes constant space, and objects built using these (such as dicts, lists, tuples, and strings) use the same amount of space as the ints, floats, and chars within them."
   ]
  },
  {
   "cell_type": "code",
   "execution_count": 0,
   "metadata": {
    "collapsed": false,
    "deletable": false,
    "editable": false
   },
   "outputs": [
   ],
   "source": [
    "x = 0\n",
    "\n",
    "if N is odd:\n",
    "    return 2\n",
    "if N is even:\n",
    "    if N/2 is even:\n",
    "        for i in range(N):\n",
    "            x+= i\n",
    "        return x\n",
    "    else:\n",
    "        return [j*2 for j in range(M)]"
   ]
  },
  {
   "cell_type": "markdown",
   "metadata": {
    "collapsed": false,
    "deletable": false
   },
   "source": [
    "## Put your answer to Problem 4 here ##"
   ]
  },
  {
   "cell_type": "markdown",
   "metadata": {
    "collapsed": false,
    "deletable": false,
    "editable": false
   },
   "source": [
    "## Problem 5 ##\n",
    "### Complexity Justification ###\n",
    "\n",
    "Suppose $f(x) = O(n^3)$ and $g(x) = O(n^2)$. While $g(x)$ is in a better complexity class, this does not mean $g(x)$ is always more efficient than $f(x)$ in practice. Why is this the case? \n",
    "\n",
    "If having better $O$ complexity doesn't always give us a guarantee better performance in practice, why is it still worth considering?"
   ]
  },
  {
   "cell_type": "markdown",
   "metadata": {
    "collapsed": false,
    "deletable": false
   },
   "source": [
    "## Put your answer to Problem 5 here ##"
   ]
  }
 ],
 "metadata": {
  "kernelspec": {
   "argv": [
    "/usr/bin/python3",
    "-m",
    "ipykernel",
    "--HistoryManager.enabled=False",
    "--matplotlib=inline",
    "-c",
    "%config InlineBackend.figure_formats = set(['retina'])\nimport matplotlib; matplotlib.rcParams['figure.figsize'] = (12, 7)",
    "-f",
    "{connection_file}"
   ],
   "display_name": "Python 3 (system-wide)",
   "env": {
   },
   "language": "python",
   "metadata": {
    "cocalc": {
     "description": "Python 3 programming language",
     "priority": 100,
     "url": "https://www.python.org/"
    }
   },
   "name": "python3",
   "resource_dir": "/ext/jupyter/kernels/python3"
  },
  "language_info": {
   "codemirror_mode": {
    "name": "ipython",
    "version": 3
   },
   "file_extension": ".py",
   "mimetype": "text/x-python",
   "name": "python",
   "nbconvert_exporter": "python",
   "pygments_lexer": "ipython3",
   "version": "3.10.12"
  }
 },
 "nbformat": 4,
 "nbformat_minor": 4
}