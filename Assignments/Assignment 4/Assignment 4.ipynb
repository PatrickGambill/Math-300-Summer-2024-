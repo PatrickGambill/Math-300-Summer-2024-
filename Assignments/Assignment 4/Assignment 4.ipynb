{
 "cells": [
  {
   "cell_type": "markdown",
   "metadata": {
    "collapsed": false,
    "deletable": false,
    "editable": false
   },
   "source": [
    "# Assignment 4 #\n",
    "\n",
    "Note. Not all of these exercises have autochecking. This is because it is hard to verify plots by code. I will check these manually. In addition, the probability based algorithms may give different results depending on the seed, so I will grade these by hand as well. As these problems are more involved, each problem will be worth 6 points (and the bonus problems will be worth 3 points each).\n",
    "\n",
    "Run the cell of code below before starting the assignment."
   ]
  },
  {
   "cell_type": "code",
   "execution_count": 0,
   "metadata": {
    "collapsed": false,
    "deletable": false,
    "editable": false
   },
   "outputs": [
   ],
   "source": [
    "import assignment4checker as ck"
   ]
  },
  {
   "cell_type": "markdown",
   "metadata": {
    "collapsed": false,
    "deletable": false,
    "editable": false
   },
   "source": [
    "## Problem 1 ##\n",
    "### Spectral Radius ###\n",
    "Suppose a $n \\times n$ matrix, $A$ has eigenvalues $\\{\\lambda_1,\\lambda_2,\\dots,\\lambda_n\\}$. The spectral radius of $A$ is defined as \n",
    "\n",
    "$$ \\rho(A) = \\max \\{|\\lambda_1|,|\\lambda_2|,\\dots,|\\lambda_n|\\}$$\n",
    "Create code that takes a $n\\times n$ Numpy array $A$ and returns its spectral radius."
   ]
  },
  {
   "cell_type": "code",
   "execution_count": 0,
   "metadata": {
    "collapsed": false,
    "deletable": false
   },
   "outputs": [
   ],
   "source": [
    "def problem1(A):\n",
    "    '''Given an n x n numpy float array, return the spectral radius of A\n",
    "    \n",
    "    inputs:\n",
    "        A: A n time n numpy float array\n",
    "        \n",
    "    outputs:\n",
    "        spec: The spectral radius of A'''\n",
    "    \n",
    "    spec = #Your code goes here\n",
    "    \n",
    "    return spec"
   ]
  },
  {
   "cell_type": "code",
   "execution_count": 0,
   "metadata": {
    "collapsed": false,
    "deletable": false,
    "editable": false
   },
   "outputs": [
   ],
   "source": [
    "ck.p1(problem1)"
   ]
  },
  {
   "cell_type": "markdown",
   "metadata": {
    "collapsed": false,
    "deletable": false,
    "editable": false
   },
   "source": [
    "## Problem 2 ##\n",
    "### Emirp ###\n",
    "\n",
    "A prime number is an Emirp (This is the word prime backwards), if it is still a prime number when written backwards. An emirp need not be a palindrome. Create a function that checks given a positive integer $n$ if $n$ is an Emirp.\n",
    "\n",
    "**Example 1:** $17$ is an emirp as $71$ is also prime\n",
    "\n",
    "**Example 2:** $23$ is not an emirp as $32$ is not prime\n",
    "\n",
    "**Example 3:** $32$ is not an emirp because $32$ is not prime (even though $23$ is prime)"
   ]
  },
  {
   "cell_type": "code",
   "execution_count": 0,
   "metadata": {
    "collapsed": false,
    "deletable": false
   },
   "outputs": [
   ],
   "source": [
    "def problem2(n):\n",
    "    '''Given a positive integer n, determine if n is an emirp\n",
    "    \n",
    "    inputs:\n",
    "        n: A prime number\n",
    "        \n",
    "    outputs:\n",
    "        isemirp: A boolean that is True if n is an emirp, and false otherwise.'''\n",
    "    \n",
    "    isemirp = #Your code goes here\n",
    "    \n",
    "    return isemirp"
   ]
  },
  {
   "cell_type": "code",
   "execution_count": 0,
   "metadata": {
    "collapsed": false,
    "deletable": false,
    "editable": false
   },
   "outputs": [
   ],
   "source": [
    "ck.p2(problem2)"
   ]
  },
  {
   "cell_type": "markdown",
   "metadata": {
    "collapsed": false,
    "deletable": false,
    "editable": false
   },
   "source": [
    "## Problem 3 ##\n",
    "### Euler's Method ###\n",
    "Euler's Method allows us to approximate first order ordinary differential equations. The process is detailed here: https://tutorial.math.lamar.edu/classes/de/eulersmethod.aspx\n",
    "\n",
    "Given a differential equation of the form: $y'(t) = f(t,y)$, a step size, $h$, an initial point $(t_0,y_0)$, and a number of steps, $n$, we can get an approximate solution to the differential equation. Implement Euler's method in code when given these inputs (note, f(t,y) will be given as an input, f. To get the value f(t,y), use f(t,y) in your code, and the function will return this value). "
   ]
  },
  {
   "cell_type": "code",
   "execution_count": 0,
   "metadata": {
    "collapsed": false,
    "deletable": false
   },
   "outputs": [
   ],
   "source": [
    "def problem3(f,h,t0,y0,n):\n",
    "    '''Find the approximate solution to the differential equation using Euler's method. This should be returned as a numpy array of y-values.\n",
    "    \n",
    "    inputs:\n",
    "        f: A function with two inputs, t and y. If you take f(t,y) this will return the value of the appropriate function\n",
    "        h The step size\n",
    "        t0: The initial t value\n",
    "        y0: The initial y value\n",
    "        n: The number of steps\n",
    "    outputs:\n",
    "        xs: A numpy array with n+1 entries corresponding to the x-values found.\n",
    "        ys: A numpy array with n+1 entries corresponding to the y-values found.'''\n",
    "    \n",
    "    #Your code goes here\n",
    "    xs =\n",
    "    ys = \n",
    "    \n",
    "    return xs,ys"
   ]
  },
  {
   "cell_type": "code",
   "execution_count": 0,
   "metadata": {
    "collapsed": false,
    "deletable": false,
    "editable": false
   },
   "outputs": [
   ],
   "source": [
    "ck.p3(problem3)"
   ]
  },
  {
   "cell_type": "markdown",
   "metadata": {
    "collapsed": false,
    "deletable": false,
    "editable": false
   },
   "source": [
    "## Problem 4 ##\n",
    "### Euler's Method Continued ###\n",
    "Using your function from problem 3, create a code to create a plot of the approximated solution (and the actual solution for comparison). You will be given the all of the inputs from problem 3 as well as tsol, ysol corresponding to the actual solution. In a markdown cell below this code, comment about the accuracy of the approximation. "
   ]
  },
  {
   "cell_type": "code",
   "execution_count": 0,
   "metadata": {
    "collapsed": false,
    "deletable": false
   },
   "outputs": [
   ],
   "source": [
    "def problem4(f,h,t0,y0,n,tsol,ysol):\n",
    "    '''Creates a plot of the approximate and actual solution to the given differential equation.\n",
    "    \n",
    "    inputs:\n",
    "        f: A function with two inputs, t and y. If you take f(t,y) this will return the value of the appropriate function\n",
    "        h The step size\n",
    "        t0: The initial t value\n",
    "        y0: The initial y value\n",
    "        n: The number of steps\n",
    "        tsol: The t-values corresponding to the solution\n",
    "        ysol: The y-values corresponding to the solution\n",
    "    outputs: none'''\n",
    "    \n",
    "    ts,ys = problem3(f,h,t0,y0,n)\n",
    "    \n",
    "    #Create your plot here \n",
    "    \n",
    "    return None\n",
    "\n",
    "import numpy as np\n",
    "f,h,t0,y0,n = lambda t,y: 4+y**2,0.01,7,-1,100\n",
    "tsol = np.array([7.0, 7.01, 7.02, 7.03, 7.04, 7.05, 7.06, 7.07, 7.08, 7.09, 7.1, 7.11, 7.12, 7.13, 7.14, 7.15, 7.16, 7.17, 7.18, 7.19, 7.2, 7.21, 7.22, 7.23, 7.24, 7.25, 7.26, 7.27, 7.28, 7.29, 7.3, 7.31, 7.32, 7.33, 7.34, 7.35, 7.36, 7.37, 7.38, 7.39, 7.4, 7.41, 7.42, 7.43, 7.44, 7.45, 7.46, 7.47, 7.48, 7.49, 7.5, 7.51, 7.52, 7.53, 7.54, 7.55, 7.56, 7.57, 7.58, 7.59, 7.6, 7.61, 7.62, 7.63, 7.64, 7.65, 7.66, 7.67, 7.68, 7.69, 7.7, 7.71, 7.72, 7.73, 7.74, 7.75, 7.76, 7.77, 7.78, 7.79, 7.8, 7.81, 7.82, 7.83, 7.84, 7.85, 7.86, 7.87, 7.88, 7.89, 7.9, 7.91, 7.92, 7.93, 7.94, 7.95, 7.96, 7.97, 7.98, 7.99, 8.0])\n",
    "ysol = np.array([-1.0, -0.950489, -0.901909, -0.854199, -0.807297, -0.761146, -0.715692, -0.670885, -0.626675, -0.583015, -0.539862, -0.497172, -0.454905, -0.413021, -0.371481, -0.330249, -0.289288, -0.248563, -0.208041, -0.167686, -0.127467, -0.087351, -0.047304, -0.007295, 0.032708, 0.072737, 0.112824, 0.153002, 0.193303, 0.233761, 0.274407, 0.315278, 0.356407, 0.397831, 0.439585, 0.481708, 0.524239, 0.567218, 0.610688, 0.654692, 0.699276, 0.744488, 0.790379, 0.837, 0.884409, 0.932664, 0.981828, 1.031967, 1.083151, 1.135457, 1.188964, 1.243759, 1.299935, 1.357591, 1.416833, 1.477779, 1.540553, 1.605292, 1.672144, 1.74127, 1.812846, 1.887065, 1.96414, 2.044304, 2.127814, 2.214956, 2.306046, 2.401437, 2.501523, 2.606745, 2.717601, 2.834651, 2.958531, 3.089967, 3.229784, 3.378937, 3.538522, 3.709818, 3.894315, 4.093765, 4.310246, 4.546231, 4.804698, 5.089259, 5.404342, 5.755432, 6.14941, 6.595025, 7.103575, 7.689912, 8.373953, 9.183044, 10.155784, 11.348469, 12.846556, 14.786352, 17.399443, 21.113585, 26.816208, 36.698734, 58.042409])"
   ]
  },
  {
   "cell_type": "code",
   "execution_count": 0,
   "metadata": {
    "collapsed": false,
    "deletable": false,
    "editable": false
   },
   "outputs": [
   ],
   "source": [
    "problem4(f,h,t0,y0,n,tsol,ysol)"
   ]
  },
  {
   "cell_type": "markdown",
   "metadata": {
    "collapsed": false,
    "deletable": false
   },
   "source": [
    "# Comment about the accuracy here: # \n",
    "\n",
    "\n",
    "\n",
    "\n"
   ]
  },
  {
   "cell_type": "markdown",
   "metadata": {
    "collapsed": false,
    "deletable": false,
    "editable": false
   },
   "source": [
    "## Problem 5 ##\n",
    "### Martingale Strategy ###\n",
    "Suppose Alice and Bob are playing a game that involves flipping a fair coin. Before each flip, Alice some number of points on the flip. If the flip is heads, Bob will pay out this number of points to Alice. If the flip is tails, then Alice must pay Bob the wager. Alice decides to try a Martingale strategy. The strategy is as follows: Every time the coin flips tails, Alice will double her wager on the next flip to cover her losses. If the coin flips heads, Alice will reset her wager to $1$ point on the next flip. If Alice starts the game with $10$ points, find the expected number of turns before she goes bankrupt.\n",
    "\n",
    "**Note** This is a very high variance strategy. If Alice gets on a \"hot streak\", this could last a surprisingly long time. Be sure to run at least $30$ trials when computing this expectation. (To find this with simulation, it would be wise to do more).\n",
    "\n",
    "https://en.wikipedia.org/wiki/Martingale_(betting_system)"
   ]
  },
  {
   "cell_type": "code",
   "execution_count": 0,
   "metadata": {
    "collapsed": false,
    "deletable": false
   },
   "outputs": [
   ],
   "source": [
    "def problem5():\n",
    "    ''' Find the expected number of turns that Alice and Bob's game will last.\n",
    "    \n",
    "    inputs: none\n",
    "    \n",
    "    outputs:\n",
    "        turns: The expected number of turns the game will last\n",
    "    \n",
    "    '''\n",
    "    \n",
    "    turns = #Your code goes here\n",
    "    \n",
    "    return turns"
   ]
  },
  {
   "cell_type": "code",
   "execution_count": 0,
   "metadata": {
    "collapsed": false,
    "deletable": false,
    "editable": false
   },
   "outputs": [
   ],
   "source": [
    "#I found the sample mean from collecting 10000 samples each with size 100. I did this process 5 times. Here are each of the sample means\n",
    "ck.p5()\n",
    "#Note one of the trials had some extreme outliers and this has affected the sample mean. Your expectation will likely be lower."
   ]
  },
  {
   "cell_type": "markdown",
   "metadata": {
    "collapsed": false,
    "deletable": false,
    "editable": false
   },
   "source": [
    "## Problem 6 ##\n",
    "### Volume of a Hypersphere ###\n",
    "A hypersphere is the higher dimension analogue of a sphere. In a $n$ dimensional hyper sphere, every point contained within it's volume must satisfy the following:\n",
    "$$ \\sqrt{\\sum_{i=1}^{n+1} {x_i^2}} \\leq R $$\n",
    "\n",
    "It is tricky to find the formula for the volume of a hypersphere, but Monte-Carlo methods can help us approximate the volume. Using Montecarlo methods, find the volume of the $4$ dimensional unit hypersphere. (Be sure to use a sample of at least $100,000$ points).\n",
    "\n",
    "https://en.wikipedia.org/wiki/Volume_of_an_n-ball"
   ]
  },
  {
   "cell_type": "code",
   "execution_count": 0,
   "metadata": {
    "collapsed": false,
    "deletable": false
   },
   "outputs": [
   ],
   "source": [
    "def problem6():\n",
    "    '''Approximate the volume of the 4-dimension unit hypersphere\n",
    "    \n",
    "    inputs: none\n",
    "    \n",
    "    outputs:\n",
    "        vol: The approximate volume of the unit hypersphere. \n",
    "    \n",
    "    '''\n",
    "    \n",
    "    vol = #Your code here\n",
    "    \n",
    "    return vol"
   ]
  },
  {
   "cell_type": "code",
   "execution_count": 0,
   "metadata": {
    "collapsed": false,
    "deletable": false,
    "editable": false
   },
   "outputs": [
   ],
   "source": [
    "ck.p6(problem6)"
   ]
  },
  {
   "cell_type": "markdown",
   "metadata": {
    "collapsed": false,
    "deletable": false,
    "editable": false
   },
   "source": [
    "## Bonus Problem 1 ##\n",
    "### Improved Euler's Method ###\n",
    "Improved Euler's Method allows for more accurate approximations of differential equations. Given the same inputs as problem 3, compute the approximate solution to the input differential equation using improved Euler's method. An explanation of improved Euler's method can be found here: https://math.libretexts.org/Courses/Monroe_Community_College/MTH_225_Differential_Equations/03%3A_Numerical_Methods/3.02%3A_The_Improved_Euler_Method_and_Related_Methods"
   ]
  },
  {
   "cell_type": "code",
   "execution_count": 0,
   "metadata": {
    "collapsed": false,
    "deletable": false
   },
   "outputs": [
   ],
   "source": [
    "def bonusproblem1(f,h,t0,y0,n):\n",
    "    '''Find the approximate solution to the differential equation using Improved Euler's method. This should be returned as a numpy array of y-values.\n",
    "    \n",
    "    inputs:\n",
    "        f: A function with two inputs, t and y. If you take f(t,y) this will return the value of the appropriate function\n",
    "        h The step size\n",
    "        t0: The initial t value\n",
    "        y0: The initial y value\n",
    "        n: The number of steps\n",
    "    outputs:\n",
    "        ts: A numpy array with n+1 entries corresponding to the t-values found.\n",
    "        ys: A numpy array with n+1 entries corresponding to the y-values found.'''\n",
    "    \n",
    "    #Your code goes here\n",
    "    ts =\n",
    "    ys = \n",
    "    \n",
    "    return ts,ys\n"
   ]
  },
  {
   "cell_type": "code",
   "execution_count": 0,
   "metadata": {
    "collapsed": false,
    "deletable": false,
    "editable": false
   },
   "outputs": [
   ],
   "source": [
    "ck.b1(bonusproblem1)"
   ]
  },
  {
   "cell_type": "markdown",
   "metadata": {
    "collapsed": false,
    "deletable": false,
    "editable": false
   },
   "source": [
    "## Bonus Problem 2 ##\n",
    "### Chess Markov Chain ###\n",
    "A standard chess board consists of an $8 \\times 8$ grid of squares. When describing these locations, each square will be in a column (which is denoted with a letter from a to h inclusive), and a row (denoted with a number from $1$ to $8$ inclusive). A king can move from its current square to any square that is adjacent to the current square horizontally, vertically, or diagonally. https://www.chess.com/terms/chess-king\n",
    "\n",
    "Create a Markov chain for the movement of the king, if the king make a legal move uniformly at random at each time step. If the king starts in the 'a1' square, what is the long term distribution of the king's movements? Store these in a dictionary of the form below (where the values are the long term probabilities):\n",
    "$$ \\text{longterm} = \\{'a1':0.02,'a2':0.03,...\\} $$"
   ]
  },
  {
   "cell_type": "code",
   "execution_count": 0,
   "metadata": {
    "collapsed": false,
    "deletable": false
   },
   "outputs": [
   ],
   "source": [
    "def bonusproblem2():\n",
    "    '''This function will find the long term probabilities of the king being in a given chess square.\n",
    "    \n",
    "    inputs: None\n",
    "    \n",
    "    outputs:\n",
    "        longterm: This is the dictionary with the long term probabilities of the king being in each square. \n",
    "        '''\n",
    "    \n",
    "    longterm = #Your code goes here\n",
    "    \n",
    "    return longterm"
   ]
  },
  {
   "cell_type": "code",
   "execution_count": 0,
   "metadata": {
    "collapsed": false,
    "deletable": false,
    "editable": false
   },
   "outputs": [
   ],
   "source": [
    "ck.b2(bonusproblem2)"
   ]
  }
 ],
 "metadata": {
  "kernelspec": {
   "argv": [
    "/usr/bin/python3",
    "-m",
    "ipykernel",
    "--HistoryManager.enabled=False",
    "--matplotlib=inline",
    "-c",
    "%config InlineBackend.figure_formats = set(['retina'])\nimport matplotlib; matplotlib.rcParams['figure.figsize'] = (12, 7)",
    "-f",
    "{connection_file}"
   ],
   "display_name": "Python 3 (system-wide)",
   "env": {
   },
   "language": "python",
   "metadata": {
    "cocalc": {
     "description": "Python 3 programming language",
     "priority": 100,
     "url": "https://www.python.org/"
    }
   },
   "name": "python3",
   "resource_dir": "/ext/jupyter/kernels/python3"
  }
 },
 "nbformat": 4,
 "nbformat_minor": 4
}